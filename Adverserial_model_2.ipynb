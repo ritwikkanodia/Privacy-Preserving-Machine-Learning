{
  "nbformat": 4,
  "nbformat_minor": 0,
  "metadata": {
    "colab": {
      "name": "Adverserial model 2",
      "provenance": [],
      "collapsed_sections": []
    },
    "kernelspec": {
      "name": "python3",
      "display_name": "Python 3"
    }
  },
  "cells": [
    {
      "cell_type": "code",
      "metadata": {
        "id": "HwS9hQ2dbUSb",
        "colab_type": "code",
        "outputId": "70528292-211a-48be-b8f3-efa83938b234",
        "colab": {
          "base_uri": "https://localhost:8080/",
          "height": 88
        }
      },
      "source": [
        "import tensorflow as tf\n",
        "from tensorflow import keras\n",
        "from keras.models import Sequential\n",
        "from keras.layers.core import Dense, Dropout, Activation,Flatten\n",
        "from keras import regularizers\n",
        "\n",
        "import pandas as pd\n",
        "import numpy as np\n",
        "import seaborn as sb\n",
        "import matplotlib.pyplot as plt\n",
        "from scipy import stats\n",
        "\n",
        "from sklearn.model_selection import train_test_split\n",
        "from sklearn.preprocessing import StandardScaler, RobustScaler\n",
        "from sklearn import metrics\n",
        "from keras.models import model_from_json\n",
        "\n",
        "from tqdm import tqdm\n",
        "import math"
      ],
      "execution_count": 3,
      "outputs": [
        {
          "output_type": "stream",
          "text": [
            "Using TensorFlow backend.\n",
            "/usr/local/lib/python3.6/dist-packages/statsmodels/tools/_testing.py:19: FutureWarning: pandas.util.testing is deprecated. Use the functions in the public API at pandas.testing instead.\n",
            "  import pandas.util.testing as tm\n"
          ],
          "name": "stderr"
        }
      ]
    },
    {
      "cell_type": "code",
      "metadata": {
        "id": "LQjHeDzNbcYK",
        "colab_type": "code",
        "outputId": "6a2c45c1-6741-4d4a-f5db-102c22d1fd2c",
        "colab": {
          "base_uri": "https://localhost:8080/",
          "height": 105
        }
      },
      "source": [
        "from sklearn.metrics import confusion_matrix\n",
        "from imblearn.over_sampling import SMOTE"
      ],
      "execution_count": 4,
      "outputs": [
        {
          "output_type": "stream",
          "text": [
            "/usr/local/lib/python3.6/dist-packages/sklearn/externals/six.py:31: FutureWarning: The module is deprecated in version 0.21 and will be removed in version 0.23 since we've dropped support for Python 2.7. Please rely on the official version of six (https://pypi.org/project/six/).\n",
            "  \"(https://pypi.org/project/six/).\", FutureWarning)\n",
            "/usr/local/lib/python3.6/dist-packages/sklearn/utils/deprecation.py:144: FutureWarning: The sklearn.neighbors.base module is  deprecated in version 0.22 and will be removed in version 0.24. The corresponding classes / functions should instead be imported from sklearn.neighbors. Anything that cannot be imported from sklearn.neighbors is now part of the private API.\n",
            "  warnings.warn(message, FutureWarning)\n"
          ],
          "name": "stderr"
        }
      ]
    },
    {
      "cell_type": "code",
      "metadata": {
        "id": "WAO6eQVAbg2m",
        "colab_type": "code",
        "outputId": "b2a155d6-dc4a-4797-c642-f45e7400983b",
        "colab": {
          "base_uri": "https://localhost:8080/",
          "height": 34
        }
      },
      "source": [
        "from google.colab import drive\n",
        "drive.mount('/content/drive')"
      ],
      "execution_count": 5,
      "outputs": [
        {
          "output_type": "stream",
          "text": [
            "Drive already mounted at /content/drive; to attempt to forcibly remount, call drive.mount(\"/content/drive\", force_remount=True).\n"
          ],
          "name": "stdout"
        }
      ]
    },
    {
      "cell_type": "code",
      "metadata": {
        "id": "l-0OksfdbiFT",
        "colab_type": "code",
        "colab": {}
      },
      "source": [
        "class Data():\n",
        "    def __init__(self,data):\n",
        "        self.data=data\n",
        "        self.dataSmote=pd.DataFrame()\n",
        "        \n",
        "    def sample(self,start,end):\n",
        "        size=len(self.data)\n",
        "        return self.data[int(size*start):int(size*end)]\n",
        "    \n",
        "    def getData():\n",
        "        return self.dataSmote\n",
        "\n",
        "    def sample_smote(self,start,end):\n",
        "        data=self.sample(start,end)\n",
        "        self.dataSmote=np.array(data.drop(\"Class\",axis=1))\n",
        "        y=np.array(data[['Class']])\n",
        "        smt=SMOTE()\n",
        "        self.dataSmote,y=smt.fit_sample(self.dataSmote,y)\n",
        "        self.dataSmote=pd.DataFrame(self.dataSmote)\n",
        "        y=pd.DataFrame(y)\n",
        "        self.dataSmote['Class']=y\n",
        "        self.dataSmote=self.dataSmote.sample(frac=1)\n",
        "        self.dataSmote.columns=list(data.columns)\n",
        "        return self.dataSmote"
      ],
      "execution_count": 0,
      "outputs": []
    },
    {
      "cell_type": "code",
      "metadata": {
        "id": "9SGbulZdby9-",
        "colab_type": "code",
        "colab": {}
      },
      "source": [
        "\n",
        "class Aggregator():\n",
        "    \n",
        "    def __init__(self):\n",
        "        self.wB1=0.55\n",
        "        self.wB2=0.35\n",
        "        self.wB3=0.10\n",
        "    \n",
        "    def aggregate(self,delta,B1,B2,B3):\n",
        "        delta=np.array(delta)\n",
        "        temp=(self.wB1*np.array(B1) + self.wB2*np.array(B2) + self.wB3*np.array(B3))\n",
        "        temp-=delta\n",
        "        delta+=temp\n",
        "\n",
        "        return delta"
      ],
      "execution_count": 0,
      "outputs": []
    },
    {
      "cell_type": "code",
      "metadata": {
        "id": "1hzodK69b1ar",
        "colab_type": "code",
        "colab": {}
      },
      "source": [
        "class Model():\n",
        "    \n",
        "    def __init__(self):    # Apply differential privacy to his model training\n",
        "        self.input_shape=(30,)\n",
        "        self.model = Sequential()\n",
        "        self.model.add(Dense(32, activation='relu',input_shape=self.input_shape,kernel_regularizer=regularizers.l2(0.01))) \n",
        "        self.model.add(Dropout(0.2))\n",
        "        self.model.add(Dense(16, activation='relu'))\n",
        "        self.model.add(Dropout(0.1))\n",
        "        self.model.add(Dense(8, activation='relu'))\n",
        "        self.model.add(Dense(1, activation='sigmoid'))\n",
        "        self.model.compile(optimizer='adam',   #rmsprop\n",
        "                      loss='binary_crossentropy',\n",
        "                      metrics=['accuracy'])\n",
        "\n",
        "\n",
        "    def run(self,X,Y,validation_split=0.0,load=True):\n",
        "        self.model.fit(X,Y,epochs=1,validation_split=validation_split, verbose=1) #Validation split of 10% on the training data\n",
        "        \n",
        "    def evaluate(self,X,Y):\n",
        "        return self.model.evaluate(X,Y)[1]*100 #Not clear what is happening here\n",
        "    \n",
        "    def loss(self,X,Y):\n",
        "        return self.model.evaluate(X,Y)[0]\n",
        "    \n",
        "    def predict(self,X):\n",
        "        return self.model.predict(X)\n",
        "\n",
        "    def predictClass(self,X):\n",
        "        return self.model.predict_classes(X)\n",
        "        \n",
        "    \n",
        "    def getWeights(self):\n",
        "        return self.model.get_weights()\n",
        "    \n",
        "    def setWeights(self,weight):\n",
        "        self.model.set_weights(weight)"
      ],
      "execution_count": 0,
      "outputs": []
    },
    {
      "cell_type": "code",
      "metadata": {
        "id": "kbN0R_lRb4Tq",
        "colab_type": "code",
        "colab": {}
      },
      "source": [
        "class Bank(Model):\n",
        "    \n",
        "    def __init__(self,data,split_size=0):\n",
        "        super().__init__()\n",
        "        self.data=data\n",
        "        self.split(split_size)\n",
        "    \n",
        "    def setData(self,data,split_size=0):\n",
        "        self.data=data\n",
        "        self.split(split_size)\n",
        "        \n",
        "    def getData(self):\n",
        "        return self.data\n",
        "    \n",
        "    def split(self,split_size):\n",
        "        X=self.data.copy()\n",
        "        X.drop(['Class'],axis=1,inplace=True)\n",
        "        Y=self.data[['Class']]\n",
        "\n",
        "        if split_size == 0:\n",
        "            self.X_train, self.X_test, self.Y_train, self.Y_test = X,X,Y,Y\n",
        "        else:\n",
        "            self.X_train, self.X_test, self.Y_train, self.Y_test = train_test_split(X, Y, test_size=split_size)"
      ],
      "execution_count": 0,
      "outputs": []
    },
    {
      "cell_type": "code",
      "metadata": {
        "id": "2GjtycG7b6ru",
        "colab_type": "code",
        "colab": {}
      },
      "source": [
        "def getWeights(weights):\n",
        "    A=[]\n",
        "    for i in weights:\n",
        "        A.extend(np.array(i).flatten())\n",
        "    B=[]\n",
        "    for i in A:\n",
        "        B.extend(i.flatten())\n",
        "\n",
        "    \n",
        "    return np.array(B)\n",
        "\n",
        "def getAdversarialData(probabilities,data,gradient,result):\n",
        "    output=[]\n",
        "    for index,i in enumerate(probabilities.reshape(-1)):\n",
        "        temp=[]\n",
        "        temp.append(i)\n",
        "        temp.extend(np.array(data[index:index+1])[0])\n",
        "        temp.extend(gradient)\n",
        "        temp.append(result)\n",
        "        output.append(temp)\n",
        "    return np.array(output)"
      ],
      "execution_count": 0,
      "outputs": []
    },
    {
      "cell_type": "code",
      "metadata": {
        "id": "74PMasRIb8mw",
        "colab_type": "code",
        "outputId": "0e032470-e519-4e01-cb72-c2ab96c59677",
        "colab": {
          "base_uri": "https://localhost:8080/",
          "height": 258
        }
      },
      "source": [
        "data = pd.read_csv('/content/drive/My Drive/creditcard.csv')\n",
        "data.head()"
      ],
      "execution_count": 11,
      "outputs": [
        {
          "output_type": "stream",
          "text": [
            "/usr/local/lib/python3.6/dist-packages/IPython/core/interactiveshell.py:2718: DtypeWarning: Columns (29) have mixed types.Specify dtype option on import or set low_memory=False.\n",
            "  interactivity=interactivity, compiler=compiler, result=result)\n"
          ],
          "name": "stderr"
        },
        {
          "output_type": "execute_result",
          "data": {
            "text/html": [
              "<div>\n",
              "<style scoped>\n",
              "    .dataframe tbody tr th:only-of-type {\n",
              "        vertical-align: middle;\n",
              "    }\n",
              "\n",
              "    .dataframe tbody tr th {\n",
              "        vertical-align: top;\n",
              "    }\n",
              "\n",
              "    .dataframe thead th {\n",
              "        text-align: right;\n",
              "    }\n",
              "</style>\n",
              "<table border=\"1\" class=\"dataframe\">\n",
              "  <thead>\n",
              "    <tr style=\"text-align: right;\">\n",
              "      <th></th>\n",
              "      <th>Time</th>\n",
              "      <th>V1</th>\n",
              "      <th>V2</th>\n",
              "      <th>V3</th>\n",
              "      <th>V4</th>\n",
              "      <th>V5</th>\n",
              "      <th>V6</th>\n",
              "      <th>V7</th>\n",
              "      <th>V8</th>\n",
              "      <th>V9</th>\n",
              "      <th>V10</th>\n",
              "      <th>V11</th>\n",
              "      <th>V12</th>\n",
              "      <th>V13</th>\n",
              "      <th>V14</th>\n",
              "      <th>V15</th>\n",
              "      <th>V16</th>\n",
              "      <th>V17</th>\n",
              "      <th>V18</th>\n",
              "      <th>V19</th>\n",
              "      <th>V20</th>\n",
              "      <th>V21</th>\n",
              "      <th>V22</th>\n",
              "      <th>V23</th>\n",
              "      <th>V24</th>\n",
              "      <th>V25</th>\n",
              "      <th>V26</th>\n",
              "      <th>V27</th>\n",
              "      <th>V28</th>\n",
              "      <th>Amount</th>\n",
              "      <th>Class</th>\n",
              "    </tr>\n",
              "  </thead>\n",
              "  <tbody>\n",
              "    <tr>\n",
              "      <th>0</th>\n",
              "      <td>0.0</td>\n",
              "      <td>-1.359807</td>\n",
              "      <td>-0.072781</td>\n",
              "      <td>2.536347</td>\n",
              "      <td>1.378155</td>\n",
              "      <td>-0.338321</td>\n",
              "      <td>0.462388</td>\n",
              "      <td>0.239599</td>\n",
              "      <td>0.098698</td>\n",
              "      <td>0.363787</td>\n",
              "      <td>0.090794</td>\n",
              "      <td>-0.551600</td>\n",
              "      <td>-0.617801</td>\n",
              "      <td>-0.991390</td>\n",
              "      <td>-0.311169</td>\n",
              "      <td>1.468177</td>\n",
              "      <td>-0.470401</td>\n",
              "      <td>0.207971</td>\n",
              "      <td>0.025791</td>\n",
              "      <td>0.403993</td>\n",
              "      <td>0.251412</td>\n",
              "      <td>-0.018307</td>\n",
              "      <td>0.277838</td>\n",
              "      <td>-0.110474</td>\n",
              "      <td>0.066928</td>\n",
              "      <td>0.128539</td>\n",
              "      <td>-0.189115</td>\n",
              "      <td>0.133558</td>\n",
              "      <td>-0.021053</td>\n",
              "      <td>149.62</td>\n",
              "      <td>0</td>\n",
              "    </tr>\n",
              "    <tr>\n",
              "      <th>1</th>\n",
              "      <td>0.0</td>\n",
              "      <td>1.191857</td>\n",
              "      <td>0.266151</td>\n",
              "      <td>0.166480</td>\n",
              "      <td>0.448154</td>\n",
              "      <td>0.060018</td>\n",
              "      <td>-0.082361</td>\n",
              "      <td>-0.078803</td>\n",
              "      <td>0.085102</td>\n",
              "      <td>-0.255425</td>\n",
              "      <td>-0.166974</td>\n",
              "      <td>1.612727</td>\n",
              "      <td>1.065235</td>\n",
              "      <td>0.489095</td>\n",
              "      <td>-0.143772</td>\n",
              "      <td>0.635558</td>\n",
              "      <td>0.463917</td>\n",
              "      <td>-0.114805</td>\n",
              "      <td>-0.183361</td>\n",
              "      <td>-0.145783</td>\n",
              "      <td>-0.069083</td>\n",
              "      <td>-0.225775</td>\n",
              "      <td>-0.638672</td>\n",
              "      <td>0.101288</td>\n",
              "      <td>-0.339846</td>\n",
              "      <td>0.167170</td>\n",
              "      <td>0.125895</td>\n",
              "      <td>-0.008983</td>\n",
              "      <td>0.014724</td>\n",
              "      <td>2.69</td>\n",
              "      <td>0</td>\n",
              "    </tr>\n",
              "    <tr>\n",
              "      <th>2</th>\n",
              "      <td>1.0</td>\n",
              "      <td>-1.358354</td>\n",
              "      <td>-1.340163</td>\n",
              "      <td>1.773209</td>\n",
              "      <td>0.379780</td>\n",
              "      <td>-0.503198</td>\n",
              "      <td>1.800499</td>\n",
              "      <td>0.791461</td>\n",
              "      <td>0.247676</td>\n",
              "      <td>-1.514654</td>\n",
              "      <td>0.207643</td>\n",
              "      <td>0.624501</td>\n",
              "      <td>0.066084</td>\n",
              "      <td>0.717293</td>\n",
              "      <td>-0.165946</td>\n",
              "      <td>2.345865</td>\n",
              "      <td>-2.890083</td>\n",
              "      <td>1.109969</td>\n",
              "      <td>-0.121359</td>\n",
              "      <td>-2.261857</td>\n",
              "      <td>0.524980</td>\n",
              "      <td>0.247998</td>\n",
              "      <td>0.771679</td>\n",
              "      <td>0.909412</td>\n",
              "      <td>-0.689281</td>\n",
              "      <td>-0.327642</td>\n",
              "      <td>-0.139097</td>\n",
              "      <td>-0.055353</td>\n",
              "      <td>-0.059752</td>\n",
              "      <td>378.66</td>\n",
              "      <td>0</td>\n",
              "    </tr>\n",
              "    <tr>\n",
              "      <th>3</th>\n",
              "      <td>1.0</td>\n",
              "      <td>-0.966272</td>\n",
              "      <td>-0.185226</td>\n",
              "      <td>1.792993</td>\n",
              "      <td>-0.863291</td>\n",
              "      <td>-0.010309</td>\n",
              "      <td>1.247203</td>\n",
              "      <td>0.237609</td>\n",
              "      <td>0.377436</td>\n",
              "      <td>-1.387024</td>\n",
              "      <td>-0.054952</td>\n",
              "      <td>-0.226487</td>\n",
              "      <td>0.178228</td>\n",
              "      <td>0.507757</td>\n",
              "      <td>-0.287924</td>\n",
              "      <td>-0.631418</td>\n",
              "      <td>-1.059647</td>\n",
              "      <td>-0.684093</td>\n",
              "      <td>1.965775</td>\n",
              "      <td>-1.232622</td>\n",
              "      <td>-0.208038</td>\n",
              "      <td>-0.108300</td>\n",
              "      <td>0.005274</td>\n",
              "      <td>-0.190321</td>\n",
              "      <td>-1.175575</td>\n",
              "      <td>0.647376</td>\n",
              "      <td>-0.221929</td>\n",
              "      <td>0.062723</td>\n",
              "      <td>0.061458</td>\n",
              "      <td>123.5</td>\n",
              "      <td>0</td>\n",
              "    </tr>\n",
              "    <tr>\n",
              "      <th>4</th>\n",
              "      <td>2.0</td>\n",
              "      <td>-1.158233</td>\n",
              "      <td>0.877737</td>\n",
              "      <td>1.548718</td>\n",
              "      <td>0.403034</td>\n",
              "      <td>-0.407193</td>\n",
              "      <td>0.095921</td>\n",
              "      <td>0.592941</td>\n",
              "      <td>-0.270533</td>\n",
              "      <td>0.817739</td>\n",
              "      <td>0.753074</td>\n",
              "      <td>-0.822843</td>\n",
              "      <td>0.538196</td>\n",
              "      <td>1.345852</td>\n",
              "      <td>-1.119670</td>\n",
              "      <td>0.175121</td>\n",
              "      <td>-0.451449</td>\n",
              "      <td>-0.237033</td>\n",
              "      <td>-0.038195</td>\n",
              "      <td>0.803487</td>\n",
              "      <td>0.408542</td>\n",
              "      <td>-0.009431</td>\n",
              "      <td>0.798278</td>\n",
              "      <td>-0.137458</td>\n",
              "      <td>0.141267</td>\n",
              "      <td>-0.206010</td>\n",
              "      <td>0.502292</td>\n",
              "      <td>0.219422</td>\n",
              "      <td>0.215153</td>\n",
              "      <td>69.99</td>\n",
              "      <td>0</td>\n",
              "    </tr>\n",
              "  </tbody>\n",
              "</table>\n",
              "</div>"
            ],
            "text/plain": [
              "   Time        V1        V2        V3  ...       V27       V28  Amount  Class\n",
              "0   0.0 -1.359807 -0.072781  2.536347  ...  0.133558 -0.021053  149.62      0\n",
              "1   0.0  1.191857  0.266151  0.166480  ... -0.008983  0.014724    2.69      0\n",
              "2   1.0 -1.358354 -1.340163  1.773209  ... -0.055353 -0.059752  378.66      0\n",
              "3   1.0 -0.966272 -0.185226  1.792993  ...  0.062723  0.061458   123.5      0\n",
              "4   2.0 -1.158233  0.877737  1.548718  ...  0.219422  0.215153   69.99      0\n",
              "\n",
              "[5 rows x 31 columns]"
            ]
          },
          "metadata": {
            "tags": []
          },
          "execution_count": 11
        }
      ]
    },
    {
      "cell_type": "code",
      "metadata": {
        "id": "QXvXyf6ob_iT",
        "colab_type": "code",
        "outputId": "3a76a8cd-089a-492a-cfa5-f2951d2ac71e",
        "colab": {
          "base_uri": "https://localhost:8080/",
          "height": 34
        }
      },
      "source": [
        "data.shape"
      ],
      "execution_count": 12,
      "outputs": [
        {
          "output_type": "execute_result",
          "data": {
            "text/plain": [
              "(284807, 31)"
            ]
          },
          "metadata": {
            "tags": []
          },
          "execution_count": 12
        }
      ]
    },
    {
      "cell_type": "code",
      "metadata": {
        "id": "y2IXKKt5cPb2",
        "colab_type": "code",
        "colab": {}
      },
      "source": [
        "\n",
        "results={}\n",
        "aggregator=Aggregator()\n"
      ],
      "execution_count": 0,
      "outputs": []
    },
    {
      "cell_type": "code",
      "metadata": {
        "id": "DYj1rd6YdDqD",
        "colab_type": "code",
        "outputId": "dedac059-c7d7-4952-a8ca-42b3ff4c5c66",
        "colab": {
          "base_uri": "https://localhost:8080/",
          "height": 561
        }
      },
      "source": [
        "data['Amount'] = pd.to_numeric(data['Amount'],errors='coerce')\n",
        "data.dtypes"
      ],
      "execution_count": 14,
      "outputs": [
        {
          "output_type": "execute_result",
          "data": {
            "text/plain": [
              "Time      float64\n",
              "V1        float64\n",
              "V2        float64\n",
              "V3        float64\n",
              "V4        float64\n",
              "V5        float64\n",
              "V6        float64\n",
              "V7        float64\n",
              "V8        float64\n",
              "V9        float64\n",
              "V10       float64\n",
              "V11       float64\n",
              "V12       float64\n",
              "V13       float64\n",
              "V14       float64\n",
              "V15       float64\n",
              "V16       float64\n",
              "V17       float64\n",
              "V18       float64\n",
              "V19       float64\n",
              "V20       float64\n",
              "V21       float64\n",
              "V22       float64\n",
              "V23       float64\n",
              "V24       float64\n",
              "V25       float64\n",
              "V26       float64\n",
              "V27       float64\n",
              "V28       float64\n",
              "Amount    float64\n",
              "Class       int64\n",
              "dtype: object"
            ]
          },
          "metadata": {
            "tags": []
          },
          "execution_count": 14
        }
      ]
    },
    {
      "cell_type": "code",
      "metadata": {
        "id": "3MVY0zfFdLHs",
        "colab_type": "code",
        "outputId": "9f02780e-a885-49ae-f13f-a5bce7901bdb",
        "colab": {
          "base_uri": "https://localhost:8080/",
          "height": 34
        }
      },
      "source": [
        "data= data.dropna()\n",
        "data.isnull().values.any()"
      ],
      "execution_count": 15,
      "outputs": [
        {
          "output_type": "execute_result",
          "data": {
            "text/plain": [
              "False"
            ]
          },
          "metadata": {
            "tags": []
          },
          "execution_count": 15
        }
      ]
    },
    {
      "cell_type": "code",
      "metadata": {
        "id": "2DZaxDuRcWPS",
        "colab_type": "code",
        "outputId": "8dc03070-0095-4429-844f-b1211119ad83",
        "colab": {
          "base_uri": "https://localhost:8080/",
          "height": 309
        }
      },
      "source": [
        "datum=Data(data)\n",
        "\n",
        "Data_Test=datum.sample(0.90,1)\n",
        "Data_Global=datum.sample_smote(0,0.1)              #use datum.sample  if smote not required\n",
        "Data_Model_1A=datum.sample_smote(0.1,0.5)\n",
        "Data_Model_2A=datum.sample_smote(0.5,0.8)\n",
        "Data_Model_3A=datum.sample_smote(0.8,0.9)\n",
        "#Data_Model_1B=datum.sample_smote(0.50,70)\n",
        "#Data_Model_2B=datum.sample_smote(0.70,85)\n",
        "#Data_Model_3B=datum.sample_smote(0.85,90)"
      ],
      "execution_count": 16,
      "outputs": [
        {
          "output_type": "stream",
          "text": [
            "/usr/local/lib/python3.6/dist-packages/sklearn/utils/validation.py:760: DataConversionWarning: A column-vector y was passed when a 1d array was expected. Please change the shape of y to (n_samples, ), for example using ravel().\n",
            "  y = column_or_1d(y, warn=True)\n",
            "/usr/local/lib/python3.6/dist-packages/sklearn/utils/deprecation.py:87: FutureWarning: Function safe_indexing is deprecated; safe_indexing is deprecated in version 0.22 and will be removed in version 0.24.\n",
            "  warnings.warn(msg, category=FutureWarning)\n",
            "/usr/local/lib/python3.6/dist-packages/sklearn/utils/validation.py:760: DataConversionWarning: A column-vector y was passed when a 1d array was expected. Please change the shape of y to (n_samples, ), for example using ravel().\n",
            "  y = column_or_1d(y, warn=True)\n",
            "/usr/local/lib/python3.6/dist-packages/sklearn/utils/deprecation.py:87: FutureWarning: Function safe_indexing is deprecated; safe_indexing is deprecated in version 0.22 and will be removed in version 0.24.\n",
            "  warnings.warn(msg, category=FutureWarning)\n",
            "/usr/local/lib/python3.6/dist-packages/sklearn/utils/validation.py:760: DataConversionWarning: A column-vector y was passed when a 1d array was expected. Please change the shape of y to (n_samples, ), for example using ravel().\n",
            "  y = column_or_1d(y, warn=True)\n",
            "/usr/local/lib/python3.6/dist-packages/sklearn/utils/deprecation.py:87: FutureWarning: Function safe_indexing is deprecated; safe_indexing is deprecated in version 0.22 and will be removed in version 0.24.\n",
            "  warnings.warn(msg, category=FutureWarning)\n",
            "/usr/local/lib/python3.6/dist-packages/sklearn/utils/validation.py:760: DataConversionWarning: A column-vector y was passed when a 1d array was expected. Please change the shape of y to (n_samples, ), for example using ravel().\n",
            "  y = column_or_1d(y, warn=True)\n",
            "/usr/local/lib/python3.6/dist-packages/sklearn/utils/deprecation.py:87: FutureWarning: Function safe_indexing is deprecated; safe_indexing is deprecated in version 0.22 and will be removed in version 0.24.\n",
            "  warnings.warn(msg, category=FutureWarning)\n"
          ],
          "name": "stderr"
        }
      ]
    },
    {
      "cell_type": "code",
      "metadata": {
        "id": "XGsvFBiUcZZe",
        "colab_type": "code",
        "outputId": "734562f5-f91c-4b91-9ffb-0022154ded16",
        "colab": {
          "base_uri": "https://localhost:8080/",
          "height": 68
        }
      },
      "source": [
        "GlobalBank=Bank(Data_Global[0:1])\n",
        "GlobalBank.run(GlobalBank.X_train, GlobalBank.Y_train,load=False)\n",
        "\n",
        "results['BankG.1']=GlobalBank.evaluate(GlobalBank.X_test,GlobalBank.Y_test)"
      ],
      "execution_count": 17,
      "outputs": [
        {
          "output_type": "stream",
          "text": [
            "Epoch 1/1\n",
            "1/1 [==============================] - 0s 348ms/step - loss: 31.0855 - accuracy: 0.0000e+00\n",
            "1/1 [==============================] - 0s 31ms/step\n"
          ],
          "name": "stdout"
        }
      ]
    },
    {
      "cell_type": "code",
      "metadata": {
        "id": "GoLi2gEFdu-0",
        "colab_type": "code",
        "colab": {}
      },
      "source": [
        "step=1\n",
        "no_iter=500 # for speed\n"
      ],
      "execution_count": 0,
      "outputs": []
    },
    {
      "cell_type": "code",
      "metadata": {
        "id": "Iac8kd5ShGRX",
        "colab_type": "code",
        "outputId": "1181226a-680c-40d7-d899-56a9cf1994ce",
        "colab": {
          "base_uri": "https://localhost:8080/",
          "height": 1000
        }
      },
      "source": [
        "result=[]\n",
        "for i in tqdm(range(1,501)):\n",
        "\n",
        "    Bank1=Bank(Data_Model_1A[i*step:(i+1)*step]) #extracting first 1 point of the dataset\n",
        "    Bank1.run(Bank1.X_train,Bank1.Y_train) #Training on the first data point\n",
        "    Bank1_gradient=getWeights(GlobalBank.getWeights()) - getWeights(Bank1.getWeights()) #Calculating the gradient\n",
        "    result.extend(\n",
        "        getAdversarialData(Bank1.predict(Bank1.X_test),Bank1.X_test,Bank1_gradient,True)\n",
        "    ) #adding it to the new database\n",
        "#1 point added to the dataset\n",
        "\n",
        "    Bank2=Bank(Data_Model_2A[i*step:(i+1)*step]) \n",
        "    Bank2.run(Bank2.X_train,Bank2.Y_train)\n",
        "    Bank2_gradient=getWeights(GlobalBank.getWeights()) - getWeights(Bank2.getWeights())\n",
        "    result.extend(\n",
        "        getAdversarialData(Bank2.predict(Bank2.X_test),Bank2.X_test,Bank2_gradient,True)\n",
        "    )\n",
        "#1 point added to the dataset\n",
        "\n",
        "\n",
        "    Bank3=Bank(Data_Model_3A[i*step:(i+1)*step])\n",
        "    Bank3.run(Bank3.X_train,Bank3.Y_train)\n",
        "    Bank3_gradient=getWeights(GlobalBank.getWeights()) - getWeights(Bank3.getWeights())\n",
        "    result.extend(\n",
        "        getAdversarialData(Bank3.predict(Bank3.X_test),Bank3.X_test,Bank3_gradient,True)\n",
        "    )\n",
        "#1 point added to the dataset\n",
        "\n",
        "\n",
        "\n",
        "    result.extend(\n",
        "        getAdversarialData(Bank1.predict(Bank2.X_test),Bank2.X_test,Bank1_gradient,False)\n",
        "    )\n",
        "#1 point added to the dataset\n",
        "\n",
        "    result.extend(\n",
        "        getAdversarialData(Bank1.predict(Bank3.X_test),Bank3.X_test,Bank1_gradient,False)\n",
        "    )\n",
        "#1 point added to the dataset\n",
        "\n",
        "    result.extend(\n",
        "        getAdversarialData(Bank2.predict(Bank1.X_test),Bank1.X_test,Bank2_gradient,False)\n",
        "    )\n",
        "#1 point added to the dataset\n",
        "\n",
        "    result.extend(\n",
        "        getAdversarialData(Bank2.predict(Bank3.X_test),Bank3.X_test,Bank2_gradient,False)\n",
        "    )\n",
        "#1 point added to the dataset\n",
        "    result.extend(\n",
        "        getAdversarialData(Bank3.predict(Bank1.X_test),Bank1.X_test,Bank3_gradient,False)\n",
        "    )\n",
        "#1 point added to the dataset\n",
        "    result.extend(\n",
        "        getAdversarialData(Bank3.predict(Bank2.X_test),Bank2.X_test,Bank3_gradient,False)\n",
        "    )\n",
        "\n",
        "#1 point added to the dataset\n",
        "    delta=aggregator.aggregate(GlobalBank.getWeights(),Bank1.getWeights(),Bank2.getWeights(),Bank3.getWeights())\n",
        "\n",
        "    GlobalBank.setWeights(delta)\n",
        "\n",
        "\n",
        "    if(i%1 == 0 and i!=0):\n",
        "        result=np.array(result)\n",
        "        advData=pd.DataFrame(result)\n",
        "\n",
        "        loc='Adversarial_Input'\n",
        "        loc+=str(i)\n",
        "        loc+='.csv'\n",
        "\n",
        "        advData.to_csv(loc,index=False)\n",
        "        result=[]"
      ],
      "execution_count": 19,
      "outputs": [
        {
          "output_type": "stream",
          "text": [
            "\r  0%|          | 0/500 [00:00<?, ?it/s]"
          ],
          "name": "stderr"
        },
        {
          "output_type": "stream",
          "text": [
            "Epoch 1/1\n",
            "1/1 [==============================] - 0s 159ms/step - loss: 0.3146 - accuracy: 1.0000\n",
            "Epoch 1/1\n",
            "1/1 [==============================] - 0s 156ms/step - loss: 0.3039 - accuracy: 1.0000\n",
            "Epoch 1/1\n",
            "1/1 [==============================] - 0s 151ms/step - loss: 0.3209 - accuracy: 1.0000\n"
          ],
          "name": "stdout"
        },
        {
          "output_type": "stream",
          "text": [
            "\r  0%|          | 1/500 [00:02<23:24,  2.81s/it]"
          ],
          "name": "stderr"
        },
        {
          "output_type": "stream",
          "text": [
            "Epoch 1/1\n",
            "1/1 [==============================] - 0s 178ms/step - loss: 13679.5645 - accuracy: 0.0000e+00\n",
            "Epoch 1/1\n",
            "1/1 [==============================] - 0s 149ms/step - loss: 0.3190 - accuracy: 1.0000\n",
            "Epoch 1/1\n",
            "1/1 [==============================] - 0s 153ms/step - loss: 9345.5742 - accuracy: 0.0000e+00\n"
          ],
          "name": "stdout"
        },
        {
          "output_type": "stream",
          "text": [
            "\r  0%|          | 2/500 [00:05<23:02,  2.78s/it]"
          ],
          "name": "stderr"
        },
        {
          "output_type": "stream",
          "text": [
            "Epoch 1/1\n",
            "1/1 [==============================] - 0s 152ms/step - loss: 0.2963 - accuracy: 1.0000\n",
            "Epoch 1/1\n",
            "1/1 [==============================] - 0s 166ms/step - loss: 18668.8945 - accuracy: 0.0000e+00\n",
            "Epoch 1/1\n",
            "1/1 [==============================] - 0s 173ms/step - loss: 5064.4790 - accuracy: 0.0000e+00\n"
          ],
          "name": "stdout"
        },
        {
          "output_type": "stream",
          "text": [
            "\r  1%|          | 3/500 [00:08<23:17,  2.81s/it]"
          ],
          "name": "stderr"
        },
        {
          "output_type": "stream",
          "text": [
            "Epoch 1/1\n",
            "1/1 [==============================] - 0s 171ms/step - loss: 4426.2964 - accuracy: 0.0000e+00\n",
            "Epoch 1/1\n",
            "1/1 [==============================] - 0s 164ms/step - loss: 1937.6351 - accuracy: 0.0000e+00\n",
            "Epoch 1/1\n",
            "1/1 [==============================] - 0s 165ms/step - loss: 25665.9609 - accuracy: 0.0000e+00\n"
          ],
          "name": "stdout"
        },
        {
          "output_type": "stream",
          "text": [
            "\r  1%|          | 4/500 [00:11<22:57,  2.78s/it]"
          ],
          "name": "stderr"
        },
        {
          "output_type": "stream",
          "text": [
            "Epoch 1/1\n",
            "1/1 [==============================] - 0s 171ms/step - loss: 4435.0757 - accuracy: 0.0000e+00\n",
            "Epoch 1/1\n",
            "1/1 [==============================] - 0s 162ms/step - loss: 360.9510 - accuracy: 0.0000e+00\n",
            "Epoch 1/1\n",
            "1/1 [==============================] - 0s 184ms/step - loss: 61967.7383 - accuracy: 0.0000e+00\n"
          ],
          "name": "stdout"
        },
        {
          "output_type": "stream",
          "text": [
            "\r  1%|          | 5/500 [00:13<22:50,  2.77s/it]"
          ],
          "name": "stderr"
        },
        {
          "output_type": "stream",
          "text": [
            "Epoch 1/1\n",
            "1/1 [==============================] - 0s 190ms/step - loss: 0.3032 - accuracy: 1.0000\n",
            "Epoch 1/1\n",
            "1/1 [==============================] - 0s 181ms/step - loss: 0.3112 - accuracy: 1.0000\n",
            "Epoch 1/1\n",
            "1/1 [==============================] - 0s 178ms/step - loss: 0.3086 - accuracy: 1.0000\n"
          ],
          "name": "stdout"
        },
        {
          "output_type": "stream",
          "text": [
            "\r  1%|          | 6/500 [00:16<23:27,  2.85s/it]"
          ],
          "name": "stderr"
        },
        {
          "output_type": "stream",
          "text": [
            "Epoch 1/1\n",
            "1/1 [==============================] - 0s 169ms/step - loss: 2913.7800 - accuracy: 0.0000e+00\n",
            "Epoch 1/1\n",
            "1/1 [==============================] - 0s 170ms/step - loss: 0.3163 - accuracy: 1.0000\n",
            "Epoch 1/1\n",
            "1/1 [==============================] - 0s 199ms/step - loss: 14401.8291 - accuracy: 0.0000e+00\n"
          ],
          "name": "stdout"
        },
        {
          "output_type": "stream",
          "text": [
            "\r  1%|▏         | 7/500 [00:19<23:18,  2.84s/it]"
          ],
          "name": "stderr"
        },
        {
          "output_type": "stream",
          "text": [
            "Epoch 1/1\n",
            "1/1 [==============================] - 0s 165ms/step - loss: 0.3187 - accuracy: 1.0000\n",
            "Epoch 1/1\n",
            "1/1 [==============================] - 0s 168ms/step - loss: 883.1098 - accuracy: 0.0000e+00\n",
            "Epoch 1/1\n",
            "1/1 [==============================] - 0s 193ms/step - loss: 0.3168 - accuracy: 1.0000\n"
          ],
          "name": "stdout"
        },
        {
          "output_type": "stream",
          "text": [
            "\r  2%|▏         | 8/500 [00:22<23:56,  2.92s/it]"
          ],
          "name": "stderr"
        },
        {
          "output_type": "stream",
          "text": [
            "Epoch 1/1\n",
            "1/1 [==============================] - 0s 184ms/step - loss: 0.3122 - accuracy: 1.0000\n",
            "Epoch 1/1\n",
            "1/1 [==============================] - 0s 186ms/step - loss: 0.3142 - accuracy: 1.0000\n",
            "Epoch 1/1\n",
            "1/1 [==============================] - 0s 196ms/step - loss: 1843.5071 - accuracy: 0.0000e+00\n"
          ],
          "name": "stdout"
        },
        {
          "output_type": "stream",
          "text": [
            "\r  2%|▏         | 9/500 [00:25<23:47,  2.91s/it]"
          ],
          "name": "stderr"
        },
        {
          "output_type": "stream",
          "text": [
            "Epoch 1/1\n",
            "1/1 [==============================] - 0s 191ms/step - loss: 419.0027 - accuracy: 0.0000e+00\n",
            "Epoch 1/1\n",
            "1/1 [==============================] - 0s 186ms/step - loss: 11549.8076 - accuracy: 0.0000e+00\n",
            "Epoch 1/1\n",
            "1/1 [==============================] - 0s 175ms/step - loss: 11493.3389 - accuracy: 0.0000e+00\n"
          ],
          "name": "stdout"
        },
        {
          "output_type": "stream",
          "text": [
            "\r  2%|▏         | 10/500 [00:28<23:49,  2.92s/it]"
          ],
          "name": "stderr"
        },
        {
          "output_type": "stream",
          "text": [
            "Epoch 1/1\n",
            "1/1 [==============================] - 0s 173ms/step - loss: 226.7270 - accuracy: 0.0000e+00\n",
            "Epoch 1/1\n",
            "1/1 [==============================] - 0s 164ms/step - loss: 0.3073 - accuracy: 1.0000\n",
            "Epoch 1/1\n",
            "1/1 [==============================] - 0s 211ms/step - loss: 0.3212 - accuracy: 1.0000\n"
          ],
          "name": "stdout"
        },
        {
          "output_type": "stream",
          "text": [
            "\r  2%|▏         | 11/500 [00:31<24:29,  3.01s/it]"
          ],
          "name": "stderr"
        },
        {
          "output_type": "stream",
          "text": [
            "Epoch 1/1\n",
            "1/1 [==============================] - 0s 185ms/step - loss: 0.3034 - accuracy: 1.0000\n",
            "Epoch 1/1\n",
            "1/1 [==============================] - 0s 191ms/step - loss: 0.3179 - accuracy: 1.0000\n",
            "Epoch 1/1\n",
            "1/1 [==============================] - 0s 211ms/step - loss: 35608.7656 - accuracy: 0.0000e+00\n"
          ],
          "name": "stdout"
        },
        {
          "output_type": "stream",
          "text": [
            "\r  2%|▏         | 12/500 [00:34<24:09,  2.97s/it]"
          ],
          "name": "stderr"
        },
        {
          "output_type": "stream",
          "text": [
            "Epoch 1/1\n",
            "1/1 [==============================] - 0s 179ms/step - loss: 4925.3696 - accuracy: 0.0000e+00\n",
            "Epoch 1/1\n",
            "1/1 [==============================] - 0s 174ms/step - loss: 0.3054 - accuracy: 1.0000\n",
            "Epoch 1/1\n",
            "1/1 [==============================] - 0s 173ms/step - loss: 28987.7168 - accuracy: 0.0000e+00\n"
          ],
          "name": "stdout"
        },
        {
          "output_type": "stream",
          "text": [
            "\r  3%|▎         | 13/500 [00:37<23:53,  2.94s/it]"
          ],
          "name": "stderr"
        },
        {
          "output_type": "stream",
          "text": [
            "Epoch 1/1\n",
            "1/1 [==============================] - 0s 186ms/step - loss: 1426.4431 - accuracy: 0.0000e+00\n",
            "Epoch 1/1\n",
            "1/1 [==============================] - 0s 197ms/step - loss: 6583.4219 - accuracy: 0.0000e+00\n",
            "Epoch 1/1\n",
            "1/1 [==============================] - 0s 184ms/step - loss: 2769.5632 - accuracy: 0.0000e+00\n"
          ],
          "name": "stdout"
        },
        {
          "output_type": "stream",
          "text": [
            "\r  3%|▎         | 14/500 [00:41<25:39,  3.17s/it]"
          ],
          "name": "stderr"
        },
        {
          "output_type": "stream",
          "text": [
            "Epoch 1/1\n",
            "1/1 [==============================] - 0s 235ms/step - loss: 1927.1042 - accuracy: 0.0000e+00\n",
            "Epoch 1/1\n",
            "1/1 [==============================] - 0s 196ms/step - loss: 8548.5957 - accuracy: 0.0000e+00\n",
            "Epoch 1/1\n",
            "1/1 [==============================] - 0s 188ms/step - loss: 61330.0273 - accuracy: 0.0000e+00\n"
          ],
          "name": "stdout"
        },
        {
          "output_type": "stream",
          "text": [
            "\r  3%|▎         | 15/500 [00:44<25:32,  3.16s/it]"
          ],
          "name": "stderr"
        },
        {
          "output_type": "stream",
          "text": [
            "Epoch 1/1\n",
            "1/1 [==============================] - 0s 182ms/step - loss: 364.5484 - accuracy: 0.0000e+00\n",
            "Epoch 1/1\n",
            "1/1 [==============================] - 0s 179ms/step - loss: 0.3213 - accuracy: 1.0000\n",
            "Epoch 1/1\n",
            "1/1 [==============================] - 0s 171ms/step - loss: 0.3143 - accuracy: 1.0000\n"
          ],
          "name": "stdout"
        },
        {
          "output_type": "stream",
          "text": [
            "\r  3%|▎         | 16/500 [00:47<24:43,  3.07s/it]"
          ],
          "name": "stderr"
        },
        {
          "output_type": "stream",
          "text": [
            "Epoch 1/1\n",
            "1/1 [==============================] - 0s 189ms/step - loss: 4222.7002 - accuracy: 0.0000e+00\n",
            "Epoch 1/1\n",
            "1/1 [==============================] - 0s 186ms/step - loss: 18399.5938 - accuracy: 0.0000e+00\n",
            "Epoch 1/1\n",
            "1/1 [==============================] - 0s 158ms/step - loss: 6006.8770 - accuracy: 0.0000e+00\n"
          ],
          "name": "stdout"
        },
        {
          "output_type": "stream",
          "text": [
            "\r  3%|▎         | 17/500 [00:50<24:17,  3.02s/it]"
          ],
          "name": "stderr"
        },
        {
          "output_type": "stream",
          "text": [
            "Epoch 1/1\n",
            "1/1 [==============================] - 0s 164ms/step - loss: 0.3101 - accuracy: 1.0000\n",
            "Epoch 1/1\n",
            "1/1 [==============================] - 0s 171ms/step - loss: 0.3181 - accuracy: 1.0000\n",
            "Epoch 1/1\n",
            "1/1 [==============================] - 0s 183ms/step - loss: 0.3216 - accuracy: 1.0000\n"
          ],
          "name": "stdout"
        },
        {
          "output_type": "stream",
          "text": [
            "\r  4%|▎         | 18/500 [00:53<24:57,  3.11s/it]"
          ],
          "name": "stderr"
        },
        {
          "output_type": "stream",
          "text": [
            "Epoch 1/1\n",
            "1/1 [==============================] - 0s 184ms/step - loss: 2392.8298 - accuracy: 0.0000e+00\n",
            "Epoch 1/1\n",
            "1/1 [==============================] - 0s 186ms/step - loss: 0.3149 - accuracy: 1.0000\n",
            "Epoch 1/1\n",
            "1/1 [==============================] - 0s 214ms/step - loss: 13022.6758 - accuracy: 0.0000e+00\n"
          ],
          "name": "stdout"
        },
        {
          "output_type": "stream",
          "text": [
            "\r  4%|▍         | 19/500 [00:56<24:24,  3.04s/it]"
          ],
          "name": "stderr"
        },
        {
          "output_type": "stream",
          "text": [
            "Epoch 1/1\n",
            "1/1 [==============================] - 0s 184ms/step - loss: 4799.3315 - accuracy: 0.0000e+00\n",
            "Epoch 1/1\n",
            "1/1 [==============================] - 0s 171ms/step - loss: 0.3030 - accuracy: 1.0000\n",
            "Epoch 1/1\n",
            "1/1 [==============================] - 0s 170ms/step - loss: 3359.7490 - accuracy: 0.0000e+00\n"
          ],
          "name": "stdout"
        },
        {
          "output_type": "stream",
          "text": [
            "\r  4%|▍         | 20/500 [00:59<23:52,  2.98s/it]"
          ],
          "name": "stderr"
        },
        {
          "output_type": "stream",
          "text": [
            "Epoch 1/1\n",
            "1/1 [==============================] - 0s 167ms/step - loss: 2780.1072 - accuracy: 0.0000e+00\n",
            "Epoch 1/1\n",
            "1/1 [==============================] - 0s 171ms/step - loss: 0.2963 - accuracy: 1.0000\n",
            "Epoch 1/1\n",
            "1/1 [==============================] - 0s 168ms/step - loss: 9755.6523 - accuracy: 0.0000e+00\n"
          ],
          "name": "stdout"
        },
        {
          "output_type": "stream",
          "text": [
            "\r  4%|▍         | 21/500 [01:02<23:36,  2.96s/it]"
          ],
          "name": "stderr"
        },
        {
          "output_type": "stream",
          "text": [
            "Epoch 1/1\n",
            "1/1 [==============================] - 0s 167ms/step - loss: 0.3029 - accuracy: 1.0000\n",
            "Epoch 1/1\n",
            "1/1 [==============================] - 0s 182ms/step - loss: 20883.9121 - accuracy: 0.0000e+00\n",
            "Epoch 1/1\n",
            "1/1 [==============================] - 0s 191ms/step - loss: 0.3239 - accuracy: 1.0000\n"
          ],
          "name": "stdout"
        },
        {
          "output_type": "stream",
          "text": [
            "\r  4%|▍         | 22/500 [01:05<24:30,  3.08s/it]"
          ],
          "name": "stderr"
        },
        {
          "output_type": "stream",
          "text": [
            "Epoch 1/1\n",
            "1/1 [==============================] - 0s 186ms/step - loss: 965.1293 - accuracy: 0.0000e+00\n",
            "Epoch 1/1\n",
            "1/1 [==============================] - 0s 192ms/step - loss: 17153.5059 - accuracy: 0.0000e+00\n",
            "Epoch 1/1\n",
            "1/1 [==============================] - 0s 204ms/step - loss: 0.2908 - accuracy: 1.0000\n"
          ],
          "name": "stdout"
        },
        {
          "output_type": "stream",
          "text": [
            "\r  5%|▍         | 23/500 [01:08<24:10,  3.04s/it]"
          ],
          "name": "stderr"
        },
        {
          "output_type": "stream",
          "text": [
            "Epoch 1/1\n",
            "1/1 [==============================] - 0s 192ms/step - loss: 3834.0195 - accuracy: 0.0000e+00\n",
            "Epoch 1/1\n",
            "1/1 [==============================] - 0s 187ms/step - loss: 20139.7031 - accuracy: 0.0000e+00\n",
            "Epoch 1/1\n",
            "1/1 [==============================] - 0s 180ms/step - loss: 15378.0332 - accuracy: 0.0000e+00\n"
          ],
          "name": "stdout"
        },
        {
          "output_type": "stream",
          "text": [
            "\r  5%|▍         | 24/500 [01:11<23:57,  3.02s/it]"
          ],
          "name": "stderr"
        },
        {
          "output_type": "stream",
          "text": [
            "Epoch 1/1\n",
            "1/1 [==============================] - 0s 177ms/step - loss: 10669.4424 - accuracy: 0.0000e+00\n",
            "Epoch 1/1\n",
            "1/1 [==============================] - 0s 174ms/step - loss: 0.3002 - accuracy: 1.0000\n",
            "Epoch 1/1\n",
            "1/1 [==============================] - 0s 169ms/step - loss: 0.3123 - accuracy: 1.0000\n"
          ],
          "name": "stdout"
        },
        {
          "output_type": "stream",
          "text": [
            "\r  5%|▌         | 25/500 [01:14<23:45,  3.00s/it]"
          ],
          "name": "stderr"
        },
        {
          "output_type": "stream",
          "text": [
            "Epoch 1/1\n",
            "1/1 [==============================] - 0s 162ms/step - loss: 0.3098 - accuracy: 1.0000\n",
            "Epoch 1/1\n",
            "1/1 [==============================] - 0s 163ms/step - loss: 2806.8057 - accuracy: 0.0000e+00\n",
            "Epoch 1/1\n",
            "1/1 [==============================] - 0s 171ms/step - loss: 5352.8462 - accuracy: 0.0000e+00\n"
          ],
          "name": "stdout"
        },
        {
          "output_type": "stream",
          "text": [
            "\r  5%|▌         | 26/500 [01:17<23:36,  2.99s/it]"
          ],
          "name": "stderr"
        },
        {
          "output_type": "stream",
          "text": [
            "Epoch 1/1\n",
            "1/1 [==============================] - 0s 198ms/step - loss: 0.3131 - accuracy: 1.0000\n",
            "Epoch 1/1\n",
            "1/1 [==============================] - 0s 187ms/step - loss: 0.3102 - accuracy: 1.0000\n",
            "Epoch 1/1\n",
            "1/1 [==============================] - 0s 185ms/step - loss: 0.3147 - accuracy: 1.0000\n"
          ],
          "name": "stdout"
        },
        {
          "output_type": "stream",
          "text": [
            "\r  5%|▌         | 27/500 [01:20<24:40,  3.13s/it]"
          ],
          "name": "stderr"
        },
        {
          "output_type": "stream",
          "text": [
            "Epoch 1/1\n",
            "1/1 [==============================] - 0s 198ms/step - loss: 0.3065 - accuracy: 1.0000\n",
            "Epoch 1/1\n",
            "1/1 [==============================] - 0s 200ms/step - loss: 34940.2617 - accuracy: 0.0000e+00\n",
            "Epoch 1/1\n",
            "1/1 [==============================] - 0s 194ms/step - loss: 5974.9067 - accuracy: 0.0000e+00\n"
          ],
          "name": "stdout"
        },
        {
          "output_type": "stream",
          "text": [
            "\r  6%|▌         | 28/500 [01:23<24:22,  3.10s/it]"
          ],
          "name": "stderr"
        },
        {
          "output_type": "stream",
          "text": [
            "Epoch 1/1\n",
            "1/1 [==============================] - 0s 187ms/step - loss: 20129.3105 - accuracy: 0.0000e+00\n",
            "Epoch 1/1\n",
            "1/1 [==============================] - 0s 175ms/step - loss: 263.2346 - accuracy: 0.0000e+00\n",
            "Epoch 1/1\n",
            "1/1 [==============================] - 0s 176ms/step - loss: 0.2974 - accuracy: 1.0000\n"
          ],
          "name": "stdout"
        },
        {
          "output_type": "stream",
          "text": [
            "\r  6%|▌         | 29/500 [01:26<24:12,  3.08s/it]"
          ],
          "name": "stderr"
        },
        {
          "output_type": "stream",
          "text": [
            "Epoch 1/1\n",
            "1/1 [==============================] - 0s 172ms/step - loss: 14579.3213 - accuracy: 0.0000e+00\n",
            "Epoch 1/1\n",
            "1/1 [==============================] - 0s 164ms/step - loss: 0.3031 - accuracy: 1.0000\n",
            "Epoch 1/1\n",
            "1/1 [==============================] - 0s 164ms/step - loss: 5634.8291 - accuracy: 0.0000e+00\n"
          ],
          "name": "stdout"
        },
        {
          "output_type": "stream",
          "text": [
            "\r  6%|▌         | 30/500 [01:29<23:57,  3.06s/it]"
          ],
          "name": "stderr"
        },
        {
          "output_type": "stream",
          "text": [
            "Epoch 1/1\n",
            "1/1 [==============================] - 0s 162ms/step - loss: 566.3185 - accuracy: 0.0000e+00\n",
            "Epoch 1/1\n",
            "1/1 [==============================] - 0s 162ms/step - loss: 3753.8418 - accuracy: 0.0000e+00\n",
            "Epoch 1/1\n",
            "1/1 [==============================] - 0s 295ms/step - loss: 4263.5435 - accuracy: 0.0000e+00\n"
          ],
          "name": "stdout"
        },
        {
          "output_type": "stream",
          "text": [
            "\r  6%|▌         | 31/500 [01:33<26:20,  3.37s/it]"
          ],
          "name": "stderr"
        },
        {
          "output_type": "stream",
          "text": [
            "Epoch 1/1\n",
            "1/1 [==============================] - 1s 533ms/step - loss: 96.0489 - accuracy: 0.0000e+00\n",
            "Epoch 1/1\n",
            "1/1 [==============================] - 0s 331ms/step - loss: 13562.4512 - accuracy: 0.0000e+00\n",
            "Epoch 1/1\n",
            "1/1 [==============================] - 0s 489ms/step - loss: 13301.8076 - accuracy: 0.0000e+00\n"
          ],
          "name": "stdout"
        },
        {
          "output_type": "stream",
          "text": [
            "\r  6%|▋         | 32/500 [01:40<33:15,  4.26s/it]"
          ],
          "name": "stderr"
        },
        {
          "output_type": "stream",
          "text": [
            "Epoch 1/1\n",
            "1/1 [==============================] - 0s 359ms/step - loss: 0.3245 - accuracy: 1.0000\n",
            "Epoch 1/1\n",
            "1/1 [==============================] - 0s 322ms/step - loss: 13874.6172 - accuracy: 0.0000e+00\n",
            "Epoch 1/1\n",
            "1/1 [==============================] - 0s 194ms/step - loss: 6763.4517 - accuracy: 0.0000e+00\n"
          ],
          "name": "stdout"
        },
        {
          "output_type": "stream",
          "text": [
            "\r  7%|▋         | 33/500 [01:45<34:26,  4.43s/it]"
          ],
          "name": "stderr"
        },
        {
          "output_type": "stream",
          "text": [
            "Epoch 1/1\n",
            "1/1 [==============================] - 0s 192ms/step - loss: 5375.9414 - accuracy: 0.0000e+00\n",
            "Epoch 1/1\n",
            "1/1 [==============================] - 0s 175ms/step - loss: 3567.3135 - accuracy: 0.0000e+00\n",
            "Epoch 1/1\n",
            "1/1 [==============================] - 0s 173ms/step - loss: 4529.0464 - accuracy: 0.0000e+00\n"
          ],
          "name": "stdout"
        },
        {
          "output_type": "stream",
          "text": [
            "\r  7%|▋         | 34/500 [01:48<31:10,  4.01s/it]"
          ],
          "name": "stderr"
        },
        {
          "output_type": "stream",
          "text": [
            "Epoch 1/1\n",
            "1/1 [==============================] - 0s 180ms/step - loss: 7294.2236 - accuracy: 0.0000e+00\n",
            "Epoch 1/1\n",
            "1/1 [==============================] - 0s 187ms/step - loss: 0.3002 - accuracy: 1.0000\n",
            "Epoch 1/1\n",
            "1/1 [==============================] - 0s 159ms/step - loss: 446.6382 - accuracy: 0.0000e+00\n"
          ],
          "name": "stdout"
        },
        {
          "output_type": "stream",
          "text": [
            "\r  7%|▋         | 35/500 [01:51<28:57,  3.74s/it]"
          ],
          "name": "stderr"
        },
        {
          "output_type": "stream",
          "text": [
            "Epoch 1/1\n",
            "1/1 [==============================] - 0s 162ms/step - loss: 5545.2964 - accuracy: 0.0000e+00\n",
            "Epoch 1/1\n",
            "1/1 [==============================] - 0s 162ms/step - loss: 13351.7188 - accuracy: 0.0000e+00\n",
            "Epoch 1/1\n",
            "1/1 [==============================] - 0s 200ms/step - loss: 3782.7297 - accuracy: 0.0000e+00\n"
          ],
          "name": "stdout"
        },
        {
          "output_type": "stream",
          "text": [
            "\r  7%|▋         | 36/500 [01:54<28:45,  3.72s/it]"
          ],
          "name": "stderr"
        },
        {
          "output_type": "stream",
          "text": [
            "Epoch 1/1\n",
            "\r1/1 [==============================] - 0s 195ms/step - loss: 0.3214 - accuracy: 1.0000\n",
            "Epoch 1/1\n",
            "1/1 [==============================] - 0s 213ms/step - loss: 0.2975 - accuracy: 1.0000\n",
            "Epoch 1/1\n",
            "1/1 [==============================] - 0s 225ms/step - loss: 0.2896 - accuracy: 1.0000\n"
          ],
          "name": "stdout"
        },
        {
          "output_type": "stream",
          "text": [
            "\r  7%|▋         | 37/500 [01:58<27:25,  3.55s/it]"
          ],
          "name": "stderr"
        },
        {
          "output_type": "stream",
          "text": [
            "Epoch 1/1\n",
            "1/1 [==============================] - 0s 255ms/step - loss: 0.2993 - accuracy: 1.0000\n",
            "Epoch 1/1\n",
            "1/1 [==============================] - 0s 222ms/step - loss: 0.3125 - accuracy: 1.0000\n",
            "Epoch 1/1\n",
            "1/1 [==============================] - 0s 207ms/step - loss: 0.3122 - accuracy: 1.0000\n"
          ],
          "name": "stdout"
        },
        {
          "output_type": "stream",
          "text": [
            "\r  8%|▊         | 38/500 [02:01<26:39,  3.46s/it]"
          ],
          "name": "stderr"
        },
        {
          "output_type": "stream",
          "text": [
            "Epoch 1/1\n",
            "1/1 [==============================] - 0s 181ms/step - loss: 0.2976 - accuracy: 1.0000\n",
            "Epoch 1/1\n",
            "1/1 [==============================] - 0s 179ms/step - loss: 0.3052 - accuracy: 1.0000\n",
            "Epoch 1/1\n",
            "1/1 [==============================] - 0s 180ms/step - loss: 26793.5000 - accuracy: 0.0000e+00\n"
          ],
          "name": "stdout"
        },
        {
          "output_type": "stream",
          "text": [
            "\r  8%|▊         | 39/500 [02:04<25:45,  3.35s/it]"
          ],
          "name": "stderr"
        },
        {
          "output_type": "stream",
          "text": [
            "Epoch 1/1\n",
            "1/1 [==============================] - 0s 178ms/step - loss: 0.3053 - accuracy: 1.0000\n",
            "Epoch 1/1\n",
            "1/1 [==============================] - 0s 170ms/step - loss: 0.3022 - accuracy: 1.0000\n",
            "Epoch 1/1\n",
            "1/1 [==============================] - 0s 167ms/step - loss: 24204.0840 - accuracy: 0.0000e+00\n"
          ],
          "name": "stdout"
        },
        {
          "output_type": "stream",
          "text": [
            "\r  8%|▊         | 40/500 [02:07<25:12,  3.29s/it]"
          ],
          "name": "stderr"
        },
        {
          "output_type": "stream",
          "text": [
            "Epoch 1/1\n",
            "1/1 [==============================] - 0s 164ms/step - loss: 0.3083 - accuracy: 1.0000\n",
            "Epoch 1/1\n",
            "1/1 [==============================] - 0s 162ms/step - loss: 5510.4058 - accuracy: 0.0000e+00\n",
            "Epoch 1/1\n",
            "1/1 [==============================] - 0s 190ms/step - loss: 0.3141 - accuracy: 1.0000\n"
          ],
          "name": "stdout"
        },
        {
          "output_type": "stream",
          "text": [
            "\r  8%|▊         | 41/500 [02:11<26:11,  3.42s/it]"
          ],
          "name": "stderr"
        },
        {
          "output_type": "stream",
          "text": [
            "Epoch 1/1\n",
            "1/1 [==============================] - 0s 198ms/step - loss: 3362.3882 - accuracy: 0.0000e+00\n",
            "Epoch 1/1\n",
            "1/1 [==============================] - 0s 197ms/step - loss: 2922.8577 - accuracy: 0.0000e+00\n",
            "Epoch 1/1\n",
            "1/1 [==============================] - 0s 198ms/step - loss: 2113.1306 - accuracy: 0.0000e+00\n"
          ],
          "name": "stdout"
        },
        {
          "output_type": "stream",
          "text": [
            "\r  8%|▊         | 42/500 [02:14<25:38,  3.36s/it]"
          ],
          "name": "stderr"
        },
        {
          "output_type": "stream",
          "text": [
            "Epoch 1/1\n",
            "1/1 [==============================] - 0s 221ms/step - loss: 0.3091 - accuracy: 1.0000\n",
            "Epoch 1/1\n",
            "1/1 [==============================] - 0s 218ms/step - loss: 0.2873 - accuracy: 1.0000\n",
            "Epoch 1/1\n",
            "1/1 [==============================] - 0s 198ms/step - loss: 0.3050 - accuracy: 1.0000\n"
          ],
          "name": "stdout"
        },
        {
          "output_type": "stream",
          "text": [
            "\r  9%|▊         | 43/500 [02:17<25:22,  3.33s/it]"
          ],
          "name": "stderr"
        },
        {
          "output_type": "stream",
          "text": [
            "Epoch 1/1\n",
            "1/1 [==============================] - 0s 185ms/step - loss: 0.2960 - accuracy: 1.0000\n",
            "Epoch 1/1\n",
            "1/1 [==============================] - 0s 180ms/step - loss: 2622.5063 - accuracy: 0.0000e+00\n",
            "Epoch 1/1\n",
            "1/1 [==============================] - 0s 182ms/step - loss: 0.3004 - accuracy: 1.0000\n"
          ],
          "name": "stdout"
        },
        {
          "output_type": "stream",
          "text": [
            "\r  9%|▉         | 44/500 [02:20<24:59,  3.29s/it]"
          ],
          "name": "stderr"
        },
        {
          "output_type": "stream",
          "text": [
            "Epoch 1/1\n",
            "1/1 [==============================] - 0s 185ms/step - loss: 0.2989 - accuracy: 1.0000\n",
            "Epoch 1/1\n",
            "1/1 [==============================] - 0s 183ms/step - loss: 0.3200 - accuracy: 1.0000\n",
            "Epoch 1/1\n",
            "1/1 [==============================] - 0s 173ms/step - loss: 0.2924 - accuracy: 1.0000\n"
          ],
          "name": "stdout"
        },
        {
          "output_type": "stream",
          "text": [
            "\r  9%|▉         | 45/500 [02:24<24:49,  3.27s/it]"
          ],
          "name": "stderr"
        },
        {
          "output_type": "stream",
          "text": [
            "Epoch 1/1\n",
            "1/1 [==============================] - 0s 175ms/step - loss: 5384.0303 - accuracy: 0.0000e+00\n",
            "Epoch 1/1\n",
            "1/1 [==============================] - 0s 171ms/step - loss: 0.3134 - accuracy: 1.0000\n",
            "Epoch 1/1\n",
            "1/1 [==============================] - 0s 169ms/step - loss: 11771.3779 - accuracy: 0.0000e+00\n"
          ],
          "name": "stdout"
        },
        {
          "output_type": "stream",
          "text": [
            "\r  9%|▉         | 46/500 [02:27<24:36,  3.25s/it]"
          ],
          "name": "stderr"
        },
        {
          "output_type": "stream",
          "text": [
            "Epoch 1/1\n",
            "1/1 [==============================] - 0s 200ms/step - loss: 6527.0957 - accuracy: 0.0000e+00\n",
            "Epoch 1/1\n",
            "1/1 [==============================] - 0s 183ms/step - loss: 10257.0986 - accuracy: 0.0000e+00\n",
            "Epoch 1/1\n",
            "1/1 [==============================] - 0s 184ms/step - loss: 791.5070 - accuracy: 0.0000e+00\n"
          ],
          "name": "stdout"
        },
        {
          "output_type": "stream",
          "text": [
            "\r  9%|▉         | 47/500 [02:31<25:56,  3.44s/it]"
          ],
          "name": "stderr"
        },
        {
          "output_type": "stream",
          "text": [
            "Epoch 1/1\n",
            "\r1/1 [==============================] - 0s 190ms/step - loss: 0.3207 - accuracy: 1.0000\n",
            "Epoch 1/1\n",
            "1/1 [==============================] - 0s 215ms/step - loss: 0.3120 - accuracy: 1.0000\n",
            "Epoch 1/1\n",
            "1/1 [==============================] - 0s 222ms/step - loss: 0.2988 - accuracy: 1.0000\n"
          ],
          "name": "stdout"
        },
        {
          "output_type": "stream",
          "text": [
            "\r 10%|▉         | 48/500 [02:34<25:20,  3.36s/it]"
          ],
          "name": "stderr"
        },
        {
          "output_type": "stream",
          "text": [
            "Epoch 1/1\n",
            "1/1 [==============================] - 0s 191ms/step - loss: 0.3122 - accuracy: 1.0000\n",
            "Epoch 1/1\n",
            "1/1 [==============================] - 0s 186ms/step - loss: 0.3165 - accuracy: 1.0000\n",
            "Epoch 1/1\n",
            "1/1 [==============================] - 0s 175ms/step - loss: 3954.1692 - accuracy: 0.0000e+00\n"
          ],
          "name": "stdout"
        },
        {
          "output_type": "stream",
          "text": [
            "\r 10%|▉         | 49/500 [02:37<24:47,  3.30s/it]"
          ],
          "name": "stderr"
        },
        {
          "output_type": "stream",
          "text": [
            "Epoch 1/1\n",
            "1/1 [==============================] - 0s 168ms/step - loss: 8374.7295 - accuracy: 0.0000e+00\n",
            "Epoch 1/1\n",
            "1/1 [==============================] - 0s 199ms/step - loss: 969.7480 - accuracy: 0.0000e+00\n",
            "Epoch 1/1\n",
            "1/1 [==============================] - 0s 165ms/step - loss: 13351.2031 - accuracy: 0.0000e+00\n"
          ],
          "name": "stdout"
        },
        {
          "output_type": "stream",
          "text": [
            "\r 10%|█         | 50/500 [02:40<24:30,  3.27s/it]"
          ],
          "name": "stderr"
        },
        {
          "output_type": "stream",
          "text": [
            "Epoch 1/1\n",
            "1/1 [==============================] - 0s 163ms/step - loss: 0.3193 - accuracy: 1.0000\n",
            "Epoch 1/1\n",
            "1/1 [==============================] - 0s 165ms/step - loss: 0.3045 - accuracy: 1.0000\n",
            "Epoch 1/1\n",
            "1/1 [==============================] - 0s 166ms/step - loss: 711.7567 - accuracy: 0.0000e+00\n"
          ],
          "name": "stdout"
        },
        {
          "output_type": "stream",
          "text": [
            "\r 10%|█         | 51/500 [02:44<24:21,  3.25s/it]"
          ],
          "name": "stderr"
        },
        {
          "output_type": "stream",
          "text": [
            "Epoch 1/1\n",
            "1/1 [==============================] - 0s 162ms/step - loss: 0.3084 - accuracy: 1.0000\n",
            "Epoch 1/1\n",
            "1/1 [==============================] - 0s 169ms/step - loss: 1.0001 - accuracy: 1.0000\n",
            "Epoch 1/1\n",
            "1/1 [==============================] - 0s 163ms/step - loss: 6822.5381 - accuracy: 0.0000e+00\n"
          ],
          "name": "stdout"
        },
        {
          "output_type": "stream",
          "text": [
            "\r 10%|█         | 52/500 [02:47<25:42,  3.44s/it]"
          ],
          "name": "stderr"
        },
        {
          "output_type": "stream",
          "text": [
            "Epoch 1/1\n",
            "1/1 [==============================] - 0s 191ms/step - loss: 0.3034 - accuracy: 1.0000\n",
            "Epoch 1/1\n",
            "1/1 [==============================] - 0s 186ms/step - loss: 0.3145 - accuracy: 1.0000\n",
            "Epoch 1/1\n",
            "1/1 [==============================] - 0s 190ms/step - loss: 0.3064 - accuracy: 1.0000\n"
          ],
          "name": "stdout"
        },
        {
          "output_type": "stream",
          "text": [
            "\r 11%|█         | 53/500 [02:51<25:10,  3.38s/it]"
          ],
          "name": "stderr"
        },
        {
          "output_type": "stream",
          "text": [
            "Epoch 1/1\n",
            "\r1/1 [==============================] - 0s 200ms/step - loss: 3679.8367 - accuracy: 0.0000e+00\n",
            "Epoch 1/1\n",
            "1/1 [==============================] - 0s 206ms/step - loss: 11508.3076 - accuracy: 0.0000e+00\n",
            "Epoch 1/1\n",
            "1/1 [==============================] - 0s 217ms/step - loss: 0.3189 - accuracy: 1.0000\n"
          ],
          "name": "stdout"
        },
        {
          "output_type": "stream",
          "text": [
            "\r 11%|█         | 54/500 [02:54<24:59,  3.36s/it]"
          ],
          "name": "stderr"
        },
        {
          "output_type": "stream",
          "text": [
            "Epoch 1/1\n",
            "1/1 [==============================] - 0s 218ms/step - loss: 12983.6475 - accuracy: 0.0000e+00\n",
            "Epoch 1/1\n",
            "1/1 [==============================] - 0s 195ms/step - loss: 2661.9399 - accuracy: 0.0000e+00\n",
            "Epoch 1/1\n",
            "1/1 [==============================] - 0s 196ms/step - loss: 11916.7236 - accuracy: 0.0000e+00\n"
          ],
          "name": "stdout"
        },
        {
          "output_type": "stream",
          "text": [
            "\r 11%|█         | 55/500 [02:57<24:54,  3.36s/it]"
          ],
          "name": "stderr"
        },
        {
          "output_type": "stream",
          "text": [
            "Epoch 1/1\n",
            "1/1 [==============================] - 0s 185ms/step - loss: 0.3170 - accuracy: 1.0000\n",
            "Epoch 1/1\n",
            "1/1 [==============================] - 0s 177ms/step - loss: 0.2974 - accuracy: 1.0000\n",
            "Epoch 1/1\n",
            "1/1 [==============================] - 0s 216ms/step - loss: 11074.8906 - accuracy: 0.0000e+00\n"
          ],
          "name": "stdout"
        },
        {
          "output_type": "stream",
          "text": [
            "\r 11%|█         | 56/500 [03:01<24:46,  3.35s/it]"
          ],
          "name": "stderr"
        },
        {
          "output_type": "stream",
          "text": [
            "Epoch 1/1\n",
            "1/1 [==============================] - 0s 167ms/step - loss: 0.3055 - accuracy: 1.0000\n",
            "Epoch 1/1\n",
            "1/1 [==============================] - 0s 167ms/step - loss: 2142.4839 - accuracy: 0.0000e+00\n",
            "Epoch 1/1\n",
            "1/1 [==============================] - 0s 165ms/step - loss: 21301.5312 - accuracy: 0.0000e+00\n"
          ],
          "name": "stdout"
        },
        {
          "output_type": "stream",
          "text": [
            "\r 11%|█▏        | 57/500 [03:04<24:31,  3.32s/it]"
          ],
          "name": "stderr"
        },
        {
          "output_type": "stream",
          "text": [
            "Epoch 1/1\n",
            "1/1 [==============================] - 0s 164ms/step - loss: 2529.4756 - accuracy: 0.0000e+00\n",
            "Epoch 1/1\n",
            "1/1 [==============================] - 0s 196ms/step - loss: 20654.4102 - accuracy: 0.0000e+00\n",
            "Epoch 1/1\n",
            "1/1 [==============================] - 0s 194ms/step - loss: 15364.8350 - accuracy: 0.0000e+00\n"
          ],
          "name": "stdout"
        },
        {
          "output_type": "stream",
          "text": [
            "\r 12%|█▏        | 58/500 [03:08<26:08,  3.55s/it]"
          ],
          "name": "stderr"
        },
        {
          "output_type": "stream",
          "text": [
            "Epoch 1/1\n",
            "1/1 [==============================] - 0s 197ms/step - loss: 0.3081 - accuracy: 1.0000\n",
            "Epoch 1/1\n",
            "1/1 [==============================] - 0s 199ms/step - loss: 0.3136 - accuracy: 1.0000\n",
            "Epoch 1/1\n",
            "1/1 [==============================] - 0s 235ms/step - loss: 0.3043 - accuracy: 1.0000\n"
          ],
          "name": "stdout"
        },
        {
          "output_type": "stream",
          "text": [
            "\r 12%|█▏        | 59/500 [03:11<25:53,  3.52s/it]"
          ],
          "name": "stderr"
        },
        {
          "output_type": "stream",
          "text": [
            "Epoch 1/1\n",
            "1/1 [==============================] - 0s 226ms/step - loss: 1447.4117 - accuracy: 0.0000e+00\n",
            "Epoch 1/1\n",
            "1/1 [==============================] - 0s 202ms/step - loss: 30489.0508 - accuracy: 0.0000e+00\n",
            "Epoch 1/1\n",
            "1/1 [==============================] - 0s 194ms/step - loss: 22365.6465 - accuracy: 0.0000e+00\n"
          ],
          "name": "stdout"
        },
        {
          "output_type": "stream",
          "text": [
            "\r 12%|█▏        | 60/500 [03:15<25:36,  3.49s/it]"
          ],
          "name": "stderr"
        },
        {
          "output_type": "stream",
          "text": [
            "Epoch 1/1\n",
            "1/1 [==============================] - 0s 183ms/step - loss: 0.2996 - accuracy: 1.0000\n",
            "Epoch 1/1\n",
            "1/1 [==============================] - 0s 179ms/step - loss: 8496.7920 - accuracy: 0.0000e+00\n",
            "Epoch 1/1\n",
            "1/1 [==============================] - 0s 169ms/step - loss: 0.3140 - accuracy: 1.0000\n"
          ],
          "name": "stdout"
        },
        {
          "output_type": "stream",
          "text": [
            "\r 12%|█▏        | 61/500 [03:18<25:06,  3.43s/it]"
          ],
          "name": "stderr"
        },
        {
          "output_type": "stream",
          "text": [
            "Epoch 1/1\n",
            "1/1 [==============================] - 0s 176ms/step - loss: 0.3031 - accuracy: 1.0000\n",
            "Epoch 1/1\n",
            "1/1 [==============================] - 0s 171ms/step - loss: 0.3095 - accuracy: 1.0000\n",
            "Epoch 1/1\n",
            "1/1 [==============================] - 0s 185ms/step - loss: 0.3110 - accuracy: 1.0000\n"
          ],
          "name": "stdout"
        },
        {
          "output_type": "stream",
          "text": [
            "\r 12%|█▏        | 62/500 [03:22<24:55,  3.41s/it]"
          ],
          "name": "stderr"
        },
        {
          "output_type": "stream",
          "text": [
            "Epoch 1/1\n",
            "1/1 [==============================] - 0s 168ms/step - loss: 5654.9395 - accuracy: 0.0000e+00\n",
            "Epoch 1/1\n",
            "1/1 [==============================] - 0s 161ms/step - loss: 0.3029 - accuracy: 1.0000\n",
            "Epoch 1/1\n",
            "1/1 [==============================] - 0s 247ms/step - loss: 0.3031 - accuracy: 1.0000\n"
          ],
          "name": "stdout"
        },
        {
          "output_type": "stream",
          "text": [
            "\r 13%|█▎        | 63/500 [03:26<26:20,  3.62s/it]"
          ],
          "name": "stderr"
        },
        {
          "output_type": "stream",
          "text": [
            "Epoch 1/1\n",
            "\r1/1 [==============================] - 0s 194ms/step - loss: 2369.7471 - accuracy: 0.0000e+00\n",
            "Epoch 1/1\n",
            "1/1 [==============================] - 0s 207ms/step - loss: 4575.3760 - accuracy: 0.0000e+00\n",
            "Epoch 1/1\n",
            "1/1 [==============================] - 0s 210ms/step - loss: 13438.8516 - accuracy: 0.0000e+00\n"
          ],
          "name": "stdout"
        },
        {
          "output_type": "stream",
          "text": [
            "\r 13%|█▎        | 64/500 [03:29<25:50,  3.56s/it]"
          ],
          "name": "stderr"
        },
        {
          "output_type": "stream",
          "text": [
            "Epoch 1/1\n",
            "1/1 [==============================] - 0s 229ms/step - loss: 0.3018 - accuracy: 1.0000\n",
            "Epoch 1/1\n",
            "1/1 [==============================] - 0s 223ms/step - loss: 89.2396 - accuracy: 0.0000e+00\n",
            "Epoch 1/1\n",
            "1/1 [==============================] - 0s 201ms/step - loss: 12061.8535 - accuracy: 0.0000e+00\n"
          ],
          "name": "stdout"
        },
        {
          "output_type": "stream",
          "text": [
            "\r 13%|█▎        | 65/500 [03:33<25:40,  3.54s/it]"
          ],
          "name": "stderr"
        },
        {
          "output_type": "stream",
          "text": [
            "Epoch 1/1\n",
            "1/1 [==============================] - 0s 196ms/step - loss: 0.3039 - accuracy: 1.0000\n",
            "Epoch 1/1\n",
            "1/1 [==============================] - 0s 184ms/step - loss: 0.3024 - accuracy: 1.0000\n",
            "Epoch 1/1\n",
            "1/1 [==============================] - 0s 178ms/step - loss: 7449.9380 - accuracy: 0.0000e+00\n"
          ],
          "name": "stdout"
        },
        {
          "output_type": "stream",
          "text": [
            "\r 13%|█▎        | 66/500 [03:36<25:18,  3.50s/it]"
          ],
          "name": "stderr"
        },
        {
          "output_type": "stream",
          "text": [
            "Epoch 1/1\n",
            "1/1 [==============================] - 0s 177ms/step - loss: 3720.9170 - accuracy: 0.0000e+00\n",
            "Epoch 1/1\n",
            "1/1 [==============================] - 0s 168ms/step - loss: 0.3003 - accuracy: 1.0000\n",
            "Epoch 1/1\n",
            "1/1 [==============================] - 0s 163ms/step - loss: 0.3002 - accuracy: 1.0000\n"
          ],
          "name": "stdout"
        },
        {
          "output_type": "stream",
          "text": [
            "\r 13%|█▎        | 67/500 [03:39<25:01,  3.47s/it]"
          ],
          "name": "stderr"
        },
        {
          "output_type": "stream",
          "text": [
            "Epoch 1/1\n",
            "1/1 [==============================] - 0s 169ms/step - loss: 1220.1281 - accuracy: 0.0000e+00\n",
            "Epoch 1/1\n",
            "1/1 [==============================] - 0s 167ms/step - loss: 0.3033 - accuracy: 1.0000\n",
            "Epoch 1/1\n",
            "1/1 [==============================] - 0s 165ms/step - loss: 0.3228 - accuracy: 1.0000\n"
          ],
          "name": "stdout"
        },
        {
          "output_type": "stream",
          "text": [
            "\r 14%|█▎        | 68/500 [03:43<24:56,  3.46s/it]"
          ],
          "name": "stderr"
        },
        {
          "output_type": "stream",
          "text": [
            "Epoch 1/1\n",
            "1/1 [==============================] - 0s 192ms/step - loss: 0.3062 - accuracy: 1.0000\n",
            "Epoch 1/1\n",
            "1/1 [==============================] - 0s 166ms/step - loss: 7469.7031 - accuracy: 0.0000e+00\n",
            "Epoch 1/1\n",
            "1/1 [==============================] - 0s 200ms/step - loss: 9778.6338 - accuracy: 0.0000e+00\n"
          ],
          "name": "stdout"
        },
        {
          "output_type": "stream",
          "text": [
            "\r 14%|█▍        | 69/500 [03:47<26:53,  3.74s/it]"
          ],
          "name": "stderr"
        },
        {
          "output_type": "stream",
          "text": [
            "Epoch 1/1\n",
            "1/1 [==============================] - 0s 182ms/step - loss: 7190.4541 - accuracy: 0.0000e+00\n",
            "Epoch 1/1\n",
            "1/1 [==============================] - 0s 175ms/step - loss: 0.3050 - accuracy: 1.0000\n",
            "Epoch 1/1\n",
            "1/1 [==============================] - 0s 183ms/step - loss: 0.3096 - accuracy: 1.0000\n"
          ],
          "name": "stdout"
        },
        {
          "output_type": "stream",
          "text": [
            "\r 14%|█▍        | 70/500 [03:51<26:09,  3.65s/it]"
          ],
          "name": "stderr"
        },
        {
          "output_type": "stream",
          "text": [
            "Epoch 1/1\n",
            "\r1/1 [==============================] - 0s 198ms/step - loss: 5371.1279 - accuracy: 0.0000e+00\n",
            "Epoch 1/1\n",
            "1/1 [==============================] - 0s 220ms/step - loss: 0.3006 - accuracy: 1.0000\n",
            "Epoch 1/1\n",
            "1/1 [==============================] - 0s 233ms/step - loss: 0.3132 - accuracy: 1.0000\n"
          ],
          "name": "stdout"
        },
        {
          "output_type": "stream",
          "text": [
            "\r 14%|█▍        | 71/500 [03:54<25:57,  3.63s/it]"
          ],
          "name": "stderr"
        },
        {
          "output_type": "stream",
          "text": [
            "Epoch 1/1\n",
            "1/1 [==============================] - 0s 223ms/step - loss: 0.3168 - accuracy: 1.0000\n",
            "Epoch 1/1\n",
            "1/1 [==============================] - 0s 200ms/step - loss: 9427.6582 - accuracy: 0.0000e+00\n",
            "Epoch 1/1\n",
            "1/1 [==============================] - 0s 185ms/step - loss: 0.3224 - accuracy: 1.0000\n"
          ],
          "name": "stdout"
        },
        {
          "output_type": "stream",
          "text": [
            "\r 14%|█▍        | 72/500 [03:58<25:52,  3.63s/it]"
          ],
          "name": "stderr"
        },
        {
          "output_type": "stream",
          "text": [
            "Epoch 1/1\n",
            "1/1 [==============================] - 0s 181ms/step - loss: 0.3065 - accuracy: 1.0000\n",
            "Epoch 1/1\n",
            "1/1 [==============================] - 0s 175ms/step - loss: 2382.1023 - accuracy: 0.0000e+00\n",
            "Epoch 1/1\n",
            "1/1 [==============================] - 0s 175ms/step - loss: 0.3074 - accuracy: 1.0000\n"
          ],
          "name": "stdout"
        },
        {
          "output_type": "stream",
          "text": [
            "\r 15%|█▍        | 73/500 [04:01<25:31,  3.59s/it]"
          ],
          "name": "stderr"
        },
        {
          "output_type": "stream",
          "text": [
            "Epoch 1/1\n",
            "1/1 [==============================] - 0s 180ms/step - loss: 0.3013 - accuracy: 1.0000\n",
            "Epoch 1/1\n",
            "1/1 [==============================] - 0s 170ms/step - loss: 0.3097 - accuracy: 1.0000\n",
            "Epoch 1/1\n",
            "1/1 [==============================] - 0s 165ms/step - loss: 0.3074 - accuracy: 1.0000\n"
          ],
          "name": "stdout"
        },
        {
          "output_type": "stream",
          "text": [
            "\r 15%|█▍        | 74/500 [04:05<25:28,  3.59s/it]"
          ],
          "name": "stderr"
        },
        {
          "output_type": "stream",
          "text": [
            "Epoch 1/1\n",
            "1/1 [==============================] - 0s 164ms/step - loss: 3849.8354 - accuracy: 0.0000e+00\n",
            "Epoch 1/1\n",
            "1/1 [==============================] - 0s 169ms/step - loss: 9352.9756 - accuracy: 0.0000e+00\n",
            "Epoch 1/1\n",
            "1/1 [==============================] - 0s 168ms/step - loss: 50072.9453 - accuracy: 0.0000e+00\n"
          ],
          "name": "stdout"
        },
        {
          "output_type": "stream",
          "text": [
            "\r 15%|█▌        | 75/500 [04:08<25:20,  3.58s/it]"
          ],
          "name": "stderr"
        },
        {
          "output_type": "stream",
          "text": [
            "Epoch 1/1\n",
            "1/1 [==============================] - 0s 165ms/step - loss: 0.3082 - accuracy: 1.0000\n",
            "Epoch 1/1\n",
            "1/1 [==============================] - 0s 190ms/step - loss: 4759.7974 - accuracy: 0.0000e+00\n",
            "Epoch 1/1\n",
            "1/1 [==============================] - 0s 191ms/step - loss: 0.3003 - accuracy: 1.0000\n"
          ],
          "name": "stdout"
        },
        {
          "output_type": "stream",
          "text": [
            "\r 15%|█▌        | 76/500 [04:13<26:57,  3.81s/it]"
          ],
          "name": "stderr"
        },
        {
          "output_type": "stream",
          "text": [
            "Epoch 1/1\n",
            "1/1 [==============================] - 0s 185ms/step - loss: 2747.1567 - accuracy: 0.0000e+00\n",
            "Epoch 1/1\n",
            "1/1 [==============================] - 0s 191ms/step - loss: 7367.3711 - accuracy: 0.0000e+00\n",
            "Epoch 1/1\n",
            "1/1 [==============================] - 0s 225ms/step - loss: 0.3313 - accuracy: 1.0000\n"
          ],
          "name": "stdout"
        },
        {
          "output_type": "stream",
          "text": [
            "\r 15%|█▌        | 77/500 [04:16<26:26,  3.75s/it]"
          ],
          "name": "stderr"
        },
        {
          "output_type": "stream",
          "text": [
            "Epoch 1/1\n",
            "1/1 [==============================] - 0s 231ms/step - loss: 0.3229 - accuracy: 1.0000\n",
            "Epoch 1/1\n",
            "1/1 [==============================] - 0s 213ms/step - loss: 15699.4854 - accuracy: 0.0000e+00\n",
            "Epoch 1/1\n",
            "1/1 [==============================] - 0s 196ms/step - loss: 22840.3691 - accuracy: 0.0000e+00\n"
          ],
          "name": "stdout"
        },
        {
          "output_type": "stream",
          "text": [
            "\r 16%|█▌        | 78/500 [04:20<26:09,  3.72s/it]"
          ],
          "name": "stderr"
        },
        {
          "output_type": "stream",
          "text": [
            "Epoch 1/1\n",
            "1/1 [==============================] - 0s 191ms/step - loss: 4010.4114 - accuracy: 0.0000e+00\n",
            "Epoch 1/1\n",
            "1/1 [==============================] - 0s 185ms/step - loss: 0.3096 - accuracy: 1.0000\n",
            "Epoch 1/1\n",
            "1/1 [==============================] - 0s 178ms/step - loss: 0.3129 - accuracy: 1.0000\n"
          ],
          "name": "stdout"
        },
        {
          "output_type": "stream",
          "text": [
            "\r 16%|█▌        | 79/500 [04:24<25:55,  3.70s/it]"
          ],
          "name": "stderr"
        },
        {
          "output_type": "stream",
          "text": [
            "Epoch 1/1\n",
            "1/1 [==============================] - 0s 171ms/step - loss: 701.0248 - accuracy: 0.0000e+00\n",
            "Epoch 1/1\n",
            "1/1 [==============================] - 0s 199ms/step - loss: 0.3143 - accuracy: 1.0000\n",
            "Epoch 1/1\n",
            "1/1 [==============================] - 0s 175ms/step - loss: 0.3012 - accuracy: 1.0000\n"
          ],
          "name": "stdout"
        },
        {
          "output_type": "stream",
          "text": [
            "\r 16%|█▌        | 80/500 [04:27<25:51,  3.69s/it]"
          ],
          "name": "stderr"
        },
        {
          "output_type": "stream",
          "text": [
            "Epoch 1/1\n",
            "1/1 [==============================] - 0s 171ms/step - loss: 0.3048 - accuracy: 1.0000\n",
            "Epoch 1/1\n",
            "1/1 [==============================] - 0s 166ms/step - loss: 5451.5781 - accuracy: 0.0000e+00\n",
            "Epoch 1/1\n",
            "1/1 [==============================] - 0s 164ms/step - loss: 0.3062 - accuracy: 1.0000\n"
          ],
          "name": "stdout"
        },
        {
          "output_type": "stream",
          "text": [
            "\r 16%|█▌        | 81/500 [04:31<25:39,  3.67s/it]"
          ],
          "name": "stderr"
        },
        {
          "output_type": "stream",
          "text": [
            "Epoch 1/1\n",
            "1/1 [==============================] - 0s 160ms/step - loss: 0.3123 - accuracy: 1.0000\n",
            "Epoch 1/1\n",
            "1/1 [==============================] - 0s 183ms/step - loss: 0.3094 - accuracy: 1.0000\n",
            "Epoch 1/1\n",
            "1/1 [==============================] - 0s 167ms/step - loss: 0.3062 - accuracy: 1.0000\n"
          ],
          "name": "stdout"
        },
        {
          "output_type": "stream",
          "text": [
            "\r 16%|█▋        | 82/500 [04:35<25:37,  3.68s/it]"
          ],
          "name": "stderr"
        },
        {
          "output_type": "stream",
          "text": [
            "Epoch 1/1\n",
            "1/1 [==============================] - 0s 197ms/step - loss: 9728.1201 - accuracy: 0.0000e+00\n",
            "Epoch 1/1\n",
            "1/1 [==============================] - 0s 183ms/step - loss: 0.3123 - accuracy: 1.0000\n",
            "Epoch 1/1\n",
            "1/1 [==============================] - 0s 187ms/step - loss: 0.3152 - accuracy: 1.0000\n"
          ],
          "name": "stdout"
        },
        {
          "output_type": "stream",
          "text": [
            "\r 17%|█▋        | 83/500 [04:39<27:22,  3.94s/it]"
          ],
          "name": "stderr"
        },
        {
          "output_type": "stream",
          "text": [
            "Epoch 1/1\n",
            "1/1 [==============================] - 0s 189ms/step - loss: 16659.2051 - accuracy: 0.0000e+00\n",
            "Epoch 1/1\n",
            "1/1 [==============================] - 0s 191ms/step - loss: 10897.6660 - accuracy: 0.0000e+00\n",
            "Epoch 1/1\n",
            "1/1 [==============================] - 0s 218ms/step - loss: 0.3228 - accuracy: 1.0000\n"
          ],
          "name": "stdout"
        },
        {
          "output_type": "stream",
          "text": [
            "\r 17%|█▋        | 84/500 [04:43<26:53,  3.88s/it]"
          ],
          "name": "stderr"
        },
        {
          "output_type": "stream",
          "text": [
            "Epoch 1/1\n",
            "1/1 [==============================] - 0s 233ms/step - loss: 0.3125 - accuracy: 1.0000\n",
            "Epoch 1/1\n",
            "1/1 [==============================] - 0s 229ms/step - loss: 0.3177 - accuracy: 1.0000\n",
            "Epoch 1/1\n",
            "1/1 [==============================] - 0s 220ms/step - loss: 0.3219 - accuracy: 1.0000\n"
          ],
          "name": "stdout"
        },
        {
          "output_type": "stream",
          "text": [
            "\r 17%|█▋        | 85/500 [04:47<26:53,  3.89s/it]"
          ],
          "name": "stderr"
        },
        {
          "output_type": "stream",
          "text": [
            "Epoch 1/1\n",
            "1/1 [==============================] - 0s 189ms/step - loss: 0.3107 - accuracy: 1.0000\n",
            "Epoch 1/1\n",
            "1/1 [==============================] - 0s 189ms/step - loss: 0.3044 - accuracy: 1.0000\n",
            "Epoch 1/1\n",
            "1/1 [==============================] - 0s 174ms/step - loss: 3015.7483 - accuracy: 0.0000e+00\n"
          ],
          "name": "stdout"
        },
        {
          "output_type": "stream",
          "text": [
            "\r 17%|█▋        | 86/500 [04:51<26:30,  3.84s/it]"
          ],
          "name": "stderr"
        },
        {
          "output_type": "stream",
          "text": [
            "Epoch 1/1\n",
            "1/1 [==============================] - 0s 179ms/step - loss: 0.3064 - accuracy: 1.0000\n",
            "Epoch 1/1\n",
            "1/1 [==============================] - 0s 177ms/step - loss: 3474.7314 - accuracy: 0.0000e+00\n",
            "Epoch 1/1\n",
            "1/1 [==============================] - 0s 182ms/step - loss: 0.3077 - accuracy: 1.0000\n"
          ],
          "name": "stdout"
        },
        {
          "output_type": "stream",
          "text": [
            "\r 17%|█▋        | 87/500 [04:55<26:34,  3.86s/it]"
          ],
          "name": "stderr"
        },
        {
          "output_type": "stream",
          "text": [
            "Epoch 1/1\n",
            "1/1 [==============================] - 0s 177ms/step - loss: 6981.1177 - accuracy: 0.0000e+00\n",
            "Epoch 1/1\n",
            "1/1 [==============================] - 0s 163ms/step - loss: 0.3181 - accuracy: 1.0000\n",
            "Epoch 1/1\n",
            "1/1 [==============================] - 0s 161ms/step - loss: 1.0085 - accuracy: 1.0000\n"
          ],
          "name": "stdout"
        },
        {
          "output_type": "stream",
          "text": [
            "\r 18%|█▊        | 88/500 [04:59<26:50,  3.91s/it]"
          ],
          "name": "stderr"
        },
        {
          "output_type": "stream",
          "text": [
            "Epoch 1/1\n",
            "1/1 [==============================] - 0s 165ms/step - loss: 2180.1511 - accuracy: 0.0000e+00\n",
            "Epoch 1/1\n",
            "1/1 [==============================] - 0s 159ms/step - loss: 0.3139 - accuracy: 1.0000\n",
            "Epoch 1/1\n",
            "1/1 [==============================] - 0s 203ms/step - loss: 21282.5703 - accuracy: 0.0000e+00\n"
          ],
          "name": "stdout"
        },
        {
          "output_type": "stream",
          "text": [
            "\r 18%|█▊        | 89/500 [05:03<28:35,  4.17s/it]"
          ],
          "name": "stderr"
        },
        {
          "output_type": "stream",
          "text": [
            "Epoch 1/1\n",
            "1/1 [==============================] - 0s 188ms/step - loss: 6606.9790 - accuracy: 0.0000e+00\n",
            "Epoch 1/1\n",
            "1/1 [==============================] - 0s 186ms/step - loss: 0.2981 - accuracy: 1.0000\n",
            "Epoch 1/1\n",
            "1/1 [==============================] - 0s 191ms/step - loss: 12703.0996 - accuracy: 0.0000e+00\n"
          ],
          "name": "stdout"
        },
        {
          "output_type": "stream",
          "text": [
            "\r 18%|█▊        | 90/500 [05:07<27:58,  4.09s/it]"
          ],
          "name": "stderr"
        },
        {
          "output_type": "stream",
          "text": [
            "Epoch 1/1\n",
            "1/1 [==============================] - 0s 215ms/step - loss: 0.3095 - accuracy: 1.0000\n",
            "Epoch 1/1\n",
            "1/1 [==============================] - 0s 259ms/step - loss: 5393.9072 - accuracy: 0.0000e+00\n",
            "Epoch 1/1\n",
            "1/1 [==============================] - 0s 218ms/step - loss: 2803.9712 - accuracy: 0.0000e+00\n"
          ],
          "name": "stdout"
        },
        {
          "output_type": "stream",
          "text": [
            "\r 18%|█▊        | 91/500 [05:11<27:45,  4.07s/it]"
          ],
          "name": "stderr"
        },
        {
          "output_type": "stream",
          "text": [
            "Epoch 1/1\n",
            "1/1 [==============================] - 0s 226ms/step - loss: 0.3245 - accuracy: 1.0000\n",
            "Epoch 1/1\n",
            "1/1 [==============================] - 0s 193ms/step - loss: 0.3075 - accuracy: 1.0000\n",
            "Epoch 1/1\n",
            "1/1 [==============================] - 0s 184ms/step - loss: 0.3051 - accuracy: 1.0000\n"
          ],
          "name": "stdout"
        },
        {
          "output_type": "stream",
          "text": [
            "\r 18%|█▊        | 92/500 [05:15<27:06,  3.99s/it]"
          ],
          "name": "stderr"
        },
        {
          "output_type": "stream",
          "text": [
            "Epoch 1/1\n",
            "1/1 [==============================] - 0s 182ms/step - loss: 0.3162 - accuracy: 1.0000\n",
            "Epoch 1/1\n",
            "1/1 [==============================] - 0s 171ms/step - loss: 4530.2891 - accuracy: 0.0000e+00\n",
            "Epoch 1/1\n",
            "1/1 [==============================] - 0s 178ms/step - loss: 0.3021 - accuracy: 1.0000\n"
          ],
          "name": "stdout"
        },
        {
          "output_type": "stream",
          "text": [
            "\r 19%|█▊        | 93/500 [05:19<26:41,  3.94s/it]"
          ],
          "name": "stderr"
        },
        {
          "output_type": "stream",
          "text": [
            "Epoch 1/1\n",
            "1/1 [==============================] - 0s 175ms/step - loss: 0.3243 - accuracy: 1.0000\n",
            "Epoch 1/1\n",
            "1/1 [==============================] - 0s 175ms/step - loss: 36198.3945 - accuracy: 0.0000e+00\n",
            "Epoch 1/1\n",
            "1/1 [==============================] - 0s 168ms/step - loss: 0.3143 - accuracy: 1.0000\n"
          ],
          "name": "stdout"
        },
        {
          "output_type": "stream",
          "text": [
            "\r 19%|█▉        | 94/500 [05:23<26:31,  3.92s/it]"
          ],
          "name": "stderr"
        },
        {
          "output_type": "stream",
          "text": [
            "Epoch 1/1\n",
            "1/1 [==============================] - 0s 159ms/step - loss: 687.6243 - accuracy: 0.0000e+00\n",
            "Epoch 1/1\n",
            "1/1 [==============================] - 0s 170ms/step - loss: 0.3059 - accuracy: 1.0000\n",
            "Epoch 1/1\n",
            "1/1 [==============================] - 0s 164ms/step - loss: 0.3187 - accuracy: 1.0000\n"
          ],
          "name": "stdout"
        },
        {
          "output_type": "stream",
          "text": [
            "\r 19%|█▉        | 95/500 [05:27<26:39,  3.95s/it]"
          ],
          "name": "stderr"
        },
        {
          "output_type": "stream",
          "text": [
            "Epoch 1/1\n",
            "1/1 [==============================] - 0s 170ms/step - loss: 0.3066 - accuracy: 1.0000\n",
            "Epoch 1/1\n",
            "1/1 [==============================] - 0s 167ms/step - loss: 32732.9082 - accuracy: 0.0000e+00\n",
            "Epoch 1/1\n",
            "1/1 [==============================] - 0s 177ms/step - loss: 0.3013 - accuracy: 1.0000\n"
          ],
          "name": "stdout"
        },
        {
          "output_type": "stream",
          "text": [
            "\r 19%|█▉        | 96/500 [05:31<26:57,  4.00s/it]"
          ],
          "name": "stderr"
        },
        {
          "output_type": "stream",
          "text": [
            "Epoch 1/1\n",
            "1/1 [==============================] - 0s 217ms/step - loss: 0.3245 - accuracy: 1.0000\n",
            "Epoch 1/1\n",
            "1/1 [==============================] - 0s 180ms/step - loss: 1972.8398 - accuracy: 0.0000e+00\n",
            "Epoch 1/1\n",
            "1/1 [==============================] - 0s 172ms/step - loss: 3695.2292 - accuracy: 0.0000e+00\n"
          ],
          "name": "stdout"
        },
        {
          "output_type": "stream",
          "text": [
            "\r 19%|█▉        | 97/500 [05:36<29:00,  4.32s/it]"
          ],
          "name": "stderr"
        },
        {
          "output_type": "stream",
          "text": [
            "Epoch 1/1\n",
            "1/1 [==============================] - 0s 179ms/step - loss: 3619.9868 - accuracy: 0.0000e+00\n",
            "Epoch 1/1\n",
            "1/1 [==============================] - 0s 197ms/step - loss: 20897.8379 - accuracy: 0.0000e+00\n",
            "Epoch 1/1\n",
            "1/1 [==============================] - 0s 202ms/step - loss: 17803.6387 - accuracy: 0.0000e+00\n"
          ],
          "name": "stdout"
        },
        {
          "output_type": "stream",
          "text": [
            "\r 20%|█▉        | 98/500 [05:40<28:47,  4.30s/it]"
          ],
          "name": "stderr"
        },
        {
          "output_type": "stream",
          "text": [
            "Epoch 1/1\n",
            "1/1 [==============================] - 0s 228ms/step - loss: 0.3218 - accuracy: 1.0000\n",
            "Epoch 1/1\n",
            "1/1 [==============================] - 0s 222ms/step - loss: 0.2950 - accuracy: 1.0000\n",
            "Epoch 1/1\n",
            "1/1 [==============================] - 0s 242ms/step - loss: 3281.3020 - accuracy: 0.0000e+00\n"
          ],
          "name": "stdout"
        },
        {
          "output_type": "stream",
          "text": [
            "\r 20%|█▉        | 99/500 [05:45<29:04,  4.35s/it]"
          ],
          "name": "stderr"
        },
        {
          "output_type": "stream",
          "text": [
            "Epoch 1/1\n",
            "1/1 [==============================] - 0s 263ms/step - loss: 0.3214 - accuracy: 1.0000\n",
            "Epoch 1/1\n",
            "1/1 [==============================] - 0s 227ms/step - loss: 13679.8965 - accuracy: 0.0000e+00\n",
            "Epoch 1/1\n",
            "1/1 [==============================] - 0s 220ms/step - loss: 0.3101 - accuracy: 1.0000\n"
          ],
          "name": "stdout"
        },
        {
          "output_type": "stream",
          "text": [
            "\r 20%|██        | 100/500 [05:49<29:37,  4.44s/it]"
          ],
          "name": "stderr"
        },
        {
          "output_type": "stream",
          "text": [
            "Epoch 1/1\n",
            "1/1 [==============================] - 0s 203ms/step - loss: 0.3014 - accuracy: 1.0000\n",
            "Epoch 1/1\n",
            "1/1 [==============================] - 0s 181ms/step - loss: 0.3132 - accuracy: 1.0000\n",
            "Epoch 1/1\n",
            "1/1 [==============================] - 0s 187ms/step - loss: 2347.4663 - accuracy: 0.0000e+00\n"
          ],
          "name": "stdout"
        },
        {
          "output_type": "stream",
          "text": [
            "\r 20%|██        | 101/500 [05:54<29:37,  4.46s/it]"
          ],
          "name": "stderr"
        },
        {
          "output_type": "stream",
          "text": [
            "Epoch 1/1\n",
            "1/1 [==============================] - 0s 176ms/step - loss: 4762.0479 - accuracy: 0.0000e+00\n",
            "Epoch 1/1\n",
            "1/1 [==============================] - 0s 171ms/step - loss: 0.3098 - accuracy: 1.0000\n",
            "Epoch 1/1\n",
            "1/1 [==============================] - 0s 165ms/step - loss: 0.3080 - accuracy: 1.0000\n"
          ],
          "name": "stdout"
        },
        {
          "output_type": "stream",
          "text": [
            "\r 20%|██        | 102/500 [05:58<29:13,  4.40s/it]"
          ],
          "name": "stderr"
        },
        {
          "output_type": "stream",
          "text": [
            "Epoch 1/1\n",
            "1/1 [==============================] - 0s 164ms/step - loss: 0.3136 - accuracy: 1.0000\n",
            "Epoch 1/1\n",
            "1/1 [==============================] - 0s 171ms/step - loss: 0.3071 - accuracy: 1.0000\n",
            "Epoch 1/1\n",
            "1/1 [==============================] - 0s 162ms/step - loss: 0.3012 - accuracy: 1.0000\n"
          ],
          "name": "stdout"
        },
        {
          "output_type": "stream",
          "text": [
            "\r 21%|██        | 103/500 [06:02<28:26,  4.30s/it]"
          ],
          "name": "stderr"
        },
        {
          "output_type": "stream",
          "text": [
            "Epoch 1/1\n",
            "1/1 [==============================] - 0s 217ms/step - loss: 0.3209 - accuracy: 1.0000\n",
            "Epoch 1/1\n",
            "1/1 [==============================] - 0s 185ms/step - loss: 0.3332 - accuracy: 1.0000\n",
            "Epoch 1/1\n",
            "1/1 [==============================] - 0s 197ms/step - loss: 205.9432 - accuracy: 0.0000e+00\n"
          ],
          "name": "stdout"
        },
        {
          "output_type": "stream",
          "text": [
            "\r 21%|██        | 104/500 [06:08<30:41,  4.65s/it]"
          ],
          "name": "stderr"
        },
        {
          "output_type": "stream",
          "text": [
            "Epoch 1/1\n",
            "\r1/1 [==============================] - 0s 190ms/step - loss: 4481.5283 - accuracy: 0.0000e+00\n",
            "Epoch 1/1\n",
            "1/1 [==============================] - 0s 213ms/step - loss: 0.3297 - accuracy: 1.0000\n",
            "Epoch 1/1\n",
            "1/1 [==============================] - 0s 236ms/step - loss: 0.3106 - accuracy: 1.0000\n"
          ],
          "name": "stdout"
        },
        {
          "output_type": "stream",
          "text": [
            "\r 21%|██        | 105/500 [06:12<30:20,  4.61s/it]"
          ],
          "name": "stderr"
        },
        {
          "output_type": "stream",
          "text": [
            "Epoch 1/1\n",
            "1/1 [==============================] - 0s 240ms/step - loss: 7303.1147 - accuracy: 0.0000e+00\n",
            "Epoch 1/1\n",
            "1/1 [==============================] - 0s 216ms/step - loss: 43253.4180 - accuracy: 0.0000e+00\n",
            "Epoch 1/1\n",
            "1/1 [==============================] - 0s 200ms/step - loss: 15927.2314 - accuracy: 0.0000e+00\n"
          ],
          "name": "stdout"
        },
        {
          "output_type": "stream",
          "text": [
            "\r 21%|██        | 106/500 [06:17<30:06,  4.59s/it]"
          ],
          "name": "stderr"
        },
        {
          "output_type": "stream",
          "text": [
            "Epoch 1/1\n",
            "1/1 [==============================] - 0s 211ms/step - loss: 0.3130 - accuracy: 1.0000\n",
            "Epoch 1/1\n",
            "1/1 [==============================] - 0s 188ms/step - loss: 0.3117 - accuracy: 1.0000\n",
            "Epoch 1/1\n",
            "1/1 [==============================] - 0s 177ms/step - loss: 0.3086 - accuracy: 1.0000\n"
          ],
          "name": "stdout"
        },
        {
          "output_type": "stream",
          "text": [
            "\r 21%|██▏       | 107/500 [06:21<29:27,  4.50s/it]"
          ],
          "name": "stderr"
        },
        {
          "output_type": "stream",
          "text": [
            "Epoch 1/1\n",
            "1/1 [==============================] - 0s 179ms/step - loss: 0.3148 - accuracy: 1.0000\n",
            "Epoch 1/1\n",
            "1/1 [==============================] - 0s 186ms/step - loss: 0.3064 - accuracy: 1.0000\n",
            "Epoch 1/1\n",
            "1/1 [==============================] - 0s 182ms/step - loss: 0.3006 - accuracy: 1.0000\n"
          ],
          "name": "stdout"
        },
        {
          "output_type": "stream",
          "text": [
            "\r 22%|██▏       | 108/500 [06:26<29:28,  4.51s/it]"
          ],
          "name": "stderr"
        },
        {
          "output_type": "stream",
          "text": [
            "Epoch 1/1\n",
            "1/1 [==============================] - 0s 177ms/step - loss: 5142.2915 - accuracy: 0.0000e+00\n",
            "Epoch 1/1\n",
            "1/1 [==============================] - 0s 169ms/step - loss: 0.3009 - accuracy: 1.0000\n",
            "Epoch 1/1\n",
            "1/1 [==============================] - 0s 160ms/step - loss: 0.3330 - accuracy: 1.0000\n"
          ],
          "name": "stdout"
        },
        {
          "output_type": "stream",
          "text": [
            "\r 22%|██▏       | 109/500 [06:30<29:29,  4.52s/it]"
          ],
          "name": "stderr"
        },
        {
          "output_type": "stream",
          "text": [
            "Epoch 1/1\n",
            "1/1 [==============================] - 0s 176ms/step - loss: 202.7785 - accuracy: 0.0000e+00\n",
            "Epoch 1/1\n",
            "1/1 [==============================] - 0s 164ms/step - loss: 0.2982 - accuracy: 1.0000\n",
            "Epoch 1/1\n",
            "1/1 [==============================] - 0s 163ms/step - loss: 0.2981 - accuracy: 1.0000\n"
          ],
          "name": "stdout"
        },
        {
          "output_type": "stream",
          "text": [
            "\r 22%|██▏       | 110/500 [06:35<29:22,  4.52s/it]"
          ],
          "name": "stderr"
        },
        {
          "output_type": "stream",
          "text": [
            "Epoch 1/1\n",
            "1/1 [==============================] - 0s 161ms/step - loss: 10041.7900 - accuracy: 0.0000e+00\n",
            "Epoch 1/1\n",
            "1/1 [==============================] - 0s 197ms/step - loss: 0.3081 - accuracy: 1.0000\n",
            "Epoch 1/1\n",
            "1/1 [==============================] - 0s 182ms/step - loss: 0.3147 - accuracy: 1.0000\n"
          ],
          "name": "stdout"
        },
        {
          "output_type": "stream",
          "text": [
            "\r 22%|██▏       | 111/500 [06:40<31:18,  4.83s/it]"
          ],
          "name": "stderr"
        },
        {
          "output_type": "stream",
          "text": [
            "Epoch 1/1\n",
            "1/1 [==============================] - 0s 187ms/step - loss: 0.3195 - accuracy: 1.0000\n",
            "Epoch 1/1\n",
            "1/1 [==============================] - 0s 182ms/step - loss: 0.3070 - accuracy: 1.0000\n",
            "Epoch 1/1\n",
            "1/1 [==============================] - 0s 196ms/step - loss: 23942.9688 - accuracy: 0.0000e+00\n"
          ],
          "name": "stdout"
        },
        {
          "output_type": "stream",
          "text": [
            "\r 22%|██▏       | 112/500 [06:45<30:34,  4.73s/it]"
          ],
          "name": "stderr"
        },
        {
          "output_type": "stream",
          "text": [
            "Epoch 1/1\n",
            "1/1 [==============================] - 0s 232ms/step - loss: 0.3211 - accuracy: 1.0000\n",
            "Epoch 1/1\n",
            "1/1 [==============================] - 0s 222ms/step - loss: 13089.4365 - accuracy: 0.0000e+00\n",
            "Epoch 1/1\n",
            "1/1 [==============================] - 0s 231ms/step - loss: 4502.6343 - accuracy: 0.0000e+00\n"
          ],
          "name": "stdout"
        },
        {
          "output_type": "stream",
          "text": [
            "\r 23%|██▎       | 113/500 [06:49<30:26,  4.72s/it]"
          ],
          "name": "stderr"
        },
        {
          "output_type": "stream",
          "text": [
            "Epoch 1/1\n",
            "1/1 [==============================] - 0s 221ms/step - loss: 0.3104 - accuracy: 1.0000\n",
            "Epoch 1/1\n",
            "1/1 [==============================] - 0s 201ms/step - loss: 2100.6067 - accuracy: 0.0000e+00\n",
            "Epoch 1/1\n",
            "1/1 [==============================] - 0s 189ms/step - loss: 2249.2759 - accuracy: 0.0000e+00\n"
          ],
          "name": "stdout"
        },
        {
          "output_type": "stream",
          "text": [
            "\r 23%|██▎       | 114/500 [06:54<30:07,  4.68s/it]"
          ],
          "name": "stderr"
        },
        {
          "output_type": "stream",
          "text": [
            "Epoch 1/1\n",
            "1/1 [==============================] - 0s 190ms/step - loss: 636.2483 - accuracy: 0.0000e+00\n",
            "Epoch 1/1\n",
            "1/1 [==============================] - 0s 185ms/step - loss: 0.2923 - accuracy: 1.0000\n",
            "Epoch 1/1\n",
            "1/1 [==============================] - 0s 180ms/step - loss: 0.3266 - accuracy: 1.0000\n"
          ],
          "name": "stdout"
        },
        {
          "output_type": "stream",
          "text": [
            "\r 23%|██▎       | 115/500 [06:59<29:57,  4.67s/it]"
          ],
          "name": "stderr"
        },
        {
          "output_type": "stream",
          "text": [
            "Epoch 1/1\n",
            "1/1 [==============================] - 0s 179ms/step - loss: 1201.2312 - accuracy: 0.0000e+00\n",
            "Epoch 1/1\n",
            "1/1 [==============================] - 0s 182ms/step - loss: 0.3020 - accuracy: 1.0000\n",
            "Epoch 1/1\n",
            "1/1 [==============================] - 0s 158ms/step - loss: 0.3127 - accuracy: 1.0000\n"
          ],
          "name": "stdout"
        },
        {
          "output_type": "stream",
          "text": [
            "\r 23%|██▎       | 116/500 [07:03<29:52,  4.67s/it]"
          ],
          "name": "stderr"
        },
        {
          "output_type": "stream",
          "text": [
            "Epoch 1/1\n",
            "1/1 [==============================] - 0s 170ms/step - loss: 4575.4883 - accuracy: 0.0000e+00\n",
            "Epoch 1/1\n",
            "1/1 [==============================] - 0s 161ms/step - loss: 440.5147 - accuracy: 0.0000e+00\n",
            "Epoch 1/1\n",
            "1/1 [==============================] - 0s 167ms/step - loss: 24809.0996 - accuracy: 0.0000e+00\n"
          ],
          "name": "stdout"
        },
        {
          "output_type": "stream",
          "text": [
            "\r 23%|██▎       | 117/500 [07:08<29:31,  4.62s/it]"
          ],
          "name": "stderr"
        },
        {
          "output_type": "stream",
          "text": [
            "Epoch 1/1\n",
            "\r1/1 [==============================] - 0s 160ms/step - loss: 0.3324 - accuracy: 1.0000\n",
            "Epoch 1/1\n",
            "1/1 [==============================] - 0s 217ms/step - loss: 4160.7061 - accuracy: 0.0000e+00\n",
            "Epoch 1/1\n",
            "1/1 [==============================] - 0s 186ms/step - loss: 28094.8574 - accuracy: 0.0000e+00\n"
          ],
          "name": "stdout"
        },
        {
          "output_type": "stream",
          "text": [
            "\r 24%|██▎       | 118/500 [07:14<31:45,  4.99s/it]"
          ],
          "name": "stderr"
        },
        {
          "output_type": "stream",
          "text": [
            "Epoch 1/1\n",
            "1/1 [==============================] - 0s 182ms/step - loss: 0.3204 - accuracy: 1.0000\n",
            "Epoch 1/1\n",
            "1/1 [==============================] - 0s 192ms/step - loss: 6123.3779 - accuracy: 0.0000e+00\n",
            "Epoch 1/1\n",
            "1/1 [==============================] - 0s 201ms/step - loss: 13598.5283 - accuracy: 0.0000e+00\n"
          ],
          "name": "stdout"
        },
        {
          "output_type": "stream",
          "text": [
            "\r 24%|██▍       | 119/500 [07:18<30:39,  4.83s/it]"
          ],
          "name": "stderr"
        },
        {
          "output_type": "stream",
          "text": [
            "Epoch 1/1\n",
            "1/1 [==============================] - 0s 213ms/step - loss: 0.3011 - accuracy: 1.0000\n",
            "Epoch 1/1\n",
            "1/1 [==============================] - 0s 234ms/step - loss: 0.3210 - accuracy: 1.0000\n",
            "Epoch 1/1\n",
            "1/1 [==============================] - 0s 233ms/step - loss: 0.2918 - accuracy: 1.0000\n"
          ],
          "name": "stdout"
        },
        {
          "output_type": "stream",
          "text": [
            "\r 24%|██▍       | 120/500 [07:23<30:14,  4.78s/it]"
          ],
          "name": "stderr"
        },
        {
          "output_type": "stream",
          "text": [
            "Epoch 1/1\n",
            "1/1 [==============================] - 0s 219ms/step - loss: 0.3118 - accuracy: 1.0000\n",
            "Epoch 1/1\n",
            "1/1 [==============================] - 0s 196ms/step - loss: 0.2979 - accuracy: 1.0000\n",
            "Epoch 1/1\n",
            "1/1 [==============================] - 0s 183ms/step - loss: 7414.2368 - accuracy: 0.0000e+00\n"
          ],
          "name": "stdout"
        },
        {
          "output_type": "stream",
          "text": [
            "\r 24%|██▍       | 121/500 [07:27<29:56,  4.74s/it]"
          ],
          "name": "stderr"
        },
        {
          "output_type": "stream",
          "text": [
            "Epoch 1/1\n",
            "1/1 [==============================] - 0s 201ms/step - loss: 5108.4263 - accuracy: 0.0000e+00\n",
            "Epoch 1/1\n",
            "1/1 [==============================] - 0s 175ms/step - loss: 0.3103 - accuracy: 1.0000\n",
            "Epoch 1/1\n",
            "1/1 [==============================] - 0s 173ms/step - loss: 0.3039 - accuracy: 1.0000\n"
          ],
          "name": "stdout"
        },
        {
          "output_type": "stream",
          "text": [
            "\r 24%|██▍       | 122/500 [07:32<29:42,  4.72s/it]"
          ],
          "name": "stderr"
        },
        {
          "output_type": "stream",
          "text": [
            "Epoch 1/1\n",
            "1/1 [==============================] - 0s 178ms/step - loss: 2707.7537 - accuracy: 0.0000e+00\n",
            "Epoch 1/1\n",
            "1/1 [==============================] - 0s 177ms/step - loss: 0.3191 - accuracy: 1.0000\n",
            "Epoch 1/1\n",
            "1/1 [==============================] - 0s 171ms/step - loss: 0.3257 - accuracy: 1.0000\n"
          ],
          "name": "stdout"
        },
        {
          "output_type": "stream",
          "text": [
            "\r 25%|██▍       | 123/500 [07:37<29:32,  4.70s/it]"
          ],
          "name": "stderr"
        },
        {
          "output_type": "stream",
          "text": [
            "Epoch 1/1\n",
            "1/1 [==============================] - 0s 162ms/step - loss: 0.3059 - accuracy: 1.0000\n",
            "Epoch 1/1\n",
            "1/1 [==============================] - 0s 158ms/step - loss: 2054.5125 - accuracy: 0.0000e+00\n",
            "Epoch 1/1\n",
            "1/1 [==============================] - 0s 163ms/step - loss: 0.3044 - accuracy: 1.0000\n"
          ],
          "name": "stdout"
        },
        {
          "output_type": "stream",
          "text": [
            "\r 25%|██▍       | 124/500 [07:41<29:09,  4.65s/it]"
          ],
          "name": "stderr"
        },
        {
          "output_type": "stream",
          "text": [
            "Epoch 1/1\n",
            "1/1 [==============================] - 0s 162ms/step - loss: 1779.5413 - accuracy: 0.0000e+00\n",
            "Epoch 1/1\n",
            "1/1 [==============================] - 0s 165ms/step - loss: 6709.4287 - accuracy: 0.0000e+00\n",
            "Epoch 1/1\n",
            "1/1 [==============================] - 0s 223ms/step - loss: 2426.5127 - accuracy: 0.0000e+00\n"
          ],
          "name": "stdout"
        },
        {
          "output_type": "stream",
          "text": [
            "\r 25%|██▌       | 125/500 [07:47<31:16,  5.00s/it]"
          ],
          "name": "stderr"
        },
        {
          "output_type": "stream",
          "text": [
            "Epoch 1/1\n",
            "1/1 [==============================] - 0s 212ms/step - loss: 0.3323 - accuracy: 1.0000\n",
            "Epoch 1/1\n",
            "1/1 [==============================] - 0s 221ms/step - loss: 16742.4277 - accuracy: 0.0000e+00\n",
            "Epoch 1/1\n",
            "1/1 [==============================] - 0s 196ms/step - loss: 0.3105 - accuracy: 1.0000\n"
          ],
          "name": "stdout"
        },
        {
          "output_type": "stream",
          "text": [
            "\r 25%|██▌       | 126/500 [07:52<30:44,  4.93s/it]"
          ],
          "name": "stderr"
        },
        {
          "output_type": "stream",
          "text": [
            "Epoch 1/1\n",
            "1/1 [==============================] - 0s 206ms/step - loss: 0.3211 - accuracy: 1.0000\n",
            "Epoch 1/1\n",
            "1/1 [==============================] - 0s 210ms/step - loss: 2095.2678 - accuracy: 0.0000e+00\n",
            "Epoch 1/1\n",
            "1/1 [==============================] - 0s 230ms/step - loss: 0.3061 - accuracy: 1.0000\n"
          ],
          "name": "stdout"
        },
        {
          "output_type": "stream",
          "text": [
            "\r 25%|██▌       | 127/500 [07:57<30:33,  4.92s/it]"
          ],
          "name": "stderr"
        },
        {
          "output_type": "stream",
          "text": [
            "Epoch 1/1\n",
            "1/1 [==============================] - 0s 257ms/step - loss: 606.8482 - accuracy: 0.0000e+00\n",
            "Epoch 1/1\n",
            "1/1 [==============================] - 0s 201ms/step - loss: 3841.5129 - accuracy: 0.0000e+00\n",
            "Epoch 1/1\n",
            "1/1 [==============================] - 0s 215ms/step - loss: 0.3135 - accuracy: 1.0000\n"
          ],
          "name": "stdout"
        },
        {
          "output_type": "stream",
          "text": [
            "\r 26%|██▌       | 128/500 [08:02<30:28,  4.92s/it]"
          ],
          "name": "stderr"
        },
        {
          "output_type": "stream",
          "text": [
            "Epoch 1/1\n",
            "1/1 [==============================] - 0s 186ms/step - loss: 0.3086 - accuracy: 1.0000\n",
            "Epoch 1/1\n",
            "1/1 [==============================] - 0s 186ms/step - loss: 0.3119 - accuracy: 1.0000\n",
            "Epoch 1/1\n",
            "1/1 [==============================] - 0s 191ms/step - loss: 12438.8262 - accuracy: 0.0000e+00\n"
          ],
          "name": "stdout"
        },
        {
          "output_type": "stream",
          "text": [
            "\r 26%|██▌       | 129/500 [08:06<30:15,  4.89s/it]"
          ],
          "name": "stderr"
        },
        {
          "output_type": "stream",
          "text": [
            "Epoch 1/1\n",
            "1/1 [==============================] - 0s 187ms/step - loss: 0.3026 - accuracy: 1.0000\n",
            "Epoch 1/1\n",
            "1/1 [==============================] - 0s 181ms/step - loss: 18321.0801 - accuracy: 0.0000e+00\n",
            "Epoch 1/1\n",
            "1/1 [==============================] - 0s 172ms/step - loss: 0.3095 - accuracy: 1.0000\n"
          ],
          "name": "stdout"
        },
        {
          "output_type": "stream",
          "text": [
            "\r 26%|██▌       | 130/500 [08:11<30:13,  4.90s/it]"
          ],
          "name": "stderr"
        },
        {
          "output_type": "stream",
          "text": [
            "Epoch 1/1\n",
            "1/1 [==============================] - 0s 167ms/step - loss: 12288.0713 - accuracy: 0.0000e+00\n",
            "Epoch 1/1\n",
            "1/1 [==============================] - 0s 169ms/step - loss: 5003.5962 - accuracy: 0.0000e+00\n",
            "Epoch 1/1\n",
            "1/1 [==============================] - 0s 159ms/step - loss: 43261.3086 - accuracy: 0.0000e+00\n"
          ],
          "name": "stdout"
        },
        {
          "output_type": "stream",
          "text": [
            "\r 26%|██▌       | 131/500 [08:16<29:55,  4.86s/it]"
          ],
          "name": "stderr"
        },
        {
          "output_type": "stream",
          "text": [
            "Epoch 1/1\n",
            "1/1 [==============================] - 0s 167ms/step - loss: 0.3111 - accuracy: 1.0000\n",
            "Epoch 1/1\n",
            "1/1 [==============================] - 0s 161ms/step - loss: 33066.8320 - accuracy: 0.0000e+00\n",
            "Epoch 1/1\n",
            "1/1 [==============================] - 0s 196ms/step - loss: 17139.7012 - accuracy: 0.0000e+00\n"
          ],
          "name": "stdout"
        },
        {
          "output_type": "stream",
          "text": [
            "\r 26%|██▋       | 132/500 [08:22<32:03,  5.23s/it]"
          ],
          "name": "stderr"
        },
        {
          "output_type": "stream",
          "text": [
            "Epoch 1/1\n",
            "1/1 [==============================] - 0s 186ms/step - loss: 0.3109 - accuracy: 1.0000\n",
            "Epoch 1/1\n",
            "1/1 [==============================] - 0s 172ms/step - loss: 0.3064 - accuracy: 1.0000\n",
            "Epoch 1/1\n",
            "1/1 [==============================] - 0s 176ms/step - loss: 0.3252 - accuracy: 1.0000\n"
          ],
          "name": "stdout"
        },
        {
          "output_type": "stream",
          "text": [
            "\r 27%|██▋       | 133/500 [08:26<30:08,  4.93s/it]"
          ],
          "name": "stderr"
        },
        {
          "output_type": "stream",
          "text": [
            "Epoch 1/1\n",
            "1/1 [==============================] - 0s 175ms/step - loss: 6927.0898 - accuracy: 0.0000e+00\n",
            "Epoch 1/1\n",
            "1/1 [==============================] - 0s 199ms/step - loss: 0.3082 - accuracy: 1.0000\n",
            "Epoch 1/1\n",
            "1/1 [==============================] - 0s 212ms/step - loss: 0.3035 - accuracy: 1.0000\n"
          ],
          "name": "stdout"
        },
        {
          "output_type": "stream",
          "text": [
            "\r 27%|██▋       | 134/500 [08:30<28:01,  4.59s/it]"
          ],
          "name": "stderr"
        },
        {
          "output_type": "stream",
          "text": [
            "Epoch 1/1\n",
            "1/1 [==============================] - 0s 194ms/step - loss: 7481.5703 - accuracy: 0.0000e+00\n",
            "Epoch 1/1\n",
            "1/1 [==============================] - 0s 200ms/step - loss: 0.3177 - accuracy: 1.0000\n",
            "Epoch 1/1\n",
            "1/1 [==============================] - 0s 172ms/step - loss: 6144.4624 - accuracy: 0.0000e+00\n"
          ],
          "name": "stdout"
        },
        {
          "output_type": "stream",
          "text": [
            "\r 27%|██▋       | 135/500 [08:34<26:30,  4.36s/it]"
          ],
          "name": "stderr"
        },
        {
          "output_type": "stream",
          "text": [
            "Epoch 1/1\n",
            "1/1 [==============================] - 0s 171ms/step - loss: 0.3198 - accuracy: 1.0000\n",
            "Epoch 1/1\n",
            "1/1 [==============================] - 0s 183ms/step - loss: 0.2996 - accuracy: 1.0000\n",
            "Epoch 1/1\n",
            "1/1 [==============================] - 0s 155ms/step - loss: 0.3234 - accuracy: 1.0000\n"
          ],
          "name": "stdout"
        },
        {
          "output_type": "stream",
          "text": [
            "\r 27%|██▋       | 136/500 [08:38<25:23,  4.19s/it]"
          ],
          "name": "stderr"
        },
        {
          "output_type": "stream",
          "text": [
            "Epoch 1/1\n",
            "1/1 [==============================] - 0s 161ms/step - loss: 0.3174 - accuracy: 1.0000\n",
            "Epoch 1/1\n",
            "1/1 [==============================] - 0s 168ms/step - loss: 10226.8379 - accuracy: 0.0000e+00\n",
            "Epoch 1/1\n",
            "1/1 [==============================] - 0s 160ms/step - loss: 14092.3311 - accuracy: 0.0000e+00\n"
          ],
          "name": "stdout"
        },
        {
          "output_type": "stream",
          "text": [
            "\r 27%|██▋       | 137/500 [08:42<24:32,  4.06s/it]"
          ],
          "name": "stderr"
        },
        {
          "output_type": "stream",
          "text": [
            "Epoch 1/1\n",
            "1/1 [==============================] - 0s 148ms/step - loss: 19759.7129 - accuracy: 0.0000e+00\n",
            "Epoch 1/1\n",
            "1/1 [==============================] - 0s 154ms/step - loss: 0.3001 - accuracy: 1.0000\n",
            "Epoch 1/1\n",
            "1/1 [==============================] - 0s 148ms/step - loss: 15343.6230 - accuracy: 0.0000e+00\n"
          ],
          "name": "stdout"
        },
        {
          "output_type": "stream",
          "text": [
            "\r 28%|██▊       | 138/500 [08:45<23:52,  3.96s/it]"
          ],
          "name": "stderr"
        },
        {
          "output_type": "stream",
          "text": [
            "Epoch 1/1\n",
            "1/1 [==============================] - 0s 147ms/step - loss: 333.4391 - accuracy: 0.0000e+00\n",
            "Epoch 1/1\n",
            "1/1 [==============================] - 0s 146ms/step - loss: 0.3077 - accuracy: 1.0000\n",
            "Epoch 1/1\n",
            "1/1 [==============================] - 0s 145ms/step - loss: 1415.8752 - accuracy: 0.0000e+00\n"
          ],
          "name": "stdout"
        },
        {
          "output_type": "stream",
          "text": [
            "\r 28%|██▊       | 139/500 [08:49<23:25,  3.89s/it]"
          ],
          "name": "stderr"
        },
        {
          "output_type": "stream",
          "text": [
            "Epoch 1/1\n",
            "1/1 [==============================] - 0s 182ms/step - loss: 0.3062 - accuracy: 1.0000\n",
            "Epoch 1/1\n",
            "1/1 [==============================] - 0s 187ms/step - loss: 1056.2556 - accuracy: 0.0000e+00\n",
            "Epoch 1/1\n",
            "1/1 [==============================] - 0s 163ms/step - loss: 0.3152 - accuracy: 1.0000\n"
          ],
          "name": "stdout"
        },
        {
          "output_type": "stream",
          "text": [
            "\r 28%|██▊       | 140/500 [08:54<25:37,  4.27s/it]"
          ],
          "name": "stderr"
        },
        {
          "output_type": "stream",
          "text": [
            "Epoch 1/1\n",
            "1/1 [==============================] - 0s 165ms/step - loss: 0.3021 - accuracy: 1.0000\n",
            "Epoch 1/1\n",
            "1/1 [==============================] - 0s 168ms/step - loss: 24544.8633 - accuracy: 0.0000e+00\n",
            "Epoch 1/1\n",
            "1/1 [==============================] - 0s 176ms/step - loss: 0.3073 - accuracy: 1.0000\n"
          ],
          "name": "stdout"
        },
        {
          "output_type": "stream",
          "text": [
            "\r 28%|██▊       | 141/500 [08:58<24:56,  4.17s/it]"
          ],
          "name": "stderr"
        },
        {
          "output_type": "stream",
          "text": [
            "Epoch 1/1\n",
            "1/1 [==============================] - 0s 180ms/step - loss: 0.3206 - accuracy: 1.0000\n",
            "Epoch 1/1\n",
            "1/1 [==============================] - 0s 189ms/step - loss: 0.3007 - accuracy: 1.0000\n",
            "Epoch 1/1\n",
            "1/1 [==============================] - 0s 191ms/step - loss: 6098.8486 - accuracy: 0.0000e+00\n"
          ],
          "name": "stdout"
        },
        {
          "output_type": "stream",
          "text": [
            "\r 28%|██▊       | 142/500 [09:02<24:25,  4.09s/it]"
          ],
          "name": "stderr"
        },
        {
          "output_type": "stream",
          "text": [
            "Epoch 1/1\n",
            "1/1 [==============================] - 0s 198ms/step - loss: 0.2950 - accuracy: 1.0000\n",
            "Epoch 1/1\n",
            "1/1 [==============================] - 0s 171ms/step - loss: 3746.8210 - accuracy: 0.0000e+00\n",
            "Epoch 1/1\n",
            "1/1 [==============================] - 0s 196ms/step - loss: 19777.3574 - accuracy: 0.0000e+00\n"
          ],
          "name": "stdout"
        },
        {
          "output_type": "stream",
          "text": [
            "\r 29%|██▊       | 143/500 [09:06<23:59,  4.03s/it]"
          ],
          "name": "stderr"
        },
        {
          "output_type": "stream",
          "text": [
            "Epoch 1/1\n",
            "1/1 [==============================] - 0s 166ms/step - loss: 0.3131 - accuracy: 1.0000\n",
            "Epoch 1/1\n",
            "1/1 [==============================] - 0s 159ms/step - loss: 4964.3042 - accuracy: 0.0000e+00\n",
            "Epoch 1/1\n",
            "1/1 [==============================] - 0s 159ms/step - loss: 2597.6909 - accuracy: 0.0000e+00\n"
          ],
          "name": "stdout"
        },
        {
          "output_type": "stream",
          "text": [
            "\r 29%|██▉       | 144/500 [09:10<23:40,  3.99s/it]"
          ],
          "name": "stderr"
        },
        {
          "output_type": "stream",
          "text": [
            "Epoch 1/1\n",
            "1/1 [==============================] - 0s 159ms/step - loss: 10453.7266 - accuracy: 0.0000e+00\n",
            "Epoch 1/1\n",
            "1/1 [==============================] - 0s 164ms/step - loss: 0.3048 - accuracy: 1.0000\n",
            "Epoch 1/1\n",
            "1/1 [==============================] - 0s 153ms/step - loss: 0.3078 - accuracy: 1.0000\n"
          ],
          "name": "stdout"
        },
        {
          "output_type": "stream",
          "text": [
            "\r 29%|██▉       | 145/500 [09:14<23:34,  3.98s/it]"
          ],
          "name": "stderr"
        },
        {
          "output_type": "stream",
          "text": [
            "Epoch 1/1\n",
            "1/1 [==============================] - 0s 148ms/step - loss: 10787.5312 - accuracy: 0.0000e+00\n",
            "Epoch 1/1\n",
            "1/1 [==============================] - 0s 156ms/step - loss: 7179.4565 - accuracy: 0.0000e+00\n",
            "Epoch 1/1\n",
            "1/1 [==============================] - 0s 146ms/step - loss: 0.2992 - accuracy: 1.0000\n"
          ],
          "name": "stdout"
        },
        {
          "output_type": "stream",
          "text": [
            "\r 29%|██▉       | 146/500 [09:18<23:30,  3.98s/it]"
          ],
          "name": "stderr"
        },
        {
          "output_type": "stream",
          "text": [
            "Epoch 1/1\n",
            "1/1 [==============================] - 0s 147ms/step - loss: 1925.6753 - accuracy: 0.0000e+00\n",
            "Epoch 1/1\n",
            "1/1 [==============================] - 0s 150ms/step - loss: 1551.8162 - accuracy: 0.0000e+00\n",
            "Epoch 1/1\n",
            "1/1 [==============================] - 0s 173ms/step - loss: 0.3167 - accuracy: 1.0000\n"
          ],
          "name": "stdout"
        },
        {
          "output_type": "stream",
          "text": [
            "\r 29%|██▉       | 147/500 [09:23<25:29,  4.33s/it]"
          ],
          "name": "stderr"
        },
        {
          "output_type": "stream",
          "text": [
            "Epoch 1/1\n",
            "1/1 [==============================] - 0s 169ms/step - loss: 14641.2207 - accuracy: 0.0000e+00\n",
            "Epoch 1/1\n",
            "1/1 [==============================] - 0s 169ms/step - loss: 0.3272 - accuracy: 1.0000\n",
            "Epoch 1/1\n",
            "1/1 [==============================] - 0s 172ms/step - loss: 27339.4570 - accuracy: 0.0000e+00\n"
          ],
          "name": "stdout"
        },
        {
          "output_type": "stream",
          "text": [
            "\r 30%|██▉       | 148/500 [09:27<24:48,  4.23s/it]"
          ],
          "name": "stderr"
        },
        {
          "output_type": "stream",
          "text": [
            "Epoch 1/1\n",
            "1/1 [==============================] - 0s 177ms/step - loss: 4339.2178 - accuracy: 0.0000e+00\n",
            "Epoch 1/1\n",
            "1/1 [==============================] - 0s 199ms/step - loss: 4055.4426 - accuracy: 0.0000e+00\n",
            "Epoch 1/1\n",
            "1/1 [==============================] - 0s 218ms/step - loss: 27793.2363 - accuracy: 0.0000e+00\n"
          ],
          "name": "stdout"
        },
        {
          "output_type": "stream",
          "text": [
            "\r 30%|██▉       | 149/500 [09:31<24:29,  4.19s/it]"
          ],
          "name": "stderr"
        },
        {
          "output_type": "stream",
          "text": [
            "Epoch 1/1\n",
            "1/1 [==============================] - 0s 186ms/step - loss: 550.4171 - accuracy: 0.0000e+00\n",
            "Epoch 1/1\n",
            "1/1 [==============================] - 0s 178ms/step - loss: 0.3199 - accuracy: 1.0000\n",
            "Epoch 1/1\n",
            "1/1 [==============================] - 0s 174ms/step - loss: 0.3153 - accuracy: 1.0000\n"
          ],
          "name": "stdout"
        },
        {
          "output_type": "stream",
          "text": [
            "\r 30%|███       | 150/500 [09:35<24:00,  4.12s/it]"
          ],
          "name": "stderr"
        },
        {
          "output_type": "stream",
          "text": [
            "Epoch 1/1\n",
            "1/1 [==============================] - 0s 199ms/step - loss: 4427.6948 - accuracy: 0.0000e+00\n",
            "Epoch 1/1\n",
            "1/1 [==============================] - 0s 162ms/step - loss: 10048.8057 - accuracy: 0.0000e+00\n",
            "Epoch 1/1\n",
            "1/1 [==============================] - 0s 167ms/step - loss: 0.3104 - accuracy: 1.0000\n"
          ],
          "name": "stdout"
        },
        {
          "output_type": "stream",
          "text": [
            "\r 30%|███       | 151/500 [09:39<23:45,  4.09s/it]"
          ],
          "name": "stderr"
        },
        {
          "output_type": "stream",
          "text": [
            "Epoch 1/1\n",
            "1/1 [==============================] - 0s 160ms/step - loss: 0.3073 - accuracy: 1.0000\n",
            "Epoch 1/1\n",
            "1/1 [==============================] - 0s 157ms/step - loss: 6227.0576 - accuracy: 0.0000e+00\n",
            "Epoch 1/1\n",
            "1/1 [==============================] - 0s 157ms/step - loss: 0.3113 - accuracy: 1.0000\n"
          ],
          "name": "stdout"
        },
        {
          "output_type": "stream",
          "text": [
            "\r 30%|███       | 152/500 [09:43<23:34,  4.07s/it]"
          ],
          "name": "stderr"
        },
        {
          "output_type": "stream",
          "text": [
            "Epoch 1/1\n",
            "1/1 [==============================] - 0s 155ms/step - loss: 0.3121 - accuracy: 1.0000\n",
            "Epoch 1/1\n",
            "1/1 [==============================] - 0s 177ms/step - loss: 0.3109 - accuracy: 1.0000\n",
            "Epoch 1/1\n",
            "1/1 [==============================] - 0s 159ms/step - loss: 18787.7422 - accuracy: 0.0000e+00\n"
          ],
          "name": "stdout"
        },
        {
          "output_type": "stream",
          "text": [
            "\r 31%|███       | 153/500 [09:47<23:29,  4.06s/it]"
          ],
          "name": "stderr"
        },
        {
          "output_type": "stream",
          "text": [
            "Epoch 1/1\n",
            "1/1 [==============================] - 0s 149ms/step - loss: 0.3070 - accuracy: 1.0000\n",
            "Epoch 1/1\n",
            "1/1 [==============================] - 0s 152ms/step - loss: 11667.0986 - accuracy: 0.0000e+00\n",
            "Epoch 1/1\n",
            "1/1 [==============================] - 0s 149ms/step - loss: 30424.2793 - accuracy: 0.0000e+00\n"
          ],
          "name": "stdout"
        },
        {
          "output_type": "stream",
          "text": [
            "\r 31%|███       | 154/500 [09:51<23:42,  4.11s/it]"
          ],
          "name": "stderr"
        },
        {
          "output_type": "stream",
          "text": [
            "Epoch 1/1\n",
            "1/1 [==============================] - 0s 146ms/step - loss: 0.3201 - accuracy: 1.0000\n",
            "Epoch 1/1\n",
            "1/1 [==============================] - 0s 148ms/step - loss: 13884.6416 - accuracy: 0.0000e+00\n",
            "Epoch 1/1\n",
            "1/1 [==============================] - 0s 169ms/step - loss: 26006.8086 - accuracy: 0.0000e+00\n"
          ],
          "name": "stdout"
        },
        {
          "output_type": "stream",
          "text": [
            "\r 31%|███       | 155/500 [09:57<25:54,  4.51s/it]"
          ],
          "name": "stderr"
        },
        {
          "output_type": "stream",
          "text": [
            "Epoch 1/1\n",
            "1/1 [==============================] - 0s 170ms/step - loss: 0.3186 - accuracy: 1.0000\n",
            "Epoch 1/1\n",
            "1/1 [==============================] - 0s 161ms/step - loss: 0.3045 - accuracy: 1.0000\n",
            "Epoch 1/1\n",
            "1/1 [==============================] - 0s 157ms/step - loss: 45226.4492 - accuracy: 0.0000e+00\n"
          ],
          "name": "stdout"
        },
        {
          "output_type": "stream",
          "text": [
            "\r 31%|███       | 156/500 [10:01<24:51,  4.34s/it]"
          ],
          "name": "stderr"
        },
        {
          "output_type": "stream",
          "text": [
            "Epoch 1/1\n",
            "1/1 [==============================] - 0s 164ms/step - loss: 0.3165 - accuracy: 1.0000\n",
            "Epoch 1/1\n",
            "1/1 [==============================] - 0s 173ms/step - loss: 23005.7188 - accuracy: 0.0000e+00\n",
            "Epoch 1/1\n",
            "1/1 [==============================] - 0s 177ms/step - loss: 5614.3970 - accuracy: 0.0000e+00\n"
          ],
          "name": "stdout"
        },
        {
          "output_type": "stream",
          "text": [
            "\r 31%|███▏      | 157/500 [10:05<24:21,  4.26s/it]"
          ],
          "name": "stderr"
        },
        {
          "output_type": "stream",
          "text": [
            "Epoch 1/1\n",
            "\r1/1 [==============================] - 0s 188ms/step - loss: 3385.1714 - accuracy: 0.0000e+00\n",
            "Epoch 1/1\n",
            "1/1 [==============================] - 0s 202ms/step - loss: 0.3156 - accuracy: 1.0000\n",
            "Epoch 1/1\n",
            "1/1 [==============================] - 0s 195ms/step - loss: 0.3162 - accuracy: 1.0000\n"
          ],
          "name": "stdout"
        },
        {
          "output_type": "stream",
          "text": [
            "\r 32%|███▏      | 158/500 [10:09<24:16,  4.26s/it]"
          ],
          "name": "stderr"
        },
        {
          "output_type": "stream",
          "text": [
            "Epoch 1/1\n",
            "1/1 [==============================] - 0s 192ms/step - loss: 2679.7124 - accuracy: 0.0000e+00\n",
            "Epoch 1/1\n",
            "1/1 [==============================] - 0s 173ms/step - loss: 0.3088 - accuracy: 1.0000\n",
            "Epoch 1/1\n",
            "1/1 [==============================] - 0s 176ms/step - loss: 0.3173 - accuracy: 1.0000\n"
          ],
          "name": "stdout"
        },
        {
          "output_type": "stream",
          "text": [
            "\r 32%|███▏      | 159/500 [10:13<23:49,  4.19s/it]"
          ],
          "name": "stderr"
        },
        {
          "output_type": "stream",
          "text": [
            "Epoch 1/1\n",
            "1/1 [==============================] - 0s 169ms/step - loss: 0.3090 - accuracy: 1.0000\n",
            "Epoch 1/1\n",
            "1/1 [==============================] - 0s 156ms/step - loss: 1540.9429 - accuracy: 0.0000e+00\n",
            "Epoch 1/1\n",
            "1/1 [==============================] - 0s 161ms/step - loss: 0.3060 - accuracy: 1.0000\n"
          ],
          "name": "stdout"
        },
        {
          "output_type": "stream",
          "text": [
            "\r 32%|███▏      | 160/500 [10:17<23:36,  4.17s/it]"
          ],
          "name": "stderr"
        },
        {
          "output_type": "stream",
          "text": [
            "Epoch 1/1\n",
            "1/1 [==============================] - 0s 158ms/step - loss: 13273.8818 - accuracy: 0.0000e+00\n",
            "Epoch 1/1\n",
            "1/1 [==============================] - 0s 156ms/step - loss: 0.2979 - accuracy: 1.0000\n",
            "Epoch 1/1\n",
            "1/1 [==============================] - 0s 181ms/step - loss: 7753.3403 - accuracy: 0.0000e+00\n"
          ],
          "name": "stdout"
        },
        {
          "output_type": "stream",
          "text": [
            "\r 32%|███▏      | 161/500 [10:22<23:53,  4.23s/it]"
          ],
          "name": "stderr"
        },
        {
          "output_type": "stream",
          "text": [
            "Epoch 1/1\n",
            "1/1 [==============================] - 0s 150ms/step - loss: 0.2930 - accuracy: 1.0000\n",
            "Epoch 1/1\n",
            "1/1 [==============================] - 0s 147ms/step - loss: 0.2956 - accuracy: 1.0000\n",
            "Epoch 1/1\n",
            "1/1 [==============================] - 0s 147ms/step - loss: 0.3187 - accuracy: 1.0000\n"
          ],
          "name": "stdout"
        },
        {
          "output_type": "stream",
          "text": [
            "\r 32%|███▏      | 162/500 [10:26<23:41,  4.21s/it]"
          ],
          "name": "stderr"
        },
        {
          "output_type": "stream",
          "text": [
            "Epoch 1/1\n",
            "1/1 [==============================] - 0s 178ms/step - loss: 0.2979 - accuracy: 1.0000\n",
            "Epoch 1/1\n",
            "1/1 [==============================] - 0s 173ms/step - loss: 0.3106 - accuracy: 1.0000\n",
            "Epoch 1/1\n",
            "1/1 [==============================] - 0s 169ms/step - loss: 26710.2891 - accuracy: 0.0000e+00\n"
          ],
          "name": "stdout"
        },
        {
          "output_type": "stream",
          "text": [
            "\r 33%|███▎      | 163/500 [10:31<25:51,  4.60s/it]"
          ],
          "name": "stderr"
        },
        {
          "output_type": "stream",
          "text": [
            "Epoch 1/1\n",
            "1/1 [==============================] - 0s 177ms/step - loss: 13975.4502 - accuracy: 0.0000e+00\n",
            "Epoch 1/1\n",
            "1/1 [==============================] - 0s 168ms/step - loss: 2282.9551 - accuracy: 0.0000e+00\n",
            "Epoch 1/1\n",
            "1/1 [==============================] - 0s 175ms/step - loss: 0.3106 - accuracy: 1.0000\n"
          ],
          "name": "stdout"
        },
        {
          "output_type": "stream",
          "text": [
            "\r 33%|███▎      | 164/500 [10:35<24:56,  4.45s/it]"
          ],
          "name": "stderr"
        },
        {
          "output_type": "stream",
          "text": [
            "Epoch 1/1\n",
            "\r1/1 [==============================] - 0s 194ms/step - loss: 958.5288 - accuracy: 0.0000e+00\n",
            "Epoch 1/1\n",
            "1/1 [==============================] - 0s 206ms/step - loss: 304.6945 - accuracy: 0.0000e+00\n",
            "Epoch 1/1\n",
            "1/1 [==============================] - 0s 185ms/step - loss: 0.3038 - accuracy: 1.0000\n"
          ],
          "name": "stdout"
        },
        {
          "output_type": "stream",
          "text": [
            "\r 33%|███▎      | 165/500 [10:39<24:19,  4.36s/it]"
          ],
          "name": "stderr"
        },
        {
          "output_type": "stream",
          "text": [
            "Epoch 1/1\n",
            "1/1 [==============================] - 0s 199ms/step - loss: 0.3042 - accuracy: 1.0000\n",
            "Epoch 1/1\n",
            "1/1 [==============================] - 0s 175ms/step - loss: 5799.0098 - accuracy: 0.0000e+00\n",
            "Epoch 1/1\n",
            "1/1 [==============================] - 0s 169ms/step - loss: 10334.6396 - accuracy: 0.0000e+00\n"
          ],
          "name": "stdout"
        },
        {
          "output_type": "stream",
          "text": [
            "\r 33%|███▎      | 166/500 [10:44<23:47,  4.27s/it]"
          ],
          "name": "stderr"
        },
        {
          "output_type": "stream",
          "text": [
            "Epoch 1/1\n",
            "1/1 [==============================] - 0s 160ms/step - loss: 5987.9849 - accuracy: 0.0000e+00\n",
            "Epoch 1/1\n",
            "1/1 [==============================] - 0s 156ms/step - loss: 0.3121 - accuracy: 1.0000\n",
            "Epoch 1/1\n",
            "1/1 [==============================] - 0s 155ms/step - loss: 0.3222 - accuracy: 1.0000\n"
          ],
          "name": "stdout"
        },
        {
          "output_type": "stream",
          "text": [
            "\r 33%|███▎      | 167/500 [10:48<23:28,  4.23s/it]"
          ],
          "name": "stderr"
        },
        {
          "output_type": "stream",
          "text": [
            "Epoch 1/1\n",
            "1/1 [==============================] - 0s 162ms/step - loss: 0.3063 - accuracy: 1.0000\n",
            "Epoch 1/1\n",
            "1/1 [==============================] - 0s 168ms/step - loss: 8913.0801 - accuracy: 0.0000e+00\n",
            "Epoch 1/1\n",
            "1/1 [==============================] - 0s 168ms/step - loss: 0.3040 - accuracy: 1.0000\n"
          ],
          "name": "stdout"
        },
        {
          "output_type": "stream",
          "text": [
            "\r 34%|███▎      | 168/500 [10:52<23:32,  4.26s/it]"
          ],
          "name": "stderr"
        },
        {
          "output_type": "stream",
          "text": [
            "Epoch 1/1\n",
            "1/1 [==============================] - 0s 169ms/step - loss: 5667.8071 - accuracy: 0.0000e+00\n",
            "Epoch 1/1\n",
            "1/1 [==============================] - 0s 164ms/step - loss: 30748.0508 - accuracy: 0.0000e+00\n",
            "Epoch 1/1\n",
            "1/1 [==============================] - 0s 175ms/step - loss: 13034.5244 - accuracy: 0.0000e+00\n"
          ],
          "name": "stdout"
        },
        {
          "output_type": "stream",
          "text": [
            "\r 34%|███▍      | 169/500 [10:57<24:28,  4.44s/it]"
          ],
          "name": "stderr"
        },
        {
          "output_type": "stream",
          "text": [
            "Epoch 1/1\n",
            "1/1 [==============================] - 0s 182ms/step - loss: 0.3042 - accuracy: 1.0000\n",
            "Epoch 1/1\n",
            "1/1 [==============================] - 0s 149ms/step - loss: 0.3031 - accuracy: 1.0000\n",
            "Epoch 1/1\n",
            "1/1 [==============================] - 0s 151ms/step - loss: 0.3061 - accuracy: 1.0000\n"
          ],
          "name": "stdout"
        },
        {
          "output_type": "stream",
          "text": [
            "\r 34%|███▍      | 170/500 [11:03<27:24,  4.98s/it]"
          ],
          "name": "stderr"
        },
        {
          "output_type": "stream",
          "text": [
            "Epoch 1/1\n",
            "1/1 [==============================] - 0s 177ms/step - loss: 0.3309 - accuracy: 1.0000\n",
            "Epoch 1/1\n",
            "1/1 [==============================] - 0s 163ms/step - loss: 464.0598 - accuracy: 0.0000e+00\n",
            "Epoch 1/1\n",
            "1/1 [==============================] - 0s 162ms/step - loss: 6420.6284 - accuracy: 0.0000e+00\n"
          ],
          "name": "stdout"
        },
        {
          "output_type": "stream",
          "text": [
            "\r 34%|███▍      | 171/500 [11:07<26:07,  4.76s/it]"
          ],
          "name": "stderr"
        },
        {
          "output_type": "stream",
          "text": [
            "Epoch 1/1\n",
            "1/1 [==============================] - 0s 166ms/step - loss: 14513.8115 - accuracy: 0.0000e+00\n",
            "Epoch 1/1\n",
            "1/1 [==============================] - 0s 177ms/step - loss: 12296.2754 - accuracy: 0.0000e+00\n",
            "Epoch 1/1\n",
            "1/1 [==============================] - 0s 208ms/step - loss: 25926.7246 - accuracy: 0.0000e+00\n"
          ],
          "name": "stdout"
        },
        {
          "output_type": "stream",
          "text": [
            "\r 34%|███▍      | 172/500 [11:12<25:21,  4.64s/it]"
          ],
          "name": "stderr"
        },
        {
          "output_type": "stream",
          "text": [
            "Epoch 1/1\n",
            "\r1/1 [==============================] - 0s 191ms/step - loss: 0.2993 - accuracy: 1.0000\n",
            "Epoch 1/1\n",
            "1/1 [==============================] - 0s 222ms/step - loss: 0.3064 - accuracy: 1.0000\n",
            "Epoch 1/1\n",
            "1/1 [==============================] - 0s 193ms/step - loss: 0.2934 - accuracy: 1.0000\n"
          ],
          "name": "stdout"
        },
        {
          "output_type": "stream",
          "text": [
            "\r 35%|███▍      | 173/500 [11:16<24:47,  4.55s/it]"
          ],
          "name": "stderr"
        },
        {
          "output_type": "stream",
          "text": [
            "Epoch 1/1\n",
            "1/1 [==============================] - 0s 192ms/step - loss: 9246.8760 - accuracy: 0.0000e+00\n",
            "Epoch 1/1\n",
            "1/1 [==============================] - 0s 176ms/step - loss: 0.3186 - accuracy: 1.0000\n",
            "Epoch 1/1\n",
            "1/1 [==============================] - 0s 174ms/step - loss: 0.3105 - accuracy: 1.0000\n"
          ],
          "name": "stdout"
        },
        {
          "output_type": "stream",
          "text": [
            "\r 35%|███▍      | 174/500 [11:20<24:18,  4.47s/it]"
          ],
          "name": "stderr"
        },
        {
          "output_type": "stream",
          "text": [
            "Epoch 1/1\n",
            "1/1 [==============================] - 0s 159ms/step - loss: 8044.7656 - accuracy: 0.0000e+00\n",
            "Epoch 1/1\n",
            "1/1 [==============================] - 0s 158ms/step - loss: 10923.6338 - accuracy: 0.0000e+00\n",
            "Epoch 1/1\n",
            "1/1 [==============================] - 0s 157ms/step - loss: 6814.0723 - accuracy: 0.0000e+00\n"
          ],
          "name": "stdout"
        },
        {
          "output_type": "stream",
          "text": [
            "\r 35%|███▌      | 175/500 [11:25<23:44,  4.38s/it]"
          ],
          "name": "stderr"
        },
        {
          "output_type": "stream",
          "text": [
            "Epoch 1/1\n",
            "1/1 [==============================] - 0s 156ms/step - loss: 1704.2322 - accuracy: 0.0000e+00\n",
            "Epoch 1/1\n",
            "1/1 [==============================] - 0s 169ms/step - loss: 21020.9141 - accuracy: 0.0000e+00\n",
            "Epoch 1/1\n",
            "1/1 [==============================] - 0s 152ms/step - loss: 2638.6855 - accuracy: 0.0000e+00\n"
          ],
          "name": "stdout"
        },
        {
          "output_type": "stream",
          "text": [
            "\r 35%|███▌      | 176/500 [11:29<23:48,  4.41s/it]"
          ],
          "name": "stderr"
        },
        {
          "output_type": "stream",
          "text": [
            "Epoch 1/1\n",
            "1/1 [==============================] - 0s 157ms/step - loss: 9929.7559 - accuracy: 0.0000e+00\n",
            "Epoch 1/1\n",
            "1/1 [==============================] - 0s 147ms/step - loss: 12732.6064 - accuracy: 0.0000e+00\n",
            "Epoch 1/1\n",
            "1/1 [==============================] - 0s 148ms/step - loss: 7187.7793 - accuracy: 0.0000e+00\n"
          ],
          "name": "stdout"
        },
        {
          "output_type": "stream",
          "text": [
            "\r 35%|███▌      | 177/500 [11:33<23:25,  4.35s/it]"
          ],
          "name": "stderr"
        },
        {
          "output_type": "stream",
          "text": [
            "Epoch 1/1\n",
            "1/1 [==============================] - 0s 148ms/step - loss: 388.9447 - accuracy: 0.0000e+00\n",
            "Epoch 1/1\n",
            "1/1 [==============================] - 0s 179ms/step - loss: 0.3129 - accuracy: 1.0000\n",
            "Epoch 1/1\n",
            "1/1 [==============================] - 0s 167ms/step - loss: 0.3069 - accuracy: 1.0000\n"
          ],
          "name": "stdout"
        },
        {
          "output_type": "stream",
          "text": [
            "\r 36%|███▌      | 178/500 [11:39<25:35,  4.77s/it]"
          ],
          "name": "stderr"
        },
        {
          "output_type": "stream",
          "text": [
            "Epoch 1/1\n",
            "1/1 [==============================] - 0s 167ms/step - loss: 0.3066 - accuracy: 1.0000\n",
            "Epoch 1/1\n",
            "1/1 [==============================] - 0s 168ms/step - loss: 0.3298 - accuracy: 1.0000\n",
            "Epoch 1/1\n",
            "1/1 [==============================] - 0s 174ms/step - loss: 9213.2676 - accuracy: 0.0000e+00\n"
          ],
          "name": "stdout"
        },
        {
          "output_type": "stream",
          "text": [
            "\r 36%|███▌      | 179/500 [11:43<24:36,  4.60s/it]"
          ],
          "name": "stderr"
        },
        {
          "output_type": "stream",
          "text": [
            "Epoch 1/1\n",
            "1/1 [==============================] - 0s 203ms/step - loss: 1.0028 - accuracy: 0.0000e+00\n",
            "Epoch 1/1\n",
            "1/1 [==============================] - 0s 203ms/step - loss: 9406.2383 - accuracy: 0.0000e+00\n",
            "Epoch 1/1\n",
            "1/1 [==============================] - 0s 192ms/step - loss: 8055.5278 - accuracy: 0.0000e+00\n"
          ],
          "name": "stdout"
        },
        {
          "output_type": "stream",
          "text": [
            "\r 36%|███▌      | 180/500 [11:48<24:15,  4.55s/it]"
          ],
          "name": "stderr"
        },
        {
          "output_type": "stream",
          "text": [
            "Epoch 1/1\n",
            "1/1 [==============================] - 0s 180ms/step - loss: 0.3363 - accuracy: 1.0000\n",
            "Epoch 1/1\n",
            "1/1 [==============================] - 0s 177ms/step - loss: 4343.0942 - accuracy: 0.0000e+00\n",
            "Epoch 1/1\n",
            "1/1 [==============================] - 0s 172ms/step - loss: 12433.5996 - accuracy: 0.0000e+00\n"
          ],
          "name": "stdout"
        },
        {
          "output_type": "stream",
          "text": [
            "\r 36%|███▌      | 181/500 [11:52<23:49,  4.48s/it]"
          ],
          "name": "stderr"
        },
        {
          "output_type": "stream",
          "text": [
            "Epoch 1/1\n",
            "1/1 [==============================] - 0s 169ms/step - loss: 4646.8604 - accuracy: 0.0000e+00\n",
            "Epoch 1/1\n",
            "1/1 [==============================] - 0s 185ms/step - loss: 0.2929 - accuracy: 1.0000\n",
            "Epoch 1/1\n",
            "1/1 [==============================] - 0s 159ms/step - loss: 0.3157 - accuracy: 1.0000\n"
          ],
          "name": "stdout"
        },
        {
          "output_type": "stream",
          "text": [
            "\r 36%|███▋      | 182/500 [11:57<23:57,  4.52s/it]"
          ],
          "name": "stderr"
        },
        {
          "output_type": "stream",
          "text": [
            "Epoch 1/1\n",
            "1/1 [==============================] - 0s 160ms/step - loss: 13700.0664 - accuracy: 0.0000e+00\n",
            "Epoch 1/1\n",
            "1/1 [==============================] - 0s 159ms/step - loss: 5855.4766 - accuracy: 0.0000e+00\n",
            "Epoch 1/1\n",
            "1/1 [==============================] - 0s 159ms/step - loss: 5114.2305 - accuracy: 0.0000e+00\n"
          ],
          "name": "stdout"
        },
        {
          "output_type": "stream",
          "text": [
            "\r 37%|███▋      | 183/500 [12:01<23:36,  4.47s/it]"
          ],
          "name": "stderr"
        },
        {
          "output_type": "stream",
          "text": [
            "Epoch 1/1\n",
            "1/1 [==============================] - 0s 152ms/step - loss: 0.3045 - accuracy: 1.0000\n",
            "Epoch 1/1\n",
            "1/1 [==============================] - 0s 149ms/step - loss: 0.2914 - accuracy: 1.0000\n",
            "Epoch 1/1\n",
            "1/1 [==============================] - 0s 145ms/step - loss: 6301.1621 - accuracy: 0.0000e+00\n"
          ],
          "name": "stdout"
        },
        {
          "output_type": "stream",
          "text": [
            "\r 37%|███▋      | 184/500 [12:05<23:24,  4.44s/it]"
          ],
          "name": "stderr"
        },
        {
          "output_type": "stream",
          "text": [
            "Epoch 1/1\n",
            "1/1 [==============================] - 0s 149ms/step - loss: 198.8927 - accuracy: 0.0000e+00\n",
            "Epoch 1/1\n",
            "1/1 [==============================] - 0s 149ms/step - loss: 0.3189 - accuracy: 1.0000\n",
            "Epoch 1/1\n",
            "1/1 [==============================] - 0s 184ms/step - loss: 0.3088 - accuracy: 1.0000\n"
          ],
          "name": "stdout"
        },
        {
          "output_type": "stream",
          "text": [
            "\r 37%|███▋      | 185/500 [12:11<26:02,  4.96s/it]"
          ],
          "name": "stderr"
        },
        {
          "output_type": "stream",
          "text": [
            "Epoch 1/1\n",
            "1/1 [==============================] - 0s 166ms/step - loss: 0.3099 - accuracy: 1.0000\n",
            "Epoch 1/1\n",
            "1/1 [==============================] - 0s 187ms/step - loss: 11677.8682 - accuracy: 0.0000e+00\n",
            "Epoch 1/1\n",
            "1/1 [==============================] - 0s 167ms/step - loss: 0.3122 - accuracy: 1.0000\n"
          ],
          "name": "stdout"
        },
        {
          "output_type": "stream",
          "text": [
            "\r 37%|███▋      | 186/500 [12:16<25:32,  4.88s/it]"
          ],
          "name": "stderr"
        },
        {
          "output_type": "stream",
          "text": [
            "Epoch 1/1\n",
            "1/1 [==============================] - 0s 168ms/step - loss: 0.3119 - accuracy: 1.0000\n",
            "Epoch 1/1\n",
            "1/1 [==============================] - 0s 180ms/step - loss: 0.3048 - accuracy: 1.0000\n",
            "Epoch 1/1\n",
            "1/1 [==============================] - 0s 186ms/step - loss: 0.3073 - accuracy: 1.0000\n"
          ],
          "name": "stdout"
        },
        {
          "output_type": "stream",
          "text": [
            "\r 37%|███▋      | 187/500 [12:21<24:55,  4.78s/it]"
          ],
          "name": "stderr"
        },
        {
          "output_type": "stream",
          "text": [
            "Epoch 1/1\n",
            "1/1 [==============================] - 0s 208ms/step - loss: 0.3037 - accuracy: 1.0000\n",
            "Epoch 1/1\n",
            "1/1 [==============================] - 0s 194ms/step - loss: 15242.8818 - accuracy: 0.0000e+00\n",
            "Epoch 1/1\n",
            "1/1 [==============================] - 0s 203ms/step - loss: 52472.5938 - accuracy: 0.0000e+00\n"
          ],
          "name": "stdout"
        },
        {
          "output_type": "stream",
          "text": [
            "\r 38%|███▊      | 188/500 [12:25<24:28,  4.71s/it]"
          ],
          "name": "stderr"
        },
        {
          "output_type": "stream",
          "text": [
            "Epoch 1/1\n",
            "1/1 [==============================] - 0s 178ms/step - loss: 0.3006 - accuracy: 1.0000\n",
            "Epoch 1/1\n",
            "1/1 [==============================] - 0s 177ms/step - loss: 0.3143 - accuracy: 1.0000\n",
            "Epoch 1/1\n",
            "1/1 [==============================] - 0s 161ms/step - loss: 17308.7012 - accuracy: 0.0000e+00\n"
          ],
          "name": "stdout"
        },
        {
          "output_type": "stream",
          "text": [
            "\r 38%|███▊      | 189/500 [12:30<24:16,  4.68s/it]"
          ],
          "name": "stderr"
        },
        {
          "output_type": "stream",
          "text": [
            "Epoch 1/1\n",
            "1/1 [==============================] - 0s 181ms/step - loss: 2033.4919 - accuracy: 0.0000e+00\n",
            "Epoch 1/1\n",
            "1/1 [==============================] - 0s 160ms/step - loss: 0.3134 - accuracy: 1.0000\n",
            "Epoch 1/1\n",
            "1/1 [==============================] - 0s 176ms/step - loss: 17279.2598 - accuracy: 0.0000e+00\n"
          ],
          "name": "stdout"
        },
        {
          "output_type": "stream",
          "text": [
            "\r 38%|███▊      | 190/500 [12:34<23:48,  4.61s/it]"
          ],
          "name": "stderr"
        },
        {
          "output_type": "stream",
          "text": [
            "Epoch 1/1\n",
            "1/1 [==============================] - 0s 178ms/step - loss: 0.3033 - accuracy: 1.0000\n",
            "Epoch 1/1\n",
            "1/1 [==============================] - 0s 154ms/step - loss: 603.2613 - accuracy: 0.0000e+00\n",
            "Epoch 1/1\n",
            "1/1 [==============================] - 0s 150ms/step - loss: 0.3105 - accuracy: 1.0000\n"
          ],
          "name": "stdout"
        },
        {
          "output_type": "stream",
          "text": [
            "\r 38%|███▊      | 191/500 [12:39<24:02,  4.67s/it]"
          ],
          "name": "stderr"
        },
        {
          "output_type": "stream",
          "text": [
            "Epoch 1/1\n",
            "1/1 [==============================] - 0s 150ms/step - loss: 0.3169 - accuracy: 1.0000\n",
            "Epoch 1/1\n",
            "1/1 [==============================] - 0s 145ms/step - loss: 2985.8408 - accuracy: 0.0000e+00\n",
            "Epoch 1/1\n",
            "1/1 [==============================] - 0s 164ms/step - loss: 17145.2441 - accuracy: 0.0000e+00\n"
          ],
          "name": "stdout"
        },
        {
          "output_type": "stream",
          "text": [
            "\r 38%|███▊      | 192/500 [12:44<23:59,  4.67s/it]"
          ],
          "name": "stderr"
        },
        {
          "output_type": "stream",
          "text": [
            "Epoch 1/1\n",
            "1/1 [==============================] - 0s 173ms/step - loss: 0.3302 - accuracy: 1.0000\n",
            "Epoch 1/1\n",
            "1/1 [==============================] - 0s 147ms/step - loss: 0.3037 - accuracy: 1.0000\n",
            "Epoch 1/1\n",
            "1/1 [==============================] - 0s 176ms/step - loss: 0.3061 - accuracy: 1.0000\n"
          ],
          "name": "stdout"
        },
        {
          "output_type": "stream",
          "text": [
            "\r 39%|███▊      | 193/500 [12:50<26:23,  5.16s/it]"
          ],
          "name": "stderr"
        },
        {
          "output_type": "stream",
          "text": [
            "Epoch 1/1\n",
            "1/1 [==============================] - 0s 169ms/step - loss: 0.3074 - accuracy: 1.0000\n",
            "Epoch 1/1\n",
            "1/1 [==============================] - 0s 156ms/step - loss: 7657.0024 - accuracy: 0.0000e+00\n",
            "Epoch 1/1\n",
            "1/1 [==============================] - 0s 167ms/step - loss: 173.5392 - accuracy: 0.0000e+00\n"
          ],
          "name": "stdout"
        },
        {
          "output_type": "stream",
          "text": [
            "\r 39%|███▉      | 194/500 [12:55<25:53,  5.08s/it]"
          ],
          "name": "stderr"
        },
        {
          "output_type": "stream",
          "text": [
            "Epoch 1/1\n",
            "1/1 [==============================] - 0s 169ms/step - loss: 0.3112 - accuracy: 1.0000\n",
            "Epoch 1/1\n",
            "1/1 [==============================] - 0s 179ms/step - loss: 7881.2168 - accuracy: 0.0000e+00\n",
            "Epoch 1/1\n",
            "1/1 [==============================] - 0s 193ms/step - loss: 3656.1406 - accuracy: 0.0000e+00\n"
          ],
          "name": "stdout"
        },
        {
          "output_type": "stream",
          "text": [
            "\r 39%|███▉      | 195/500 [13:00<25:27,  5.01s/it]"
          ],
          "name": "stderr"
        },
        {
          "output_type": "stream",
          "text": [
            "Epoch 1/1\n",
            "1/1 [==============================] - 0s 215ms/step - loss: 0.3072 - accuracy: 1.0000\n",
            "Epoch 1/1\n",
            "1/1 [==============================] - 0s 191ms/step - loss: 2344.3494 - accuracy: 0.0000e+00\n",
            "Epoch 1/1\n",
            "1/1 [==============================] - 0s 186ms/step - loss: 4307.3618 - accuracy: 0.0000e+00\n"
          ],
          "name": "stdout"
        },
        {
          "output_type": "stream",
          "text": [
            "\r 39%|███▉      | 196/500 [13:05<25:05,  4.95s/it]"
          ],
          "name": "stderr"
        },
        {
          "output_type": "stream",
          "text": [
            "Epoch 1/1\n",
            "1/1 [==============================] - 0s 189ms/step - loss: 0.3093 - accuracy: 1.0000\n",
            "Epoch 1/1\n",
            "1/1 [==============================] - 0s 173ms/step - loss: 2323.5002 - accuracy: 0.0000e+00\n",
            "Epoch 1/1\n",
            "1/1 [==============================] - 0s 163ms/step - loss: 1250.2292 - accuracy: 0.0000e+00\n"
          ],
          "name": "stdout"
        },
        {
          "output_type": "stream",
          "text": [
            "\r 39%|███▉      | 197/500 [13:09<24:33,  4.86s/it]"
          ],
          "name": "stderr"
        },
        {
          "output_type": "stream",
          "text": [
            "Epoch 1/1\n",
            "1/1 [==============================] - 0s 166ms/step - loss: 8143.3315 - accuracy: 0.0000e+00\n",
            "Epoch 1/1\n",
            "1/1 [==============================] - 0s 159ms/step - loss: 0.3046 - accuracy: 1.0000\n",
            "Epoch 1/1\n",
            "1/1 [==============================] - 0s 163ms/step - loss: 41073.8320 - accuracy: 0.0000e+00\n"
          ],
          "name": "stdout"
        },
        {
          "output_type": "stream",
          "text": [
            "\r 40%|███▉      | 198/500 [13:14<24:05,  4.79s/it]"
          ],
          "name": "stderr"
        },
        {
          "output_type": "stream",
          "text": [
            "Epoch 1/1\n",
            "1/1 [==============================] - 0s 158ms/step - loss: 0.3001 - accuracy: 1.0000\n",
            "Epoch 1/1\n",
            "1/1 [==============================] - 0s 154ms/step - loss: 0.3166 - accuracy: 1.0000\n",
            "Epoch 1/1\n",
            "1/1 [==============================] - 0s 152ms/step - loss: 18013.1035 - accuracy: 0.0000e+00\n"
          ],
          "name": "stdout"
        },
        {
          "output_type": "stream",
          "text": [
            "\r 40%|███▉      | 199/500 [13:19<24:07,  4.81s/it]"
          ],
          "name": "stderr"
        },
        {
          "output_type": "stream",
          "text": [
            "Epoch 1/1\n",
            "1/1 [==============================] - 0s 150ms/step - loss: 0.3035 - accuracy: 1.0000\n",
            "Epoch 1/1\n",
            "1/1 [==============================] - 0s 144ms/step - loss: 12249.2959 - accuracy: 0.0000e+00\n",
            "Epoch 1/1\n",
            "1/1 [==============================] - 0s 149ms/step - loss: 7779.4424 - accuracy: 0.0000e+00\n"
          ],
          "name": "stdout"
        },
        {
          "output_type": "stream",
          "text": [
            "\r 40%|████      | 200/500 [13:24<24:05,  4.82s/it]"
          ],
          "name": "stderr"
        },
        {
          "output_type": "stream",
          "text": [
            "Epoch 1/1\n",
            "1/1 [==============================] - 0s 180ms/step - loss: 1021.3357 - accuracy: 0.0000e+00\n",
            "Epoch 1/1\n",
            "1/1 [==============================] - 0s 170ms/step - loss: 13793.0332 - accuracy: 0.0000e+00\n",
            "Epoch 1/1\n",
            "1/1 [==============================] - 0s 182ms/step - loss: 2533.7537 - accuracy: 0.0000e+00\n"
          ],
          "name": "stdout"
        },
        {
          "output_type": "stream",
          "text": [
            "\r 40%|████      | 201/500 [13:30<26:09,  5.25s/it]"
          ],
          "name": "stderr"
        },
        {
          "output_type": "stream",
          "text": [
            "Epoch 1/1\n",
            "1/1 [==============================] - 0s 169ms/step - loss: 3046.8533 - accuracy: 0.0000e+00\n",
            "Epoch 1/1\n",
            "1/1 [==============================] - 0s 175ms/step - loss: 0.3079 - accuracy: 1.0000\n",
            "Epoch 1/1\n",
            "1/1 [==============================] - 0s 195ms/step - loss: 40931.8672 - accuracy: 0.0000e+00\n"
          ],
          "name": "stdout"
        },
        {
          "output_type": "stream",
          "text": [
            "\r 40%|████      | 202/500 [13:35<25:25,  5.12s/it]"
          ],
          "name": "stderr"
        },
        {
          "output_type": "stream",
          "text": [
            "Epoch 1/1\n",
            "\r1/1 [==============================] - 0s 196ms/step - loss: 0.2991 - accuracy: 1.0000\n",
            "Epoch 1/1\n",
            "1/1 [==============================] - 0s 209ms/step - loss: 8217.9443 - accuracy: 0.0000e+00\n",
            "Epoch 1/1\n",
            "1/1 [==============================] - 0s 198ms/step - loss: 46517.3789 - accuracy: 0.0000e+00\n"
          ],
          "name": "stdout"
        },
        {
          "output_type": "stream",
          "text": [
            "\r 41%|████      | 203/500 [13:39<24:54,  5.03s/it]"
          ],
          "name": "stderr"
        },
        {
          "output_type": "stream",
          "text": [
            "Epoch 1/1\n",
            "1/1 [==============================] - 0s 182ms/step - loss: 3889.2942 - accuracy: 0.0000e+00\n",
            "Epoch 1/1\n",
            "1/1 [==============================] - 0s 169ms/step - loss: 0.2985 - accuracy: 1.0000\n",
            "Epoch 1/1\n",
            "1/1 [==============================] - 0s 161ms/step - loss: 9762.5010 - accuracy: 0.0000e+00\n"
          ],
          "name": "stdout"
        },
        {
          "output_type": "stream",
          "text": [
            "\r 41%|████      | 204/500 [13:44<24:12,  4.91s/it]"
          ],
          "name": "stderr"
        },
        {
          "output_type": "stream",
          "text": [
            "Epoch 1/1\n",
            "1/1 [==============================] - 0s 162ms/step - loss: 2147.1738 - accuracy: 0.0000e+00\n",
            "Epoch 1/1\n",
            "1/1 [==============================] - 0s 163ms/step - loss: 5226.6055 - accuracy: 0.0000e+00\n",
            "Epoch 1/1\n",
            "1/1 [==============================] - 0s 156ms/step - loss: 8574.8047 - accuracy: 0.0000e+00\n"
          ],
          "name": "stdout"
        },
        {
          "output_type": "stream",
          "text": [
            "\r 41%|████      | 205/500 [13:49<23:52,  4.86s/it]"
          ],
          "name": "stderr"
        },
        {
          "output_type": "stream",
          "text": [
            "Epoch 1/1\n",
            "1/1 [==============================] - 0s 164ms/step - loss: 3282.1384 - accuracy: 0.0000e+00\n",
            "Epoch 1/1\n",
            "1/1 [==============================] - 0s 158ms/step - loss: 0.3287 - accuracy: 1.0000\n",
            "Epoch 1/1\n",
            "1/1 [==============================] - 0s 147ms/step - loss: 0.3041 - accuracy: 1.0000\n"
          ],
          "name": "stdout"
        },
        {
          "output_type": "stream",
          "text": [
            "\r 41%|████      | 206/500 [13:54<23:49,  4.86s/it]"
          ],
          "name": "stderr"
        },
        {
          "output_type": "stream",
          "text": [
            "Epoch 1/1\n",
            "1/1 [==============================] - 0s 172ms/step - loss: 0.3088 - accuracy: 1.0000\n",
            "Epoch 1/1\n",
            "1/1 [==============================] - 0s 147ms/step - loss: 0.3070 - accuracy: 1.0000\n",
            "Epoch 1/1\n",
            "1/1 [==============================] - 0s 154ms/step - loss: 0.3019 - accuracy: 1.0000\n"
          ],
          "name": "stdout"
        },
        {
          "output_type": "stream",
          "text": [
            "\r 41%|████▏     | 207/500 [13:58<23:35,  4.83s/it]"
          ],
          "name": "stderr"
        },
        {
          "output_type": "stream",
          "text": [
            "Epoch 1/1\n",
            "1/1 [==============================] - 0s 146ms/step - loss: 0.2982 - accuracy: 1.0000\n",
            "Epoch 1/1\n",
            "1/1 [==============================] - 0s 141ms/step - loss: 0.3099 - accuracy: 1.0000\n",
            "Epoch 1/1\n",
            "1/1 [==============================] - 0s 144ms/step - loss: 24239.8789 - accuracy: 0.0000e+00\n"
          ],
          "name": "stdout"
        },
        {
          "output_type": "stream",
          "text": [
            "\r 42%|████▏     | 208/500 [14:05<25:35,  5.26s/it]"
          ],
          "name": "stderr"
        },
        {
          "output_type": "stream",
          "text": [
            "Epoch 1/1\n",
            "1/1 [==============================] - 0s 185ms/step - loss: 0.3086 - accuracy: 1.0000\n",
            "Epoch 1/1\n",
            "1/1 [==============================] - 0s 165ms/step - loss: 0.3160 - accuracy: 1.0000\n",
            "Epoch 1/1\n",
            "1/1 [==============================] - 0s 167ms/step - loss: 3517.6289 - accuracy: 0.0000e+00\n"
          ],
          "name": "stdout"
        },
        {
          "output_type": "stream",
          "text": [
            "\r 42%|████▏     | 209/500 [14:10<24:54,  5.13s/it]"
          ],
          "name": "stderr"
        },
        {
          "output_type": "stream",
          "text": [
            "Epoch 1/1\n",
            "1/1 [==============================] - 0s 159ms/step - loss: 19393.0684 - accuracy: 0.0000e+00\n",
            "Epoch 1/1\n",
            "1/1 [==============================] - 0s 170ms/step - loss: 0.3179 - accuracy: 1.0000\n",
            "Epoch 1/1\n",
            "1/1 [==============================] - 0s 173ms/step - loss: 0.3215 - accuracy: 1.0000\n"
          ],
          "name": "stdout"
        },
        {
          "output_type": "stream",
          "text": [
            "\r 42%|████▏     | 210/500 [14:14<24:10,  5.00s/it]"
          ],
          "name": "stderr"
        },
        {
          "output_type": "stream",
          "text": [
            "Epoch 1/1\n",
            "1/1 [==============================] - 0s 186ms/step - loss: 0.2950 - accuracy: 1.0000\n",
            "Epoch 1/1\n",
            "1/1 [==============================] - 0s 201ms/step - loss: 0.3108 - accuracy: 1.0000\n",
            "Epoch 1/1\n",
            "1/1 [==============================] - 0s 194ms/step - loss: 0.3073 - accuracy: 1.0000\n"
          ],
          "name": "stdout"
        },
        {
          "output_type": "stream",
          "text": [
            "\r 42%|████▏     | 211/500 [14:19<23:58,  4.98s/it]"
          ],
          "name": "stderr"
        },
        {
          "output_type": "stream",
          "text": [
            "Epoch 1/1\n",
            "1/1 [==============================] - 0s 197ms/step - loss: 3348.8953 - accuracy: 0.0000e+00\n",
            "Epoch 1/1\n",
            "1/1 [==============================] - 0s 177ms/step - loss: 0.3067 - accuracy: 1.0000\n",
            "Epoch 1/1\n",
            "1/1 [==============================] - 0s 183ms/step - loss: 8926.7207 - accuracy: 0.0000e+00\n"
          ],
          "name": "stdout"
        },
        {
          "output_type": "stream",
          "text": [
            "\r 42%|████▏     | 212/500 [14:25<24:51,  5.18s/it]"
          ],
          "name": "stderr"
        },
        {
          "output_type": "stream",
          "text": [
            "Epoch 1/1\n",
            "1/1 [==============================] - 0s 169ms/step - loss: 733.8718 - accuracy: 0.0000e+00\n",
            "Epoch 1/1\n",
            "1/1 [==============================] - 0s 166ms/step - loss: 0.3152 - accuracy: 1.0000\n",
            "Epoch 1/1\n",
            "1/1 [==============================] - 0s 159ms/step - loss: 7938.9414 - accuracy: 0.0000e+00\n"
          ],
          "name": "stdout"
        },
        {
          "output_type": "stream",
          "text": [
            "\r 43%|████▎     | 213/500 [14:30<25:00,  5.23s/it]"
          ],
          "name": "stderr"
        },
        {
          "output_type": "stream",
          "text": [
            "Epoch 1/1\n",
            "1/1 [==============================] - 0s 164ms/step - loss: 0.2873 - accuracy: 1.0000\n",
            "Epoch 1/1\n",
            "1/1 [==============================] - 0s 184ms/step - loss: 8903.9248 - accuracy: 0.0000e+00\n",
            "Epoch 1/1\n",
            "1/1 [==============================] - 0s 151ms/step - loss: 2268.0354 - accuracy: 0.0000e+00\n"
          ],
          "name": "stdout"
        },
        {
          "output_type": "stream",
          "text": [
            "\r 43%|████▎     | 214/500 [14:36<25:06,  5.27s/it]"
          ],
          "name": "stderr"
        },
        {
          "output_type": "stream",
          "text": [
            "Epoch 1/1\n",
            "1/1 [==============================] - 0s 146ms/step - loss: 0.3196 - accuracy: 1.0000\n",
            "Epoch 1/1\n",
            "1/1 [==============================] - 0s 141ms/step - loss: 0.2956 - accuracy: 1.0000\n",
            "Epoch 1/1\n",
            "1/1 [==============================] - 0s 142ms/step - loss: 8773.9248 - accuracy: 0.0000e+00\n"
          ],
          "name": "stdout"
        },
        {
          "output_type": "stream",
          "text": [
            "\r 43%|████▎     | 215/500 [14:40<24:23,  5.14s/it]"
          ],
          "name": "stderr"
        },
        {
          "output_type": "stream",
          "text": [
            "Epoch 1/1\n",
            "1/1 [==============================] - 0s 150ms/step - loss: 0.3153 - accuracy: 1.0000\n",
            "Epoch 1/1\n",
            "1/1 [==============================] - 0s 144ms/step - loss: 0.2947 - accuracy: 1.0000\n",
            "Epoch 1/1\n",
            "1/1 [==============================] - 0s 185ms/step - loss: 6843.9497 - accuracy: 0.0000e+00\n"
          ],
          "name": "stdout"
        },
        {
          "output_type": "stream",
          "text": [
            "\r 43%|████▎     | 216/500 [14:48<27:13,  5.75s/it]"
          ],
          "name": "stderr"
        },
        {
          "output_type": "stream",
          "text": [
            "Epoch 1/1\n",
            "1/1 [==============================] - 0s 172ms/step - loss: 0.2906 - accuracy: 1.0000\n",
            "Epoch 1/1\n",
            "1/1 [==============================] - 0s 176ms/step - loss: 0.3150 - accuracy: 1.0000\n",
            "Epoch 1/1\n",
            "1/1 [==============================] - 0s 175ms/step - loss: 0.3056 - accuracy: 1.0000\n"
          ],
          "name": "stdout"
        },
        {
          "output_type": "stream",
          "text": [
            "\r 43%|████▎     | 217/500 [14:54<27:28,  5.82s/it]"
          ],
          "name": "stderr"
        },
        {
          "output_type": "stream",
          "text": [
            "Epoch 1/1\n",
            "1/1 [==============================] - 0s 174ms/step - loss: 4792.1187 - accuracy: 0.0000e+00\n",
            "Epoch 1/1\n",
            "1/1 [==============================] - 0s 200ms/step - loss: 994.1361 - accuracy: 0.0000e+00\n",
            "Epoch 1/1\n",
            "1/1 [==============================] - 0s 200ms/step - loss: 0.2979 - accuracy: 1.0000\n"
          ],
          "name": "stdout"
        },
        {
          "output_type": "stream",
          "text": [
            "\r 44%|████▎     | 218/500 [14:59<27:27,  5.84s/it]"
          ],
          "name": "stderr"
        },
        {
          "output_type": "stream",
          "text": [
            "Epoch 1/1\n",
            "1/1 [==============================] - 0s 221ms/step - loss: 5470.4746 - accuracy: 0.0000e+00\n",
            "Epoch 1/1\n",
            "1/1 [==============================] - 0s 211ms/step - loss: 0.3034 - accuracy: 1.0000\n",
            "Epoch 1/1\n",
            "1/1 [==============================] - 0s 198ms/step - loss: 0.2932 - accuracy: 1.0000\n"
          ],
          "name": "stdout"
        },
        {
          "output_type": "stream",
          "text": [
            "\r 44%|████▍     | 219/500 [15:05<27:38,  5.90s/it]"
          ],
          "name": "stderr"
        },
        {
          "output_type": "stream",
          "text": [
            "Epoch 1/1\n",
            "1/1 [==============================] - 0s 220ms/step - loss: 0.3144 - accuracy: 1.0000\n",
            "Epoch 1/1\n",
            "1/1 [==============================] - 0s 179ms/step - loss: 0.3204 - accuracy: 1.0000\n",
            "Epoch 1/1\n",
            "1/1 [==============================] - 0s 175ms/step - loss: 0.3236 - accuracy: 1.0000\n"
          ],
          "name": "stdout"
        },
        {
          "output_type": "stream",
          "text": [
            "\r 44%|████▍     | 220/500 [15:11<27:43,  5.94s/it]"
          ],
          "name": "stderr"
        },
        {
          "output_type": "stream",
          "text": [
            "Epoch 1/1\n",
            "1/1 [==============================] - 0s 171ms/step - loss: 1638.6722 - accuracy: 0.0000e+00\n",
            "Epoch 1/1\n",
            "1/1 [==============================] - 0s 168ms/step - loss: 1211.5442 - accuracy: 0.0000e+00\n",
            "Epoch 1/1\n",
            "1/1 [==============================] - 0s 161ms/step - loss: 0.2980 - accuracy: 1.0000\n"
          ],
          "name": "stdout"
        },
        {
          "output_type": "stream",
          "text": [
            "\r 44%|████▍     | 221/500 [15:18<27:57,  6.01s/it]"
          ],
          "name": "stderr"
        },
        {
          "output_type": "stream",
          "text": [
            "Epoch 1/1\n",
            "1/1 [==============================] - 0s 163ms/step - loss: 6179.1445 - accuracy: 0.0000e+00\n",
            "Epoch 1/1\n",
            "1/1 [==============================] - 0s 164ms/step - loss: 0.2954 - accuracy: 1.0000\n",
            "Epoch 1/1\n",
            "1/1 [==============================] - 0s 153ms/step - loss: 0.2929 - accuracy: 1.0000\n"
          ],
          "name": "stdout"
        },
        {
          "output_type": "stream",
          "text": [
            "\r 44%|████▍     | 222/500 [15:24<27:38,  5.97s/it]"
          ],
          "name": "stderr"
        },
        {
          "output_type": "stream",
          "text": [
            "Epoch 1/1\n",
            "1/1 [==============================] - 0s 147ms/step - loss: 3486.2378 - accuracy: 0.0000e+00\n",
            "Epoch 1/1\n",
            "1/1 [==============================] - 0s 178ms/step - loss: 23085.5820 - accuracy: 0.0000e+00\n",
            "Epoch 1/1\n",
            "1/1 [==============================] - 0s 146ms/step - loss: 7689.6060 - accuracy: 0.0000e+00\n"
          ],
          "name": "stdout"
        },
        {
          "output_type": "stream",
          "text": [
            "\r 45%|████▍     | 223/500 [15:30<27:37,  5.98s/it]"
          ],
          "name": "stderr"
        },
        {
          "output_type": "stream",
          "text": [
            "Epoch 1/1\n",
            "1/1 [==============================] - 0s 145ms/step - loss: 6750.5322 - accuracy: 0.0000e+00\n",
            "Epoch 1/1\n",
            "1/1 [==============================] - 0s 149ms/step - loss: 0.3244 - accuracy: 1.0000\n",
            "Epoch 1/1\n",
            "1/1 [==============================] - 0s 240ms/step - loss: 4508.7393 - accuracy: 0.0000e+00\n"
          ],
          "name": "stdout"
        },
        {
          "output_type": "stream",
          "text": [
            "\r 45%|████▍     | 224/500 [15:36<28:23,  6.17s/it]"
          ],
          "name": "stderr"
        },
        {
          "output_type": "stream",
          "text": [
            "Epoch 1/1\n",
            "1/1 [==============================] - 0s 181ms/step - loss: 0.2901 - accuracy: 1.0000\n",
            "Epoch 1/1\n",
            "1/1 [==============================] - 0s 166ms/step - loss: 0.3120 - accuracy: 1.0000\n",
            "Epoch 1/1\n",
            "1/1 [==============================] - 0s 161ms/step - loss: 2757.8716 - accuracy: 0.0000e+00\n"
          ],
          "name": "stdout"
        },
        {
          "output_type": "stream",
          "text": [
            "\r 45%|████▌     | 225/500 [15:44<31:14,  6.82s/it]"
          ],
          "name": "stderr"
        },
        {
          "output_type": "stream",
          "text": [
            "Epoch 1/1\n",
            "1/1 [==============================] - 0s 166ms/step - loss: 0.3093 - accuracy: 1.0000\n",
            "Epoch 1/1\n",
            "1/1 [==============================] - 0s 161ms/step - loss: 0.3003 - accuracy: 1.0000\n",
            "Epoch 1/1\n",
            "1/1 [==============================] - 0s 176ms/step - loss: 1272.9972 - accuracy: 0.0000e+00\n"
          ],
          "name": "stdout"
        },
        {
          "output_type": "stream",
          "text": [
            "\r 45%|████▌     | 226/500 [15:50<29:12,  6.40s/it]"
          ],
          "name": "stderr"
        },
        {
          "output_type": "stream",
          "text": [
            "Epoch 1/1\n",
            "1/1 [==============================] - 0s 180ms/step - loss: 2806.9307 - accuracy: 0.0000e+00\n",
            "Epoch 1/1\n",
            "1/1 [==============================] - 0s 199ms/step - loss: 15599.7236 - accuracy: 0.0000e+00\n",
            "Epoch 1/1\n",
            "1/1 [==============================] - 0s 208ms/step - loss: 7172.3750 - accuracy: 0.0000e+00\n"
          ],
          "name": "stdout"
        },
        {
          "output_type": "stream",
          "text": [
            "\r 45%|████▌     | 227/500 [15:56<28:33,  6.28s/it]"
          ],
          "name": "stderr"
        },
        {
          "output_type": "stream",
          "text": [
            "Epoch 1/1\n",
            "1/1 [==============================] - 0s 192ms/step - loss: 8928.4170 - accuracy: 0.0000e+00\n",
            "Epoch 1/1\n",
            "1/1 [==============================] - 0s 187ms/step - loss: 0.3245 - accuracy: 1.0000\n",
            "Epoch 1/1\n",
            "1/1 [==============================] - 0s 189ms/step - loss: 0.3084 - accuracy: 1.0000\n"
          ],
          "name": "stdout"
        },
        {
          "output_type": "stream",
          "text": [
            "\r 46%|████▌     | 228/500 [16:02<28:38,  6.32s/it]"
          ],
          "name": "stderr"
        },
        {
          "output_type": "stream",
          "text": [
            "Epoch 1/1\n",
            "1/1 [==============================] - 0s 188ms/step - loss: 552.0624 - accuracy: 0.0000e+00\n",
            "Epoch 1/1\n",
            "1/1 [==============================] - 0s 182ms/step - loss: 0.3104 - accuracy: 1.0000\n",
            "Epoch 1/1\n",
            "1/1 [==============================] - 0s 169ms/step - loss: 0.3073 - accuracy: 1.0000\n"
          ],
          "name": "stdout"
        },
        {
          "output_type": "stream",
          "text": [
            "\r 46%|████▌     | 229/500 [16:09<28:31,  6.31s/it]"
          ],
          "name": "stderr"
        },
        {
          "output_type": "stream",
          "text": [
            "Epoch 1/1\n",
            "1/1 [==============================] - 0s 162ms/step - loss: 7061.8579 - accuracy: 0.0000e+00\n",
            "Epoch 1/1\n",
            "1/1 [==============================] - 0s 174ms/step - loss: 0.3226 - accuracy: 1.0000\n",
            "Epoch 1/1\n",
            "1/1 [==============================] - 0s 155ms/step - loss: 306.7561 - accuracy: 0.0000e+00\n"
          ],
          "name": "stdout"
        },
        {
          "output_type": "stream",
          "text": [
            "\r 46%|████▌     | 230/500 [16:14<27:34,  6.13s/it]"
          ],
          "name": "stderr"
        },
        {
          "output_type": "stream",
          "text": [
            "Epoch 1/1\n",
            "1/1 [==============================] - 0s 188ms/step - loss: 0.3519 - accuracy: 1.0000\n",
            "Epoch 1/1\n",
            "1/1 [==============================] - 0s 192ms/step - loss: 32478.7578 - accuracy: 0.0000e+00\n",
            "Epoch 1/1\n",
            "1/1 [==============================] - 0s 147ms/step - loss: 0.3099 - accuracy: 1.0000\n"
          ],
          "name": "stdout"
        },
        {
          "output_type": "stream",
          "text": [
            "\r 46%|████▌     | 231/500 [16:22<29:09,  6.50s/it]"
          ],
          "name": "stderr"
        },
        {
          "output_type": "stream",
          "text": [
            "Epoch 1/1\n",
            "1/1 [==============================] - 0s 145ms/step - loss: 14491.9668 - accuracy: 0.0000e+00\n",
            "Epoch 1/1\n",
            "1/1 [==============================] - 0s 146ms/step - loss: 0.3051 - accuracy: 1.0000\n",
            "Epoch 1/1\n",
            "1/1 [==============================] - 0s 146ms/step - loss: 0.3040 - accuracy: 1.0000\n"
          ],
          "name": "stdout"
        },
        {
          "output_type": "stream",
          "text": [
            "\r 46%|████▋     | 232/500 [16:29<29:53,  6.69s/it]"
          ],
          "name": "stderr"
        },
        {
          "output_type": "stream",
          "text": [
            "Epoch 1/1\n",
            "1/1 [==============================] - 0s 183ms/step - loss: 1251.1444 - accuracy: 0.0000e+00\n",
            "Epoch 1/1\n",
            "1/1 [==============================] - 0s 167ms/step - loss: 13028.7803 - accuracy: 0.0000e+00\n",
            "Epoch 1/1\n",
            "1/1 [==============================] - 0s 162ms/step - loss: 10372.1348 - accuracy: 0.0000e+00\n"
          ],
          "name": "stdout"
        },
        {
          "output_type": "stream",
          "text": [
            "\r 47%|████▋     | 233/500 [16:34<27:54,  6.27s/it]"
          ],
          "name": "stderr"
        },
        {
          "output_type": "stream",
          "text": [
            "Epoch 1/1\n",
            "1/1 [==============================] - 0s 160ms/step - loss: 0.3049 - accuracy: 1.0000\n",
            "Epoch 1/1\n",
            "1/1 [==============================] - 0s 177ms/step - loss: 0.3150 - accuracy: 1.0000\n",
            "Epoch 1/1\n",
            "1/1 [==============================] - 0s 178ms/step - loss: 6129.6118 - accuracy: 0.0000e+00\n"
          ],
          "name": "stdout"
        },
        {
          "output_type": "stream",
          "text": [
            "\r 47%|████▋     | 234/500 [16:39<26:21,  5.95s/it]"
          ],
          "name": "stderr"
        },
        {
          "output_type": "stream",
          "text": [
            "Epoch 1/1\n",
            "\r1/1 [==============================] - 0s 190ms/step - loss: 13991.4414 - accuracy: 0.0000e+00\n",
            "Epoch 1/1\n",
            "1/1 [==============================] - 0s 203ms/step - loss: 6225.5103 - accuracy: 0.0000e+00\n",
            "Epoch 1/1\n",
            "1/1 [==============================] - 0s 185ms/step - loss: 0.3087 - accuracy: 1.0000\n"
          ],
          "name": "stdout"
        },
        {
          "output_type": "stream",
          "text": [
            "\r 47%|████▋     | 235/500 [16:45<25:33,  5.79s/it]"
          ],
          "name": "stderr"
        },
        {
          "output_type": "stream",
          "text": [
            "Epoch 1/1\n",
            "1/1 [==============================] - 0s 185ms/step - loss: 0.3119 - accuracy: 1.0000\n",
            "Epoch 1/1\n",
            "1/1 [==============================] - 0s 179ms/step - loss: 2587.2046 - accuracy: 0.0000e+00\n",
            "Epoch 1/1\n",
            "1/1 [==============================] - 0s 162ms/step - loss: 0.2941 - accuracy: 1.0000\n"
          ],
          "name": "stdout"
        },
        {
          "output_type": "stream",
          "text": [
            "\r 47%|████▋     | 236/500 [16:50<25:22,  5.77s/it]"
          ],
          "name": "stderr"
        },
        {
          "output_type": "stream",
          "text": [
            "Epoch 1/1\n",
            "1/1 [==============================] - 0s 164ms/step - loss: 0.3195 - accuracy: 1.0000\n",
            "Epoch 1/1\n",
            "1/1 [==============================] - 0s 166ms/step - loss: 0.2937 - accuracy: 1.0000\n",
            "Epoch 1/1\n",
            "1/1 [==============================] - 0s 152ms/step - loss: 0.2893 - accuracy: 1.0000\n"
          ],
          "name": "stdout"
        },
        {
          "output_type": "stream",
          "text": [
            "\r 47%|████▋     | 237/500 [16:56<25:24,  5.80s/it]"
          ],
          "name": "stderr"
        },
        {
          "output_type": "stream",
          "text": [
            "Epoch 1/1\n",
            "1/1 [==============================] - 0s 153ms/step - loss: 0.3260 - accuracy: 1.0000\n",
            "Epoch 1/1\n",
            "1/1 [==============================] - 0s 153ms/step - loss: 0.3008 - accuracy: 1.0000\n",
            "Epoch 1/1\n",
            "1/1 [==============================] - 0s 147ms/step - loss: 1.0059 - accuracy: 1.0000\n"
          ],
          "name": "stdout"
        },
        {
          "output_type": "stream",
          "text": [
            "\r 48%|████▊     | 238/500 [17:02<25:06,  5.75s/it]"
          ],
          "name": "stderr"
        },
        {
          "output_type": "stream",
          "text": [
            "Epoch 1/1\n",
            "1/1 [==============================] - 0s 158ms/step - loss: 1478.2642 - accuracy: 0.0000e+00\n",
            "Epoch 1/1\n",
            "1/1 [==============================] - 0s 142ms/step - loss: 6374.8970 - accuracy: 0.0000e+00\n",
            "Epoch 1/1\n",
            "1/1 [==============================] - 0s 147ms/step - loss: 26527.2168 - accuracy: 0.0000e+00\n"
          ],
          "name": "stdout"
        },
        {
          "output_type": "stream",
          "text": [
            "\r 48%|████▊     | 239/500 [17:07<24:08,  5.55s/it]"
          ],
          "name": "stderr"
        },
        {
          "output_type": "stream",
          "text": [
            "Epoch 1/1\n",
            "1/1 [==============================] - 0s 145ms/step - loss: 0.3093 - accuracy: 1.0000\n",
            "Epoch 1/1\n",
            "1/1 [==============================] - 0s 146ms/step - loss: 0.3075 - accuracy: 1.0000\n",
            "Epoch 1/1\n",
            "1/1 [==============================] - 0s 152ms/step - loss: 10432.5342 - accuracy: 0.0000e+00\n"
          ],
          "name": "stdout"
        },
        {
          "output_type": "stream",
          "text": [
            "\r 48%|████▊     | 240/500 [17:14<26:01,  6.01s/it]"
          ],
          "name": "stderr"
        },
        {
          "output_type": "stream",
          "text": [
            "Epoch 1/1\n",
            "1/1 [==============================] - 0s 168ms/step - loss: 0.3013 - accuracy: 1.0000\n",
            "Epoch 1/1\n",
            "1/1 [==============================] - 0s 162ms/step - loss: 0.3197 - accuracy: 1.0000\n",
            "Epoch 1/1\n",
            "1/1 [==============================] - 0s 176ms/step - loss: 0.3196 - accuracy: 1.0000\n"
          ],
          "name": "stdout"
        },
        {
          "output_type": "stream",
          "text": [
            "\r 48%|████▊     | 241/500 [17:20<25:19,  5.87s/it]"
          ],
          "name": "stderr"
        },
        {
          "output_type": "stream",
          "text": [
            "Epoch 1/1\n",
            "1/1 [==============================] - 0s 192ms/step - loss: 9590.8906 - accuracy: 0.0000e+00\n",
            "Epoch 1/1\n",
            "1/1 [==============================] - 0s 163ms/step - loss: 0.3139 - accuracy: 1.0000\n",
            "Epoch 1/1\n",
            "1/1 [==============================] - 0s 168ms/step - loss: 0.3669 - accuracy: 1.0000\n"
          ],
          "name": "stdout"
        },
        {
          "output_type": "stream",
          "text": [
            "\r 48%|████▊     | 242/500 [17:25<24:35,  5.72s/it]"
          ],
          "name": "stderr"
        },
        {
          "output_type": "stream",
          "text": [
            "Epoch 1/1\n",
            "\r1/1 [==============================] - 0s 180ms/step - loss: 0.3098 - accuracy: 1.0000\n",
            "Epoch 1/1\n",
            "1/1 [==============================] - 0s 204ms/step - loss: 12247.1133 - accuracy: 0.0000e+00\n",
            "Epoch 1/1\n",
            "1/1 [==============================] - 0s 213ms/step - loss: 21824.0684 - accuracy: 0.0000e+00\n"
          ],
          "name": "stdout"
        },
        {
          "output_type": "stream",
          "text": [
            "\r 49%|████▊     | 243/500 [17:31<24:13,  5.66s/it]"
          ],
          "name": "stderr"
        },
        {
          "output_type": "stream",
          "text": [
            "Epoch 1/1\n",
            "1/1 [==============================] - 0s 183ms/step - loss: 6722.3652 - accuracy: 0.0000e+00\n",
            "Epoch 1/1\n",
            "1/1 [==============================] - 0s 183ms/step - loss: 0.3144 - accuracy: 1.0000\n",
            "Epoch 1/1\n",
            "1/1 [==============================] - 0s 168ms/step - loss: 0.3184 - accuracy: 1.0000\n"
          ],
          "name": "stdout"
        },
        {
          "output_type": "stream",
          "text": [
            "\r 49%|████▉     | 244/500 [17:36<23:41,  5.55s/it]"
          ],
          "name": "stderr"
        },
        {
          "output_type": "stream",
          "text": [
            "Epoch 1/1\n",
            "1/1 [==============================] - 0s 163ms/step - loss: 0.3027 - accuracy: 1.0000\n",
            "Epoch 1/1\n",
            "1/1 [==============================] - 0s 161ms/step - loss: 0.3068 - accuracy: 1.0000\n",
            "Epoch 1/1\n",
            "1/1 [==============================] - 0s 150ms/step - loss: 0.3132 - accuracy: 1.0000\n"
          ],
          "name": "stdout"
        },
        {
          "output_type": "stream",
          "text": [
            "\r 49%|████▉     | 245/500 [17:41<23:21,  5.50s/it]"
          ],
          "name": "stderr"
        },
        {
          "output_type": "stream",
          "text": [
            "Epoch 1/1\n",
            "1/1 [==============================] - 0s 165ms/step - loss: 0.3068 - accuracy: 1.0000\n",
            "Epoch 1/1\n",
            "1/1 [==============================] - 0s 159ms/step - loss: 28279.5234 - accuracy: 0.0000e+00\n",
            "Epoch 1/1\n",
            "1/1 [==============================] - 0s 157ms/step - loss: 39092.2070 - accuracy: 0.0000e+00\n"
          ],
          "name": "stdout"
        },
        {
          "output_type": "stream",
          "text": [
            "\r 49%|████▉     | 246/500 [17:46<22:55,  5.41s/it]"
          ],
          "name": "stderr"
        },
        {
          "output_type": "stream",
          "text": [
            "Epoch 1/1\n",
            "1/1 [==============================] - 0s 143ms/step - loss: 0.3051 - accuracy: 1.0000\n",
            "Epoch 1/1\n",
            "1/1 [==============================] - 0s 146ms/step - loss: 9333.8164 - accuracy: 0.0000e+00\n",
            "Epoch 1/1\n",
            "1/1 [==============================] - 0s 147ms/step - loss: 0.3121 - accuracy: 1.0000\n"
          ],
          "name": "stdout"
        },
        {
          "output_type": "stream",
          "text": [
            "\r 49%|████▉     | 247/500 [17:52<22:29,  5.33s/it]"
          ],
          "name": "stderr"
        },
        {
          "output_type": "stream",
          "text": [
            "Epoch 1/1\n",
            "1/1 [==============================] - 0s 164ms/step - loss: 1799.3066 - accuracy: 0.0000e+00\n",
            "Epoch 1/1\n",
            "1/1 [==============================] - 0s 140ms/step - loss: 10720.1494 - accuracy: 0.0000e+00\n",
            "Epoch 1/1\n",
            "1/1 [==============================] - 0s 139ms/step - loss: 0.3130 - accuracy: 1.0000\n"
          ],
          "name": "stdout"
        },
        {
          "output_type": "stream",
          "text": [
            "\r 50%|████▉     | 248/500 [17:59<24:41,  5.88s/it]"
          ],
          "name": "stderr"
        },
        {
          "output_type": "stream",
          "text": [
            "Epoch 1/1\n",
            "1/1 [==============================] - 0s 173ms/step - loss: 11632.3350 - accuracy: 0.0000e+00\n",
            "Epoch 1/1\n",
            "1/1 [==============================] - 0s 188ms/step - loss: 0.3163 - accuracy: 1.0000\n",
            "Epoch 1/1\n",
            "1/1 [==============================] - 0s 160ms/step - loss: 0.3060 - accuracy: 1.0000\n"
          ],
          "name": "stdout"
        },
        {
          "output_type": "stream",
          "text": [
            "\r 50%|████▉     | 249/500 [18:04<23:51,  5.70s/it]"
          ],
          "name": "stderr"
        },
        {
          "output_type": "stream",
          "text": [
            "Epoch 1/1\n",
            "1/1 [==============================] - 0s 162ms/step - loss: 2345.5251 - accuracy: 0.0000e+00\n",
            "Epoch 1/1\n",
            "1/1 [==============================] - 0s 171ms/step - loss: 0.3085 - accuracy: 1.0000\n",
            "Epoch 1/1\n",
            "1/1 [==============================] - 0s 173ms/step - loss: 0.3141 - accuracy: 1.0000\n"
          ],
          "name": "stdout"
        },
        {
          "output_type": "stream",
          "text": [
            "\r 50%|█████     | 250/500 [18:09<23:20,  5.60s/it]"
          ],
          "name": "stderr"
        },
        {
          "output_type": "stream",
          "text": [
            "Epoch 1/1\n",
            "\r1/1 [==============================] - 0s 191ms/step - loss: 0.3339 - accuracy: 1.0000\n",
            "Epoch 1/1\n",
            "1/1 [==============================] - 0s 201ms/step - loss: 4425.4263 - accuracy: 0.0000e+00\n",
            "Epoch 1/1\n",
            "1/1 [==============================] - 0s 187ms/step - loss: 8455.4189 - accuracy: 0.0000e+00\n"
          ],
          "name": "stdout"
        },
        {
          "output_type": "stream",
          "text": [
            "\r 50%|█████     | 251/500 [18:15<22:59,  5.54s/it]"
          ],
          "name": "stderr"
        },
        {
          "output_type": "stream",
          "text": [
            "Epoch 1/1\n",
            "1/1 [==============================] - 0s 201ms/step - loss: 0.3088 - accuracy: 1.0000\n",
            "Epoch 1/1\n",
            "1/1 [==============================] - 0s 173ms/step - loss: 1389.2722 - accuracy: 0.0000e+00\n",
            "Epoch 1/1\n",
            "1/1 [==============================] - 0s 163ms/step - loss: 0.3056 - accuracy: 1.0000\n"
          ],
          "name": "stdout"
        },
        {
          "output_type": "stream",
          "text": [
            "\r 50%|█████     | 252/500 [18:20<22:56,  5.55s/it]"
          ],
          "name": "stderr"
        },
        {
          "output_type": "stream",
          "text": [
            "Epoch 1/1\n",
            "1/1 [==============================] - 0s 166ms/step - loss: 0.3002 - accuracy: 1.0000\n",
            "Epoch 1/1\n",
            "1/1 [==============================] - 0s 153ms/step - loss: 0.3017 - accuracy: 1.0000\n",
            "Epoch 1/1\n",
            "1/1 [==============================] - 0s 152ms/step - loss: 0.3014 - accuracy: 1.0000\n"
          ],
          "name": "stdout"
        },
        {
          "output_type": "stream",
          "text": [
            "\r 51%|█████     | 253/500 [18:26<22:46,  5.53s/it]"
          ],
          "name": "stderr"
        },
        {
          "output_type": "stream",
          "text": [
            "Epoch 1/1\n",
            "1/1 [==============================] - 0s 151ms/step - loss: 0.3132 - accuracy: 1.0000\n",
            "Epoch 1/1\n",
            "1/1 [==============================] - 0s 158ms/step - loss: 0.2915 - accuracy: 1.0000\n",
            "Epoch 1/1\n",
            "1/1 [==============================] - 0s 157ms/step - loss: 4401.2295 - accuracy: 0.0000e+00\n"
          ],
          "name": "stdout"
        },
        {
          "output_type": "stream",
          "text": [
            "\r 51%|█████     | 254/500 [18:31<22:38,  5.52s/it]"
          ],
          "name": "stderr"
        },
        {
          "output_type": "stream",
          "text": [
            "Epoch 1/1\n",
            "1/1 [==============================] - 0s 150ms/step - loss: 0.3029 - accuracy: 1.0000\n",
            "Epoch 1/1\n",
            "1/1 [==============================] - 0s 153ms/step - loss: 4442.3467 - accuracy: 0.0000e+00\n",
            "Epoch 1/1\n",
            "1/1 [==============================] - 0s 149ms/step - loss: 23067.7695 - accuracy: 0.0000e+00\n"
          ],
          "name": "stdout"
        },
        {
          "output_type": "stream",
          "text": [
            "\r 51%|█████     | 255/500 [18:37<23:06,  5.66s/it]"
          ],
          "name": "stderr"
        },
        {
          "output_type": "stream",
          "text": [
            "Epoch 1/1\n",
            "1/1 [==============================] - 0s 149ms/step - loss: 0.3013 - accuracy: 1.0000\n",
            "Epoch 1/1\n",
            "1/1 [==============================] - 0s 143ms/step - loss: 38060.1250 - accuracy: 0.0000e+00\n",
            "Epoch 1/1\n",
            "1/1 [==============================] - 0s 143ms/step - loss: 39339.5742 - accuracy: 0.0000e+00\n"
          ],
          "name": "stdout"
        },
        {
          "output_type": "stream",
          "text": [
            "\r 51%|█████     | 256/500 [18:45<25:30,  6.27s/it]"
          ],
          "name": "stderr"
        },
        {
          "output_type": "stream",
          "text": [
            "Epoch 1/1\n",
            "1/1 [==============================] - 0s 171ms/step - loss: 0.3156 - accuracy: 1.0000\n",
            "Epoch 1/1\n",
            "1/1 [==============================] - 0s 165ms/step - loss: 0.2966 - accuracy: 1.0000\n",
            "Epoch 1/1\n",
            "1/1 [==============================] - 0s 159ms/step - loss: 22051.7871 - accuracy: 0.0000e+00\n"
          ],
          "name": "stdout"
        },
        {
          "output_type": "stream",
          "text": [
            "\r 51%|█████▏    | 257/500 [18:51<24:48,  6.13s/it]"
          ],
          "name": "stderr"
        },
        {
          "output_type": "stream",
          "text": [
            "Epoch 1/1\n",
            "1/1 [==============================] - 0s 163ms/step - loss: 0.3087 - accuracy: 1.0000\n",
            "Epoch 1/1\n",
            "1/1 [==============================] - 0s 166ms/step - loss: 726.1558 - accuracy: 0.0000e+00\n",
            "Epoch 1/1\n",
            "1/1 [==============================] - 0s 172ms/step - loss: 19429.4922 - accuracy: 0.0000e+00\n"
          ],
          "name": "stdout"
        },
        {
          "output_type": "stream",
          "text": [
            "\r 52%|█████▏    | 258/500 [18:57<24:43,  6.13s/it]"
          ],
          "name": "stderr"
        },
        {
          "output_type": "stream",
          "text": [
            "Epoch 1/1\n",
            "\r1/1 [==============================] - 0s 186ms/step - loss: 0.3017 - accuracy: 1.0000\n",
            "Epoch 1/1\n",
            "1/1 [==============================] - 0s 203ms/step - loss: 0.3002 - accuracy: 1.0000\n",
            "Epoch 1/1\n",
            "1/1 [==============================] - 0s 190ms/step - loss: 0.3137 - accuracy: 1.0000\n"
          ],
          "name": "stdout"
        },
        {
          "output_type": "stream",
          "text": [
            "\r 52%|█████▏    | 259/500 [19:02<23:52,  5.94s/it]"
          ],
          "name": "stderr"
        },
        {
          "output_type": "stream",
          "text": [
            "Epoch 1/1\n",
            "1/1 [==============================] - 0s 182ms/step - loss: 0.3086 - accuracy: 1.0000\n",
            "Epoch 1/1\n",
            "1/1 [==============================] - 0s 176ms/step - loss: 0.3013 - accuracy: 1.0000\n",
            "Epoch 1/1\n",
            "1/1 [==============================] - 0s 167ms/step - loss: 4107.3042 - accuracy: 0.0000e+00\n"
          ],
          "name": "stdout"
        },
        {
          "output_type": "stream",
          "text": [
            "\r 52%|█████▏    | 260/500 [19:08<23:23,  5.85s/it]"
          ],
          "name": "stderr"
        },
        {
          "output_type": "stream",
          "text": [
            "Epoch 1/1\n",
            "1/1 [==============================] - 0s 161ms/step - loss: 6153.8657 - accuracy: 0.0000e+00\n",
            "Epoch 1/1\n",
            "1/1 [==============================] - 0s 153ms/step - loss: 0.3163 - accuracy: 1.0000\n",
            "Epoch 1/1\n",
            "1/1 [==============================] - 0s 158ms/step - loss: 8922.9570 - accuracy: 0.0000e+00\n"
          ],
          "name": "stdout"
        },
        {
          "output_type": "stream",
          "text": [
            "\r 52%|█████▏    | 261/500 [19:14<23:09,  5.81s/it]"
          ],
          "name": "stderr"
        },
        {
          "output_type": "stream",
          "text": [
            "Epoch 1/1\n",
            "1/1 [==============================] - 0s 157ms/step - loss: 0.3100 - accuracy: 1.0000\n",
            "Epoch 1/1\n",
            "1/1 [==============================] - 0s 161ms/step - loss: 6427.8296 - accuracy: 0.0000e+00\n",
            "Epoch 1/1\n",
            "1/1 [==============================] - 0s 153ms/step - loss: 5289.8159 - accuracy: 0.0000e+00\n"
          ],
          "name": "stdout"
        },
        {
          "output_type": "stream",
          "text": [
            "\r 52%|█████▏    | 262/500 [19:19<22:38,  5.71s/it]"
          ],
          "name": "stderr"
        },
        {
          "output_type": "stream",
          "text": [
            "Epoch 1/1\n",
            "1/1 [==============================] - 0s 149ms/step - loss: 9594.1025 - accuracy: 0.0000e+00\n",
            "Epoch 1/1\n",
            "1/1 [==============================] - 0s 142ms/step - loss: 0.2965 - accuracy: 1.0000\n",
            "Epoch 1/1\n",
            "1/1 [==============================] - 0s 146ms/step - loss: 2445.4458 - accuracy: 0.0000e+00\n"
          ],
          "name": "stdout"
        },
        {
          "output_type": "stream",
          "text": [
            "\r 53%|█████▎    | 263/500 [19:25<22:28,  5.69s/it]"
          ],
          "name": "stderr"
        },
        {
          "output_type": "stream",
          "text": [
            "Epoch 1/1\n",
            "1/1 [==============================] - 0s 143ms/step - loss: 3059.0615 - accuracy: 0.0000e+00\n",
            "Epoch 1/1\n",
            "1/1 [==============================] - 0s 143ms/step - loss: 8849.3037 - accuracy: 0.0000e+00\n",
            "Epoch 1/1\n",
            "1/1 [==============================] - 0s 144ms/step - loss: 0.2978 - accuracy: 1.0000\n"
          ],
          "name": "stdout"
        },
        {
          "output_type": "stream",
          "text": [
            "\r 53%|█████▎    | 264/500 [19:31<22:24,  5.70s/it]"
          ],
          "name": "stderr"
        },
        {
          "output_type": "stream",
          "text": [
            "Epoch 1/1\n",
            "1/1 [==============================] - 0s 166ms/step - loss: 0.3262 - accuracy: 1.0000\n",
            "Epoch 1/1\n",
            "1/1 [==============================] - 0s 162ms/step - loss: 0.3081 - accuracy: 1.0000\n",
            "Epoch 1/1\n",
            "1/1 [==============================] - 0s 166ms/step - loss: 26771.4980 - accuracy: 0.0000e+00\n"
          ],
          "name": "stdout"
        },
        {
          "output_type": "stream",
          "text": [
            "\r 53%|█████▎    | 265/500 [19:38<24:29,  6.25s/it]"
          ],
          "name": "stderr"
        },
        {
          "output_type": "stream",
          "text": [
            "Epoch 1/1\n",
            "1/1 [==============================] - 0s 166ms/step - loss: 0.3130 - accuracy: 1.0000\n",
            "Epoch 1/1\n",
            "1/1 [==============================] - 0s 173ms/step - loss: 17491.3965 - accuracy: 0.0000e+00\n",
            "Epoch 1/1\n",
            "1/1 [==============================] - 0s 205ms/step - loss: 20361.4727 - accuracy: 0.0000e+00\n"
          ],
          "name": "stdout"
        },
        {
          "output_type": "stream",
          "text": [
            "\r 53%|█████▎    | 266/500 [19:44<24:11,  6.20s/it]"
          ],
          "name": "stderr"
        },
        {
          "output_type": "stream",
          "text": [
            "Epoch 1/1\n",
            "1/1 [==============================] - 0s 191ms/step - loss: 0.3189 - accuracy: 1.0000\n",
            "Epoch 1/1\n",
            "1/1 [==============================] - 0s 190ms/step - loss: 0.3156 - accuracy: 1.0000\n",
            "Epoch 1/1\n",
            "1/1 [==============================] - 0s 193ms/step - loss: 0.3012 - accuracy: 1.0000\n"
          ],
          "name": "stdout"
        },
        {
          "output_type": "stream",
          "text": [
            "\r 53%|█████▎    | 267/500 [19:50<23:27,  6.04s/it]"
          ],
          "name": "stderr"
        },
        {
          "output_type": "stream",
          "text": [
            "Epoch 1/1\n",
            "1/1 [==============================] - 0s 185ms/step - loss: 1666.2838 - accuracy: 0.0000e+00\n",
            "Epoch 1/1\n",
            "1/1 [==============================] - 0s 181ms/step - loss: 11771.3604 - accuracy: 0.0000e+00\n",
            "Epoch 1/1\n",
            "1/1 [==============================] - 0s 163ms/step - loss: 26725.6582 - accuracy: 0.0000e+00\n"
          ],
          "name": "stdout"
        },
        {
          "output_type": "stream",
          "text": [
            "\r 54%|█████▎    | 268/500 [19:56<23:35,  6.10s/it]"
          ],
          "name": "stderr"
        },
        {
          "output_type": "stream",
          "text": [
            "Epoch 1/1\n",
            "1/1 [==============================] - 0s 161ms/step - loss: 0.3064 - accuracy: 1.0000\n",
            "Epoch 1/1\n",
            "1/1 [==============================] - 0s 157ms/step - loss: 20574.3613 - accuracy: 0.0000e+00\n",
            "Epoch 1/1\n",
            "1/1 [==============================] - 0s 159ms/step - loss: 3093.5278 - accuracy: 0.0000e+00\n"
          ],
          "name": "stdout"
        },
        {
          "output_type": "stream",
          "text": [
            "\r 54%|█████▍    | 269/500 [20:02<22:53,  5.94s/it]"
          ],
          "name": "stderr"
        },
        {
          "output_type": "stream",
          "text": [
            "Epoch 1/1\n",
            "1/1 [==============================] - 0s 161ms/step - loss: 1846.7679 - accuracy: 0.0000e+00\n",
            "Epoch 1/1\n",
            "1/1 [==============================] - 0s 159ms/step - loss: 7155.2402 - accuracy: 0.0000e+00\n",
            "Epoch 1/1\n",
            "1/1 [==============================] - 0s 170ms/step - loss: 0.3232 - accuracy: 1.0000\n"
          ],
          "name": "stdout"
        },
        {
          "output_type": "stream",
          "text": [
            "\r 54%|█████▍    | 270/500 [20:07<22:31,  5.88s/it]"
          ],
          "name": "stderr"
        },
        {
          "output_type": "stream",
          "text": [
            "Epoch 1/1\n",
            "1/1 [==============================] - 0s 147ms/step - loss: 0.3249 - accuracy: 1.0000\n",
            "Epoch 1/1\n",
            "1/1 [==============================] - 0s 171ms/step - loss: 1212.6981 - accuracy: 0.0000e+00\n",
            "Epoch 1/1\n",
            "1/1 [==============================] - 0s 142ms/step - loss: 0.3005 - accuracy: 1.0000\n"
          ],
          "name": "stdout"
        },
        {
          "output_type": "stream",
          "text": [
            "\r 54%|█████▍    | 271/500 [20:13<22:02,  5.78s/it]"
          ],
          "name": "stderr"
        },
        {
          "output_type": "stream",
          "text": [
            "Epoch 1/1\n",
            "1/1 [==============================] - 0s 142ms/step - loss: 0.3014 - accuracy: 1.0000\n",
            "Epoch 1/1\n",
            "1/1 [==============================] - 0s 142ms/step - loss: 0.3073 - accuracy: 1.0000\n",
            "Epoch 1/1\n",
            "1/1 [==============================] - 0s 171ms/step - loss: 0.3053 - accuracy: 1.0000\n"
          ],
          "name": "stdout"
        },
        {
          "output_type": "stream",
          "text": [
            "\r 54%|█████▍    | 272/500 [20:21<24:23,  6.42s/it]"
          ],
          "name": "stderr"
        },
        {
          "output_type": "stream",
          "text": [
            "Epoch 1/1\n",
            "1/1 [==============================] - 0s 161ms/step - loss: 1032.3564 - accuracy: 0.0000e+00\n",
            "Epoch 1/1\n",
            "1/1 [==============================] - 0s 161ms/step - loss: 0.3051 - accuracy: 1.0000\n",
            "Epoch 1/1\n",
            "1/1 [==============================] - 0s 169ms/step - loss: 0.3161 - accuracy: 1.0000\n"
          ],
          "name": "stdout"
        },
        {
          "output_type": "stream",
          "text": [
            "\r 55%|█████▍    | 273/500 [20:27<23:38,  6.25s/it]"
          ],
          "name": "stderr"
        },
        {
          "output_type": "stream",
          "text": [
            "Epoch 1/1\n",
            "1/1 [==============================] - 0s 169ms/step - loss: 0.3146 - accuracy: 1.0000\n",
            "Epoch 1/1\n",
            "1/1 [==============================] - 0s 172ms/step - loss: 849.5362 - accuracy: 0.0000e+00\n",
            "Epoch 1/1\n",
            "1/1 [==============================] - 0s 192ms/step - loss: 0.3048 - accuracy: 1.0000\n"
          ],
          "name": "stdout"
        },
        {
          "output_type": "stream",
          "text": [
            "\r 55%|█████▍    | 274/500 [20:33<23:09,  6.15s/it]"
          ],
          "name": "stderr"
        },
        {
          "output_type": "stream",
          "text": [
            "Epoch 1/1\n",
            "1/1 [==============================] - 0s 220ms/step - loss: 0.3058 - accuracy: 1.0000\n",
            "Epoch 1/1\n",
            "1/1 [==============================] - 0s 290ms/step - loss: 0.3135 - accuracy: 1.0000\n",
            "Epoch 1/1\n",
            "1/1 [==============================] - 0s 182ms/step - loss: 0.3071 - accuracy: 1.0000\n"
          ],
          "name": "stdout"
        },
        {
          "output_type": "stream",
          "text": [
            "\r 55%|█████▌    | 275/500 [20:39<23:03,  6.15s/it]"
          ],
          "name": "stderr"
        },
        {
          "output_type": "stream",
          "text": [
            "Epoch 1/1\n",
            "1/1 [==============================] - 0s 173ms/step - loss: 0.3032 - accuracy: 1.0000\n",
            "Epoch 1/1\n",
            "1/1 [==============================] - 0s 166ms/step - loss: 201.2980 - accuracy: 0.0000e+00\n",
            "Epoch 1/1\n",
            "1/1 [==============================] - 0s 164ms/step - loss: 0.3069 - accuracy: 1.0000\n"
          ],
          "name": "stdout"
        },
        {
          "output_type": "stream",
          "text": [
            "\r 55%|█████▌    | 276/500 [20:45<23:25,  6.27s/it]"
          ],
          "name": "stderr"
        },
        {
          "output_type": "stream",
          "text": [
            "Epoch 1/1\n",
            "1/1 [==============================] - 0s 155ms/step - loss: 0.2970 - accuracy: 1.0000\n",
            "Epoch 1/1\n",
            "1/1 [==============================] - 0s 154ms/step - loss: 13192.1680 - accuracy: 0.0000e+00\n",
            "Epoch 1/1\n",
            "1/1 [==============================] - 0s 153ms/step - loss: 7244.9600 - accuracy: 0.0000e+00\n"
          ],
          "name": "stdout"
        },
        {
          "output_type": "stream",
          "text": [
            "\r 55%|█████▌    | 277/500 [20:51<22:57,  6.18s/it]"
          ],
          "name": "stderr"
        },
        {
          "output_type": "stream",
          "text": [
            "Epoch 1/1\n",
            "1/1 [==============================] - 0s 172ms/step - loss: 0.3238 - accuracy: 1.0000\n",
            "Epoch 1/1\n",
            "1/1 [==============================] - 0s 170ms/step - loss: 11753.9941 - accuracy: 0.0000e+00\n",
            "Epoch 1/1\n",
            "1/1 [==============================] - 0s 149ms/step - loss: 0.2941 - accuracy: 1.0000\n"
          ],
          "name": "stdout"
        },
        {
          "output_type": "stream",
          "text": [
            "\r 56%|█████▌    | 278/500 [20:58<22:56,  6.20s/it]"
          ],
          "name": "stderr"
        },
        {
          "output_type": "stream",
          "text": [
            "Epoch 1/1\n",
            "1/1 [==============================] - 0s 147ms/step - loss: 4749.8652 - accuracy: 0.0000e+00\n",
            "Epoch 1/1\n",
            "1/1 [==============================] - 0s 145ms/step - loss: 0.3136 - accuracy: 1.0000\n",
            "Epoch 1/1\n",
            "1/1 [==============================] - 0s 143ms/step - loss: 0.3256 - accuracy: 1.0000\n"
          ],
          "name": "stdout"
        },
        {
          "output_type": "stream",
          "text": [
            "\r 56%|█████▌    | 279/500 [21:04<22:54,  6.22s/it]"
          ],
          "name": "stderr"
        },
        {
          "output_type": "stream",
          "text": [
            "Epoch 1/1\n",
            "1/1 [==============================] - 0s 142ms/step - loss: 0.3147 - accuracy: 1.0000\n",
            "Epoch 1/1\n",
            "1/1 [==============================] - 0s 171ms/step - loss: 0.3165 - accuracy: 1.0000\n",
            "Epoch 1/1\n",
            "1/1 [==============================] - 0s 146ms/step - loss: 0.3004 - accuracy: 1.0000\n"
          ],
          "name": "stdout"
        },
        {
          "output_type": "stream",
          "text": [
            "\r 56%|█████▌    | 280/500 [21:12<25:17,  6.90s/it]"
          ],
          "name": "stderr"
        },
        {
          "output_type": "stream",
          "text": [
            "Epoch 1/1\n",
            "1/1 [==============================] - 0s 177ms/step - loss: 8703.5264 - accuracy: 0.0000e+00\n",
            "Epoch 1/1\n",
            "1/1 [==============================] - 0s 163ms/step - loss: 6347.1240 - accuracy: 0.0000e+00\n",
            "Epoch 1/1\n",
            "1/1 [==============================] - 0s 163ms/step - loss: 335.4344 - accuracy: 0.0000e+00\n"
          ],
          "name": "stdout"
        },
        {
          "output_type": "stream",
          "text": [
            "\r 56%|█████▌    | 281/500 [21:19<25:08,  6.89s/it]"
          ],
          "name": "stderr"
        },
        {
          "output_type": "stream",
          "text": [
            "Epoch 1/1\n",
            "1/1 [==============================] - 0s 174ms/step - loss: 0.3031 - accuracy: 1.0000\n",
            "Epoch 1/1\n",
            "1/1 [==============================] - 0s 163ms/step - loss: 31410.6191 - accuracy: 0.0000e+00\n",
            "Epoch 1/1\n",
            "1/1 [==============================] - 0s 183ms/step - loss: 0.3076 - accuracy: 1.0000\n"
          ],
          "name": "stdout"
        },
        {
          "output_type": "stream",
          "text": [
            "\r 56%|█████▋    | 282/500 [21:26<24:32,  6.75s/it]"
          ],
          "name": "stderr"
        },
        {
          "output_type": "stream",
          "text": [
            "Epoch 1/1\n",
            "1/1 [==============================] - 0s 180ms/step - loss: 3305.7366 - accuracy: 0.0000e+00\n",
            "Epoch 1/1\n",
            "1/1 [==============================] - 0s 194ms/step - loss: 0.3152 - accuracy: 1.0000\n",
            "Epoch 1/1\n",
            "1/1 [==============================] - 0s 190ms/step - loss: 22744.9551 - accuracy: 0.0000e+00\n"
          ],
          "name": "stdout"
        },
        {
          "output_type": "stream",
          "text": [
            "\r 57%|█████▋    | 283/500 [21:32<23:43,  6.56s/it]"
          ],
          "name": "stderr"
        },
        {
          "output_type": "stream",
          "text": [
            "Epoch 1/1\n",
            "1/1 [==============================] - 0s 182ms/step - loss: 0.3086 - accuracy: 1.0000\n",
            "Epoch 1/1\n",
            "1/1 [==============================] - 0s 176ms/step - loss: 0.2994 - accuracy: 1.0000\n",
            "Epoch 1/1\n",
            "1/1 [==============================] - 0s 164ms/step - loss: 0.3139 - accuracy: 1.0000\n"
          ],
          "name": "stdout"
        },
        {
          "output_type": "stream",
          "text": [
            "\r 57%|█████▋    | 284/500 [21:38<23:16,  6.47s/it]"
          ],
          "name": "stderr"
        },
        {
          "output_type": "stream",
          "text": [
            "Epoch 1/1\n",
            "1/1 [==============================] - 0s 163ms/step - loss: 0.3204 - accuracy: 1.0000\n",
            "Epoch 1/1\n",
            "1/1 [==============================] - 0s 158ms/step - loss: 335.6019 - accuracy: 0.0000e+00\n",
            "Epoch 1/1\n",
            "1/1 [==============================] - 0s 156ms/step - loss: 872.2169 - accuracy: 0.0000e+00\n"
          ],
          "name": "stdout"
        },
        {
          "output_type": "stream",
          "text": [
            "\r 57%|█████▋    | 285/500 [21:44<22:59,  6.42s/it]"
          ],
          "name": "stderr"
        },
        {
          "output_type": "stream",
          "text": [
            "Epoch 1/1\n",
            "1/1 [==============================] - 0s 156ms/step - loss: 0.3323 - accuracy: 1.0000\n",
            "Epoch 1/1\n",
            "1/1 [==============================] - 0s 152ms/step - loss: 0.3139 - accuracy: 1.0000\n",
            "Epoch 1/1\n",
            "1/1 [==============================] - 0s 154ms/step - loss: 0.3096 - accuracy: 1.0000\n"
          ],
          "name": "stdout"
        },
        {
          "output_type": "stream",
          "text": [
            "\r 57%|█████▋    | 286/500 [21:50<22:18,  6.26s/it]"
          ],
          "name": "stderr"
        },
        {
          "output_type": "stream",
          "text": [
            "Epoch 1/1\n",
            "1/1 [==============================] - 0s 151ms/step - loss: 0.3206 - accuracy: 1.0000\n",
            "Epoch 1/1\n",
            "1/1 [==============================] - 0s 154ms/step - loss: 0.3151 - accuracy: 1.0000\n",
            "Epoch 1/1\n",
            "1/1 [==============================] - 0s 144ms/step - loss: 0.3066 - accuracy: 1.0000\n"
          ],
          "name": "stdout"
        },
        {
          "output_type": "stream",
          "text": [
            "\r 57%|█████▋    | 287/500 [21:57<22:39,  6.38s/it]"
          ],
          "name": "stderr"
        },
        {
          "output_type": "stream",
          "text": [
            "Epoch 1/1\n",
            "1/1 [==============================] - 0s 144ms/step - loss: 2543.0510 - accuracy: 0.0000e+00\n",
            "Epoch 1/1\n",
            "1/1 [==============================] - 0s 148ms/step - loss: 11926.4775 - accuracy: 0.0000e+00\n",
            "Epoch 1/1\n",
            "1/1 [==============================] - 0s 143ms/step - loss: 0.3055 - accuracy: 1.0000\n"
          ],
          "name": "stdout"
        },
        {
          "output_type": "stream",
          "text": [
            "\r 58%|█████▊    | 288/500 [22:03<22:25,  6.35s/it]"
          ],
          "name": "stderr"
        },
        {
          "output_type": "stream",
          "text": [
            "Epoch 1/1\n",
            "1/1 [==============================] - 0s 177ms/step - loss: 2438.2517 - accuracy: 0.0000e+00\n",
            "Epoch 1/1\n",
            "1/1 [==============================] - 0s 164ms/step - loss: 1796.7240 - accuracy: 0.0000e+00\n",
            "Epoch 1/1\n",
            "1/1 [==============================] - 0s 164ms/step - loss: 32264.0703 - accuracy: 0.0000e+00\n"
          ],
          "name": "stdout"
        },
        {
          "output_type": "stream",
          "text": [
            "\r 58%|█████▊    | 289/500 [22:11<24:18,  6.91s/it]"
          ],
          "name": "stderr"
        },
        {
          "output_type": "stream",
          "text": [
            "Epoch 1/1\n",
            "1/1 [==============================] - 0s 171ms/step - loss: 0.3197 - accuracy: 1.0000\n",
            "Epoch 1/1\n",
            "1/1 [==============================] - 0s 172ms/step - loss: 0.3144 - accuracy: 1.0000\n",
            "Epoch 1/1\n",
            "1/1 [==============================] - 0s 207ms/step - loss: 16520.3867 - accuracy: 0.0000e+00\n"
          ],
          "name": "stdout"
        },
        {
          "output_type": "stream",
          "text": [
            "\r 58%|█████▊    | 290/500 [22:18<24:13,  6.92s/it]"
          ],
          "name": "stderr"
        },
        {
          "output_type": "stream",
          "text": [
            "Epoch 1/1\n",
            "1/1 [==============================] - 0s 178ms/step - loss: 2983.9797 - accuracy: 0.0000e+00\n",
            "Epoch 1/1\n",
            "1/1 [==============================] - 0s 197ms/step - loss: 803.9406 - accuracy: 0.0000e+00\n",
            "Epoch 1/1\n",
            "1/1 [==============================] - 0s 195ms/step - loss: 0.3025 - accuracy: 1.0000\n"
          ],
          "name": "stdout"
        },
        {
          "output_type": "stream",
          "text": [
            "\r 58%|█████▊    | 291/500 [22:26<24:22,  7.00s/it]"
          ],
          "name": "stderr"
        },
        {
          "output_type": "stream",
          "text": [
            "Epoch 1/1\n",
            "1/1 [==============================] - 0s 185ms/step - loss: 6456.6279 - accuracy: 0.0000e+00\n",
            "Epoch 1/1\n",
            "1/1 [==============================] - 0s 187ms/step - loss: 0.3103 - accuracy: 1.0000\n",
            "Epoch 1/1\n",
            "1/1 [==============================] - 0s 183ms/step - loss: 0.3009 - accuracy: 1.0000\n"
          ],
          "name": "stdout"
        },
        {
          "output_type": "stream",
          "text": [
            "\r 58%|█████▊    | 292/500 [22:33<24:17,  7.01s/it]"
          ],
          "name": "stderr"
        },
        {
          "output_type": "stream",
          "text": [
            "Epoch 1/1\n",
            "1/1 [==============================] - 0s 164ms/step - loss: 0.2943 - accuracy: 1.0000\n",
            "Epoch 1/1\n",
            "1/1 [==============================] - 0s 159ms/step - loss: 0.3069 - accuracy: 1.0000\n",
            "Epoch 1/1\n",
            "1/1 [==============================] - 0s 171ms/step - loss: 0.3003 - accuracy: 1.0000\n"
          ],
          "name": "stdout"
        },
        {
          "output_type": "stream",
          "text": [
            "\r 59%|█████▊    | 293/500 [22:40<24:10,  7.01s/it]"
          ],
          "name": "stderr"
        },
        {
          "output_type": "stream",
          "text": [
            "Epoch 1/1\n",
            "1/1 [==============================] - 0s 166ms/step - loss: 3461.9348 - accuracy: 0.0000e+00\n",
            "Epoch 1/1\n",
            "1/1 [==============================] - 0s 152ms/step - loss: 0.3002 - accuracy: 1.0000\n",
            "Epoch 1/1\n",
            "1/1 [==============================] - 0s 163ms/step - loss: 14432.1445 - accuracy: 0.0000e+00\n"
          ],
          "name": "stdout"
        },
        {
          "output_type": "stream",
          "text": [
            "\r 59%|█████▉    | 294/500 [22:46<23:39,  6.89s/it]"
          ],
          "name": "stderr"
        },
        {
          "output_type": "stream",
          "text": [
            "Epoch 1/1\n",
            "1/1 [==============================] - 0s 152ms/step - loss: 0.3236 - accuracy: 1.0000\n",
            "Epoch 1/1\n",
            "1/1 [==============================] - 0s 149ms/step - loss: 0.3053 - accuracy: 1.0000\n",
            "Epoch 1/1\n",
            "1/1 [==============================] - 0s 149ms/step - loss: 0.3021 - accuracy: 1.0000\n"
          ],
          "name": "stdout"
        },
        {
          "output_type": "stream",
          "text": [
            "\r 59%|█████▉    | 295/500 [22:53<23:19,  6.82s/it]"
          ],
          "name": "stderr"
        },
        {
          "output_type": "stream",
          "text": [
            "Epoch 1/1\n",
            "1/1 [==============================] - 0s 148ms/step - loss: 0.3107 - accuracy: 1.0000\n",
            "Epoch 1/1\n",
            "1/1 [==============================] - 0s 139ms/step - loss: 0.3183 - accuracy: 1.0000\n",
            "Epoch 1/1\n",
            "1/1 [==============================] - 0s 143ms/step - loss: 0.3059 - accuracy: 1.0000\n"
          ],
          "name": "stdout"
        },
        {
          "output_type": "stream",
          "text": [
            "\r 59%|█████▉    | 296/500 [23:00<23:52,  7.02s/it]"
          ],
          "name": "stderr"
        },
        {
          "output_type": "stream",
          "text": [
            "Epoch 1/1\n",
            "1/1 [==============================] - 0s 148ms/step - loss: 8536.6094 - accuracy: 0.0000e+00\n",
            "Epoch 1/1\n",
            "1/1 [==============================] - 0s 144ms/step - loss: 0.3200 - accuracy: 1.0000\n",
            "Epoch 1/1\n",
            "1/1 [==============================] - 0s 178ms/step - loss: 15937.2002 - accuracy: 0.0000e+00\n"
          ],
          "name": "stdout"
        },
        {
          "output_type": "stream",
          "text": [
            "\r 59%|█████▉    | 297/500 [23:10<26:02,  7.69s/it]"
          ],
          "name": "stderr"
        },
        {
          "output_type": "stream",
          "text": [
            "Epoch 1/1\n",
            "1/1 [==============================] - 0s 174ms/step - loss: 0.3008 - accuracy: 1.0000\n",
            "Epoch 1/1\n",
            "1/1 [==============================] - 0s 186ms/step - loss: 0.2997 - accuracy: 1.0000\n",
            "Epoch 1/1\n",
            "1/1 [==============================] - 0s 170ms/step - loss: 40076.8242 - accuracy: 0.0000e+00\n"
          ],
          "name": "stdout"
        },
        {
          "output_type": "stream",
          "text": [
            "\r 60%|█████▉    | 298/500 [23:17<25:09,  7.47s/it]"
          ],
          "name": "stderr"
        },
        {
          "output_type": "stream",
          "text": [
            "Epoch 1/1\n",
            "1/1 [==============================] - 0s 164ms/step - loss: 0.2971 - accuracy: 1.0000\n",
            "Epoch 1/1\n",
            "1/1 [==============================] - 0s 176ms/step - loss: 0.3135 - accuracy: 1.0000\n",
            "Epoch 1/1\n",
            "1/1 [==============================] - 0s 171ms/step - loss: 18262.3730 - accuracy: 0.0000e+00\n"
          ],
          "name": "stdout"
        },
        {
          "output_type": "stream",
          "text": [
            "\r 60%|█████▉    | 299/500 [23:23<23:49,  7.11s/it]"
          ],
          "name": "stderr"
        },
        {
          "output_type": "stream",
          "text": [
            "Epoch 1/1\n",
            "1/1 [==============================] - 0s 192ms/step - loss: 0.3183 - accuracy: 1.0000\n",
            "Epoch 1/1\n",
            "1/1 [==============================] - 0s 192ms/step - loss: 0.3189 - accuracy: 1.0000\n",
            "Epoch 1/1\n",
            "1/1 [==============================] - 0s 191ms/step - loss: 0.3044 - accuracy: 1.0000\n"
          ],
          "name": "stdout"
        },
        {
          "output_type": "stream",
          "text": [
            "\r 60%|██████    | 300/500 [23:30<23:27,  7.04s/it]"
          ],
          "name": "stderr"
        },
        {
          "output_type": "stream",
          "text": [
            "Epoch 1/1\n",
            "1/1 [==============================] - 0s 191ms/step - loss: 0.3209 - accuracy: 1.0000\n",
            "Epoch 1/1\n",
            "1/1 [==============================] - 0s 181ms/step - loss: 68667.8828 - accuracy: 0.0000e+00\n",
            "Epoch 1/1\n",
            "1/1 [==============================] - 0s 174ms/step - loss: 0.3319 - accuracy: 1.0000\n"
          ],
          "name": "stdout"
        },
        {
          "output_type": "stream",
          "text": [
            "\r 60%|██████    | 301/500 [23:37<23:29,  7.08s/it]"
          ],
          "name": "stderr"
        },
        {
          "output_type": "stream",
          "text": [
            "Epoch 1/1\n",
            "1/1 [==============================] - 0s 169ms/step - loss: 4781.4243 - accuracy: 0.0000e+00\n",
            "Epoch 1/1\n",
            "1/1 [==============================] - 0s 160ms/step - loss: 18326.3750 - accuracy: 0.0000e+00\n",
            "Epoch 1/1\n",
            "1/1 [==============================] - 0s 157ms/step - loss: 16966.5020 - accuracy: 0.0000e+00\n"
          ],
          "name": "stdout"
        },
        {
          "output_type": "stream",
          "text": [
            "\r 60%|██████    | 302/500 [23:44<23:36,  7.15s/it]"
          ],
          "name": "stderr"
        },
        {
          "output_type": "stream",
          "text": [
            "Epoch 1/1\n",
            "1/1 [==============================] - 0s 159ms/step - loss: 440.4278 - accuracy: 0.0000e+00\n",
            "Epoch 1/1\n",
            "1/1 [==============================] - 0s 156ms/step - loss: 0.3164 - accuracy: 1.0000\n",
            "Epoch 1/1\n",
            "1/1 [==============================] - 0s 161ms/step - loss: 0.3146 - accuracy: 1.0000\n"
          ],
          "name": "stdout"
        },
        {
          "output_type": "stream",
          "text": [
            "\r 61%|██████    | 303/500 [23:52<23:43,  7.23s/it]"
          ],
          "name": "stderr"
        },
        {
          "output_type": "stream",
          "text": [
            "Epoch 1/1\n",
            "1/1 [==============================] - 0s 150ms/step - loss: 0.2963 - accuracy: 1.0000\n",
            "Epoch 1/1\n",
            "1/1 [==============================] - 0s 174ms/step - loss: 0.3063 - accuracy: 1.0000\n",
            "Epoch 1/1\n",
            "1/1 [==============================] - 0s 148ms/step - loss: 5139.3042 - accuracy: 0.0000e+00\n"
          ],
          "name": "stdout"
        },
        {
          "output_type": "stream",
          "text": [
            "\r 61%|██████    | 304/500 [23:59<23:49,  7.29s/it]"
          ],
          "name": "stderr"
        },
        {
          "output_type": "stream",
          "text": [
            "Epoch 1/1\n",
            "1/1 [==============================] - 0s 147ms/step - loss: 393.0121 - accuracy: 0.0000e+00\n",
            "Epoch 1/1\n",
            "1/1 [==============================] - 0s 144ms/step - loss: 1558.0431 - accuracy: 0.0000e+00\n",
            "Epoch 1/1\n",
            "1/1 [==============================] - 0s 145ms/step - loss: 0.3068 - accuracy: 1.0000\n"
          ],
          "name": "stdout"
        },
        {
          "output_type": "stream",
          "text": [
            "\r 61%|██████    | 305/500 [24:06<23:34,  7.25s/it]"
          ],
          "name": "stderr"
        },
        {
          "output_type": "stream",
          "text": [
            "Epoch 1/1\n",
            "1/1 [==============================] - 0s 185ms/step - loss: 0.3153 - accuracy: 1.0000\n",
            "Epoch 1/1\n",
            "1/1 [==============================] - 0s 166ms/step - loss: 13340.1338 - accuracy: 0.0000e+00\n",
            "Epoch 1/1\n",
            "1/1 [==============================] - 0s 164ms/step - loss: 0.3223 - accuracy: 1.0000\n"
          ],
          "name": "stdout"
        },
        {
          "output_type": "stream",
          "text": [
            "\r 61%|██████    | 306/500 [24:15<25:18,  7.83s/it]"
          ],
          "name": "stderr"
        },
        {
          "output_type": "stream",
          "text": [
            "Epoch 1/1\n",
            "1/1 [==============================] - 0s 170ms/step - loss: 0.3120 - accuracy: 1.0000\n",
            "Epoch 1/1\n",
            "1/1 [==============================] - 0s 165ms/step - loss: 2306.2988 - accuracy: 0.0000e+00\n",
            "Epoch 1/1\n",
            "1/1 [==============================] - 0s 175ms/step - loss: 0.3064 - accuracy: 1.0000\n"
          ],
          "name": "stdout"
        },
        {
          "output_type": "stream",
          "text": [
            "\r 61%|██████▏   | 307/500 [24:22<24:23,  7.58s/it]"
          ],
          "name": "stderr"
        },
        {
          "output_type": "stream",
          "text": [
            "Epoch 1/1\n",
            "1/1 [==============================] - 0s 213ms/step - loss: 1063.3965 - accuracy: 0.0000e+00\n",
            "Epoch 1/1\n",
            "1/1 [==============================] - 0s 227ms/step - loss: 0.2978 - accuracy: 1.0000\n",
            "Epoch 1/1\n",
            "1/1 [==============================] - 0s 195ms/step - loss: 12457.8447 - accuracy: 0.0000e+00\n"
          ],
          "name": "stdout"
        },
        {
          "output_type": "stream",
          "text": [
            "\r 62%|██████▏   | 308/500 [24:30<23:59,  7.49s/it]"
          ],
          "name": "stderr"
        },
        {
          "output_type": "stream",
          "text": [
            "Epoch 1/1\n",
            "1/1 [==============================] - 0s 193ms/step - loss: 0.3019 - accuracy: 1.0000\n",
            "Epoch 1/1\n",
            "1/1 [==============================] - 0s 178ms/step - loss: 4201.2432 - accuracy: 0.0000e+00\n",
            "Epoch 1/1\n",
            "1/1 [==============================] - 0s 166ms/step - loss: 0.3148 - accuracy: 1.0000\n"
          ],
          "name": "stdout"
        },
        {
          "output_type": "stream",
          "text": [
            "\r 62%|██████▏   | 309/500 [24:37<23:33,  7.40s/it]"
          ],
          "name": "stderr"
        },
        {
          "output_type": "stream",
          "text": [
            "Epoch 1/1\n",
            "1/1 [==============================] - 0s 165ms/step - loss: 9819.5293 - accuracy: 0.0000e+00\n",
            "Epoch 1/1\n",
            "1/1 [==============================] - 0s 159ms/step - loss: 0.3047 - accuracy: 1.0000\n",
            "Epoch 1/1\n",
            "1/1 [==============================] - 0s 164ms/step - loss: 0.3052 - accuracy: 1.0000\n"
          ],
          "name": "stdout"
        },
        {
          "output_type": "stream",
          "text": [
            "\r 62%|██████▏   | 310/500 [24:44<23:21,  7.38s/it]"
          ],
          "name": "stderr"
        },
        {
          "output_type": "stream",
          "text": [
            "Epoch 1/1\n",
            "1/1 [==============================] - 0s 158ms/step - loss: 1155.8276 - accuracy: 0.0000e+00\n",
            "Epoch 1/1\n",
            "1/1 [==============================] - 0s 154ms/step - loss: 925.9382 - accuracy: 0.0000e+00\n",
            "Epoch 1/1\n",
            "1/1 [==============================] - 0s 160ms/step - loss: 23297.9062 - accuracy: 0.0000e+00\n"
          ],
          "name": "stdout"
        },
        {
          "output_type": "stream",
          "text": [
            "\r 62%|██████▏   | 311/500 [24:52<23:13,  7.37s/it]"
          ],
          "name": "stderr"
        },
        {
          "output_type": "stream",
          "text": [
            "Epoch 1/1\n",
            "1/1 [==============================] - 0s 155ms/step - loss: 0.3025 - accuracy: 1.0000\n",
            "Epoch 1/1\n",
            "1/1 [==============================] - 0s 155ms/step - loss: 0.3119 - accuracy: 1.0000\n",
            "Epoch 1/1\n",
            "1/1 [==============================] - 0s 149ms/step - loss: 22343.3770 - accuracy: 0.0000e+00\n"
          ],
          "name": "stdout"
        },
        {
          "output_type": "stream",
          "text": [
            "\r 62%|██████▏   | 312/500 [24:59<23:10,  7.39s/it]"
          ],
          "name": "stderr"
        },
        {
          "output_type": "stream",
          "text": [
            "Epoch 1/1\n",
            "1/1 [==============================] - 0s 154ms/step - loss: 0.3191 - accuracy: 1.0000\n",
            "Epoch 1/1\n",
            "1/1 [==============================] - 0s 147ms/step - loss: 0.3051 - accuracy: 1.0000\n",
            "Epoch 1/1\n",
            "1/1 [==============================] - 0s 147ms/step - loss: 73422.9766 - accuracy: 0.0000e+00\n"
          ],
          "name": "stdout"
        },
        {
          "output_type": "stream",
          "text": [
            "\r 63%|██████▎   | 313/500 [25:06<23:05,  7.41s/it]"
          ],
          "name": "stderr"
        },
        {
          "output_type": "stream",
          "text": [
            "Epoch 1/1\n",
            "1/1 [==============================] - 0s 149ms/step - loss: 0.3136 - accuracy: 1.0000\n",
            "Epoch 1/1\n",
            "1/1 [==============================] - 0s 176ms/step - loss: 94.5012 - accuracy: 0.0000e+00\n",
            "Epoch 1/1\n",
            "1/1 [==============================] - 0s 168ms/step - loss: 11511.1836 - accuracy: 0.0000e+00\n"
          ],
          "name": "stdout"
        },
        {
          "output_type": "stream",
          "text": [
            "\r 63%|██████▎   | 314/500 [25:16<25:14,  8.14s/it]"
          ],
          "name": "stderr"
        },
        {
          "output_type": "stream",
          "text": [
            "Epoch 1/1\n",
            "1/1 [==============================] - 0s 168ms/step - loss: 0.3115 - accuracy: 1.0000\n",
            "Epoch 1/1\n",
            "1/1 [==============================] - 0s 167ms/step - loss: 11777.8574 - accuracy: 0.0000e+00\n",
            "Epoch 1/1\n",
            "1/1 [==============================] - 0s 172ms/step - loss: 14955.8271 - accuracy: 0.0000e+00\n"
          ],
          "name": "stdout"
        },
        {
          "output_type": "stream",
          "text": [
            "\r 63%|██████▎   | 315/500 [25:24<24:45,  8.03s/it]"
          ],
          "name": "stderr"
        },
        {
          "output_type": "stream",
          "text": [
            "Epoch 1/1\n",
            "1/1 [==============================] - 0s 198ms/step - loss: 1367.4972 - accuracy: 0.0000e+00\n",
            "Epoch 1/1\n",
            "1/1 [==============================] - 0s 188ms/step - loss: 0.3026 - accuracy: 1.0000\n",
            "Epoch 1/1\n",
            "1/1 [==============================] - 0s 199ms/step - loss: 9244.2051 - accuracy: 0.0000e+00\n"
          ],
          "name": "stdout"
        },
        {
          "output_type": "stream",
          "text": [
            "\r 63%|██████▎   | 316/500 [25:32<24:26,  7.97s/it]"
          ],
          "name": "stderr"
        },
        {
          "output_type": "stream",
          "text": [
            "Epoch 1/1\n",
            "1/1 [==============================] - 0s 204ms/step - loss: 0.3096 - accuracy: 1.0000\n",
            "Epoch 1/1\n",
            "1/1 [==============================] - 0s 195ms/step - loss: 0.2833 - accuracy: 1.0000\n",
            "Epoch 1/1\n",
            "1/1 [==============================] - 0s 184ms/step - loss: 11879.1250 - accuracy: 0.0000e+00\n"
          ],
          "name": "stdout"
        },
        {
          "output_type": "stream",
          "text": [
            "\r 63%|██████▎   | 317/500 [25:40<24:12,  7.94s/it]"
          ],
          "name": "stderr"
        },
        {
          "output_type": "stream",
          "text": [
            "Epoch 1/1\n",
            "\r1/1 [==============================] - 0s 178ms/step - loss: 9366.2588 - accuracy: 0.0000e+00\n",
            "Epoch 1/1\n",
            "1/1 [==============================] - 0s 265ms/step - loss: 0.3077 - accuracy: 1.0000\n",
            "Epoch 1/1\n",
            "1/1 [==============================] - 0s 254ms/step - loss: 0.3174 - accuracy: 1.0000\n"
          ],
          "name": "stdout"
        },
        {
          "output_type": "stream",
          "text": [
            "\r 64%|██████▎   | 318/500 [25:49<25:06,  8.28s/it]"
          ],
          "name": "stderr"
        },
        {
          "output_type": "stream",
          "text": [
            "Epoch 1/1\n",
            "1/1 [==============================] - 0s 157ms/step - loss: 0.3252 - accuracy: 1.0000\n",
            "Epoch 1/1\n",
            "1/1 [==============================] - 0s 155ms/step - loss: 0.3202 - accuracy: 1.0000\n",
            "Epoch 1/1\n",
            "1/1 [==============================] - 0s 158ms/step - loss: 5030.0229 - accuracy: 0.0000e+00\n"
          ],
          "name": "stdout"
        },
        {
          "output_type": "stream",
          "text": [
            "\r 64%|██████▍   | 319/500 [25:56<24:26,  8.10s/it]"
          ],
          "name": "stderr"
        },
        {
          "output_type": "stream",
          "text": [
            "Epoch 1/1\n",
            "1/1 [==============================] - 0s 155ms/step - loss: 10116.0498 - accuracy: 0.0000e+00\n",
            "Epoch 1/1\n",
            "1/1 [==============================] - 0s 178ms/step - loss: 0.2968 - accuracy: 1.0000\n",
            "Epoch 1/1\n",
            "1/1 [==============================] - 0s 147ms/step - loss: 0.3153 - accuracy: 1.0000\n"
          ],
          "name": "stdout"
        },
        {
          "output_type": "stream",
          "text": [
            "\r 64%|██████▍   | 320/500 [26:04<23:56,  7.98s/it]"
          ],
          "name": "stderr"
        },
        {
          "output_type": "stream",
          "text": [
            "Epoch 1/1\n",
            "1/1 [==============================] - 0s 144ms/step - loss: 0.3137 - accuracy: 1.0000\n",
            "Epoch 1/1\n",
            "1/1 [==============================] - 0s 141ms/step - loss: 0.3178 - accuracy: 1.0000\n",
            "Epoch 1/1\n",
            "1/1 [==============================] - 0s 150ms/step - loss: 0.3170 - accuracy: 1.0000\n"
          ],
          "name": "stdout"
        },
        {
          "output_type": "stream",
          "text": [
            "\r 64%|██████▍   | 321/500 [26:12<23:28,  7.87s/it]"
          ],
          "name": "stderr"
        },
        {
          "output_type": "stream",
          "text": [
            "Epoch 1/1\n",
            "1/1 [==============================] - 0s 145ms/step - loss: 0.3195 - accuracy: 1.0000\n",
            "Epoch 1/1\n",
            "1/1 [==============================] - 0s 184ms/step - loss: 4135.9507 - accuracy: 0.0000e+00\n",
            "Epoch 1/1\n",
            "1/1 [==============================] - 0s 165ms/step - loss: 22864.9609 - accuracy: 0.0000e+00\n"
          ],
          "name": "stdout"
        },
        {
          "output_type": "stream",
          "text": [
            "\r 64%|██████▍   | 322/500 [26:22<25:08,  8.48s/it]"
          ],
          "name": "stderr"
        },
        {
          "output_type": "stream",
          "text": [
            "Epoch 1/1\n",
            "1/1 [==============================] - 0s 167ms/step - loss: 5141.5391 - accuracy: 0.0000e+00\n",
            "Epoch 1/1\n",
            "1/1 [==============================] - 0s 179ms/step - loss: 0.3195 - accuracy: 1.0000\n",
            "Epoch 1/1\n",
            "1/1 [==============================] - 0s 170ms/step - loss: 7127.0835 - accuracy: 0.0000e+00\n"
          ],
          "name": "stdout"
        },
        {
          "output_type": "stream",
          "text": [
            "\r 65%|██████▍   | 323/500 [26:29<24:13,  8.21s/it]"
          ],
          "name": "stderr"
        },
        {
          "output_type": "stream",
          "text": [
            "Epoch 1/1\n",
            "1/1 [==============================] - 0s 183ms/step - loss: 3201.0928 - accuracy: 0.0000e+00\n",
            "Epoch 1/1\n",
            "1/1 [==============================] - 0s 182ms/step - loss: 512.4403 - accuracy: 0.0000e+00\n",
            "Epoch 1/1\n",
            "1/1 [==============================] - 0s 226ms/step - loss: 20446.5137 - accuracy: 0.0000e+00\n"
          ],
          "name": "stdout"
        },
        {
          "output_type": "stream",
          "text": [
            "\r 65%|██████▍   | 324/500 [26:37<23:43,  8.09s/it]"
          ],
          "name": "stderr"
        },
        {
          "output_type": "stream",
          "text": [
            "Epoch 1/1\n",
            "1/1 [==============================] - 0s 225ms/step - loss: 0.3142 - accuracy: 1.0000\n",
            "Epoch 1/1\n",
            "1/1 [==============================] - 0s 211ms/step - loss: 0.3056 - accuracy: 1.0000\n",
            "Epoch 1/1\n",
            "1/1 [==============================] - 0s 201ms/step - loss: 0.3018 - accuracy: 1.0000\n"
          ],
          "name": "stdout"
        },
        {
          "output_type": "stream",
          "text": [
            "\r 65%|██████▌   | 325/500 [26:45<23:42,  8.13s/it]"
          ],
          "name": "stderr"
        },
        {
          "output_type": "stream",
          "text": [
            "Epoch 1/1\n",
            "1/1 [==============================] - 0s 188ms/step - loss: 0.3036 - accuracy: 1.0000\n",
            "Epoch 1/1\n",
            "1/1 [==============================] - 0s 179ms/step - loss: 361.6488 - accuracy: 0.0000e+00\n",
            "Epoch 1/1\n",
            "1/1 [==============================] - 0s 184ms/step - loss: 4445.2017 - accuracy: 0.0000e+00\n"
          ],
          "name": "stdout"
        },
        {
          "output_type": "stream",
          "text": [
            "\r 65%|██████▌   | 326/500 [26:53<23:37,  8.15s/it]"
          ],
          "name": "stderr"
        },
        {
          "output_type": "stream",
          "text": [
            "Epoch 1/1\n",
            "1/1 [==============================] - 0s 167ms/step - loss: 0.3010 - accuracy: 1.0000\n",
            "Epoch 1/1\n",
            "1/1 [==============================] - 0s 172ms/step - loss: 7678.8984 - accuracy: 0.0000e+00\n",
            "Epoch 1/1\n",
            "1/1 [==============================] - 0s 169ms/step - loss: 0.2981 - accuracy: 1.0000\n"
          ],
          "name": "stdout"
        },
        {
          "output_type": "stream",
          "text": [
            "\r 65%|██████▌   | 327/500 [27:02<23:30,  8.15s/it]"
          ],
          "name": "stderr"
        },
        {
          "output_type": "stream",
          "text": [
            "Epoch 1/1\n",
            "1/1 [==============================] - 0s 165ms/step - loss: 5950.7437 - accuracy: 0.0000e+00\n",
            "Epoch 1/1\n",
            "1/1 [==============================] - 0s 195ms/step - loss: 0.3022 - accuracy: 1.0000\n",
            "Epoch 1/1\n",
            "1/1 [==============================] - 0s 154ms/step - loss: 1.0002 - accuracy: 0.0000e+00\n"
          ],
          "name": "stdout"
        },
        {
          "output_type": "stream",
          "text": [
            "\r 66%|██████▌   | 328/500 [27:10<23:24,  8.17s/it]"
          ],
          "name": "stderr"
        },
        {
          "output_type": "stream",
          "text": [
            "Epoch 1/1\n",
            "1/1 [==============================] - 0s 154ms/step - loss: 636.3422 - accuracy: 0.0000e+00\n",
            "Epoch 1/1\n",
            "1/1 [==============================] - 0s 159ms/step - loss: 9246.3428 - accuracy: 0.0000e+00\n",
            "Epoch 1/1\n",
            "1/1 [==============================] - 0s 155ms/step - loss: 0.3109 - accuracy: 1.0000\n"
          ],
          "name": "stdout"
        },
        {
          "output_type": "stream",
          "text": [
            "\r 66%|██████▌   | 329/500 [27:18<23:18,  8.18s/it]"
          ],
          "name": "stderr"
        },
        {
          "output_type": "stream",
          "text": [
            "Epoch 1/1\n",
            "1/1 [==============================] - 0s 147ms/step - loss: 0.3127 - accuracy: 1.0000\n",
            "Epoch 1/1\n",
            "1/1 [==============================] - 0s 153ms/step - loss: 23354.4160 - accuracy: 0.0000e+00\n",
            "Epoch 1/1\n",
            "1/1 [==============================] - 0s 217ms/step - loss: 2622.8721 - accuracy: 0.0000e+00\n"
          ],
          "name": "stdout"
        },
        {
          "output_type": "stream",
          "text": [
            "\r 66%|██████▌   | 330/500 [27:29<25:16,  8.92s/it]"
          ],
          "name": "stderr"
        },
        {
          "output_type": "stream",
          "text": [
            "Epoch 1/1\n",
            "1/1 [==============================] - 0s 185ms/step - loss: 0.3017 - accuracy: 1.0000\n",
            "Epoch 1/1\n",
            "1/1 [==============================] - 0s 166ms/step - loss: 0.3120 - accuracy: 1.0000\n",
            "Epoch 1/1\n",
            "1/1 [==============================] - 0s 178ms/step - loss: 4872.5815 - accuracy: 0.0000e+00\n"
          ],
          "name": "stdout"
        },
        {
          "output_type": "stream",
          "text": [
            "\r 66%|██████▌   | 331/500 [27:37<24:17,  8.62s/it]"
          ],
          "name": "stderr"
        },
        {
          "output_type": "stream",
          "text": [
            "Epoch 1/1\n",
            "1/1 [==============================] - 0s 162ms/step - loss: 110.1262 - accuracy: 0.0000e+00\n",
            "Epoch 1/1\n",
            "1/1 [==============================] - 0s 175ms/step - loss: 0.3140 - accuracy: 1.0000\n",
            "Epoch 1/1\n",
            "1/1 [==============================] - 0s 199ms/step - loss: 3756.4604 - accuracy: 0.0000e+00\n"
          ],
          "name": "stdout"
        },
        {
          "output_type": "stream",
          "text": [
            "\r 66%|██████▋   | 332/500 [27:44<23:20,  8.33s/it]"
          ],
          "name": "stderr"
        },
        {
          "output_type": "stream",
          "text": [
            "Epoch 1/1\n",
            "\r1/1 [==============================] - 0s 195ms/step - loss: 6504.1470 - accuracy: 0.0000e+00\n",
            "Epoch 1/1\n",
            "1/1 [==============================] - 0s 206ms/step - loss: 3497.7197 - accuracy: 0.0000e+00\n",
            "Epoch 1/1\n",
            "1/1 [==============================] - 0s 187ms/step - loss: 5504.9487 - accuracy: 0.0000e+00\n"
          ],
          "name": "stdout"
        },
        {
          "output_type": "stream",
          "text": [
            "\r 67%|██████▋   | 333/500 [27:52<22:37,  8.13s/it]"
          ],
          "name": "stderr"
        },
        {
          "output_type": "stream",
          "text": [
            "Epoch 1/1\n",
            "1/1 [==============================] - 0s 181ms/step - loss: 0.3102 - accuracy: 1.0000\n",
            "Epoch 1/1\n",
            "1/1 [==============================] - 0s 174ms/step - loss: 0.3096 - accuracy: 1.0000\n",
            "Epoch 1/1\n",
            "1/1 [==============================] - 0s 169ms/step - loss: 26362.3262 - accuracy: 0.0000e+00\n"
          ],
          "name": "stdout"
        },
        {
          "output_type": "stream",
          "text": [
            "\r 67%|██████▋   | 334/500 [28:00<22:13,  8.03s/it]"
          ],
          "name": "stderr"
        },
        {
          "output_type": "stream",
          "text": [
            "Epoch 1/1\n",
            "1/1 [==============================] - 0s 159ms/step - loss: 206.0479 - accuracy: 0.0000e+00\n",
            "Epoch 1/1\n",
            "1/1 [==============================] - 0s 160ms/step - loss: 0.3078 - accuracy: 1.0000\n",
            "Epoch 1/1\n",
            "1/1 [==============================] - 0s 155ms/step - loss: 0.3049 - accuracy: 1.0000\n"
          ],
          "name": "stdout"
        },
        {
          "output_type": "stream",
          "text": [
            "\r 67%|██████▋   | 335/500 [28:08<22:06,  8.04s/it]"
          ],
          "name": "stderr"
        },
        {
          "output_type": "stream",
          "text": [
            "Epoch 1/1\n",
            "1/1 [==============================] - 0s 152ms/step - loss: 10873.0312 - accuracy: 0.0000e+00\n",
            "Epoch 1/1\n",
            "1/1 [==============================] - 0s 153ms/step - loss: 5163.2607 - accuracy: 0.0000e+00\n",
            "Epoch 1/1\n",
            "1/1 [==============================] - 0s 154ms/step - loss: 4084.7266 - accuracy: 0.0000e+00\n"
          ],
          "name": "stdout"
        },
        {
          "output_type": "stream",
          "text": [
            "\r 67%|██████▋   | 336/500 [28:15<21:29,  7.86s/it]"
          ],
          "name": "stderr"
        },
        {
          "output_type": "stream",
          "text": [
            "Epoch 1/1\n",
            "1/1 [==============================] - 0s 150ms/step - loss: 0.3119 - accuracy: 1.0000\n",
            "Epoch 1/1\n",
            "1/1 [==============================] - 0s 148ms/step - loss: 3032.0649 - accuracy: 0.0000e+00\n",
            "Epoch 1/1\n",
            "1/1 [==============================] - 0s 144ms/step - loss: 4201.3311 - accuracy: 0.0000e+00\n"
          ],
          "name": "stdout"
        },
        {
          "output_type": "stream",
          "text": [
            "\r 67%|██████▋   | 337/500 [28:23<21:15,  7.82s/it]"
          ],
          "name": "stderr"
        },
        {
          "output_type": "stream",
          "text": [
            "Epoch 1/1\n",
            "1/1 [==============================] - 0s 145ms/step - loss: 0.3216 - accuracy: 1.0000\n",
            "Epoch 1/1\n",
            "1/1 [==============================] - 0s 174ms/step - loss: 0.3122 - accuracy: 1.0000\n",
            "Epoch 1/1\n",
            "1/1 [==============================] - 0s 168ms/step - loss: 0.3170 - accuracy: 1.0000\n"
          ],
          "name": "stdout"
        },
        {
          "output_type": "stream",
          "text": [
            "\r 68%|██████▊   | 338/500 [28:31<21:04,  7.80s/it]"
          ],
          "name": "stderr"
        },
        {
          "output_type": "stream",
          "text": [
            "Epoch 1/1\n",
            "1/1 [==============================] - 0s 175ms/step - loss: 11834.0195 - accuracy: 0.0000e+00\n",
            "Epoch 1/1\n",
            "1/1 [==============================] - 0s 190ms/step - loss: 0.2940 - accuracy: 1.0000\n",
            "Epoch 1/1\n",
            "1/1 [==============================] - 0s 164ms/step - loss: 5103.1948 - accuracy: 0.0000e+00\n"
          ],
          "name": "stdout"
        },
        {
          "output_type": "stream",
          "text": [
            "\r 68%|██████▊   | 339/500 [28:41<23:04,  8.60s/it]"
          ],
          "name": "stderr"
        },
        {
          "output_type": "stream",
          "text": [
            "Epoch 1/1\n",
            "1/1 [==============================] - 0s 162ms/step - loss: 1186.0685 - accuracy: 0.0000e+00\n",
            "Epoch 1/1\n",
            "1/1 [==============================] - 0s 176ms/step - loss: 8913.8828 - accuracy: 0.0000e+00\n",
            "Epoch 1/1\n",
            "1/1 [==============================] - 0s 172ms/step - loss: 0.3138 - accuracy: 1.0000\n"
          ],
          "name": "stdout"
        },
        {
          "output_type": "stream",
          "text": [
            "\r 68%|██████▊   | 340/500 [28:49<22:18,  8.37s/it]"
          ],
          "name": "stderr"
        },
        {
          "output_type": "stream",
          "text": [
            "Epoch 1/1\n",
            "\r1/1 [==============================] - 0s 182ms/step - loss: 7915.7363 - accuracy: 0.0000e+00\n",
            "Epoch 1/1\n",
            "1/1 [==============================] - 0s 220ms/step - loss: 0.3095 - accuracy: 1.0000\n",
            "Epoch 1/1\n",
            "1/1 [==============================] - 0s 212ms/step - loss: 0.3030 - accuracy: 1.0000\n"
          ],
          "name": "stdout"
        },
        {
          "output_type": "stream",
          "text": [
            "\r 68%|██████▊   | 341/500 [28:57<22:03,  8.33s/it]"
          ],
          "name": "stderr"
        },
        {
          "output_type": "stream",
          "text": [
            "Epoch 1/1\n",
            "1/1 [==============================] - 0s 187ms/step - loss: 4543.2915 - accuracy: 0.0000e+00\n",
            "Epoch 1/1\n",
            "1/1 [==============================] - 0s 187ms/step - loss: 9812.7139 - accuracy: 0.0000e+00\n",
            "Epoch 1/1\n",
            "1/1 [==============================] - 0s 172ms/step - loss: 0.3044 - accuracy: 1.0000\n"
          ],
          "name": "stdout"
        },
        {
          "output_type": "stream",
          "text": [
            "\r 68%|██████▊   | 342/500 [29:05<21:39,  8.22s/it]"
          ],
          "name": "stderr"
        },
        {
          "output_type": "stream",
          "text": [
            "Epoch 1/1\n",
            "1/1 [==============================] - 0s 173ms/step - loss: 5273.9316 - accuracy: 0.0000e+00\n",
            "Epoch 1/1\n",
            "1/1 [==============================] - 0s 165ms/step - loss: 0.3089 - accuracy: 1.0000\n",
            "Epoch 1/1\n",
            "1/1 [==============================] - 0s 185ms/step - loss: 29454.4277 - accuracy: 0.0000e+00\n"
          ],
          "name": "stdout"
        },
        {
          "output_type": "stream",
          "text": [
            "\r 69%|██████▊   | 343/500 [29:13<21:14,  8.12s/it]"
          ],
          "name": "stderr"
        },
        {
          "output_type": "stream",
          "text": [
            "Epoch 1/1\n",
            "1/1 [==============================] - 0s 158ms/step - loss: 1549.8563 - accuracy: 0.0000e+00\n",
            "Epoch 1/1\n",
            "1/1 [==============================] - 0s 157ms/step - loss: 0.3131 - accuracy: 1.0000\n",
            "Epoch 1/1\n",
            "1/1 [==============================] - 0s 154ms/step - loss: 45518.2852 - accuracy: 0.0000e+00\n"
          ],
          "name": "stdout"
        },
        {
          "output_type": "stream",
          "text": [
            "\r 69%|██████▉   | 344/500 [29:21<21:02,  8.09s/it]"
          ],
          "name": "stderr"
        },
        {
          "output_type": "stream",
          "text": [
            "Epoch 1/1\n",
            "1/1 [==============================] - 0s 153ms/step - loss: 19053.1270 - accuracy: 0.0000e+00\n",
            "Epoch 1/1\n",
            "1/1 [==============================] - 0s 153ms/step - loss: 1697.3354 - accuracy: 0.0000e+00\n",
            "Epoch 1/1\n",
            "1/1 [==============================] - 0s 152ms/step - loss: 0.3106 - accuracy: 1.0000\n"
          ],
          "name": "stdout"
        },
        {
          "output_type": "stream",
          "text": [
            "\r 69%|██████▉   | 345/500 [29:29<20:47,  8.05s/it]"
          ],
          "name": "stderr"
        },
        {
          "output_type": "stream",
          "text": [
            "Epoch 1/1\n",
            "1/1 [==============================] - 0s 148ms/step - loss: 0.3217 - accuracy: 1.0000\n",
            "Epoch 1/1\n",
            "1/1 [==============================] - 0s 143ms/step - loss: 33696.4727 - accuracy: 0.0000e+00\n",
            "Epoch 1/1\n",
            "1/1 [==============================] - 0s 143ms/step - loss: 3297.1711 - accuracy: 0.0000e+00\n"
          ],
          "name": "stdout"
        },
        {
          "output_type": "stream",
          "text": [
            "\r 69%|██████▉   | 346/500 [29:37<20:32,  8.00s/it]"
          ],
          "name": "stderr"
        },
        {
          "output_type": "stream",
          "text": [
            "Epoch 1/1\n",
            "1/1 [==============================] - 0s 157ms/step - loss: 0.3217 - accuracy: 1.0000\n",
            "Epoch 1/1\n",
            "1/1 [==============================] - 0s 148ms/step - loss: 0.3057 - accuracy: 1.0000\n",
            "Epoch 1/1\n",
            "1/1 [==============================] - 0s 175ms/step - loss: 0.2995 - accuracy: 1.0000\n"
          ],
          "name": "stdout"
        },
        {
          "output_type": "stream",
          "text": [
            "\r 69%|██████▉   | 347/500 [29:47<22:16,  8.74s/it]"
          ],
          "name": "stderr"
        },
        {
          "output_type": "stream",
          "text": [
            "Epoch 1/1\n",
            "1/1 [==============================] - 0s 164ms/step - loss: 16694.2891 - accuracy: 0.0000e+00\n",
            "Epoch 1/1\n",
            "1/1 [==============================] - 0s 161ms/step - loss: 0.3307 - accuracy: 1.0000\n",
            "Epoch 1/1\n",
            "1/1 [==============================] - 0s 177ms/step - loss: 0.3080 - accuracy: 1.0000\n"
          ],
          "name": "stdout"
        },
        {
          "output_type": "stream",
          "text": [
            "\r 70%|██████▉   | 348/500 [29:55<21:36,  8.53s/it]"
          ],
          "name": "stderr"
        },
        {
          "output_type": "stream",
          "text": [
            "Epoch 1/1\n",
            "1/1 [==============================] - 0s 169ms/step - loss: 3059.2185 - accuracy: 0.0000e+00\n",
            "Epoch 1/1\n",
            "1/1 [==============================] - 0s 176ms/step - loss: 49437.7266 - accuracy: 0.0000e+00\n",
            "Epoch 1/1\n",
            "1/1 [==============================] - 0s 194ms/step - loss: 0.3000 - accuracy: 1.0000\n"
          ],
          "name": "stdout"
        },
        {
          "output_type": "stream",
          "text": [
            "\r 70%|██████▉   | 349/500 [30:04<21:12,  8.42s/it]"
          ],
          "name": "stderr"
        },
        {
          "output_type": "stream",
          "text": [
            "Epoch 1/1\n",
            "1/1 [==============================] - 0s 194ms/step - loss: 145.1072 - accuracy: 0.0000e+00\n",
            "Epoch 1/1\n",
            "1/1 [==============================] - 0s 194ms/step - loss: 7776.8989 - accuracy: 0.0000e+00\n",
            "Epoch 1/1\n",
            "1/1 [==============================] - 0s 187ms/step - loss: 4834.9443 - accuracy: 0.0000e+00\n"
          ],
          "name": "stdout"
        },
        {
          "output_type": "stream",
          "text": [
            "\r 70%|███████   | 350/500 [30:12<20:54,  8.36s/it]"
          ],
          "name": "stderr"
        },
        {
          "output_type": "stream",
          "text": [
            "Epoch 1/1\n",
            "1/1 [==============================] - 0s 187ms/step - loss: 4796.6772 - accuracy: 0.0000e+00\n",
            "Epoch 1/1\n",
            "1/1 [==============================] - 0s 173ms/step - loss: 0.3003 - accuracy: 1.0000\n",
            "Epoch 1/1\n",
            "1/1 [==============================] - 0s 165ms/step - loss: 12571.0010 - accuracy: 0.0000e+00\n"
          ],
          "name": "stdout"
        },
        {
          "output_type": "stream",
          "text": [
            "\r 70%|███████   | 351/500 [30:20<20:33,  8.28s/it]"
          ],
          "name": "stderr"
        },
        {
          "output_type": "stream",
          "text": [
            "Epoch 1/1\n",
            "1/1 [==============================] - 0s 165ms/step - loss: 731.7442 - accuracy: 0.0000e+00\n",
            "Epoch 1/1\n",
            "1/1 [==============================] - 0s 157ms/step - loss: 0.3174 - accuracy: 1.0000\n",
            "Epoch 1/1\n",
            "1/1 [==============================] - 0s 156ms/step - loss: 3638.0806 - accuracy: 0.0000e+00\n"
          ],
          "name": "stdout"
        },
        {
          "output_type": "stream",
          "text": [
            "\r 70%|███████   | 352/500 [30:28<20:19,  8.24s/it]"
          ],
          "name": "stderr"
        },
        {
          "output_type": "stream",
          "text": [
            "Epoch 1/1\n",
            "1/1 [==============================] - 0s 164ms/step - loss: 167.0010 - accuracy: 0.0000e+00\n",
            "Epoch 1/1\n",
            "1/1 [==============================] - 0s 160ms/step - loss: 0.2990 - accuracy: 1.0000\n",
            "Epoch 1/1\n",
            "1/1 [==============================] - 0s 162ms/step - loss: 9348.6260 - accuracy: 0.0000e+00\n"
          ],
          "name": "stdout"
        },
        {
          "output_type": "stream",
          "text": [
            "\r 71%|███████   | 353/500 [30:36<20:18,  8.29s/it]"
          ],
          "name": "stderr"
        },
        {
          "output_type": "stream",
          "text": [
            "Epoch 1/1\n",
            "1/1 [==============================] - 0s 152ms/step - loss: 580.2279 - accuracy: 0.0000e+00\n",
            "Epoch 1/1\n",
            "1/1 [==============================] - 0s 153ms/step - loss: 0.3097 - accuracy: 1.0000\n",
            "Epoch 1/1\n",
            "1/1 [==============================] - 0s 150ms/step - loss: 0.3090 - accuracy: 1.0000\n"
          ],
          "name": "stdout"
        },
        {
          "output_type": "stream",
          "text": [
            "\r 71%|███████   | 354/500 [30:45<20:19,  8.35s/it]"
          ],
          "name": "stderr"
        },
        {
          "output_type": "stream",
          "text": [
            "Epoch 1/1\n",
            "1/1 [==============================] - 0s 176ms/step - loss: 0.2954 - accuracy: 1.0000\n",
            "Epoch 1/1\n",
            "1/1 [==============================] - 0s 154ms/step - loss: 0.3164 - accuracy: 1.0000\n",
            "Epoch 1/1\n",
            "1/1 [==============================] - 0s 177ms/step - loss: 9347.6074 - accuracy: 0.0000e+00\n"
          ],
          "name": "stdout"
        },
        {
          "output_type": "stream",
          "text": [
            "\r 71%|███████   | 355/500 [30:56<22:16,  9.22s/it]"
          ],
          "name": "stderr"
        },
        {
          "output_type": "stream",
          "text": [
            "Epoch 1/1\n",
            "1/1 [==============================] - 0s 209ms/step - loss: 4425.3682 - accuracy: 0.0000e+00\n",
            "Epoch 1/1\n",
            "1/1 [==============================] - 0s 175ms/step - loss: 7064.1011 - accuracy: 0.0000e+00\n",
            "Epoch 1/1\n",
            "1/1 [==============================] - 0s 175ms/step - loss: 47285.1172 - accuracy: 0.0000e+00\n"
          ],
          "name": "stdout"
        },
        {
          "output_type": "stream",
          "text": [
            "\r 71%|███████   | 356/500 [31:05<21:46,  9.07s/it]"
          ],
          "name": "stderr"
        },
        {
          "output_type": "stream",
          "text": [
            "Epoch 1/1\n",
            "1/1 [==============================] - 0s 180ms/step - loss: 7111.1230 - accuracy: 0.0000e+00\n",
            "Epoch 1/1\n",
            "1/1 [==============================] - 0s 188ms/step - loss: 0.3282 - accuracy: 1.0000\n",
            "Epoch 1/1\n",
            "1/1 [==============================] - 0s 196ms/step - loss: 33767.4336 - accuracy: 0.0000e+00\n"
          ],
          "name": "stdout"
        },
        {
          "output_type": "stream",
          "text": [
            "\r 71%|███████▏  | 357/500 [31:14<21:21,  8.96s/it]"
          ],
          "name": "stderr"
        },
        {
          "output_type": "stream",
          "text": [
            "Epoch 1/1\n",
            "1/1 [==============================] - 0s 234ms/step - loss: 0.3289 - accuracy: 1.0000\n",
            "Epoch 1/1\n",
            "1/1 [==============================] - 0s 211ms/step - loss: 3095.5337 - accuracy: 0.0000e+00\n",
            "Epoch 1/1\n",
            "1/1 [==============================] - 0s 199ms/step - loss: 0.3044 - accuracy: 1.0000\n"
          ],
          "name": "stdout"
        },
        {
          "output_type": "stream",
          "text": [
            "\r 72%|███████▏  | 358/500 [31:22<21:02,  8.89s/it]"
          ],
          "name": "stderr"
        },
        {
          "output_type": "stream",
          "text": [
            "Epoch 1/1\n",
            "1/1 [==============================] - 0s 198ms/step - loss: 0.3111 - accuracy: 1.0000\n",
            "Epoch 1/1\n",
            "1/1 [==============================] - 0s 179ms/step - loss: 2644.8647 - accuracy: 0.0000e+00\n",
            "Epoch 1/1\n",
            "1/1 [==============================] - 0s 175ms/step - loss: 10339.4346 - accuracy: 0.0000e+00\n"
          ],
          "name": "stdout"
        },
        {
          "output_type": "stream",
          "text": [
            "\r 72%|███████▏  | 359/500 [31:31<20:38,  8.78s/it]"
          ],
          "name": "stderr"
        },
        {
          "output_type": "stream",
          "text": [
            "Epoch 1/1\n",
            "1/1 [==============================] - 0s 171ms/step - loss: 0.3147 - accuracy: 1.0000\n",
            "Epoch 1/1\n",
            "1/1 [==============================] - 0s 170ms/step - loss: 0.3005 - accuracy: 1.0000\n",
            "Epoch 1/1\n",
            "1/1 [==============================] - 0s 211ms/step - loss: 26199.3691 - accuracy: 0.0000e+00\n"
          ],
          "name": "stdout"
        },
        {
          "output_type": "stream",
          "text": [
            "\r 72%|███████▏  | 360/500 [31:40<20:33,  8.81s/it]"
          ],
          "name": "stderr"
        },
        {
          "output_type": "stream",
          "text": [
            "Epoch 1/1\n",
            "1/1 [==============================] - 0s 188ms/step - loss: 4992.4478 - accuracy: 0.0000e+00\n",
            "Epoch 1/1\n",
            "1/1 [==============================] - 0s 160ms/step - loss: 0.2976 - accuracy: 1.0000\n",
            "Epoch 1/1\n",
            "1/1 [==============================] - 0s 160ms/step - loss: 0.3159 - accuracy: 1.0000\n"
          ],
          "name": "stdout"
        },
        {
          "output_type": "stream",
          "text": [
            "\r 72%|███████▏  | 361/500 [31:49<20:29,  8.85s/it]"
          ],
          "name": "stderr"
        },
        {
          "output_type": "stream",
          "text": [
            "Epoch 1/1\n",
            "1/1 [==============================] - 0s 155ms/step - loss: 3507.9800 - accuracy: 0.0000e+00\n",
            "Epoch 1/1\n",
            "1/1 [==============================] - 0s 155ms/step - loss: 0.3249 - accuracy: 1.0000\n",
            "Epoch 1/1\n",
            "1/1 [==============================] - 0s 151ms/step - loss: 0.3085 - accuracy: 1.0000\n"
          ],
          "name": "stdout"
        },
        {
          "output_type": "stream",
          "text": [
            "\r 72%|███████▏  | 362/500 [31:57<20:09,  8.76s/it]"
          ],
          "name": "stderr"
        },
        {
          "output_type": "stream",
          "text": [
            "Epoch 1/1\n",
            "1/1 [==============================] - 0s 146ms/step - loss: 0.3219 - accuracy: 1.0000\n",
            "Epoch 1/1\n",
            "1/1 [==============================] - 0s 148ms/step - loss: 0.3270 - accuracy: 1.0000\n",
            "Epoch 1/1\n",
            "1/1 [==============================] - 0s 143ms/step - loss: 0.3156 - accuracy: 1.0000\n"
          ],
          "name": "stdout"
        },
        {
          "output_type": "stream",
          "text": [
            "\r 73%|███████▎  | 363/500 [32:06<19:49,  8.69s/it]"
          ],
          "name": "stderr"
        },
        {
          "output_type": "stream",
          "text": [
            "Epoch 1/1\n",
            "1/1 [==============================] - 0s 223ms/step - loss: 7352.3730 - accuracy: 0.0000e+00\n",
            "Epoch 1/1\n",
            "1/1 [==============================] - 0s 174ms/step - loss: 19588.8203 - accuracy: 0.0000e+00\n",
            "Epoch 1/1\n",
            "1/1 [==============================] - 0s 170ms/step - loss: 24227.8906 - accuracy: 0.0000e+00\n"
          ],
          "name": "stdout"
        },
        {
          "output_type": "stream",
          "text": [
            "\r 73%|███████▎  | 364/500 [32:17<21:27,  9.47s/it]"
          ],
          "name": "stderr"
        },
        {
          "output_type": "stream",
          "text": [
            "Epoch 1/1\n",
            "1/1 [==============================] - 0s 167ms/step - loss: 0.3028 - accuracy: 1.0000\n",
            "Epoch 1/1\n",
            "1/1 [==============================] - 0s 172ms/step - loss: 0.3105 - accuracy: 1.0000\n",
            "Epoch 1/1\n",
            "1/1 [==============================] - 0s 177ms/step - loss: 0.3076 - accuracy: 1.0000\n"
          ],
          "name": "stdout"
        },
        {
          "output_type": "stream",
          "text": [
            "\r 73%|███████▎  | 365/500 [32:26<20:43,  9.21s/it]"
          ],
          "name": "stderr"
        },
        {
          "output_type": "stream",
          "text": [
            "Epoch 1/1\n",
            "\r1/1 [==============================] - 0s 188ms/step - loss: 7053.1567 - accuracy: 0.0000e+00\n",
            "Epoch 1/1\n",
            "1/1 [==============================] - 0s 210ms/step - loss: 24610.2988 - accuracy: 0.0000e+00\n",
            "Epoch 1/1\n",
            "1/1 [==============================] - 0s 203ms/step - loss: 0.3126 - accuracy: 1.0000\n"
          ],
          "name": "stdout"
        },
        {
          "output_type": "stream",
          "text": [
            "\r 73%|███████▎  | 366/500 [32:34<20:15,  9.07s/it]"
          ],
          "name": "stderr"
        },
        {
          "output_type": "stream",
          "text": [
            "Epoch 1/1\n",
            "1/1 [==============================] - 0s 190ms/step - loss: 0.3106 - accuracy: 1.0000\n",
            "Epoch 1/1\n",
            "1/1 [==============================] - 0s 200ms/step - loss: 1945.5977 - accuracy: 0.0000e+00\n",
            "Epoch 1/1\n",
            "1/1 [==============================] - 0s 182ms/step - loss: 28757.6250 - accuracy: 0.0000e+00\n"
          ],
          "name": "stdout"
        },
        {
          "output_type": "stream",
          "text": [
            "\r 73%|███████▎  | 367/500 [32:43<20:01,  9.03s/it]"
          ],
          "name": "stderr"
        },
        {
          "output_type": "stream",
          "text": [
            "Epoch 1/1\n",
            "1/1 [==============================] - 0s 175ms/step - loss: 0.3057 - accuracy: 1.0000\n",
            "Epoch 1/1\n",
            "1/1 [==============================] - 0s 162ms/step - loss: 44672.9375 - accuracy: 0.0000e+00\n",
            "Epoch 1/1\n",
            "1/1 [==============================] - 0s 158ms/step - loss: 17955.7852 - accuracy: 0.0000e+00\n"
          ],
          "name": "stdout"
        },
        {
          "output_type": "stream",
          "text": [
            "\r 74%|███████▎  | 368/500 [32:52<19:34,  8.90s/it]"
          ],
          "name": "stderr"
        },
        {
          "output_type": "stream",
          "text": [
            "Epoch 1/1\n",
            "1/1 [==============================] - 0s 161ms/step - loss: 0.3102 - accuracy: 1.0000\n",
            "Epoch 1/1\n",
            "1/1 [==============================] - 0s 165ms/step - loss: 0.3025 - accuracy: 1.0000\n",
            "Epoch 1/1\n",
            "1/1 [==============================] - 0s 157ms/step - loss: 0.3039 - accuracy: 1.0000\n"
          ],
          "name": "stdout"
        },
        {
          "output_type": "stream",
          "text": [
            "\r 74%|███████▍  | 369/500 [33:01<19:19,  8.85s/it]"
          ],
          "name": "stderr"
        },
        {
          "output_type": "stream",
          "text": [
            "Epoch 1/1\n",
            "1/1 [==============================] - 0s 160ms/step - loss: 0.3089 - accuracy: 1.0000\n",
            "Epoch 1/1\n",
            "1/1 [==============================] - 0s 155ms/step - loss: 0.3155 - accuracy: 1.0000\n",
            "Epoch 1/1\n",
            "1/1 [==============================] - 0s 150ms/step - loss: 4235.8906 - accuracy: 0.0000e+00\n"
          ],
          "name": "stdout"
        },
        {
          "output_type": "stream",
          "text": [
            "\r 74%|███████▍  | 370/500 [33:09<19:05,  8.81s/it]"
          ],
          "name": "stderr"
        },
        {
          "output_type": "stream",
          "text": [
            "Epoch 1/1\n",
            "1/1 [==============================] - 0s 149ms/step - loss: 0.3075 - accuracy: 1.0000\n",
            "Epoch 1/1\n",
            "1/1 [==============================] - 0s 148ms/step - loss: 0.3163 - accuracy: 1.0000\n",
            "Epoch 1/1\n",
            "1/1 [==============================] - 0s 148ms/step - loss: 12136.2129 - accuracy: 0.0000e+00\n"
          ],
          "name": "stdout"
        },
        {
          "output_type": "stream",
          "text": [
            "\r 74%|███████▍  | 371/500 [33:18<18:52,  8.78s/it]"
          ],
          "name": "stderr"
        },
        {
          "output_type": "stream",
          "text": [
            "Epoch 1/1\n",
            "1/1 [==============================] - 0s 144ms/step - loss: 12409.1768 - accuracy: 0.0000e+00\n",
            "Epoch 1/1\n",
            "1/1 [==============================] - 0s 181ms/step - loss: 0.3021 - accuracy: 1.0000\n",
            "Epoch 1/1\n",
            "1/1 [==============================] - 0s 176ms/step - loss: 0.2959 - accuracy: 1.0000\n"
          ],
          "name": "stdout"
        },
        {
          "output_type": "stream",
          "text": [
            "\r 74%|███████▍  | 372/500 [33:30<20:25,  9.58s/it]"
          ],
          "name": "stderr"
        },
        {
          "output_type": "stream",
          "text": [
            "Epoch 1/1\n",
            "1/1 [==============================] - 0s 162ms/step - loss: 0.3036 - accuracy: 1.0000\n",
            "Epoch 1/1\n",
            "1/1 [==============================] - 0s 169ms/step - loss: 31071.3027 - accuracy: 0.0000e+00\n",
            "Epoch 1/1\n",
            "1/1 [==============================] - 0s 175ms/step - loss: 1052.7753 - accuracy: 0.0000e+00\n"
          ],
          "name": "stdout"
        },
        {
          "output_type": "stream",
          "text": [
            "\r 75%|███████▍  | 373/500 [33:38<19:40,  9.29s/it]"
          ],
          "name": "stderr"
        },
        {
          "output_type": "stream",
          "text": [
            "Epoch 1/1\n",
            "1/1 [==============================] - 0s 177ms/step - loss: 10506.1396 - accuracy: 0.0000e+00\n",
            "Epoch 1/1\n",
            "1/1 [==============================] - 0s 182ms/step - loss: 0.3220 - accuracy: 1.0000\n",
            "Epoch 1/1\n",
            "1/1 [==============================] - 0s 195ms/step - loss: 0.3174 - accuracy: 1.0000\n"
          ],
          "name": "stdout"
        },
        {
          "output_type": "stream",
          "text": [
            "\r 75%|███████▍  | 374/500 [33:47<19:07,  9.11s/it]"
          ],
          "name": "stderr"
        },
        {
          "output_type": "stream",
          "text": [
            "Epoch 1/1\n",
            "1/1 [==============================] - 0s 198ms/step - loss: 1644.1130 - accuracy: 0.0000e+00\n",
            "Epoch 1/1\n",
            "1/1 [==============================] - 0s 194ms/step - loss: 12685.0820 - accuracy: 0.0000e+00\n",
            "Epoch 1/1\n",
            "1/1 [==============================] - 0s 199ms/step - loss: 0.3207 - accuracy: 1.0000\n"
          ],
          "name": "stdout"
        },
        {
          "output_type": "stream",
          "text": [
            "\r 75%|███████▌  | 375/500 [33:56<18:41,  8.98s/it]"
          ],
          "name": "stderr"
        },
        {
          "output_type": "stream",
          "text": [
            "Epoch 1/1\n",
            "1/1 [==============================] - 0s 186ms/step - loss: 2993.3999 - accuracy: 0.0000e+00\n",
            "Epoch 1/1\n",
            "1/1 [==============================] - 0s 165ms/step - loss: 4152.3555 - accuracy: 0.0000e+00\n",
            "Epoch 1/1\n",
            "1/1 [==============================] - 0s 159ms/step - loss: 0.3113 - accuracy: 1.0000\n"
          ],
          "name": "stdout"
        },
        {
          "output_type": "stream",
          "text": [
            "\r 75%|███████▌  | 376/500 [34:04<18:24,  8.91s/it]"
          ],
          "name": "stderr"
        },
        {
          "output_type": "stream",
          "text": [
            "Epoch 1/1\n",
            "1/1 [==============================] - 0s 162ms/step - loss: 0.3064 - accuracy: 1.0000\n",
            "Epoch 1/1\n",
            "1/1 [==============================] - 0s 160ms/step - loss: 17476.9434 - accuracy: 0.0000e+00\n",
            "Epoch 1/1\n",
            "1/1 [==============================] - 0s 157ms/step - loss: 14719.6621 - accuracy: 0.0000e+00\n"
          ],
          "name": "stdout"
        },
        {
          "output_type": "stream",
          "text": [
            "\r 75%|███████▌  | 377/500 [34:13<18:09,  8.85s/it]"
          ],
          "name": "stderr"
        },
        {
          "output_type": "stream",
          "text": [
            "Epoch 1/1\n",
            "1/1 [==============================] - 0s 154ms/step - loss: 27305.1816 - accuracy: 0.0000e+00\n",
            "Epoch 1/1\n",
            "1/1 [==============================] - 0s 183ms/step - loss: 4913.7002 - accuracy: 0.0000e+00\n",
            "Epoch 1/1\n",
            "1/1 [==============================] - 0s 146ms/step - loss: 0.3144 - accuracy: 1.0000\n"
          ],
          "name": "stdout"
        },
        {
          "output_type": "stream",
          "text": [
            "\r 76%|███████▌  | 378/500 [34:22<17:56,  8.83s/it]"
          ],
          "name": "stderr"
        },
        {
          "output_type": "stream",
          "text": [
            "Epoch 1/1\n",
            "1/1 [==============================] - 0s 148ms/step - loss: 387.6388 - accuracy: 0.0000e+00\n",
            "Epoch 1/1\n",
            "1/1 [==============================] - 0s 146ms/step - loss: 0.3039 - accuracy: 1.0000\n",
            "Epoch 1/1\n",
            "1/1 [==============================] - 0s 142ms/step - loss: 0.3133 - accuracy: 1.0000\n"
          ],
          "name": "stdout"
        },
        {
          "output_type": "stream",
          "text": [
            "\r 76%|███████▌  | 379/500 [34:30<17:41,  8.77s/it]"
          ],
          "name": "stderr"
        },
        {
          "output_type": "stream",
          "text": [
            "Epoch 1/1\n",
            "1/1 [==============================] - 0s 143ms/step - loss: 0.3013 - accuracy: 1.0000\n",
            "Epoch 1/1\n",
            "1/1 [==============================] - 0s 144ms/step - loss: 0.3097 - accuracy: 1.0000\n",
            "Epoch 1/1\n",
            "1/1 [==============================] - 0s 189ms/step - loss: 38300.1523 - accuracy: 0.0000e+00\n"
          ],
          "name": "stdout"
        },
        {
          "output_type": "stream",
          "text": [
            "\r 76%|███████▌  | 380/500 [34:42<19:07,  9.56s/it]"
          ],
          "name": "stderr"
        },
        {
          "output_type": "stream",
          "text": [
            "Epoch 1/1\n",
            "1/1 [==============================] - 0s 173ms/step - loss: 7485.5435 - accuracy: 0.0000e+00\n",
            "Epoch 1/1\n",
            "1/1 [==============================] - 0s 164ms/step - loss: 0.3084 - accuracy: 1.0000\n",
            "Epoch 1/1\n",
            "1/1 [==============================] - 0s 174ms/step - loss: 0.3134 - accuracy: 1.0000\n"
          ],
          "name": "stdout"
        },
        {
          "output_type": "stream",
          "text": [
            "\r 76%|███████▌  | 381/500 [34:51<18:34,  9.36s/it]"
          ],
          "name": "stderr"
        },
        {
          "output_type": "stream",
          "text": [
            "Epoch 1/1\n",
            "1/1 [==============================] - 0s 182ms/step - loss: 3630.7642 - accuracy: 0.0000e+00\n",
            "Epoch 1/1\n",
            "1/1 [==============================] - 0s 179ms/step - loss: 0.3136 - accuracy: 1.0000\n",
            "Epoch 1/1\n",
            "1/1 [==============================] - 0s 181ms/step - loss: 0.3078 - accuracy: 1.0000\n"
          ],
          "name": "stdout"
        },
        {
          "output_type": "stream",
          "text": [
            "\r 76%|███████▋  | 382/500 [35:00<18:09,  9.24s/it]"
          ],
          "name": "stderr"
        },
        {
          "output_type": "stream",
          "text": [
            "Epoch 1/1\n",
            "\r1/1 [==============================] - 0s 199ms/step - loss: 7340.1226 - accuracy: 0.0000e+00\n",
            "Epoch 1/1\n",
            "1/1 [==============================] - 0s 211ms/step - loss: 11675.3730 - accuracy: 0.0000e+00\n",
            "Epoch 1/1\n",
            "1/1 [==============================] - 0s 209ms/step - loss: 0.3139 - accuracy: 1.0000\n"
          ],
          "name": "stdout"
        },
        {
          "output_type": "stream",
          "text": [
            "\r 77%|███████▋  | 383/500 [35:09<17:49,  9.14s/it]"
          ],
          "name": "stderr"
        },
        {
          "output_type": "stream",
          "text": [
            "Epoch 1/1\n",
            "1/1 [==============================] - 0s 199ms/step - loss: 16892.0801 - accuracy: 0.0000e+00\n",
            "Epoch 1/1\n",
            "1/1 [==============================] - 0s 186ms/step - loss: 0.3107 - accuracy: 1.0000\n",
            "Epoch 1/1\n",
            "1/1 [==============================] - 0s 169ms/step - loss: 6393.1421 - accuracy: 0.0000e+00\n"
          ],
          "name": "stdout"
        },
        {
          "output_type": "stream",
          "text": [
            "\r 77%|███████▋  | 384/500 [35:17<17:31,  9.06s/it]"
          ],
          "name": "stderr"
        },
        {
          "output_type": "stream",
          "text": [
            "Epoch 1/1\n",
            "1/1 [==============================] - 0s 168ms/step - loss: 7995.3608 - accuracy: 0.0000e+00\n",
            "Epoch 1/1\n",
            "1/1 [==============================] - 0s 156ms/step - loss: 0.3058 - accuracy: 1.0000\n",
            "Epoch 1/1\n",
            "1/1 [==============================] - 0s 168ms/step - loss: 1.6879 - accuracy: 0.0000e+00\n"
          ],
          "name": "stdout"
        },
        {
          "output_type": "stream",
          "text": [
            "\r 77%|███████▋  | 385/500 [35:26<17:14,  8.99s/it]"
          ],
          "name": "stderr"
        },
        {
          "output_type": "stream",
          "text": [
            "Epoch 1/1\n",
            "1/1 [==============================] - 0s 152ms/step - loss: 926.9058 - accuracy: 0.0000e+00\n",
            "Epoch 1/1\n",
            "1/1 [==============================] - 0s 152ms/step - loss: 0.3086 - accuracy: 1.0000\n",
            "Epoch 1/1\n",
            "1/1 [==============================] - 0s 176ms/step - loss: 0.3156 - accuracy: 1.0000\n"
          ],
          "name": "stdout"
        },
        {
          "output_type": "stream",
          "text": [
            "\r 77%|███████▋  | 386/500 [35:35<17:02,  8.97s/it]"
          ],
          "name": "stderr"
        },
        {
          "output_type": "stream",
          "text": [
            "Epoch 1/1\n",
            "1/1 [==============================] - 0s 148ms/step - loss: 0.3173 - accuracy: 1.0000\n",
            "Epoch 1/1\n",
            "1/1 [==============================] - 0s 144ms/step - loss: 8099.3345 - accuracy: 0.0000e+00\n",
            "Epoch 1/1\n",
            "1/1 [==============================] - 0s 150ms/step - loss: 14315.7832 - accuracy: 0.0000e+00\n"
          ],
          "name": "stdout"
        },
        {
          "output_type": "stream",
          "text": [
            "\r 77%|███████▋  | 387/500 [35:44<16:46,  8.91s/it]"
          ],
          "name": "stderr"
        },
        {
          "output_type": "stream",
          "text": [
            "Epoch 1/1\n",
            "1/1 [==============================] - 0s 142ms/step - loss: 0.3115 - accuracy: 1.0000\n",
            "Epoch 1/1\n",
            "1/1 [==============================] - 0s 144ms/step - loss: 0.3207 - accuracy: 1.0000\n",
            "Epoch 1/1\n",
            "1/1 [==============================] - 0s 145ms/step - loss: 0.3183 - accuracy: 1.0000\n"
          ],
          "name": "stdout"
        },
        {
          "output_type": "stream",
          "text": [
            "\r 78%|███████▊  | 388/500 [35:56<18:14,  9.77s/it]"
          ],
          "name": "stderr"
        },
        {
          "output_type": "stream",
          "text": [
            "Epoch 1/1\n",
            "1/1 [==============================] - 0s 184ms/step - loss: 0.2992 - accuracy: 1.0000\n",
            "Epoch 1/1\n",
            "1/1 [==============================] - 0s 163ms/step - loss: 0.3033 - accuracy: 1.0000\n",
            "Epoch 1/1\n",
            "1/1 [==============================] - 0s 165ms/step - loss: 0.2989 - accuracy: 1.0000\n"
          ],
          "name": "stdout"
        },
        {
          "output_type": "stream",
          "text": [
            "\r 78%|███████▊  | 389/500 [36:05<17:53,  9.67s/it]"
          ],
          "name": "stderr"
        },
        {
          "output_type": "stream",
          "text": [
            "Epoch 1/1\n",
            "1/1 [==============================] - 0s 168ms/step - loss: 0.3091 - accuracy: 1.0000\n",
            "Epoch 1/1\n",
            "1/1 [==============================] - 0s 173ms/step - loss: 0.2954 - accuracy: 1.0000\n",
            "Epoch 1/1\n",
            "1/1 [==============================] - 0s 181ms/step - loss: 27579.3613 - accuracy: 0.0000e+00\n"
          ],
          "name": "stdout"
        },
        {
          "output_type": "stream",
          "text": [
            "\r 78%|███████▊  | 390/500 [36:14<17:17,  9.44s/it]"
          ],
          "name": "stderr"
        },
        {
          "output_type": "stream",
          "text": [
            "Epoch 1/1\n",
            "1/1 [==============================] - 0s 185ms/step - loss: 0.3248 - accuracy: 1.0000\n",
            "Epoch 1/1\n",
            "1/1 [==============================] - 0s 199ms/step - loss: 0.2915 - accuracy: 1.0000\n",
            "Epoch 1/1\n",
            "1/1 [==============================] - 0s 189ms/step - loss: 0.3027 - accuracy: 1.0000\n"
          ],
          "name": "stdout"
        },
        {
          "output_type": "stream",
          "text": [
            "\r 78%|███████▊  | 391/500 [36:23<16:54,  9.31s/it]"
          ],
          "name": "stderr"
        },
        {
          "output_type": "stream",
          "text": [
            "Epoch 1/1\n",
            "1/1 [==============================] - 0s 190ms/step - loss: 11516.7969 - accuracy: 0.0000e+00\n",
            "Epoch 1/1\n",
            "1/1 [==============================] - 0s 182ms/step - loss: 0.2990 - accuracy: 1.0000\n",
            "Epoch 1/1\n",
            "1/1 [==============================] - 0s 175ms/step - loss: 2423.5781 - accuracy: 0.0000e+00\n"
          ],
          "name": "stdout"
        },
        {
          "output_type": "stream",
          "text": [
            "\r 78%|███████▊  | 392/500 [36:32<16:34,  9.21s/it]"
          ],
          "name": "stderr"
        },
        {
          "output_type": "stream",
          "text": [
            "Epoch 1/1\n",
            "1/1 [==============================] - 0s 163ms/step - loss: 0.3022 - accuracy: 1.0000\n",
            "Epoch 1/1\n",
            "1/1 [==============================] - 0s 160ms/step - loss: 0.3068 - accuracy: 1.0000\n",
            "Epoch 1/1\n",
            "1/1 [==============================] - 0s 183ms/step - loss: 0.3097 - accuracy: 1.0000\n"
          ],
          "name": "stdout"
        },
        {
          "output_type": "stream",
          "text": [
            "\r 79%|███████▊  | 393/500 [36:41<16:15,  9.11s/it]"
          ],
          "name": "stderr"
        },
        {
          "output_type": "stream",
          "text": [
            "Epoch 1/1\n",
            "1/1 [==============================] - 0s 153ms/step - loss: 0.3077 - accuracy: 1.0000\n",
            "Epoch 1/1\n",
            "1/1 [==============================] - 0s 158ms/step - loss: 0.3116 - accuracy: 1.0000\n",
            "Epoch 1/1\n",
            "1/1 [==============================] - 0s 158ms/step - loss: 10742.0029 - accuracy: 0.0000e+00\n"
          ],
          "name": "stdout"
        },
        {
          "output_type": "stream",
          "text": [
            "\r 79%|███████▉  | 394/500 [36:50<15:56,  9.03s/it]"
          ],
          "name": "stderr"
        },
        {
          "output_type": "stream",
          "text": [
            "Epoch 1/1\n",
            "1/1 [==============================] - 0s 146ms/step - loss: 2428.2119 - accuracy: 0.0000e+00\n",
            "Epoch 1/1\n",
            "1/1 [==============================] - 0s 151ms/step - loss: 643.2313 - accuracy: 0.0000e+00\n",
            "Epoch 1/1\n",
            "1/1 [==============================] - 0s 142ms/step - loss: 300.9601 - accuracy: 0.0000e+00\n"
          ],
          "name": "stdout"
        },
        {
          "output_type": "stream",
          "text": [
            "\r 79%|███████▉  | 395/500 [36:59<15:48,  9.03s/it]"
          ],
          "name": "stderr"
        },
        {
          "output_type": "stream",
          "text": [
            "Epoch 1/1\n",
            "1/1 [==============================] - 0s 144ms/step - loss: 0.3170 - accuracy: 1.0000\n",
            "Epoch 1/1\n",
            "1/1 [==============================] - 0s 142ms/step - loss: 0.3255 - accuracy: 1.0000\n",
            "Epoch 1/1\n",
            "1/1 [==============================] - 0s 145ms/step - loss: 11161.8750 - accuracy: 0.0000e+00\n"
          ],
          "name": "stdout"
        },
        {
          "output_type": "stream",
          "text": [
            "\r 79%|███████▉  | 396/500 [37:07<15:26,  8.91s/it]"
          ],
          "name": "stderr"
        },
        {
          "output_type": "stream",
          "text": [
            "Epoch 1/1\n",
            "1/1 [==============================] - 0s 167ms/step - loss: 3312.5474 - accuracy: 0.0000e+00\n",
            "Epoch 1/1\n",
            "1/1 [==============================] - 0s 172ms/step - loss: 20603.0996 - accuracy: 0.0000e+00\n",
            "Epoch 1/1\n",
            "1/1 [==============================] - 0s 166ms/step - loss: 0.3088 - accuracy: 1.0000\n"
          ],
          "name": "stdout"
        },
        {
          "output_type": "stream",
          "text": [
            "\r 79%|███████▉  | 397/500 [37:19<16:43,  9.75s/it]"
          ],
          "name": "stderr"
        },
        {
          "output_type": "stream",
          "text": [
            "Epoch 1/1\n",
            "1/1 [==============================] - 0s 161ms/step - loss: 0.3222 - accuracy: 1.0000\n",
            "Epoch 1/1\n",
            "1/1 [==============================] - 0s 166ms/step - loss: 4947.3574 - accuracy: 0.0000e+00\n",
            "Epoch 1/1\n",
            "1/1 [==============================] - 0s 168ms/step - loss: 1.0025 - accuracy: 1.0000\n"
          ],
          "name": "stdout"
        },
        {
          "output_type": "stream",
          "text": [
            "\r 80%|███████▉  | 398/500 [37:28<16:11,  9.52s/it]"
          ],
          "name": "stderr"
        },
        {
          "output_type": "stream",
          "text": [
            "Epoch 1/1\n",
            "1/1 [==============================] - 0s 175ms/step - loss: 0.3091 - accuracy: 1.0000\n",
            "Epoch 1/1\n",
            "1/1 [==============================] - 0s 179ms/step - loss: 0.3121 - accuracy: 1.0000\n",
            "Epoch 1/1\n",
            "1/1 [==============================] - 0s 187ms/step - loss: 0.3079 - accuracy: 1.0000\n"
          ],
          "name": "stdout"
        },
        {
          "output_type": "stream",
          "text": [
            "\r 80%|███████▉  | 399/500 [37:37<15:43,  9.34s/it]"
          ],
          "name": "stderr"
        },
        {
          "output_type": "stream",
          "text": [
            "Epoch 1/1\n",
            "1/1 [==============================] - 0s 195ms/step - loss: 2655.0828 - accuracy: 0.0000e+00\n",
            "Epoch 1/1\n",
            "1/1 [==============================] - 0s 190ms/step - loss: 0.3098 - accuracy: 1.0000\n",
            "Epoch 1/1\n",
            "1/1 [==============================] - 0s 181ms/step - loss: 16820.1367 - accuracy: 0.0000e+00\n"
          ],
          "name": "stdout"
        },
        {
          "output_type": "stream",
          "text": [
            "\r 80%|████████  | 400/500 [37:46<15:22,  9.22s/it]"
          ],
          "name": "stderr"
        },
        {
          "output_type": "stream",
          "text": [
            "Epoch 1/1\n",
            "1/1 [==============================] - 0s 175ms/step - loss: 0.2922 - accuracy: 1.0000\n",
            "Epoch 1/1\n",
            "1/1 [==============================] - 0s 167ms/step - loss: 20036.8828 - accuracy: 0.0000e+00\n",
            "Epoch 1/1\n",
            "1/1 [==============================] - 0s 161ms/step - loss: 14705.8662 - accuracy: 0.0000e+00\n"
          ],
          "name": "stdout"
        },
        {
          "output_type": "stream",
          "text": [
            "\r 80%|████████  | 401/500 [37:55<15:06,  9.15s/it]"
          ],
          "name": "stderr"
        },
        {
          "output_type": "stream",
          "text": [
            "Epoch 1/1\n",
            "1/1 [==============================] - 0s 156ms/step - loss: 0.3047 - accuracy: 1.0000\n",
            "Epoch 1/1\n",
            "1/1 [==============================] - 0s 153ms/step - loss: 0.3052 - accuracy: 1.0000\n",
            "Epoch 1/1\n",
            "1/1 [==============================] - 0s 151ms/step - loss: 13953.0049 - accuracy: 0.0000e+00\n"
          ],
          "name": "stdout"
        },
        {
          "output_type": "stream",
          "text": [
            "\r 80%|████████  | 402/500 [38:04<14:53,  9.12s/it]"
          ],
          "name": "stderr"
        },
        {
          "output_type": "stream",
          "text": [
            "Epoch 1/1\n",
            "1/1 [==============================] - 0s 154ms/step - loss: 6284.9937 - accuracy: 0.0000e+00\n",
            "Epoch 1/1\n",
            "1/1 [==============================] - 0s 161ms/step - loss: 0.3009 - accuracy: 1.0000\n",
            "Epoch 1/1\n",
            "1/1 [==============================] - 0s 148ms/step - loss: 17218.4297 - accuracy: 0.0000e+00\n"
          ],
          "name": "stdout"
        },
        {
          "output_type": "stream",
          "text": [
            "\r 81%|████████  | 403/500 [38:13<14:38,  9.06s/it]"
          ],
          "name": "stderr"
        },
        {
          "output_type": "stream",
          "text": [
            "Epoch 1/1\n",
            "1/1 [==============================] - 0s 142ms/step - loss: 0.3102 - accuracy: 1.0000\n",
            "Epoch 1/1\n",
            "1/1 [==============================] - 0s 138ms/step - loss: 38867.7617 - accuracy: 0.0000e+00\n",
            "Epoch 1/1\n",
            "1/1 [==============================] - 0s 139ms/step - loss: 0.3105 - accuracy: 1.0000\n"
          ],
          "name": "stdout"
        },
        {
          "output_type": "stream",
          "text": [
            "\r 81%|████████  | 404/500 [38:22<14:26,  9.02s/it]"
          ],
          "name": "stderr"
        },
        {
          "output_type": "stream",
          "text": [
            "Epoch 1/1\n",
            "1/1 [==============================] - 0s 140ms/step - loss: 7174.8848 - accuracy: 0.0000e+00\n",
            "Epoch 1/1\n",
            "1/1 [==============================] - 0s 158ms/step - loss: 10154.8867 - accuracy: 0.0000e+00\n",
            "Epoch 1/1\n",
            "1/1 [==============================] - 0s 180ms/step - loss: 11742.6055 - accuracy: 0.0000e+00\n"
          ],
          "name": "stdout"
        },
        {
          "output_type": "stream",
          "text": [
            "\r 81%|████████  | 405/500 [38:34<15:33,  9.83s/it]"
          ],
          "name": "stderr"
        },
        {
          "output_type": "stream",
          "text": [
            "Epoch 1/1\n",
            "1/1 [==============================] - 0s 168ms/step - loss: 1828.0946 - accuracy: 0.0000e+00\n",
            "Epoch 1/1\n",
            "1/1 [==============================] - 0s 161ms/step - loss: 0.3045 - accuracy: 1.0000\n",
            "Epoch 1/1\n",
            "1/1 [==============================] - 0s 162ms/step - loss: 5652.1665 - accuracy: 0.0000e+00\n"
          ],
          "name": "stdout"
        },
        {
          "output_type": "stream",
          "text": [
            "\r 81%|████████  | 406/500 [38:43<15:00,  9.58s/it]"
          ],
          "name": "stderr"
        },
        {
          "output_type": "stream",
          "text": [
            "Epoch 1/1\n",
            "1/1 [==============================] - 0s 165ms/step - loss: 3730.6975 - accuracy: 0.0000e+00\n",
            "Epoch 1/1\n",
            "1/1 [==============================] - 0s 176ms/step - loss: 0.3185 - accuracy: 1.0000\n",
            "Epoch 1/1\n",
            "1/1 [==============================] - 0s 177ms/step - loss: 0.3133 - accuracy: 1.0000\n"
          ],
          "name": "stdout"
        },
        {
          "output_type": "stream",
          "text": [
            "\r 81%|████████▏ | 407/500 [38:52<14:41,  9.47s/it]"
          ],
          "name": "stderr"
        },
        {
          "output_type": "stream",
          "text": [
            "Epoch 1/1\n",
            "1/1 [==============================] - 0s 191ms/step - loss: 0.2970 - accuracy: 1.0000\n",
            "Epoch 1/1\n",
            "1/1 [==============================] - 0s 195ms/step - loss: 0.2981 - accuracy: 1.0000\n",
            "Epoch 1/1\n",
            "1/1 [==============================] - 0s 193ms/step - loss: 0.3162 - accuracy: 1.0000\n"
          ],
          "name": "stdout"
        },
        {
          "output_type": "stream",
          "text": [
            "\r 82%|████████▏ | 408/500 [39:01<14:23,  9.39s/it]"
          ],
          "name": "stderr"
        },
        {
          "output_type": "stream",
          "text": [
            "Epoch 1/1\n",
            "1/1 [==============================] - 0s 181ms/step - loss: 0.3280 - accuracy: 1.0000\n",
            "Epoch 1/1\n",
            "1/1 [==============================] - 0s 174ms/step - loss: 3133.2344 - accuracy: 0.0000e+00\n",
            "Epoch 1/1\n",
            "1/1 [==============================] - 0s 166ms/step - loss: 0.3099 - accuracy: 1.0000\n"
          ],
          "name": "stdout"
        },
        {
          "output_type": "stream",
          "text": [
            "\r 82%|████████▏ | 409/500 [39:10<14:07,  9.32s/it]"
          ],
          "name": "stderr"
        },
        {
          "output_type": "stream",
          "text": [
            "Epoch 1/1\n",
            "1/1 [==============================] - 0s 164ms/step - loss: 506.9066 - accuracy: 0.0000e+00\n",
            "Epoch 1/1\n",
            "1/1 [==============================] - 0s 154ms/step - loss: 4434.4111 - accuracy: 0.0000e+00\n",
            "Epoch 1/1\n",
            "1/1 [==============================] - 0s 152ms/step - loss: 0.3183 - accuracy: 1.0000\n"
          ],
          "name": "stdout"
        },
        {
          "output_type": "stream",
          "text": [
            "\r 82%|████████▏ | 410/500 [39:19<13:51,  9.24s/it]"
          ],
          "name": "stderr"
        },
        {
          "output_type": "stream",
          "text": [
            "Epoch 1/1\n",
            "1/1 [==============================] - 0s 152ms/step - loss: 0.3183 - accuracy: 1.0000\n",
            "Epoch 1/1\n",
            "1/1 [==============================] - 0s 150ms/step - loss: 17408.1406 - accuracy: 0.0000e+00\n",
            "Epoch 1/1\n",
            "1/1 [==============================] - 0s 151ms/step - loss: 2182.3911 - accuracy: 0.0000e+00\n"
          ],
          "name": "stdout"
        },
        {
          "output_type": "stream",
          "text": [
            "\r 82%|████████▏ | 411/500 [39:28<13:35,  9.16s/it]"
          ],
          "name": "stderr"
        },
        {
          "output_type": "stream",
          "text": [
            "Epoch 1/1\n",
            "1/1 [==============================] - 0s 148ms/step - loss: 0.3254 - accuracy: 1.0000\n",
            "Epoch 1/1\n",
            "1/1 [==============================] - 0s 147ms/step - loss: 14756.0234 - accuracy: 0.0000e+00\n",
            "Epoch 1/1\n",
            "1/1 [==============================] - 0s 144ms/step - loss: 0.3215 - accuracy: 1.0000\n"
          ],
          "name": "stdout"
        },
        {
          "output_type": "stream",
          "text": [
            "\r 82%|████████▏ | 412/500 [39:38<13:30,  9.21s/it]"
          ],
          "name": "stderr"
        },
        {
          "output_type": "stream",
          "text": [
            "Epoch 1/1\n",
            "1/1 [==============================] - 0s 166ms/step - loss: 0.3311 - accuracy: 1.0000\n",
            "Epoch 1/1\n",
            "1/1 [==============================] - 0s 144ms/step - loss: 37803.2695 - accuracy: 0.0000e+00\n",
            "Epoch 1/1\n",
            "1/1 [==============================] - 0s 141ms/step - loss: 0.3094 - accuracy: 1.0000\n"
          ],
          "name": "stdout"
        },
        {
          "output_type": "stream",
          "text": [
            "\r 83%|████████▎ | 413/500 [39:47<13:25,  9.26s/it]"
          ],
          "name": "stderr"
        },
        {
          "output_type": "stream",
          "text": [
            "Epoch 1/1\n",
            "1/1 [==============================] - 0s 144ms/step - loss: 0.3161 - accuracy: 1.0000\n",
            "Epoch 1/1\n",
            "1/1 [==============================] - 0s 179ms/step - loss: 0.3154 - accuracy: 1.0000\n",
            "Epoch 1/1\n",
            "1/1 [==============================] - 0s 193ms/step - loss: 0.3074 - accuracy: 1.0000\n"
          ],
          "name": "stdout"
        },
        {
          "output_type": "stream",
          "text": [
            "\r 83%|████████▎ | 414/500 [39:59<14:35, 10.18s/it]"
          ],
          "name": "stderr"
        },
        {
          "output_type": "stream",
          "text": [
            "Epoch 1/1\n",
            "1/1 [==============================] - 0s 165ms/step - loss: 0.3060 - accuracy: 1.0000\n",
            "Epoch 1/1\n",
            "1/1 [==============================] - 0s 170ms/step - loss: 19221.4707 - accuracy: 0.0000e+00\n",
            "Epoch 1/1\n",
            "1/1 [==============================] - 0s 182ms/step - loss: 0.3017 - accuracy: 1.0000\n"
          ],
          "name": "stdout"
        },
        {
          "output_type": "stream",
          "text": [
            "\r 83%|████████▎ | 415/500 [40:09<14:01,  9.90s/it]"
          ],
          "name": "stderr"
        },
        {
          "output_type": "stream",
          "text": [
            "Epoch 1/1\n",
            "1/1 [==============================] - 0s 175ms/step - loss: 0.2997 - accuracy: 1.0000\n",
            "Epoch 1/1\n",
            "1/1 [==============================] - 0s 181ms/step - loss: 42908.2031 - accuracy: 0.0000e+00\n",
            "Epoch 1/1\n",
            "1/1 [==============================] - 0s 196ms/step - loss: 0.3116 - accuracy: 1.0000\n"
          ],
          "name": "stdout"
        },
        {
          "output_type": "stream",
          "text": [
            "\r 83%|████████▎ | 416/500 [40:18<13:41,  9.77s/it]"
          ],
          "name": "stderr"
        },
        {
          "output_type": "stream",
          "text": [
            "Epoch 1/1\n",
            "1/1 [==============================] - 0s 198ms/step - loss: 0.3163 - accuracy: 1.0000\n",
            "Epoch 1/1\n",
            "1/1 [==============================] - 0s 187ms/step - loss: 0.3091 - accuracy: 1.0000\n",
            "Epoch 1/1\n",
            "1/1 [==============================] - 0s 188ms/step - loss: 0.3289 - accuracy: 1.0000\n"
          ],
          "name": "stdout"
        },
        {
          "output_type": "stream",
          "text": [
            "\r 83%|████████▎ | 417/500 [40:28<13:24,  9.70s/it]"
          ],
          "name": "stderr"
        },
        {
          "output_type": "stream",
          "text": [
            "Epoch 1/1\n",
            "1/1 [==============================] - 0s 179ms/step - loss: 0.3081 - accuracy: 1.0000\n",
            "Epoch 1/1\n",
            "1/1 [==============================] - 0s 175ms/step - loss: 0.3012 - accuracy: 1.0000\n",
            "Epoch 1/1\n",
            "1/1 [==============================] - 0s 165ms/step - loss: 4029.5281 - accuracy: 0.0000e+00\n"
          ],
          "name": "stdout"
        },
        {
          "output_type": "stream",
          "text": [
            "\r 84%|████████▎ | 418/500 [40:37<13:12,  9.66s/it]"
          ],
          "name": "stderr"
        },
        {
          "output_type": "stream",
          "text": [
            "Epoch 1/1\n",
            "1/1 [==============================] - 0s 161ms/step - loss: 17678.5723 - accuracy: 0.0000e+00\n",
            "Epoch 1/1\n",
            "1/1 [==============================] - 0s 158ms/step - loss: 0.2909 - accuracy: 1.0000\n",
            "Epoch 1/1\n",
            "1/1 [==============================] - 0s 158ms/step - loss: 11850.7773 - accuracy: 0.0000e+00\n"
          ],
          "name": "stdout"
        },
        {
          "output_type": "stream",
          "text": [
            "\r 84%|████████▍ | 419/500 [40:47<13:00,  9.64s/it]"
          ],
          "name": "stderr"
        },
        {
          "output_type": "stream",
          "text": [
            "Epoch 1/1\n",
            "1/1 [==============================] - 0s 155ms/step - loss: 0.3150 - accuracy: 1.0000\n",
            "Epoch 1/1\n",
            "1/1 [==============================] - 0s 160ms/step - loss: 18413.0508 - accuracy: 0.0000e+00\n",
            "Epoch 1/1\n",
            "1/1 [==============================] - 0s 154ms/step - loss: 0.3111 - accuracy: 1.0000\n"
          ],
          "name": "stdout"
        },
        {
          "output_type": "stream",
          "text": [
            "\r 84%|████████▍ | 420/500 [40:56<12:49,  9.62s/it]"
          ],
          "name": "stderr"
        },
        {
          "output_type": "stream",
          "text": [
            "Epoch 1/1\n",
            "1/1 [==============================] - 0s 142ms/step - loss: 0.3182 - accuracy: 1.0000\n",
            "Epoch 1/1\n",
            "1/1 [==============================] - 0s 142ms/step - loss: 3931.0886 - accuracy: 0.0000e+00\n",
            "Epoch 1/1\n",
            "1/1 [==============================] - 0s 139ms/step - loss: 0.3109 - accuracy: 1.0000\n"
          ],
          "name": "stdout"
        },
        {
          "output_type": "stream",
          "text": [
            "\r 84%|████████▍ | 421/500 [41:06<12:33,  9.54s/it]"
          ],
          "name": "stderr"
        },
        {
          "output_type": "stream",
          "text": [
            "Epoch 1/1\n",
            "1/1 [==============================] - 0s 144ms/step - loss: 4752.0361 - accuracy: 0.0000e+00\n",
            "Epoch 1/1\n",
            "1/1 [==============================] - 0s 142ms/step - loss: 756.2536 - accuracy: 0.0000e+00\n",
            "Epoch 1/1\n",
            "1/1 [==============================] - 0s 198ms/step - loss: 10741.6035 - accuracy: 0.0000e+00\n"
          ],
          "name": "stdout"
        },
        {
          "output_type": "stream",
          "text": [
            "\r 84%|████████▍ | 422/500 [41:18<13:27, 10.35s/it]"
          ],
          "name": "stderr"
        },
        {
          "output_type": "stream",
          "text": [
            "Epoch 1/1\n",
            "1/1 [==============================] - 0s 159ms/step - loss: 0.3040 - accuracy: 1.0000\n",
            "Epoch 1/1\n",
            "1/1 [==============================] - 0s 188ms/step - loss: 7530.6216 - accuracy: 0.0000e+00\n",
            "Epoch 1/1\n",
            "1/1 [==============================] - 0s 164ms/step - loss: 0.3090 - accuracy: 1.0000\n"
          ],
          "name": "stdout"
        },
        {
          "output_type": "stream",
          "text": [
            "\r 85%|████████▍ | 423/500 [41:27<12:57, 10.09s/it]"
          ],
          "name": "stderr"
        },
        {
          "output_type": "stream",
          "text": [
            "Epoch 1/1\n",
            "1/1 [==============================] - 0s 173ms/step - loss: 1416.2795 - accuracy: 0.0000e+00\n",
            "Epoch 1/1\n",
            "1/1 [==============================] - 0s 180ms/step - loss: 0.3123 - accuracy: 1.0000\n",
            "Epoch 1/1\n",
            "1/1 [==============================] - 0s 225ms/step - loss: 29623.5234 - accuracy: 0.0000e+00\n"
          ],
          "name": "stdout"
        },
        {
          "output_type": "stream",
          "text": [
            "\r 85%|████████▍ | 424/500 [41:37<12:36,  9.96s/it]"
          ],
          "name": "stderr"
        },
        {
          "output_type": "stream",
          "text": [
            "Epoch 1/1\n",
            "1/1 [==============================] - 0s 214ms/step - loss: 4727.5845 - accuracy: 0.0000e+00\n",
            "Epoch 1/1\n",
            "1/1 [==============================] - 0s 240ms/step - loss: 29763.4102 - accuracy: 0.0000e+00\n",
            "Epoch 1/1\n",
            "1/1 [==============================] - 0s 234ms/step - loss: 0.3110 - accuracy: 1.0000\n"
          ],
          "name": "stdout"
        },
        {
          "output_type": "stream",
          "text": [
            "\r 85%|████████▌ | 425/500 [41:47<12:26,  9.96s/it]"
          ],
          "name": "stderr"
        },
        {
          "output_type": "stream",
          "text": [
            "Epoch 1/1\n",
            "1/1 [==============================] - 0s 180ms/step - loss: 1428.3920 - accuracy: 0.0000e+00\n",
            "Epoch 1/1\n",
            "1/1 [==============================] - 0s 171ms/step - loss: 2482.8694 - accuracy: 0.0000e+00\n",
            "Epoch 1/1\n",
            "1/1 [==============================] - 0s 165ms/step - loss: 47403.8164 - accuracy: 0.0000e+00\n"
          ],
          "name": "stdout"
        },
        {
          "output_type": "stream",
          "text": [
            "\r 85%|████████▌ | 426/500 [41:57<12:11,  9.88s/it]"
          ],
          "name": "stderr"
        },
        {
          "output_type": "stream",
          "text": [
            "Epoch 1/1\n",
            "1/1 [==============================] - 0s 161ms/step - loss: 0.3123 - accuracy: 1.0000\n",
            "Epoch 1/1\n",
            "1/1 [==============================] - 0s 158ms/step - loss: 27755.5820 - accuracy: 0.0000e+00\n",
            "Epoch 1/1\n",
            "1/1 [==============================] - 0s 181ms/step - loss: 0.3116 - accuracy: 1.0000\n"
          ],
          "name": "stdout"
        },
        {
          "output_type": "stream",
          "text": [
            "\r 85%|████████▌ | 427/500 [42:06<11:58,  9.85s/it]"
          ],
          "name": "stderr"
        },
        {
          "output_type": "stream",
          "text": [
            "Epoch 1/1\n",
            "1/1 [==============================] - 0s 157ms/step - loss: 26585.9863 - accuracy: 0.0000e+00\n",
            "Epoch 1/1\n",
            "1/1 [==============================] - 0s 151ms/step - loss: 14906.0303 - accuracy: 0.0000e+00\n",
            "Epoch 1/1\n",
            "1/1 [==============================] - 0s 148ms/step - loss: 410.3183 - accuracy: 0.0000e+00\n"
          ],
          "name": "stdout"
        },
        {
          "output_type": "stream",
          "text": [
            "\r 86%|████████▌ | 428/500 [42:16<11:43,  9.78s/it]"
          ],
          "name": "stderr"
        },
        {
          "output_type": "stream",
          "text": [
            "Epoch 1/1\n",
            "1/1 [==============================] - 0s 153ms/step - loss: 1615.9834 - accuracy: 0.0000e+00\n",
            "Epoch 1/1\n",
            "1/1 [==============================] - 0s 140ms/step - loss: 11317.4365 - accuracy: 0.0000e+00\n",
            "Epoch 1/1\n",
            "1/1 [==============================] - 0s 161ms/step - loss: 33995.9961 - accuracy: 0.0000e+00\n"
          ],
          "name": "stdout"
        },
        {
          "output_type": "stream",
          "text": [
            "\r 86%|████████▌ | 429/500 [42:26<11:29,  9.71s/it]"
          ],
          "name": "stderr"
        },
        {
          "output_type": "stream",
          "text": [
            "Epoch 1/1\n",
            "1/1 [==============================] - 0s 141ms/step - loss: 190.9946 - accuracy: 0.0000e+00\n",
            "Epoch 1/1\n",
            "1/1 [==============================] - 0s 139ms/step - loss: 7901.8398 - accuracy: 0.0000e+00\n",
            "Epoch 1/1\n",
            "1/1 [==============================] - 0s 142ms/step - loss: 0.3027 - accuracy: 1.0000\n"
          ],
          "name": "stdout"
        },
        {
          "output_type": "stream",
          "text": [
            "\r 86%|████████▌ | 430/500 [42:35<11:18,  9.69s/it]"
          ],
          "name": "stderr"
        },
        {
          "output_type": "stream",
          "text": [
            "Epoch 1/1\n",
            "1/1 [==============================] - 0s 179ms/step - loss: 0.3034 - accuracy: 1.0000\n",
            "Epoch 1/1\n",
            "1/1 [==============================] - 0s 174ms/step - loss: 0.3012 - accuracy: 1.0000\n",
            "Epoch 1/1\n",
            "1/1 [==============================] - 0s 161ms/step - loss: 0.3224 - accuracy: 1.0000\n"
          ],
          "name": "stdout"
        },
        {
          "output_type": "stream",
          "text": [
            "\r 86%|████████▌ | 431/500 [42:48<12:10, 10.58s/it]"
          ],
          "name": "stderr"
        },
        {
          "output_type": "stream",
          "text": [
            "Epoch 1/1\n",
            "1/1 [==============================] - 0s 163ms/step - loss: 5045.0845 - accuracy: 0.0000e+00\n",
            "Epoch 1/1\n",
            "1/1 [==============================] - 0s 170ms/step - loss: 701.7753 - accuracy: 0.0000e+00\n",
            "Epoch 1/1\n",
            "1/1 [==============================] - 0s 181ms/step - loss: 0.2956 - accuracy: 1.0000\n"
          ],
          "name": "stdout"
        },
        {
          "output_type": "stream",
          "text": [
            "\r 86%|████████▋ | 432/500 [42:58<11:42, 10.33s/it]"
          ],
          "name": "stderr"
        },
        {
          "output_type": "stream",
          "text": [
            "Epoch 1/1\n",
            "1/1 [==============================] - 0s 186ms/step - loss: 0.3161 - accuracy: 1.0000\n",
            "Epoch 1/1\n",
            "1/1 [==============================] - 0s 192ms/step - loss: 10452.1992 - accuracy: 0.0000e+00\n",
            "Epoch 1/1\n",
            "1/1 [==============================] - 0s 208ms/step - loss: 0.3113 - accuracy: 1.0000\n"
          ],
          "name": "stdout"
        },
        {
          "output_type": "stream",
          "text": [
            "\r 87%|████████▋ | 433/500 [43:08<11:23, 10.20s/it]"
          ],
          "name": "stderr"
        },
        {
          "output_type": "stream",
          "text": [
            "Epoch 1/1\n",
            "1/1 [==============================] - 0s 192ms/step - loss: 0.3131 - accuracy: 1.0000\n",
            "Epoch 1/1\n",
            "1/1 [==============================] - 0s 182ms/step - loss: 25935.1934 - accuracy: 0.0000e+00\n",
            "Epoch 1/1\n",
            "1/1 [==============================] - 0s 181ms/step - loss: 0.3183 - accuracy: 1.0000\n"
          ],
          "name": "stdout"
        },
        {
          "output_type": "stream",
          "text": [
            "\r 87%|████████▋ | 434/500 [43:17<11:07, 10.11s/it]"
          ],
          "name": "stderr"
        },
        {
          "output_type": "stream",
          "text": [
            "Epoch 1/1\n",
            "1/1 [==============================] - 0s 185ms/step - loss: 0.3185 - accuracy: 1.0000\n",
            "Epoch 1/1\n",
            "1/1 [==============================] - 0s 167ms/step - loss: 10278.1807 - accuracy: 0.0000e+00\n",
            "Epoch 1/1\n",
            "1/1 [==============================] - 0s 158ms/step - loss: 0.3044 - accuracy: 1.0000\n"
          ],
          "name": "stdout"
        },
        {
          "output_type": "stream",
          "text": [
            "\r 87%|████████▋ | 435/500 [43:27<10:53, 10.05s/it]"
          ],
          "name": "stderr"
        },
        {
          "output_type": "stream",
          "text": [
            "Epoch 1/1\n",
            "1/1 [==============================] - 0s 158ms/step - loss: 4819.6533 - accuracy: 0.0000e+00\n",
            "Epoch 1/1\n",
            "1/1 [==============================] - 0s 158ms/step - loss: 6666.7017 - accuracy: 0.0000e+00\n",
            "Epoch 1/1\n",
            "1/1 [==============================] - 0s 151ms/step - loss: 0.2956 - accuracy: 1.0000\n"
          ],
          "name": "stdout"
        },
        {
          "output_type": "stream",
          "text": [
            "\r 87%|████████▋ | 436/500 [43:37<10:36,  9.95s/it]"
          ],
          "name": "stderr"
        },
        {
          "output_type": "stream",
          "text": [
            "Epoch 1/1\n",
            "1/1 [==============================] - 0s 155ms/step - loss: 0.3043 - accuracy: 1.0000\n",
            "Epoch 1/1\n",
            "1/1 [==============================] - 0s 155ms/step - loss: 9651.5645 - accuracy: 0.0000e+00\n",
            "Epoch 1/1\n",
            "1/1 [==============================] - 0s 148ms/step - loss: 0.3180 - accuracy: 1.0000\n"
          ],
          "name": "stdout"
        },
        {
          "output_type": "stream",
          "text": [
            "\r 87%|████████▋ | 437/500 [43:47<10:22,  9.88s/it]"
          ],
          "name": "stderr"
        },
        {
          "output_type": "stream",
          "text": [
            "Epoch 1/1\n",
            "1/1 [==============================] - 0s 142ms/step - loss: 0.3189 - accuracy: 1.0000\n",
            "Epoch 1/1\n",
            "1/1 [==============================] - 0s 141ms/step - loss: 0.2924 - accuracy: 1.0000\n",
            "Epoch 1/1\n",
            "1/1 [==============================] - 0s 140ms/step - loss: 12640.8496 - accuracy: 0.0000e+00\n"
          ],
          "name": "stdout"
        },
        {
          "output_type": "stream",
          "text": [
            "\r 88%|████████▊ | 438/500 [43:56<10:08,  9.81s/it]"
          ],
          "name": "stderr"
        },
        {
          "output_type": "stream",
          "text": [
            "Epoch 1/1\n",
            "1/1 [==============================] - 0s 146ms/step - loss: 0.3185 - accuracy: 1.0000\n",
            "Epoch 1/1\n",
            "1/1 [==============================] - 0s 142ms/step - loss: 428.7811 - accuracy: 0.0000e+00\n",
            "Epoch 1/1\n",
            "1/1 [==============================] - 0s 171ms/step - loss: 0.3220 - accuracy: 1.0000\n"
          ],
          "name": "stdout"
        },
        {
          "output_type": "stream",
          "text": [
            "\r 88%|████████▊ | 439/500 [44:09<10:53, 10.72s/it]"
          ],
          "name": "stderr"
        },
        {
          "output_type": "stream",
          "text": [
            "Epoch 1/1\n",
            "1/1 [==============================] - 0s 166ms/step - loss: 0.3185 - accuracy: 1.0000\n",
            "Epoch 1/1\n",
            "1/1 [==============================] - 0s 165ms/step - loss: 0.3007 - accuracy: 1.0000\n",
            "Epoch 1/1\n",
            "1/1 [==============================] - 0s 167ms/step - loss: 0.3128 - accuracy: 1.0000\n"
          ],
          "name": "stdout"
        },
        {
          "output_type": "stream",
          "text": [
            "\r 88%|████████▊ | 440/500 [44:19<10:26, 10.45s/it]"
          ],
          "name": "stderr"
        },
        {
          "output_type": "stream",
          "text": [
            "Epoch 1/1\n",
            "1/1 [==============================] - 0s 174ms/step - loss: 0.3123 - accuracy: 1.0000\n",
            "Epoch 1/1\n",
            "1/1 [==============================] - 0s 170ms/step - loss: 1.0107 - accuracy: 0.0000e+00\n",
            "Epoch 1/1\n",
            "1/1 [==============================] - 0s 191ms/step - loss: 18767.8379 - accuracy: 0.0000e+00\n"
          ],
          "name": "stdout"
        },
        {
          "output_type": "stream",
          "text": [
            "\r 88%|████████▊ | 441/500 [44:29<10:07, 10.29s/it]"
          ],
          "name": "stderr"
        },
        {
          "output_type": "stream",
          "text": [
            "Epoch 1/1\n",
            "1/1 [==============================] - 0s 192ms/step - loss: 0.3229 - accuracy: 1.0000\n",
            "Epoch 1/1\n",
            "1/1 [==============================] - 0s 187ms/step - loss: 0.3150 - accuracy: 1.0000\n",
            "Epoch 1/1\n",
            "1/1 [==============================] - 0s 203ms/step - loss: 4390.6519 - accuracy: 0.0000e+00\n"
          ],
          "name": "stdout"
        },
        {
          "output_type": "stream",
          "text": [
            "\r 88%|████████▊ | 442/500 [44:39<09:48, 10.14s/it]"
          ],
          "name": "stderr"
        },
        {
          "output_type": "stream",
          "text": [
            "Epoch 1/1\n",
            "1/1 [==============================] - 0s 198ms/step - loss: 12431.1367 - accuracy: 0.0000e+00\n",
            "Epoch 1/1\n",
            "1/1 [==============================] - 0s 186ms/step - loss: 0.2981 - accuracy: 1.0000\n",
            "Epoch 1/1\n",
            "1/1 [==============================] - 0s 178ms/step - loss: 27337.6211 - accuracy: 0.0000e+00\n"
          ],
          "name": "stdout"
        },
        {
          "output_type": "stream",
          "text": [
            "\r 89%|████████▊ | 443/500 [44:49<09:35, 10.10s/it]"
          ],
          "name": "stderr"
        },
        {
          "output_type": "stream",
          "text": [
            "Epoch 1/1\n",
            "1/1 [==============================] - 0s 166ms/step - loss: 2755.8359 - accuracy: 0.0000e+00\n",
            "Epoch 1/1\n",
            "1/1 [==============================] - 0s 160ms/step - loss: 785.1804 - accuracy: 0.0000e+00\n",
            "Epoch 1/1\n",
            "1/1 [==============================] - 0s 158ms/step - loss: 9721.7520 - accuracy: 0.0000e+00\n"
          ],
          "name": "stdout"
        },
        {
          "output_type": "stream",
          "text": [
            "\r 89%|████████▉ | 444/500 [44:59<09:22, 10.04s/it]"
          ],
          "name": "stderr"
        },
        {
          "output_type": "stream",
          "text": [
            "Epoch 1/1\n",
            "1/1 [==============================] - 0s 154ms/step - loss: 12293.5088 - accuracy: 0.0000e+00\n",
            "Epoch 1/1\n",
            "1/1 [==============================] - 0s 158ms/step - loss: 6234.9297 - accuracy: 0.0000e+00\n",
            "Epoch 1/1\n",
            "1/1 [==============================] - 0s 178ms/step - loss: 0.3093 - accuracy: 1.0000\n"
          ],
          "name": "stdout"
        },
        {
          "output_type": "stream",
          "text": [
            "\r 89%|████████▉ | 445/500 [45:09<09:10, 10.01s/it]"
          ],
          "name": "stderr"
        },
        {
          "output_type": "stream",
          "text": [
            "Epoch 1/1\n",
            "1/1 [==============================] - 0s 151ms/step - loss: 0.2982 - accuracy: 1.0000\n",
            "Epoch 1/1\n",
            "1/1 [==============================] - 0s 142ms/step - loss: 663.5690 - accuracy: 0.0000e+00\n",
            "Epoch 1/1\n",
            "1/1 [==============================] - 0s 144ms/step - loss: 0.3056 - accuracy: 1.0000\n"
          ],
          "name": "stdout"
        },
        {
          "output_type": "stream",
          "text": [
            "\r 89%|████████▉ | 446/500 [45:18<08:56,  9.94s/it]"
          ],
          "name": "stderr"
        },
        {
          "output_type": "stream",
          "text": [
            "Epoch 1/1\n",
            "1/1 [==============================] - 0s 146ms/step - loss: 9523.8604 - accuracy: 0.0000e+00\n",
            "Epoch 1/1\n",
            "1/1 [==============================] - 0s 140ms/step - loss: 0.3259 - accuracy: 1.0000\n",
            "Epoch 1/1\n",
            "1/1 [==============================] - 0s 141ms/step - loss: 35572.0508 - accuracy: 0.0000e+00\n"
          ],
          "name": "stdout"
        },
        {
          "output_type": "stream",
          "text": [
            "\r 89%|████████▉ | 447/500 [45:28<08:41,  9.85s/it]"
          ],
          "name": "stderr"
        },
        {
          "output_type": "stream",
          "text": [
            "Epoch 1/1\n",
            "1/1 [==============================] - 0s 175ms/step - loss: 0.2951 - accuracy: 1.0000\n",
            "Epoch 1/1\n",
            "1/1 [==============================] - 0s 175ms/step - loss: 0.3015 - accuracy: 1.0000\n",
            "Epoch 1/1\n",
            "1/1 [==============================] - 0s 172ms/step - loss: 6438.7993 - accuracy: 0.0000e+00\n"
          ],
          "name": "stdout"
        },
        {
          "output_type": "stream",
          "text": [
            "\r 90%|████████▉ | 448/500 [45:41<09:20, 10.77s/it]"
          ],
          "name": "stderr"
        },
        {
          "output_type": "stream",
          "text": [
            "Epoch 1/1\n",
            "1/1 [==============================] - 0s 165ms/step - loss: 219.5593 - accuracy: 0.0000e+00\n",
            "Epoch 1/1\n",
            "1/1 [==============================] - 0s 192ms/step - loss: 8673.4336 - accuracy: 0.0000e+00\n",
            "Epoch 1/1\n",
            "1/1 [==============================] - 0s 184ms/step - loss: 0.3054 - accuracy: 1.0000\n"
          ],
          "name": "stdout"
        },
        {
          "output_type": "stream",
          "text": [
            "\r 90%|████████▉ | 449/500 [45:51<08:58, 10.56s/it]"
          ],
          "name": "stderr"
        },
        {
          "output_type": "stream",
          "text": [
            "Epoch 1/1\n",
            "1/1 [==============================] - 0s 179ms/step - loss: 755.8257 - accuracy: 0.0000e+00\n",
            "Epoch 1/1\n",
            "1/1 [==============================] - 0s 186ms/step - loss: 0.3172 - accuracy: 1.0000\n",
            "Epoch 1/1\n",
            "1/1 [==============================] - 0s 198ms/step - loss: 0.3045 - accuracy: 1.0000\n"
          ],
          "name": "stdout"
        },
        {
          "output_type": "stream",
          "text": [
            "\r 90%|█████████ | 450/500 [46:01<08:38, 10.37s/it]"
          ],
          "name": "stderr"
        },
        {
          "output_type": "stream",
          "text": [
            "Epoch 1/1\n",
            "1/1 [==============================] - 0s 359ms/step - loss: 0.3099 - accuracy: 1.0000\n",
            "Epoch 1/1\n",
            "1/1 [==============================] - 0s 215ms/step - loss: 28998.1152 - accuracy: 0.0000e+00\n",
            "Epoch 1/1\n",
            "1/1 [==============================] - 0s 174ms/step - loss: 0.3030 - accuracy: 1.0000\n"
          ],
          "name": "stdout"
        },
        {
          "output_type": "stream",
          "text": [
            "\r 90%|█████████ | 451/500 [46:12<08:32, 10.45s/it]"
          ],
          "name": "stderr"
        },
        {
          "output_type": "stream",
          "text": [
            "Epoch 1/1\n",
            "1/1 [==============================] - 0s 160ms/step - loss: 0.3123 - accuracy: 1.0000\n",
            "Epoch 1/1\n",
            "1/1 [==============================] - 0s 158ms/step - loss: 0.3212 - accuracy: 1.0000\n",
            "Epoch 1/1\n",
            "1/1 [==============================] - 0s 155ms/step - loss: 1900.0798 - accuracy: 0.0000e+00\n"
          ],
          "name": "stdout"
        },
        {
          "output_type": "stream",
          "text": [
            "\r 90%|█████████ | 452/500 [46:21<08:12, 10.25s/it]"
          ],
          "name": "stderr"
        },
        {
          "output_type": "stream",
          "text": [
            "Epoch 1/1\n",
            "1/1 [==============================] - 0s 161ms/step - loss: 116.4747 - accuracy: 0.0000e+00\n",
            "Epoch 1/1\n",
            "1/1 [==============================] - 0s 173ms/step - loss: 0.9993 - accuracy: 0.0000e+00\n",
            "Epoch 1/1\n",
            "1/1 [==============================] - 0s 149ms/step - loss: 0.3129 - accuracy: 1.0000\n"
          ],
          "name": "stdout"
        },
        {
          "output_type": "stream",
          "text": [
            "\r 91%|█████████ | 453/500 [46:31<07:56, 10.13s/it]"
          ],
          "name": "stderr"
        },
        {
          "output_type": "stream",
          "text": [
            "Epoch 1/1\n",
            "1/1 [==============================] - 0s 172ms/step - loss: 6337.8013 - accuracy: 0.0000e+00\n",
            "Epoch 1/1\n",
            "1/1 [==============================] - 0s 150ms/step - loss: 25883.1016 - accuracy: 0.0000e+00\n",
            "Epoch 1/1\n",
            "1/1 [==============================] - 0s 144ms/step - loss: 0.3200 - accuracy: 1.0000\n"
          ],
          "name": "stdout"
        },
        {
          "output_type": "stream",
          "text": [
            "\r 91%|█████████ | 454/500 [46:41<07:44, 10.10s/it]"
          ],
          "name": "stderr"
        },
        {
          "output_type": "stream",
          "text": [
            "Epoch 1/1\n",
            "1/1 [==============================] - 0s 141ms/step - loss: 0.3023 - accuracy: 1.0000\n",
            "Epoch 1/1\n",
            "1/1 [==============================] - 0s 141ms/step - loss: 0.3121 - accuracy: 1.0000\n",
            "Epoch 1/1\n",
            "1/1 [==============================] - 0s 137ms/step - loss: 0.3103 - accuracy: 1.0000\n"
          ],
          "name": "stdout"
        },
        {
          "output_type": "stream",
          "text": [
            "\r 91%|█████████ | 455/500 [46:51<07:32, 10.05s/it]"
          ],
          "name": "stderr"
        },
        {
          "output_type": "stream",
          "text": [
            "Epoch 1/1\n",
            "1/1 [==============================] - 0s 141ms/step - loss: 2057.9395 - accuracy: 0.0000e+00\n",
            "Epoch 1/1\n",
            "1/1 [==============================] - 0s 169ms/step - loss: 2217.3535 - accuracy: 0.0000e+00\n",
            "Epoch 1/1\n",
            "1/1 [==============================] - 0s 169ms/step - loss: 5573.3569 - accuracy: 0.0000e+00\n"
          ],
          "name": "stdout"
        },
        {
          "output_type": "stream",
          "text": [
            "\r 91%|█████████ | 456/500 [47:04<08:01, 10.94s/it]"
          ],
          "name": "stderr"
        },
        {
          "output_type": "stream",
          "text": [
            "Epoch 1/1\n",
            "\r1/1 [==============================] - 0s 174ms/step - loss: 0.3120 - accuracy: 1.0000\n",
            "Epoch 1/1\n",
            "1/1 [==============================] - 0s 204ms/step - loss: 0.3117 - accuracy: 1.0000\n",
            "Epoch 1/1\n",
            "1/1 [==============================] - 0s 222ms/step - loss: 6564.8838 - accuracy: 0.0000e+00\n"
          ],
          "name": "stdout"
        },
        {
          "output_type": "stream",
          "text": [
            "\r 91%|█████████▏| 457/500 [47:15<07:52, 10.99s/it]"
          ],
          "name": "stderr"
        },
        {
          "output_type": "stream",
          "text": [
            "Epoch 1/1\n",
            "1/1 [==============================] - 0s 175ms/step - loss: 0.3181 - accuracy: 1.0000\n",
            "Epoch 1/1\n",
            "1/1 [==============================] - 0s 174ms/step - loss: 17246.3535 - accuracy: 0.0000e+00\n",
            "Epoch 1/1\n",
            "1/1 [==============================] - 0s 189ms/step - loss: 7644.3931 - accuracy: 0.0000e+00\n"
          ],
          "name": "stdout"
        },
        {
          "output_type": "stream",
          "text": [
            "\r 92%|█████████▏| 458/500 [47:25<07:30, 10.74s/it]"
          ],
          "name": "stderr"
        },
        {
          "output_type": "stream",
          "text": [
            "Epoch 1/1\n",
            "1/1 [==============================] - 0s 203ms/step - loss: 0.3019 - accuracy: 1.0000\n",
            "Epoch 1/1\n",
            "1/1 [==============================] - 0s 183ms/step - loss: 0.3040 - accuracy: 1.0000\n",
            "Epoch 1/1\n",
            "1/1 [==============================] - 0s 208ms/step - loss: 8752.5752 - accuracy: 0.0000e+00\n"
          ],
          "name": "stdout"
        },
        {
          "output_type": "stream",
          "text": [
            "\r 92%|█████████▏| 459/500 [47:36<07:13, 10.58s/it]"
          ],
          "name": "stderr"
        },
        {
          "output_type": "stream",
          "text": [
            "Epoch 1/1\n",
            "1/1 [==============================] - 0s 174ms/step - loss: 32297.1816 - accuracy: 0.0000e+00\n",
            "Epoch 1/1\n",
            "1/1 [==============================] - 0s 170ms/step - loss: 197.0483 - accuracy: 0.0000e+00\n",
            "Epoch 1/1\n",
            "1/1 [==============================] - 0s 162ms/step - loss: 0.3090 - accuracy: 1.0000\n"
          ],
          "name": "stdout"
        },
        {
          "output_type": "stream",
          "text": [
            "\r 92%|█████████▏| 460/500 [47:46<06:58, 10.47s/it]"
          ],
          "name": "stderr"
        },
        {
          "output_type": "stream",
          "text": [
            "Epoch 1/1\n",
            "1/1 [==============================] - 0s 162ms/step - loss: 7224.3413 - accuracy: 0.0000e+00\n",
            "Epoch 1/1\n",
            "1/1 [==============================] - 0s 165ms/step - loss: 0.3257 - accuracy: 1.0000\n",
            "Epoch 1/1\n",
            "1/1 [==============================] - 0s 152ms/step - loss: 0.3002 - accuracy: 1.0000\n"
          ],
          "name": "stdout"
        },
        {
          "output_type": "stream",
          "text": [
            "\r 92%|█████████▏| 461/500 [47:56<06:44, 10.38s/it]"
          ],
          "name": "stderr"
        },
        {
          "output_type": "stream",
          "text": [
            "Epoch 1/1\n",
            "1/1 [==============================] - 0s 153ms/step - loss: 0.3025 - accuracy: 1.0000\n",
            "Epoch 1/1\n",
            "1/1 [==============================] - 0s 157ms/step - loss: 0.3045 - accuracy: 1.0000\n",
            "Epoch 1/1\n",
            "1/1 [==============================] - 0s 144ms/step - loss: 0.3058 - accuracy: 1.0000\n"
          ],
          "name": "stdout"
        },
        {
          "output_type": "stream",
          "text": [
            "\r 92%|█████████▏| 462/500 [48:06<06:30, 10.29s/it]"
          ],
          "name": "stderr"
        },
        {
          "output_type": "stream",
          "text": [
            "Epoch 1/1\n",
            "1/1 [==============================] - 0s 144ms/step - loss: 0.3164 - accuracy: 1.0000\n",
            "Epoch 1/1\n",
            "1/1 [==============================] - 0s 147ms/step - loss: 8945.9482 - accuracy: 0.0000e+00\n",
            "Epoch 1/1\n",
            "1/1 [==============================] - 0s 146ms/step - loss: 0.3146 - accuracy: 1.0000\n"
          ],
          "name": "stdout"
        },
        {
          "output_type": "stream",
          "text": [
            "\r 93%|█████████▎| 463/500 [48:16<06:19, 10.26s/it]"
          ],
          "name": "stderr"
        },
        {
          "output_type": "stream",
          "text": [
            "Epoch 1/1\n",
            "1/1 [==============================] - 0s 146ms/step - loss: 2908.3052 - accuracy: 0.0000e+00\n",
            "Epoch 1/1\n",
            "1/1 [==============================] - 0s 148ms/step - loss: 3742.2778 - accuracy: 0.0000e+00\n",
            "Epoch 1/1\n",
            "1/1 [==============================] - 0s 166ms/step - loss: 5493.3120 - accuracy: 0.0000e+00\n"
          ],
          "name": "stdout"
        },
        {
          "output_type": "stream",
          "text": [
            "\r 93%|█████████▎| 464/500 [48:30<06:41, 11.16s/it]"
          ],
          "name": "stderr"
        },
        {
          "output_type": "stream",
          "text": [
            "Epoch 1/1\n",
            "1/1 [==============================] - 0s 166ms/step - loss: 0.3237 - accuracy: 1.0000\n",
            "Epoch 1/1\n",
            "1/1 [==============================] - 0s 165ms/step - loss: 0.2982 - accuracy: 1.0000\n",
            "Epoch 1/1\n",
            "1/1 [==============================] - 0s 158ms/step - loss: 0.2917 - accuracy: 1.0000\n"
          ],
          "name": "stdout"
        },
        {
          "output_type": "stream",
          "text": [
            "\r 93%|█████████▎| 465/500 [48:40<06:25, 11.00s/it]"
          ],
          "name": "stderr"
        },
        {
          "output_type": "stream",
          "text": [
            "Epoch 1/1\n",
            "1/1 [==============================] - 0s 165ms/step - loss: 5327.2568 - accuracy: 0.0000e+00\n",
            "Epoch 1/1\n",
            "1/1 [==============================] - 0s 164ms/step - loss: 2016.6488 - accuracy: 0.0000e+00\n",
            "Epoch 1/1\n",
            "1/1 [==============================] - 0s 165ms/step - loss: 15409.4297 - accuracy: 0.0000e+00\n"
          ],
          "name": "stdout"
        },
        {
          "output_type": "stream",
          "text": [
            "\r 93%|█████████▎| 466/500 [48:50<06:03, 10.70s/it]"
          ],
          "name": "stderr"
        },
        {
          "output_type": "stream",
          "text": [
            "Epoch 1/1\n",
            "1/1 [==============================] - 0s 181ms/step - loss: 3883.0950 - accuracy: 0.0000e+00\n",
            "Epoch 1/1\n",
            "1/1 [==============================] - 0s 178ms/step - loss: 212.6311 - accuracy: 0.0000e+00\n",
            "Epoch 1/1\n",
            "1/1 [==============================] - 0s 190ms/step - loss: 19361.8379 - accuracy: 0.0000e+00\n"
          ],
          "name": "stdout"
        },
        {
          "output_type": "stream",
          "text": [
            "\r 93%|█████████▎| 467/500 [49:00<05:47, 10.53s/it]"
          ],
          "name": "stderr"
        },
        {
          "output_type": "stream",
          "text": [
            "Epoch 1/1\n",
            "1/1 [==============================] - 0s 191ms/step - loss: 0.3005 - accuracy: 1.0000\n",
            "Epoch 1/1\n",
            "1/1 [==============================] - 0s 181ms/step - loss: 27109.3555 - accuracy: 0.0000e+00\n",
            "Epoch 1/1\n",
            "1/1 [==============================] - 0s 182ms/step - loss: 0.3147 - accuracy: 1.0000\n"
          ],
          "name": "stdout"
        },
        {
          "output_type": "stream",
          "text": [
            "\r 94%|█████████▎| 468/500 [49:10<05:32, 10.39s/it]"
          ],
          "name": "stderr"
        },
        {
          "output_type": "stream",
          "text": [
            "Epoch 1/1\n",
            "1/1 [==============================] - 0s 189ms/step - loss: 5796.6616 - accuracy: 0.0000e+00\n",
            "Epoch 1/1\n",
            "1/1 [==============================] - 0s 158ms/step - loss: 0.3085 - accuracy: 1.0000\n",
            "Epoch 1/1\n",
            "1/1 [==============================] - 0s 156ms/step - loss: 17850.9336 - accuracy: 0.0000e+00\n"
          ],
          "name": "stdout"
        },
        {
          "output_type": "stream",
          "text": [
            "\r 94%|█████████▍| 469/500 [49:20<05:19, 10.29s/it]"
          ],
          "name": "stderr"
        },
        {
          "output_type": "stream",
          "text": [
            "Epoch 1/1\n",
            "1/1 [==============================] - 0s 161ms/step - loss: 0.3061 - accuracy: 1.0000\n",
            "Epoch 1/1\n",
            "1/1 [==============================] - 0s 148ms/step - loss: 0.3121 - accuracy: 1.0000\n",
            "Epoch 1/1\n",
            "1/1 [==============================] - 0s 150ms/step - loss: 0.3082 - accuracy: 1.0000\n"
          ],
          "name": "stdout"
        },
        {
          "output_type": "stream",
          "text": [
            "\r 94%|█████████▍| 470/500 [49:30<05:06, 10.20s/it]"
          ],
          "name": "stderr"
        },
        {
          "output_type": "stream",
          "text": [
            "Epoch 1/1\n",
            "1/1 [==============================] - 0s 144ms/step - loss: 5568.7822 - accuracy: 0.0000e+00\n",
            "Epoch 1/1\n",
            "1/1 [==============================] - 0s 140ms/step - loss: 10638.3955 - accuracy: 0.0000e+00\n",
            "Epoch 1/1\n",
            "1/1 [==============================] - 0s 142ms/step - loss: 20583.7500 - accuracy: 0.0000e+00\n"
          ],
          "name": "stdout"
        },
        {
          "output_type": "stream",
          "text": [
            "\r 94%|█████████▍| 471/500 [49:41<04:54, 10.15s/it]"
          ],
          "name": "stderr"
        },
        {
          "output_type": "stream",
          "text": [
            "Epoch 1/1\n",
            "1/1 [==============================] - 0s 145ms/step - loss: 0.2929 - accuracy: 1.0000\n",
            "Epoch 1/1\n",
            "1/1 [==============================] - 0s 145ms/step - loss: 2116.6785 - accuracy: 0.0000e+00\n",
            "Epoch 1/1\n",
            "1/1 [==============================] - 0s 140ms/step - loss: 0.3081 - accuracy: 1.0000\n"
          ],
          "name": "stdout"
        },
        {
          "output_type": "stream",
          "text": [
            "\r 94%|█████████▍| 472/500 [49:51<04:45, 10.19s/it]"
          ],
          "name": "stderr"
        },
        {
          "output_type": "stream",
          "text": [
            "Epoch 1/1\n",
            "1/1 [==============================] - 0s 140ms/step - loss: 114.7978 - accuracy: 0.0000e+00\n",
            "Epoch 1/1\n",
            "1/1 [==============================] - 0s 180ms/step - loss: 17401.6250 - accuracy: 0.0000e+00\n",
            "Epoch 1/1\n",
            "1/1 [==============================] - 0s 162ms/step - loss: 3185.0627 - accuracy: 0.0000e+00\n"
          ],
          "name": "stdout"
        },
        {
          "output_type": "stream",
          "text": [
            "\r 95%|█████████▍| 473/500 [50:04<04:59, 11.10s/it]"
          ],
          "name": "stderr"
        },
        {
          "output_type": "stream",
          "text": [
            "Epoch 1/1\n",
            "1/1 [==============================] - 0s 195ms/step - loss: 1724.5928 - accuracy: 0.0000e+00\n",
            "Epoch 1/1\n",
            "1/1 [==============================] - 0s 162ms/step - loss: 2984.7971 - accuracy: 0.0000e+00\n",
            "Epoch 1/1\n",
            "1/1 [==============================] - 0s 162ms/step - loss: 0.3113 - accuracy: 1.0000\n"
          ],
          "name": "stdout"
        },
        {
          "output_type": "stream",
          "text": [
            "\r 95%|█████████▍| 474/500 [50:14<04:42, 10.86s/it]"
          ],
          "name": "stderr"
        },
        {
          "output_type": "stream",
          "text": [
            "Epoch 1/1\n",
            "1/1 [==============================] - 0s 171ms/step - loss: 0.3024 - accuracy: 1.0000\n",
            "Epoch 1/1\n",
            "1/1 [==============================] - 0s 176ms/step - loss: 10033.6943 - accuracy: 0.0000e+00\n",
            "Epoch 1/1\n",
            "1/1 [==============================] - 0s 193ms/step - loss: 23277.6680 - accuracy: 0.0000e+00\n"
          ],
          "name": "stdout"
        },
        {
          "output_type": "stream",
          "text": [
            "\r 95%|█████████▌| 475/500 [50:25<04:27, 10.70s/it]"
          ],
          "name": "stderr"
        },
        {
          "output_type": "stream",
          "text": [
            "Epoch 1/1\n",
            "1/1 [==============================] - 0s 195ms/step - loss: 0.3017 - accuracy: 1.0000\n",
            "Epoch 1/1\n",
            "1/1 [==============================] - 0s 186ms/step - loss: 0.3184 - accuracy: 1.0000\n",
            "Epoch 1/1\n",
            "1/1 [==============================] - 0s 175ms/step - loss: 0.2999 - accuracy: 1.0000\n"
          ],
          "name": "stdout"
        },
        {
          "output_type": "stream",
          "text": [
            "\r 95%|█████████▌| 476/500 [50:35<04:14, 10.61s/it]"
          ],
          "name": "stderr"
        },
        {
          "output_type": "stream",
          "text": [
            "Epoch 1/1\n",
            "1/1 [==============================] - 0s 176ms/step - loss: 0.3138 - accuracy: 1.0000\n",
            "Epoch 1/1\n",
            "1/1 [==============================] - 0s 185ms/step - loss: 87373.1328 - accuracy: 0.0000e+00\n",
            "Epoch 1/1\n",
            "1/1 [==============================] - 0s 161ms/step - loss: 3316.4077 - accuracy: 0.0000e+00\n"
          ],
          "name": "stdout"
        },
        {
          "output_type": "stream",
          "text": [
            "\r 95%|█████████▌| 477/500 [50:45<04:02, 10.56s/it]"
          ],
          "name": "stderr"
        },
        {
          "output_type": "stream",
          "text": [
            "Epoch 1/1\n",
            "1/1 [==============================] - 0s 176ms/step - loss: 0.3162 - accuracy: 1.0000\n",
            "Epoch 1/1\n",
            "1/1 [==============================] - 0s 157ms/step - loss: 22180.8379 - accuracy: 0.0000e+00\n",
            "Epoch 1/1\n",
            "1/1 [==============================] - 0s 152ms/step - loss: 0.3169 - accuracy: 1.0000\n"
          ],
          "name": "stdout"
        },
        {
          "output_type": "stream",
          "text": [
            "\r 96%|█████████▌| 478/500 [50:56<03:50, 10.50s/it]"
          ],
          "name": "stderr"
        },
        {
          "output_type": "stream",
          "text": [
            "Epoch 1/1\n",
            "1/1 [==============================] - 0s 151ms/step - loss: 7235.9297 - accuracy: 0.0000e+00\n",
            "Epoch 1/1\n",
            "1/1 [==============================] - 0s 153ms/step - loss: 11303.3477 - accuracy: 0.0000e+00\n",
            "Epoch 1/1\n",
            "1/1 [==============================] - 0s 152ms/step - loss: 9691.9707 - accuracy: 0.0000e+00\n"
          ],
          "name": "stdout"
        },
        {
          "output_type": "stream",
          "text": [
            "\r 96%|█████████▌| 479/500 [51:06<03:39, 10.45s/it]"
          ],
          "name": "stderr"
        },
        {
          "output_type": "stream",
          "text": [
            "Epoch 1/1\n",
            "1/1 [==============================] - 0s 144ms/step - loss: 6936.7734 - accuracy: 0.0000e+00\n",
            "Epoch 1/1\n",
            "1/1 [==============================] - 0s 167ms/step - loss: 0.3111 - accuracy: 1.0000\n",
            "Epoch 1/1\n",
            "1/1 [==============================] - 0s 147ms/step - loss: 0.3042 - accuracy: 1.0000\n"
          ],
          "name": "stdout"
        },
        {
          "output_type": "stream",
          "text": [
            "\r 96%|█████████▌| 480/500 [51:17<03:28, 10.42s/it]"
          ],
          "name": "stderr"
        },
        {
          "output_type": "stream",
          "text": [
            "Epoch 1/1\n",
            "1/1 [==============================] - 0s 145ms/step - loss: 0.3026 - accuracy: 1.0000\n",
            "Epoch 1/1\n",
            "1/1 [==============================] - 0s 150ms/step - loss: 0.3052 - accuracy: 1.0000\n",
            "Epoch 1/1\n",
            "1/1 [==============================] - 0s 190ms/step - loss: 0.3155 - accuracy: 1.0000\n"
          ],
          "name": "stdout"
        },
        {
          "output_type": "stream",
          "text": [
            "\r 96%|█████████▌| 481/500 [51:30<03:36, 11.41s/it]"
          ],
          "name": "stderr"
        },
        {
          "output_type": "stream",
          "text": [
            "Epoch 1/1\n",
            "1/1 [==============================] - 0s 179ms/step - loss: 473.6480 - accuracy: 0.0000e+00\n",
            "Epoch 1/1\n",
            "1/1 [==============================] - 0s 171ms/step - loss: 902.9372 - accuracy: 0.0000e+00\n",
            "Epoch 1/1\n",
            "1/1 [==============================] - 0s 168ms/step - loss: 9959.3916 - accuracy: 0.0000e+00\n"
          ],
          "name": "stdout"
        },
        {
          "output_type": "stream",
          "text": [
            "\r 96%|█████████▋| 482/500 [51:41<03:21, 11.22s/it]"
          ],
          "name": "stderr"
        },
        {
          "output_type": "stream",
          "text": [
            "Epoch 1/1\n",
            "1/1 [==============================] - 0s 168ms/step - loss: 2410.3782 - accuracy: 0.0000e+00\n",
            "Epoch 1/1\n",
            "1/1 [==============================] - 0s 175ms/step - loss: 0.2911 - accuracy: 1.0000\n",
            "Epoch 1/1\n",
            "1/1 [==============================] - 0s 206ms/step - loss: 28440.3047 - accuracy: 0.0000e+00\n"
          ],
          "name": "stdout"
        },
        {
          "output_type": "stream",
          "text": [
            "\r 97%|█████████▋| 483/500 [51:52<03:07, 11.03s/it]"
          ],
          "name": "stderr"
        },
        {
          "output_type": "stream",
          "text": [
            "Epoch 1/1\n",
            "1/1 [==============================] - 0s 197ms/step - loss: 12335.7578 - accuracy: 0.0000e+00\n",
            "Epoch 1/1\n",
            "1/1 [==============================] - 0s 199ms/step - loss: 0.3033 - accuracy: 1.0000\n",
            "Epoch 1/1\n",
            "1/1 [==============================] - 0s 180ms/step - loss: 0.2998 - accuracy: 1.0000\n"
          ],
          "name": "stdout"
        },
        {
          "output_type": "stream",
          "text": [
            "\r 97%|█████████▋| 484/500 [52:02<02:54, 10.92s/it]"
          ],
          "name": "stderr"
        },
        {
          "output_type": "stream",
          "text": [
            "Epoch 1/1\n",
            "1/1 [==============================] - 0s 180ms/step - loss: 3668.6555 - accuracy: 0.0000e+00\n",
            "Epoch 1/1\n",
            "1/1 [==============================] - 0s 172ms/step - loss: 0.3127 - accuracy: 1.0000\n",
            "Epoch 1/1\n",
            "1/1 [==============================] - 0s 165ms/step - loss: 337.0242 - accuracy: 0.0000e+00\n"
          ],
          "name": "stdout"
        },
        {
          "output_type": "stream",
          "text": [
            "\r 97%|█████████▋| 485/500 [52:13<02:41, 10.79s/it]"
          ],
          "name": "stderr"
        },
        {
          "output_type": "stream",
          "text": [
            "Epoch 1/1\n",
            "1/1 [==============================] - 0s 156ms/step - loss: 0.3199 - accuracy: 1.0000\n",
            "Epoch 1/1\n",
            "1/1 [==============================] - 0s 156ms/step - loss: 0.3084 - accuracy: 1.0000\n",
            "Epoch 1/1\n",
            "1/1 [==============================] - 0s 167ms/step - loss: 6629.3672 - accuracy: 0.0000e+00\n"
          ],
          "name": "stdout"
        },
        {
          "output_type": "stream",
          "text": [
            "\r 97%|█████████▋| 486/500 [52:23<02:30, 10.72s/it]"
          ],
          "name": "stderr"
        },
        {
          "output_type": "stream",
          "text": [
            "Epoch 1/1\n",
            "1/1 [==============================] - 0s 159ms/step - loss: 0.2940 - accuracy: 1.0000\n",
            "Epoch 1/1\n",
            "1/1 [==============================] - 0s 159ms/step - loss: 0.3175 - accuracy: 1.0000\n",
            "Epoch 1/1\n",
            "1/1 [==============================] - 0s 149ms/step - loss: 0.3144 - accuracy: 1.0000\n"
          ],
          "name": "stdout"
        },
        {
          "output_type": "stream",
          "text": [
            "\r 97%|█████████▋| 487/500 [52:34<02:19, 10.74s/it]"
          ],
          "name": "stderr"
        },
        {
          "output_type": "stream",
          "text": [
            "Epoch 1/1\n",
            "1/1 [==============================] - 0s 146ms/step - loss: 5423.1987 - accuracy: 0.0000e+00\n",
            "Epoch 1/1\n",
            "1/1 [==============================] - 0s 146ms/step - loss: 2983.6790 - accuracy: 0.0000e+00\n",
            "Epoch 1/1\n",
            "1/1 [==============================] - 0s 147ms/step - loss: 0.2959 - accuracy: 1.0000\n"
          ],
          "name": "stdout"
        },
        {
          "output_type": "stream",
          "text": [
            "\r 98%|█████████▊| 488/500 [52:45<02:08, 10.71s/it]"
          ],
          "name": "stderr"
        },
        {
          "output_type": "stream",
          "text": [
            "Epoch 1/1\n",
            "1/1 [==============================] - 0s 145ms/step - loss: 0.3064 - accuracy: 1.0000\n",
            "Epoch 1/1\n",
            "1/1 [==============================] - 0s 156ms/step - loss: 0.3181 - accuracy: 1.0000\n",
            "Epoch 1/1\n",
            "1/1 [==============================] - 0s 167ms/step - loss: 18305.8164 - accuracy: 0.0000e+00\n"
          ],
          "name": "stdout"
        },
        {
          "output_type": "stream",
          "text": [
            "\r 98%|█████████▊| 489/500 [52:55<01:57, 10.72s/it]"
          ],
          "name": "stderr"
        },
        {
          "output_type": "stream",
          "text": [
            "Epoch 1/1\n",
            "1/1 [==============================] - 0s 142ms/step - loss: 0.3121 - accuracy: 1.0000\n",
            "Epoch 1/1\n",
            "1/1 [==============================] - 0s 184ms/step - loss: 16576.4258 - accuracy: 0.0000e+00\n",
            "Epoch 1/1\n",
            "1/1 [==============================] - 0s 160ms/step - loss: 7256.8188 - accuracy: 0.0000e+00\n"
          ],
          "name": "stdout"
        },
        {
          "output_type": "stream",
          "text": [
            "\r 98%|█████████▊| 490/500 [53:09<01:56, 11.67s/it]"
          ],
          "name": "stderr"
        },
        {
          "output_type": "stream",
          "text": [
            "Epoch 1/1\n",
            "1/1 [==============================] - 0s 166ms/step - loss: 8220.9453 - accuracy: 0.0000e+00\n",
            "Epoch 1/1\n",
            "1/1 [==============================] - 0s 165ms/step - loss: 0.3200 - accuracy: 1.0000\n",
            "Epoch 1/1\n",
            "1/1 [==============================] - 0s 168ms/step - loss: 0.3219 - accuracy: 1.0000\n"
          ],
          "name": "stdout"
        },
        {
          "output_type": "stream",
          "text": [
            "\r 98%|█████████▊| 491/500 [53:20<01:41, 11.32s/it]"
          ],
          "name": "stderr"
        },
        {
          "output_type": "stream",
          "text": [
            "Epoch 1/1\n",
            "1/1 [==============================] - 0s 166ms/step - loss: 0.2998 - accuracy: 1.0000\n",
            "Epoch 1/1\n",
            "1/1 [==============================] - 0s 182ms/step - loss: 0.3129 - accuracy: 1.0000\n",
            "Epoch 1/1\n",
            "1/1 [==============================] - 0s 184ms/step - loss: 0.3132 - accuracy: 1.0000\n"
          ],
          "name": "stdout"
        },
        {
          "output_type": "stream",
          "text": [
            "\r 98%|█████████▊| 492/500 [53:30<01:28, 11.08s/it]"
          ],
          "name": "stderr"
        },
        {
          "output_type": "stream",
          "text": [
            "Epoch 1/1\n",
            "\r1/1 [==============================] - 0s 192ms/step - loss: 2952.4944 - accuracy: 0.0000e+00\n",
            "Epoch 1/1\n",
            "1/1 [==============================] - 0s 242ms/step - loss: 0.3186 - accuracy: 1.0000\n",
            "Epoch 1/1\n",
            "1/1 [==============================] - 0s 242ms/step - loss: 22360.7988 - accuracy: 0.0000e+00\n"
          ],
          "name": "stdout"
        },
        {
          "output_type": "stream",
          "text": [
            "\r 99%|█████████▊| 493/500 [53:42<01:18, 11.14s/it]"
          ],
          "name": "stderr"
        },
        {
          "output_type": "stream",
          "text": [
            "Epoch 1/1\n",
            "1/1 [==============================] - 0s 224ms/step - loss: 3752.3406 - accuracy: 0.0000e+00\n",
            "Epoch 1/1\n",
            "1/1 [==============================] - 0s 216ms/step - loss: 19304.9961 - accuracy: 0.0000e+00\n",
            "Epoch 1/1\n",
            "1/1 [==============================] - 0s 219ms/step - loss: 2821.2434 - accuracy: 0.0000e+00\n"
          ],
          "name": "stdout"
        },
        {
          "output_type": "stream",
          "text": [
            "\r 99%|█████████▉| 494/500 [53:54<01:08, 11.45s/it]"
          ],
          "name": "stderr"
        },
        {
          "output_type": "stream",
          "text": [
            "Epoch 1/1\n",
            "1/1 [==============================] - 0s 221ms/step - loss: 3422.6848 - accuracy: 0.0000e+00\n",
            "Epoch 1/1\n",
            "1/1 [==============================] - 0s 201ms/step - loss: 0.3190 - accuracy: 1.0000\n",
            "Epoch 1/1\n",
            "1/1 [==============================] - 0s 197ms/step - loss: 0.3052 - accuracy: 1.0000\n"
          ],
          "name": "stdout"
        },
        {
          "output_type": "stream",
          "text": [
            "\r 99%|█████████▉| 495/500 [54:06<00:58, 11.72s/it]"
          ],
          "name": "stderr"
        },
        {
          "output_type": "stream",
          "text": [
            "Epoch 1/1\n",
            "1/1 [==============================] - 0s 209ms/step - loss: 0.3144 - accuracy: 1.0000\n",
            "Epoch 1/1\n",
            "1/1 [==============================] - 0s 181ms/step - loss: 20111.3398 - accuracy: 0.0000e+00\n",
            "Epoch 1/1\n",
            "1/1 [==============================] - 0s 183ms/step - loss: 0.3017 - accuracy: 1.0000\n"
          ],
          "name": "stdout"
        },
        {
          "output_type": "stream",
          "text": [
            "\r 99%|█████████▉| 496/500 [54:18<00:47, 11.85s/it]"
          ],
          "name": "stderr"
        },
        {
          "output_type": "stream",
          "text": [
            "Epoch 1/1\n",
            "1/1 [==============================] - 0s 166ms/step - loss: 3152.6267 - accuracy: 0.0000e+00\n",
            "Epoch 1/1\n",
            "1/1 [==============================] - 0s 165ms/step - loss: 10581.4385 - accuracy: 0.0000e+00\n",
            "Epoch 1/1\n",
            "1/1 [==============================] - 0s 180ms/step - loss: 25381.7754 - accuracy: 0.0000e+00\n"
          ],
          "name": "stdout"
        },
        {
          "output_type": "stream",
          "text": [
            "\r 99%|█████████▉| 497/500 [54:30<00:35, 11.91s/it]"
          ],
          "name": "stderr"
        },
        {
          "output_type": "stream",
          "text": [
            "Epoch 1/1\n",
            "1/1 [==============================] - 0s 166ms/step - loss: 0.9879 - accuracy: 1.0000\n",
            "Epoch 1/1\n",
            "1/1 [==============================] - 0s 175ms/step - loss: 0.3115 - accuracy: 1.0000\n",
            "Epoch 1/1\n",
            "1/1 [==============================] - 0s 242ms/step - loss: 0.3141 - accuracy: 1.0000\n"
          ],
          "name": "stdout"
        },
        {
          "output_type": "stream",
          "text": [
            "\r100%|█████████▉| 498/500 [54:46<00:26, 13.09s/it]"
          ],
          "name": "stderr"
        },
        {
          "output_type": "stream",
          "text": [
            "Epoch 1/1\n",
            "1/1 [==============================] - 0s 222ms/step - loss: 36540.6758 - accuracy: 0.0000e+00\n",
            "Epoch 1/1\n",
            "1/1 [==============================] - 0s 229ms/step - loss: 0.3138 - accuracy: 1.0000\n",
            "Epoch 1/1\n",
            "1/1 [==============================] - 0s 225ms/step - loss: 0.3256 - accuracy: 1.0000\n"
          ],
          "name": "stdout"
        },
        {
          "output_type": "stream",
          "text": [
            "\r100%|█████████▉| 499/500 [54:58<00:12, 12.84s/it]"
          ],
          "name": "stderr"
        },
        {
          "output_type": "stream",
          "text": [
            "Epoch 1/1\n",
            "1/1 [==============================] - 0s 233ms/step - loss: 0.3034 - accuracy: 1.0000\n",
            "Epoch 1/1\n",
            "1/1 [==============================] - 0s 241ms/step - loss: 2526.3501 - accuracy: 0.0000e+00\n",
            "Epoch 1/1\n",
            "1/1 [==============================] - 0s 246ms/step - loss: 0.3222 - accuracy: 1.0000\n"
          ],
          "name": "stdout"
        },
        {
          "output_type": "stream",
          "text": [
            "100%|██████████| 500/500 [55:11<00:00,  6.62s/it]\n"
          ],
          "name": "stderr"
        }
      ]
    },
    {
      "cell_type": "code",
      "metadata": {
        "id": "AzCYN3pGtRUj",
        "colab_type": "code",
        "outputId": "03f41151-2d81-463d-96b0-057854d9eba8",
        "colab": {
          "base_uri": "https://localhost:8080/",
          "height": 164
        }
      },
      "source": [
        "loc"
      ],
      "execution_count": 1,
      "outputs": [
        {
          "output_type": "error",
          "ename": "NameError",
          "evalue": "ignored",
          "traceback": [
            "\u001b[0;31m---------------------------------------------------------------------------\u001b[0m",
            "\u001b[0;31mNameError\u001b[0m                                 Traceback (most recent call last)",
            "\u001b[0;32m<ipython-input-1-98eacc010565>\u001b[0m in \u001b[0;36m<module>\u001b[0;34m()\u001b[0m\n\u001b[0;32m----> 1\u001b[0;31m \u001b[0mloc\u001b[0m\u001b[0;34m\u001b[0m\u001b[0;34m\u001b[0m\u001b[0m\n\u001b[0m",
            "\u001b[0;31mNameError\u001b[0m: name 'loc' is not defined"
          ]
        }
      ]
    },
    {
      "cell_type": "code",
      "metadata": {
        "id": "KnCEZcLlegDG",
        "colab_type": "code",
        "colab": {}
      },
      "source": [
        "\n"
      ],
      "execution_count": 0,
      "outputs": []
    },
    {
      "cell_type": "code",
      "metadata": {
        "id": "_5-ylx-vlREd",
        "colab_type": "code",
        "outputId": "ac987fd3-e5df-4bd1-e3b0-7c2aac24da27",
        "colab": {
          "base_uri": "https://localhost:8080/",
          "height": 34
        }
      },
      "source": [
        "print(results)"
      ],
      "execution_count": 20,
      "outputs": [
        {
          "output_type": "stream",
          "text": [
            "{'BankG.1': 50.44474005699158}\n"
          ],
          "name": "stdout"
        }
      ]
    },
    {
      "cell_type": "code",
      "metadata": {
        "id": "0BsoFVGtsifd",
        "colab_type": "code",
        "outputId": "5079e8fa-56c9-4bb2-fc64-34064a151c4e",
        "colab": {
          "base_uri": "https://localhost:8080/",
          "height": 377
        }
      },
      "source": [
        "advData"
      ],
      "execution_count": 20,
      "outputs": [
        {
          "output_type": "execute_result",
          "data": {
            "text/html": [
              "<div>\n",
              "<style scoped>\n",
              "    .dataframe tbody tr th:only-of-type {\n",
              "        vertical-align: middle;\n",
              "    }\n",
              "\n",
              "    .dataframe tbody tr th {\n",
              "        vertical-align: top;\n",
              "    }\n",
              "\n",
              "    .dataframe thead th {\n",
              "        text-align: right;\n",
              "    }\n",
              "</style>\n",
              "<table border=\"1\" class=\"dataframe\">\n",
              "  <thead>\n",
              "    <tr style=\"text-align: right;\">\n",
              "      <th></th>\n",
              "      <th>0</th>\n",
              "      <th>1</th>\n",
              "      <th>2</th>\n",
              "      <th>3</th>\n",
              "      <th>4</th>\n",
              "      <th>5</th>\n",
              "      <th>6</th>\n",
              "      <th>7</th>\n",
              "      <th>8</th>\n",
              "      <th>9</th>\n",
              "      <th>10</th>\n",
              "      <th>11</th>\n",
              "      <th>12</th>\n",
              "      <th>13</th>\n",
              "      <th>14</th>\n",
              "      <th>15</th>\n",
              "      <th>16</th>\n",
              "      <th>17</th>\n",
              "      <th>18</th>\n",
              "      <th>19</th>\n",
              "      <th>20</th>\n",
              "      <th>21</th>\n",
              "      <th>22</th>\n",
              "      <th>23</th>\n",
              "      <th>24</th>\n",
              "      <th>25</th>\n",
              "      <th>26</th>\n",
              "      <th>27</th>\n",
              "      <th>28</th>\n",
              "      <th>29</th>\n",
              "      <th>30</th>\n",
              "      <th>31</th>\n",
              "      <th>32</th>\n",
              "      <th>33</th>\n",
              "      <th>34</th>\n",
              "      <th>35</th>\n",
              "      <th>36</th>\n",
              "      <th>37</th>\n",
              "      <th>38</th>\n",
              "      <th>39</th>\n",
              "      <th>...</th>\n",
              "      <th>1657</th>\n",
              "      <th>1658</th>\n",
              "      <th>1659</th>\n",
              "      <th>1660</th>\n",
              "      <th>1661</th>\n",
              "      <th>1662</th>\n",
              "      <th>1663</th>\n",
              "      <th>1664</th>\n",
              "      <th>1665</th>\n",
              "      <th>1666</th>\n",
              "      <th>1667</th>\n",
              "      <th>1668</th>\n",
              "      <th>1669</th>\n",
              "      <th>1670</th>\n",
              "      <th>1671</th>\n",
              "      <th>1672</th>\n",
              "      <th>1673</th>\n",
              "      <th>1674</th>\n",
              "      <th>1675</th>\n",
              "      <th>1676</th>\n",
              "      <th>1677</th>\n",
              "      <th>1678</th>\n",
              "      <th>1679</th>\n",
              "      <th>1680</th>\n",
              "      <th>1681</th>\n",
              "      <th>1682</th>\n",
              "      <th>1683</th>\n",
              "      <th>1684</th>\n",
              "      <th>1685</th>\n",
              "      <th>1686</th>\n",
              "      <th>1687</th>\n",
              "      <th>1688</th>\n",
              "      <th>1689</th>\n",
              "      <th>1690</th>\n",
              "      <th>1691</th>\n",
              "      <th>1692</th>\n",
              "      <th>1693</th>\n",
              "      <th>1694</th>\n",
              "      <th>1695</th>\n",
              "      <th>1696</th>\n",
              "    </tr>\n",
              "  </thead>\n",
              "  <tbody>\n",
              "    <tr>\n",
              "      <th>0</th>\n",
              "      <td>0.0</td>\n",
              "      <td>41396.000000</td>\n",
              "      <td>1.159803</td>\n",
              "      <td>0.011840</td>\n",
              "      <td>1.025612</td>\n",
              "      <td>1.350963</td>\n",
              "      <td>-0.809957</td>\n",
              "      <td>-0.302297</td>\n",
              "      <td>-0.380594</td>\n",
              "      <td>0.004566</td>\n",
              "      <td>0.742218</td>\n",
              "      <td>-0.181267</td>\n",
              "      <td>-0.779963</td>\n",
              "      <td>0.574586</td>\n",
              "      <td>0.265352</td>\n",
              "      <td>-0.330410</td>\n",
              "      <td>0.025106</td>\n",
              "      <td>-0.109917</td>\n",
              "      <td>-0.201975</td>\n",
              "      <td>-0.034888</td>\n",
              "      <td>-0.238193</td>\n",
              "      <td>-0.110639</td>\n",
              "      <td>0.096410</td>\n",
              "      <td>0.518234</td>\n",
              "      <td>-0.147978</td>\n",
              "      <td>0.436138</td>\n",
              "      <td>0.658705</td>\n",
              "      <td>-0.217487</td>\n",
              "      <td>0.060747</td>\n",
              "      <td>0.031695</td>\n",
              "      <td>14.950000</td>\n",
              "      <td>0.237057</td>\n",
              "      <td>-0.086915</td>\n",
              "      <td>0.109903</td>\n",
              "      <td>0.113055</td>\n",
              "      <td>-0.201762</td>\n",
              "      <td>0.412838</td>\n",
              "      <td>-0.092077</td>\n",
              "      <td>-0.178714</td>\n",
              "      <td>0.341041</td>\n",
              "      <td>...</td>\n",
              "      <td>-0.082625</td>\n",
              "      <td>-0.395279</td>\n",
              "      <td>0.161219</td>\n",
              "      <td>-0.033983</td>\n",
              "      <td>0.221757</td>\n",
              "      <td>-0.307772</td>\n",
              "      <td>0.434569</td>\n",
              "      <td>-0.060222</td>\n",
              "      <td>0.002083</td>\n",
              "      <td>0.363151</td>\n",
              "      <td>0.473154</td>\n",
              "      <td>0.524461</td>\n",
              "      <td>-0.128769</td>\n",
              "      <td>-0.004124</td>\n",
              "      <td>0.064948</td>\n",
              "      <td>0.096946</td>\n",
              "      <td>-0.693933</td>\n",
              "      <td>0.219989</td>\n",
              "      <td>0.544843</td>\n",
              "      <td>0.013323</td>\n",
              "      <td>-0.348253</td>\n",
              "      <td>0.501134</td>\n",
              "      <td>-0.000083</td>\n",
              "      <td>0.000000</td>\n",
              "      <td>0.0</td>\n",
              "      <td>0.000000</td>\n",
              "      <td>-0.000026</td>\n",
              "      <td>0.000076</td>\n",
              "      <td>-0.000024</td>\n",
              "      <td>7.460669e-07</td>\n",
              "      <td>0.290523</td>\n",
              "      <td>0.853379</td>\n",
              "      <td>0.167941</td>\n",
              "      <td>0.032147</td>\n",
              "      <td>0.291259</td>\n",
              "      <td>-0.771327</td>\n",
              "      <td>-0.317156</td>\n",
              "      <td>0.225181</td>\n",
              "      <td>0.000124</td>\n",
              "      <td>1.0</td>\n",
              "    </tr>\n",
              "    <tr>\n",
              "      <th>1</th>\n",
              "      <td>0.0</td>\n",
              "      <td>86108.589443</td>\n",
              "      <td>-2.202582</td>\n",
              "      <td>1.819371</td>\n",
              "      <td>-2.635981</td>\n",
              "      <td>3.161165</td>\n",
              "      <td>-3.672247</td>\n",
              "      <td>0.843824</td>\n",
              "      <td>-2.919379</td>\n",
              "      <td>-1.212333</td>\n",
              "      <td>-1.602360</td>\n",
              "      <td>-4.041358</td>\n",
              "      <td>1.518586</td>\n",
              "      <td>-2.515835</td>\n",
              "      <td>0.110103</td>\n",
              "      <td>-3.560226</td>\n",
              "      <td>-0.505770</td>\n",
              "      <td>-3.236424</td>\n",
              "      <td>-4.776713</td>\n",
              "      <td>-1.491930</td>\n",
              "      <td>1.901469</td>\n",
              "      <td>0.606258</td>\n",
              "      <td>-0.650505</td>\n",
              "      <td>0.907054</td>\n",
              "      <td>0.262488</td>\n",
              "      <td>0.026927</td>\n",
              "      <td>0.363889</td>\n",
              "      <td>-0.042775</td>\n",
              "      <td>0.524711</td>\n",
              "      <td>-0.023520</td>\n",
              "      <td>316.756383</td>\n",
              "      <td>0.469923</td>\n",
              "      <td>0.208194</td>\n",
              "      <td>-0.035470</td>\n",
              "      <td>-0.260386</td>\n",
              "      <td>0.216073</td>\n",
              "      <td>0.198577</td>\n",
              "      <td>-0.179042</td>\n",
              "      <td>0.027528</td>\n",
              "      <td>0.269137</td>\n",
              "      <td>...</td>\n",
              "      <td>0.847587</td>\n",
              "      <td>-0.559428</td>\n",
              "      <td>-0.255730</td>\n",
              "      <td>-0.040241</td>\n",
              "      <td>0.022280</td>\n",
              "      <td>-0.094904</td>\n",
              "      <td>0.130603</td>\n",
              "      <td>0.148572</td>\n",
              "      <td>-0.267674</td>\n",
              "      <td>-0.354126</td>\n",
              "      <td>0.451759</td>\n",
              "      <td>-0.065418</td>\n",
              "      <td>-0.302510</td>\n",
              "      <td>0.192393</td>\n",
              "      <td>0.694749</td>\n",
              "      <td>0.485422</td>\n",
              "      <td>0.088762</td>\n",
              "      <td>-0.347733</td>\n",
              "      <td>0.146671</td>\n",
              "      <td>0.002102</td>\n",
              "      <td>0.524095</td>\n",
              "      <td>0.441501</td>\n",
              "      <td>0.000744</td>\n",
              "      <td>-0.000744</td>\n",
              "      <td>0.0</td>\n",
              "      <td>-0.000744</td>\n",
              "      <td>0.000000</td>\n",
              "      <td>-0.000744</td>\n",
              "      <td>0.000000</td>\n",
              "      <td>7.441299e-04</td>\n",
              "      <td>0.429779</td>\n",
              "      <td>-0.225237</td>\n",
              "      <td>0.752006</td>\n",
              "      <td>-0.001278</td>\n",
              "      <td>-0.020195</td>\n",
              "      <td>-0.343990</td>\n",
              "      <td>-1.266562</td>\n",
              "      <td>0.763683</td>\n",
              "      <td>-0.000744</td>\n",
              "      <td>1.0</td>\n",
              "    </tr>\n",
              "    <tr>\n",
              "      <th>2</th>\n",
              "      <td>0.0</td>\n",
              "      <td>148478.706572</td>\n",
              "      <td>-1.494717</td>\n",
              "      <td>3.816631</td>\n",
              "      <td>-7.537627</td>\n",
              "      <td>3.206531</td>\n",
              "      <td>-1.244079</td>\n",
              "      <td>-2.052800</td>\n",
              "      <td>-2.398819</td>\n",
              "      <td>1.456949</td>\n",
              "      <td>-2.559775</td>\n",
              "      <td>-5.087569</td>\n",
              "      <td>1.907890</td>\n",
              "      <td>-6.015462</td>\n",
              "      <td>-1.188286</td>\n",
              "      <td>-6.670775</td>\n",
              "      <td>-0.058201</td>\n",
              "      <td>-4.349565</td>\n",
              "      <td>-5.627283</td>\n",
              "      <td>-1.624890</td>\n",
              "      <td>0.997610</td>\n",
              "      <td>0.121880</td>\n",
              "      <td>1.096064</td>\n",
              "      <td>1.063505</td>\n",
              "      <td>0.065289</td>\n",
              "      <td>0.264553</td>\n",
              "      <td>-0.679129</td>\n",
              "      <td>-0.309686</td>\n",
              "      <td>0.571037</td>\n",
              "      <td>0.387674</td>\n",
              "      <td>119.427756</td>\n",
              "      <td>0.467248</td>\n",
              "      <td>-0.168585</td>\n",
              "      <td>0.051876</td>\n",
              "      <td>-0.186388</td>\n",
              "      <td>-0.264893</td>\n",
              "      <td>-0.002285</td>\n",
              "      <td>0.117814</td>\n",
              "      <td>0.072428</td>\n",
              "      <td>-0.145990</td>\n",
              "      <td>...</td>\n",
              "      <td>0.618739</td>\n",
              "      <td>0.077590</td>\n",
              "      <td>-0.262679</td>\n",
              "      <td>0.159369</td>\n",
              "      <td>-0.478824</td>\n",
              "      <td>0.250922</td>\n",
              "      <td>-0.444954</td>\n",
              "      <td>0.243391</td>\n",
              "      <td>0.249435</td>\n",
              "      <td>-0.352219</td>\n",
              "      <td>0.319610</td>\n",
              "      <td>0.006751</td>\n",
              "      <td>0.278516</td>\n",
              "      <td>0.474002</td>\n",
              "      <td>0.154713</td>\n",
              "      <td>0.205281</td>\n",
              "      <td>0.008209</td>\n",
              "      <td>0.430229</td>\n",
              "      <td>0.159003</td>\n",
              "      <td>0.020940</td>\n",
              "      <td>-0.301852</td>\n",
              "      <td>0.035393</td>\n",
              "      <td>0.000000</td>\n",
              "      <td>0.000000</td>\n",
              "      <td>0.0</td>\n",
              "      <td>0.000000</td>\n",
              "      <td>0.000000</td>\n",
              "      <td>0.000000</td>\n",
              "      <td>0.000000</td>\n",
              "      <td>0.000000e+00</td>\n",
              "      <td>-0.641080</td>\n",
              "      <td>0.290573</td>\n",
              "      <td>1.142170</td>\n",
              "      <td>-0.280926</td>\n",
              "      <td>0.842527</td>\n",
              "      <td>-0.436392</td>\n",
              "      <td>-0.079015</td>\n",
              "      <td>-0.299734</td>\n",
              "      <td>0.000000</td>\n",
              "      <td>1.0</td>\n",
              "    </tr>\n",
              "    <tr>\n",
              "      <th>3</th>\n",
              "      <td>0.0</td>\n",
              "      <td>86108.589443</td>\n",
              "      <td>-2.202582</td>\n",
              "      <td>1.819371</td>\n",
              "      <td>-2.635981</td>\n",
              "      <td>3.161165</td>\n",
              "      <td>-3.672247</td>\n",
              "      <td>0.843824</td>\n",
              "      <td>-2.919379</td>\n",
              "      <td>-1.212333</td>\n",
              "      <td>-1.602360</td>\n",
              "      <td>-4.041358</td>\n",
              "      <td>1.518586</td>\n",
              "      <td>-2.515835</td>\n",
              "      <td>0.110103</td>\n",
              "      <td>-3.560226</td>\n",
              "      <td>-0.505770</td>\n",
              "      <td>-3.236424</td>\n",
              "      <td>-4.776713</td>\n",
              "      <td>-1.491930</td>\n",
              "      <td>1.901469</td>\n",
              "      <td>0.606258</td>\n",
              "      <td>-0.650505</td>\n",
              "      <td>0.907054</td>\n",
              "      <td>0.262488</td>\n",
              "      <td>0.026927</td>\n",
              "      <td>0.363889</td>\n",
              "      <td>-0.042775</td>\n",
              "      <td>0.524711</td>\n",
              "      <td>-0.023520</td>\n",
              "      <td>316.756383</td>\n",
              "      <td>0.237057</td>\n",
              "      <td>-0.086915</td>\n",
              "      <td>0.109903</td>\n",
              "      <td>0.113055</td>\n",
              "      <td>-0.201762</td>\n",
              "      <td>0.412838</td>\n",
              "      <td>-0.092077</td>\n",
              "      <td>-0.178714</td>\n",
              "      <td>0.341041</td>\n",
              "      <td>...</td>\n",
              "      <td>-0.082625</td>\n",
              "      <td>-0.395279</td>\n",
              "      <td>0.161219</td>\n",
              "      <td>-0.033983</td>\n",
              "      <td>0.221757</td>\n",
              "      <td>-0.307772</td>\n",
              "      <td>0.434569</td>\n",
              "      <td>-0.060222</td>\n",
              "      <td>0.002083</td>\n",
              "      <td>0.363151</td>\n",
              "      <td>0.473154</td>\n",
              "      <td>0.524461</td>\n",
              "      <td>-0.128769</td>\n",
              "      <td>-0.004124</td>\n",
              "      <td>0.064948</td>\n",
              "      <td>0.096946</td>\n",
              "      <td>-0.693933</td>\n",
              "      <td>0.219989</td>\n",
              "      <td>0.544843</td>\n",
              "      <td>0.013323</td>\n",
              "      <td>-0.348253</td>\n",
              "      <td>0.501134</td>\n",
              "      <td>-0.000083</td>\n",
              "      <td>0.000000</td>\n",
              "      <td>0.0</td>\n",
              "      <td>0.000000</td>\n",
              "      <td>-0.000026</td>\n",
              "      <td>0.000076</td>\n",
              "      <td>-0.000024</td>\n",
              "      <td>7.460669e-07</td>\n",
              "      <td>0.290523</td>\n",
              "      <td>0.853379</td>\n",
              "      <td>0.167941</td>\n",
              "      <td>0.032147</td>\n",
              "      <td>0.291259</td>\n",
              "      <td>-0.771327</td>\n",
              "      <td>-0.317156</td>\n",
              "      <td>0.225181</td>\n",
              "      <td>0.000124</td>\n",
              "      <td>0.0</td>\n",
              "    </tr>\n",
              "    <tr>\n",
              "      <th>4</th>\n",
              "      <td>0.0</td>\n",
              "      <td>148478.706572</td>\n",
              "      <td>-1.494717</td>\n",
              "      <td>3.816631</td>\n",
              "      <td>-7.537627</td>\n",
              "      <td>3.206531</td>\n",
              "      <td>-1.244079</td>\n",
              "      <td>-2.052800</td>\n",
              "      <td>-2.398819</td>\n",
              "      <td>1.456949</td>\n",
              "      <td>-2.559775</td>\n",
              "      <td>-5.087569</td>\n",
              "      <td>1.907890</td>\n",
              "      <td>-6.015462</td>\n",
              "      <td>-1.188286</td>\n",
              "      <td>-6.670775</td>\n",
              "      <td>-0.058201</td>\n",
              "      <td>-4.349565</td>\n",
              "      <td>-5.627283</td>\n",
              "      <td>-1.624890</td>\n",
              "      <td>0.997610</td>\n",
              "      <td>0.121880</td>\n",
              "      <td>1.096064</td>\n",
              "      <td>1.063505</td>\n",
              "      <td>0.065289</td>\n",
              "      <td>0.264553</td>\n",
              "      <td>-0.679129</td>\n",
              "      <td>-0.309686</td>\n",
              "      <td>0.571037</td>\n",
              "      <td>0.387674</td>\n",
              "      <td>119.427756</td>\n",
              "      <td>0.237057</td>\n",
              "      <td>-0.086915</td>\n",
              "      <td>0.109903</td>\n",
              "      <td>0.113055</td>\n",
              "      <td>-0.201762</td>\n",
              "      <td>0.412838</td>\n",
              "      <td>-0.092077</td>\n",
              "      <td>-0.178714</td>\n",
              "      <td>0.341041</td>\n",
              "      <td>...</td>\n",
              "      <td>-0.082625</td>\n",
              "      <td>-0.395279</td>\n",
              "      <td>0.161219</td>\n",
              "      <td>-0.033983</td>\n",
              "      <td>0.221757</td>\n",
              "      <td>-0.307772</td>\n",
              "      <td>0.434569</td>\n",
              "      <td>-0.060222</td>\n",
              "      <td>0.002083</td>\n",
              "      <td>0.363151</td>\n",
              "      <td>0.473154</td>\n",
              "      <td>0.524461</td>\n",
              "      <td>-0.128769</td>\n",
              "      <td>-0.004124</td>\n",
              "      <td>0.064948</td>\n",
              "      <td>0.096946</td>\n",
              "      <td>-0.693933</td>\n",
              "      <td>0.219989</td>\n",
              "      <td>0.544843</td>\n",
              "      <td>0.013323</td>\n",
              "      <td>-0.348253</td>\n",
              "      <td>0.501134</td>\n",
              "      <td>-0.000083</td>\n",
              "      <td>0.000000</td>\n",
              "      <td>0.0</td>\n",
              "      <td>0.000000</td>\n",
              "      <td>-0.000026</td>\n",
              "      <td>0.000076</td>\n",
              "      <td>-0.000024</td>\n",
              "      <td>7.460669e-07</td>\n",
              "      <td>0.290523</td>\n",
              "      <td>0.853379</td>\n",
              "      <td>0.167941</td>\n",
              "      <td>0.032147</td>\n",
              "      <td>0.291259</td>\n",
              "      <td>-0.771327</td>\n",
              "      <td>-0.317156</td>\n",
              "      <td>0.225181</td>\n",
              "      <td>0.000124</td>\n",
              "      <td>0.0</td>\n",
              "    </tr>\n",
              "    <tr>\n",
              "      <th>5</th>\n",
              "      <td>0.0</td>\n",
              "      <td>41396.000000</td>\n",
              "      <td>1.159803</td>\n",
              "      <td>0.011840</td>\n",
              "      <td>1.025612</td>\n",
              "      <td>1.350963</td>\n",
              "      <td>-0.809957</td>\n",
              "      <td>-0.302297</td>\n",
              "      <td>-0.380594</td>\n",
              "      <td>0.004566</td>\n",
              "      <td>0.742218</td>\n",
              "      <td>-0.181267</td>\n",
              "      <td>-0.779963</td>\n",
              "      <td>0.574586</td>\n",
              "      <td>0.265352</td>\n",
              "      <td>-0.330410</td>\n",
              "      <td>0.025106</td>\n",
              "      <td>-0.109917</td>\n",
              "      <td>-0.201975</td>\n",
              "      <td>-0.034888</td>\n",
              "      <td>-0.238193</td>\n",
              "      <td>-0.110639</td>\n",
              "      <td>0.096410</td>\n",
              "      <td>0.518234</td>\n",
              "      <td>-0.147978</td>\n",
              "      <td>0.436138</td>\n",
              "      <td>0.658705</td>\n",
              "      <td>-0.217487</td>\n",
              "      <td>0.060747</td>\n",
              "      <td>0.031695</td>\n",
              "      <td>14.950000</td>\n",
              "      <td>0.469923</td>\n",
              "      <td>0.208194</td>\n",
              "      <td>-0.035470</td>\n",
              "      <td>-0.260386</td>\n",
              "      <td>0.216073</td>\n",
              "      <td>0.198577</td>\n",
              "      <td>-0.179042</td>\n",
              "      <td>0.027528</td>\n",
              "      <td>0.269137</td>\n",
              "      <td>...</td>\n",
              "      <td>0.847587</td>\n",
              "      <td>-0.559428</td>\n",
              "      <td>-0.255730</td>\n",
              "      <td>-0.040241</td>\n",
              "      <td>0.022280</td>\n",
              "      <td>-0.094904</td>\n",
              "      <td>0.130603</td>\n",
              "      <td>0.148572</td>\n",
              "      <td>-0.267674</td>\n",
              "      <td>-0.354126</td>\n",
              "      <td>0.451759</td>\n",
              "      <td>-0.065418</td>\n",
              "      <td>-0.302510</td>\n",
              "      <td>0.192393</td>\n",
              "      <td>0.694749</td>\n",
              "      <td>0.485422</td>\n",
              "      <td>0.088762</td>\n",
              "      <td>-0.347733</td>\n",
              "      <td>0.146671</td>\n",
              "      <td>0.002102</td>\n",
              "      <td>0.524095</td>\n",
              "      <td>0.441501</td>\n",
              "      <td>0.000744</td>\n",
              "      <td>-0.000744</td>\n",
              "      <td>0.0</td>\n",
              "      <td>-0.000744</td>\n",
              "      <td>0.000000</td>\n",
              "      <td>-0.000744</td>\n",
              "      <td>0.000000</td>\n",
              "      <td>7.441299e-04</td>\n",
              "      <td>0.429779</td>\n",
              "      <td>-0.225237</td>\n",
              "      <td>0.752006</td>\n",
              "      <td>-0.001278</td>\n",
              "      <td>-0.020195</td>\n",
              "      <td>-0.343990</td>\n",
              "      <td>-1.266562</td>\n",
              "      <td>0.763683</td>\n",
              "      <td>-0.000744</td>\n",
              "      <td>0.0</td>\n",
              "    </tr>\n",
              "    <tr>\n",
              "      <th>6</th>\n",
              "      <td>0.0</td>\n",
              "      <td>148478.706572</td>\n",
              "      <td>-1.494717</td>\n",
              "      <td>3.816631</td>\n",
              "      <td>-7.537627</td>\n",
              "      <td>3.206531</td>\n",
              "      <td>-1.244079</td>\n",
              "      <td>-2.052800</td>\n",
              "      <td>-2.398819</td>\n",
              "      <td>1.456949</td>\n",
              "      <td>-2.559775</td>\n",
              "      <td>-5.087569</td>\n",
              "      <td>1.907890</td>\n",
              "      <td>-6.015462</td>\n",
              "      <td>-1.188286</td>\n",
              "      <td>-6.670775</td>\n",
              "      <td>-0.058201</td>\n",
              "      <td>-4.349565</td>\n",
              "      <td>-5.627283</td>\n",
              "      <td>-1.624890</td>\n",
              "      <td>0.997610</td>\n",
              "      <td>0.121880</td>\n",
              "      <td>1.096064</td>\n",
              "      <td>1.063505</td>\n",
              "      <td>0.065289</td>\n",
              "      <td>0.264553</td>\n",
              "      <td>-0.679129</td>\n",
              "      <td>-0.309686</td>\n",
              "      <td>0.571037</td>\n",
              "      <td>0.387674</td>\n",
              "      <td>119.427756</td>\n",
              "      <td>0.469923</td>\n",
              "      <td>0.208194</td>\n",
              "      <td>-0.035470</td>\n",
              "      <td>-0.260386</td>\n",
              "      <td>0.216073</td>\n",
              "      <td>0.198577</td>\n",
              "      <td>-0.179042</td>\n",
              "      <td>0.027528</td>\n",
              "      <td>0.269137</td>\n",
              "      <td>...</td>\n",
              "      <td>0.847587</td>\n",
              "      <td>-0.559428</td>\n",
              "      <td>-0.255730</td>\n",
              "      <td>-0.040241</td>\n",
              "      <td>0.022280</td>\n",
              "      <td>-0.094904</td>\n",
              "      <td>0.130603</td>\n",
              "      <td>0.148572</td>\n",
              "      <td>-0.267674</td>\n",
              "      <td>-0.354126</td>\n",
              "      <td>0.451759</td>\n",
              "      <td>-0.065418</td>\n",
              "      <td>-0.302510</td>\n",
              "      <td>0.192393</td>\n",
              "      <td>0.694749</td>\n",
              "      <td>0.485422</td>\n",
              "      <td>0.088762</td>\n",
              "      <td>-0.347733</td>\n",
              "      <td>0.146671</td>\n",
              "      <td>0.002102</td>\n",
              "      <td>0.524095</td>\n",
              "      <td>0.441501</td>\n",
              "      <td>0.000744</td>\n",
              "      <td>-0.000744</td>\n",
              "      <td>0.0</td>\n",
              "      <td>-0.000744</td>\n",
              "      <td>0.000000</td>\n",
              "      <td>-0.000744</td>\n",
              "      <td>0.000000</td>\n",
              "      <td>7.441299e-04</td>\n",
              "      <td>0.429779</td>\n",
              "      <td>-0.225237</td>\n",
              "      <td>0.752006</td>\n",
              "      <td>-0.001278</td>\n",
              "      <td>-0.020195</td>\n",
              "      <td>-0.343990</td>\n",
              "      <td>-1.266562</td>\n",
              "      <td>0.763683</td>\n",
              "      <td>-0.000744</td>\n",
              "      <td>0.0</td>\n",
              "    </tr>\n",
              "    <tr>\n",
              "      <th>7</th>\n",
              "      <td>0.0</td>\n",
              "      <td>41396.000000</td>\n",
              "      <td>1.159803</td>\n",
              "      <td>0.011840</td>\n",
              "      <td>1.025612</td>\n",
              "      <td>1.350963</td>\n",
              "      <td>-0.809957</td>\n",
              "      <td>-0.302297</td>\n",
              "      <td>-0.380594</td>\n",
              "      <td>0.004566</td>\n",
              "      <td>0.742218</td>\n",
              "      <td>-0.181267</td>\n",
              "      <td>-0.779963</td>\n",
              "      <td>0.574586</td>\n",
              "      <td>0.265352</td>\n",
              "      <td>-0.330410</td>\n",
              "      <td>0.025106</td>\n",
              "      <td>-0.109917</td>\n",
              "      <td>-0.201975</td>\n",
              "      <td>-0.034888</td>\n",
              "      <td>-0.238193</td>\n",
              "      <td>-0.110639</td>\n",
              "      <td>0.096410</td>\n",
              "      <td>0.518234</td>\n",
              "      <td>-0.147978</td>\n",
              "      <td>0.436138</td>\n",
              "      <td>0.658705</td>\n",
              "      <td>-0.217487</td>\n",
              "      <td>0.060747</td>\n",
              "      <td>0.031695</td>\n",
              "      <td>14.950000</td>\n",
              "      <td>0.467248</td>\n",
              "      <td>-0.168585</td>\n",
              "      <td>0.051876</td>\n",
              "      <td>-0.186388</td>\n",
              "      <td>-0.264893</td>\n",
              "      <td>-0.002285</td>\n",
              "      <td>0.117814</td>\n",
              "      <td>0.072428</td>\n",
              "      <td>-0.145990</td>\n",
              "      <td>...</td>\n",
              "      <td>0.618739</td>\n",
              "      <td>0.077590</td>\n",
              "      <td>-0.262679</td>\n",
              "      <td>0.159369</td>\n",
              "      <td>-0.478824</td>\n",
              "      <td>0.250922</td>\n",
              "      <td>-0.444954</td>\n",
              "      <td>0.243391</td>\n",
              "      <td>0.249435</td>\n",
              "      <td>-0.352219</td>\n",
              "      <td>0.319610</td>\n",
              "      <td>0.006751</td>\n",
              "      <td>0.278516</td>\n",
              "      <td>0.474002</td>\n",
              "      <td>0.154713</td>\n",
              "      <td>0.205281</td>\n",
              "      <td>0.008209</td>\n",
              "      <td>0.430229</td>\n",
              "      <td>0.159003</td>\n",
              "      <td>0.020940</td>\n",
              "      <td>-0.301852</td>\n",
              "      <td>0.035393</td>\n",
              "      <td>0.000000</td>\n",
              "      <td>0.000000</td>\n",
              "      <td>0.0</td>\n",
              "      <td>0.000000</td>\n",
              "      <td>0.000000</td>\n",
              "      <td>0.000000</td>\n",
              "      <td>0.000000</td>\n",
              "      <td>0.000000e+00</td>\n",
              "      <td>-0.641080</td>\n",
              "      <td>0.290573</td>\n",
              "      <td>1.142170</td>\n",
              "      <td>-0.280926</td>\n",
              "      <td>0.842527</td>\n",
              "      <td>-0.436392</td>\n",
              "      <td>-0.079015</td>\n",
              "      <td>-0.299734</td>\n",
              "      <td>0.000000</td>\n",
              "      <td>0.0</td>\n",
              "    </tr>\n",
              "    <tr>\n",
              "      <th>8</th>\n",
              "      <td>0.0</td>\n",
              "      <td>86108.589443</td>\n",
              "      <td>-2.202582</td>\n",
              "      <td>1.819371</td>\n",
              "      <td>-2.635981</td>\n",
              "      <td>3.161165</td>\n",
              "      <td>-3.672247</td>\n",
              "      <td>0.843824</td>\n",
              "      <td>-2.919379</td>\n",
              "      <td>-1.212333</td>\n",
              "      <td>-1.602360</td>\n",
              "      <td>-4.041358</td>\n",
              "      <td>1.518586</td>\n",
              "      <td>-2.515835</td>\n",
              "      <td>0.110103</td>\n",
              "      <td>-3.560226</td>\n",
              "      <td>-0.505770</td>\n",
              "      <td>-3.236424</td>\n",
              "      <td>-4.776713</td>\n",
              "      <td>-1.491930</td>\n",
              "      <td>1.901469</td>\n",
              "      <td>0.606258</td>\n",
              "      <td>-0.650505</td>\n",
              "      <td>0.907054</td>\n",
              "      <td>0.262488</td>\n",
              "      <td>0.026927</td>\n",
              "      <td>0.363889</td>\n",
              "      <td>-0.042775</td>\n",
              "      <td>0.524711</td>\n",
              "      <td>-0.023520</td>\n",
              "      <td>316.756383</td>\n",
              "      <td>0.467248</td>\n",
              "      <td>-0.168585</td>\n",
              "      <td>0.051876</td>\n",
              "      <td>-0.186388</td>\n",
              "      <td>-0.264893</td>\n",
              "      <td>-0.002285</td>\n",
              "      <td>0.117814</td>\n",
              "      <td>0.072428</td>\n",
              "      <td>-0.145990</td>\n",
              "      <td>...</td>\n",
              "      <td>0.618739</td>\n",
              "      <td>0.077590</td>\n",
              "      <td>-0.262679</td>\n",
              "      <td>0.159369</td>\n",
              "      <td>-0.478824</td>\n",
              "      <td>0.250922</td>\n",
              "      <td>-0.444954</td>\n",
              "      <td>0.243391</td>\n",
              "      <td>0.249435</td>\n",
              "      <td>-0.352219</td>\n",
              "      <td>0.319610</td>\n",
              "      <td>0.006751</td>\n",
              "      <td>0.278516</td>\n",
              "      <td>0.474002</td>\n",
              "      <td>0.154713</td>\n",
              "      <td>0.205281</td>\n",
              "      <td>0.008209</td>\n",
              "      <td>0.430229</td>\n",
              "      <td>0.159003</td>\n",
              "      <td>0.020940</td>\n",
              "      <td>-0.301852</td>\n",
              "      <td>0.035393</td>\n",
              "      <td>0.000000</td>\n",
              "      <td>0.000000</td>\n",
              "      <td>0.0</td>\n",
              "      <td>0.000000</td>\n",
              "      <td>0.000000</td>\n",
              "      <td>0.000000</td>\n",
              "      <td>0.000000</td>\n",
              "      <td>0.000000e+00</td>\n",
              "      <td>-0.641080</td>\n",
              "      <td>0.290573</td>\n",
              "      <td>1.142170</td>\n",
              "      <td>-0.280926</td>\n",
              "      <td>0.842527</td>\n",
              "      <td>-0.436392</td>\n",
              "      <td>-0.079015</td>\n",
              "      <td>-0.299734</td>\n",
              "      <td>0.000000</td>\n",
              "      <td>0.0</td>\n",
              "    </tr>\n",
              "  </tbody>\n",
              "</table>\n",
              "<p>9 rows × 1697 columns</p>\n",
              "</div>"
            ],
            "text/plain": [
              "   0              1         2         3     ...      1693      1694      1695  1696\n",
              "0   0.0   41396.000000  1.159803  0.011840  ... -0.317156  0.225181  0.000124   1.0\n",
              "1   0.0   86108.589443 -2.202582  1.819371  ... -1.266562  0.763683 -0.000744   1.0\n",
              "2   0.0  148478.706572 -1.494717  3.816631  ... -0.079015 -0.299734  0.000000   1.0\n",
              "3   0.0   86108.589443 -2.202582  1.819371  ... -0.317156  0.225181  0.000124   0.0\n",
              "4   0.0  148478.706572 -1.494717  3.816631  ... -0.317156  0.225181  0.000124   0.0\n",
              "5   0.0   41396.000000  1.159803  0.011840  ... -1.266562  0.763683 -0.000744   0.0\n",
              "6   0.0  148478.706572 -1.494717  3.816631  ... -1.266562  0.763683 -0.000744   0.0\n",
              "7   0.0   41396.000000  1.159803  0.011840  ... -0.079015 -0.299734  0.000000   0.0\n",
              "8   0.0   86108.589443 -2.202582  1.819371  ... -0.079015 -0.299734  0.000000   0.0\n",
              "\n",
              "[9 rows x 1697 columns]"
            ]
          },
          "metadata": {
            "tags": []
          },
          "execution_count": 20
        }
      ]
    },
    {
      "cell_type": "code",
      "metadata": {
        "id": "eWycfE6N2P30",
        "colab_type": "code",
        "outputId": "0098902f-ffa7-4f93-c601-883634a93112",
        "colab": {
          "base_uri": "https://localhost:8080/",
          "height": 34
        }
      },
      "source": [
        "loc"
      ],
      "execution_count": 20,
      "outputs": [
        {
          "output_type": "execute_result",
          "data": {
            "text/plain": [
              "'Adversarial_Input500.csv'"
            ]
          },
          "metadata": {
            "tags": []
          },
          "execution_count": 20
        }
      ]
    },
    {
      "cell_type": "code",
      "metadata": {
        "id": "Goqas0ois1cz",
        "colab_type": "code",
        "colab": {}
      },
      "source": [
        "advData=pd.DataFrame()\n",
        "for i in range(1,501,1):\n",
        "    loc='Adversarial_Input'\n",
        "    loc+=str(i)\n",
        "    loc+='.csv'\n",
        "    x=pd.read_csv(loc)\n",
        "    advData=advData.append(x,ignore_index=True)"
      ],
      "execution_count": 0,
      "outputs": []
    },
    {
      "cell_type": "code",
      "metadata": {
        "id": "nnCI0eAEs57p",
        "colab_type": "code",
        "outputId": "8feaaed3-79cb-40da-8c4f-4fbbd8223ff0",
        "colab": {
          "base_uri": "https://localhost:8080/",
          "height": 34
        }
      },
      "source": [
        "advData.shape"
      ],
      "execution_count": 22,
      "outputs": [
        {
          "output_type": "execute_result",
          "data": {
            "text/plain": [
              "(4500, 1697)"
            ]
          },
          "metadata": {
            "tags": []
          },
          "execution_count": 22
        }
      ]
    },
    {
      "cell_type": "code",
      "metadata": {
        "id": "1DcLZAoBhucT",
        "colab_type": "code",
        "colab": {
          "base_uri": "https://localhost:8080/",
          "height": 255
        },
        "outputId": "9731da52-0b63-492d-c8e0-175a7e5aeb5f"
      },
      "source": [
        "advData.head\n"
      ],
      "execution_count": 23,
      "outputs": [
        {
          "output_type": "execute_result",
          "data": {
            "text/plain": [
              "<bound method NDFrame.head of         0              1         2  ...      1694      1695  1696\n",
              "0     0.0   72914.000000 -0.569007  ... -0.625554  0.001000   1.0\n",
              "1     0.0  111448.000000 -1.173111  ... -0.920786  0.001000   1.0\n",
              "2     1.0  150309.067279 -2.593686  ...  0.001362  0.001000   1.0\n",
              "3     0.0  111448.000000 -1.173111  ... -0.625554  0.001000   0.0\n",
              "4     0.0  150309.067279 -2.593686  ... -0.625554  0.001000   0.0\n",
              "...   ...            ...       ...  ...       ...       ...   ...\n",
              "4495  1.0  152759.000000  1.860938  ...  0.486801 -0.000409   0.0\n",
              "4496  0.0   50772.997291 -8.926849  ... -0.118850 -0.001409   0.0\n",
              "4497  0.0  152759.000000  1.860938  ... -0.118850 -0.001409   0.0\n",
              "4498  1.0   50772.997291 -8.926849  ... -0.879055 -0.000409   0.0\n",
              "4499  1.0  109493.357503  1.040881  ... -0.879055 -0.000409   0.0\n",
              "\n",
              "[4500 rows x 1697 columns]>"
            ]
          },
          "metadata": {
            "tags": []
          },
          "execution_count": 23
        }
      ]
    },
    {
      "cell_type": "code",
      "metadata": {
        "id": "u-SLP22rv8oj",
        "colab_type": "code",
        "colab": {}
      },
      "source": [
        "X = pd.read_csv('Adversarial_Input200.csv')"
      ],
      "execution_count": 0,
      "outputs": []
    },
    {
      "cell_type": "code",
      "metadata": {
        "id": "qM8eu-zXwRNj",
        "colab_type": "code",
        "colab": {
          "base_uri": "https://localhost:8080/",
          "height": 221
        },
        "outputId": "4bb39856-8fe1-4cb8-c840-3c4e3a88253a"
      },
      "source": [
        "X.head"
      ],
      "execution_count": 36,
      "outputs": [
        {
          "output_type": "execute_result",
          "data": {
            "text/plain": [
              "<bound method NDFrame.head of      0         1         2         3  ...      1693      1694      1695  1696\n",
              "0  1.0   76239.0  1.525596 -1.056489  ...  0.251553  0.293775  0.000744   1.0\n",
              "1  0.0  138688.0  2.140622 -0.956778  ...  0.499732 -0.012454  0.000000   1.0\n",
              "2  0.0  152718.0  1.927380 -0.616018  ...  0.389064  0.038693  0.000000   1.0\n",
              "3  1.0  138688.0  2.140622 -0.956778  ...  0.251553  0.293775  0.000744   0.0\n",
              "4  1.0  152718.0  1.927380 -0.616018  ...  0.251553  0.293775  0.000744   0.0\n",
              "5  0.0   76239.0  1.525596 -1.056489  ...  0.499732 -0.012454  0.000000   0.0\n",
              "6  0.0  152718.0  1.927380 -0.616018  ...  0.499732 -0.012454  0.000000   0.0\n",
              "7  0.0   76239.0  1.525596 -1.056489  ...  0.389064  0.038693  0.000000   0.0\n",
              "8  0.0  138688.0  2.140622 -0.956778  ...  0.389064  0.038693  0.000000   0.0\n",
              "\n",
              "[9 rows x 1697 columns]>"
            ]
          },
          "metadata": {
            "tags": []
          },
          "execution_count": 36
        }
      ]
    },
    {
      "cell_type": "code",
      "metadata": {
        "id": "DP1jJVEg2zOY",
        "colab_type": "code",
        "colab": {}
      },
      "source": [
        "from keras.layers import Conv2D, MaxPooling2D\n",
        "def Model(input_shape):\n",
        "\n",
        "    model = Sequential()\n",
        "\n",
        "    model.add(Conv2D(64, 2,input_shape=input_shape))\n",
        "    model.add(Activation('relu'))\n",
        "    model.add(MaxPooling2D(pool_size=(2, 2)))\n",
        "\n",
        "    model.add(Conv2D(32,2))\n",
        "    model.add(Activation('relu'))\n",
        "    model.add(MaxPooling2D(pool_size=(2, 2)))\n",
        "\n",
        "    model.add(Flatten())\n",
        "\n",
        "    model.add(Dense(32, activation='relu',kernel_regularizer=regularizers.l2(0.01))) \n",
        "    model.add(Dropout(0.2))\n",
        "    model.add(Dense(16, activation='relu'))\n",
        "    model.add(Dropout(0.1))\n",
        "    model.add(Dense(8, activation='relu'))\n",
        "    model.add(Dense(1, activation='sigmoid'))\n",
        "    \n",
        "    model.compile(optimizer='adam',   #rmsprop\n",
        "                  loss= \"binary_crossentropy\",#[custom_loss()]\n",
        "                  metrics=['acc']\n",
        "                 )\n",
        "\n",
        "    return model"
      ],
      "execution_count": 0,
      "outputs": []
    },
    {
      "cell_type": "code",
      "metadata": {
        "id": "AZ__wVu424Pq",
        "colab_type": "code",
        "colab": {}
      },
      "source": [
        "from imblearn.under_sampling import RandomUnderSampler"
      ],
      "execution_count": 0,
      "outputs": []
    },
    {
      "cell_type": "code",
      "metadata": {
        "id": "3spPfyAi28RK",
        "colab_type": "code",
        "colab": {}
      },
      "source": [
        "X=advData.copy()\n",
        "X.drop(['1696'],axis=1,inplace=True)\n",
        "Y=advData[['1696']]"
      ],
      "execution_count": 0,
      "outputs": []
    },
    {
      "cell_type": "code",
      "metadata": {
        "id": "_Vofy9ih2-5D",
        "colab_type": "code",
        "outputId": "351590fd-c5d3-4208-e506-48c299a52ea4",
        "colab": {
          "base_uri": "https://localhost:8080/",
          "height": 71
        }
      },
      "source": [
        "undersample = RandomUnderSampler(sampling_strategy='majority')\n",
        "undersample = RandomUnderSampler(sampling_strategy=1)\n",
        "X,Y = undersample.fit_resample(X,Y)\n",
        "input_shape=(X.shape[0],X.shape[1],)\n",
        "X=np.array(X)\n",
        "X = X.reshape(X.shape[0],212,8,1)\n",
        "input_shape=X.shape[1:]\n",
        "Y=np.array(Y)"
      ],
      "execution_count": 28,
      "outputs": [
        {
          "output_type": "stream",
          "text": [
            "/usr/local/lib/python3.6/dist-packages/sklearn/utils/deprecation.py:87: FutureWarning: Function safe_indexing is deprecated; safe_indexing is deprecated in version 0.22 and will be removed in version 0.24.\n",
            "  warnings.warn(msg, category=FutureWarning)\n"
          ],
          "name": "stderr"
        }
      ]
    },
    {
      "cell_type": "code",
      "metadata": {
        "id": "-f7ecwBL3A99",
        "colab_type": "code",
        "outputId": "d58227c4-c045-42cf-fcfe-a9dba4160e6b",
        "colab": {
          "base_uri": "https://localhost:8080/",
          "height": 391
        }
      },
      "source": [
        "model=Model(input_shape)\n",
        "model.fit(X,Y,epochs=10,validation_split=0.1, verbose=1)"
      ],
      "execution_count": 29,
      "outputs": [
        {
          "output_type": "stream",
          "text": [
            "Train on 2700 samples, validate on 300 samples\n",
            "Epoch 1/10\n",
            "2700/2700 [==============================] - 5s 2ms/step - loss: 13.5742 - acc: 0.4981 - val_loss: 0.8616 - val_acc: 0.0533\n",
            "Epoch 2/10\n",
            "2700/2700 [==============================] - 4s 2ms/step - loss: 0.7583 - acc: 0.5500 - val_loss: 0.7302 - val_acc: 0.0000e+00\n",
            "Epoch 3/10\n",
            "2700/2700 [==============================] - 4s 2ms/step - loss: 0.6963 - acc: 0.5556 - val_loss: 0.7460 - val_acc: 0.0000e+00\n",
            "Epoch 4/10\n",
            "2700/2700 [==============================] - 4s 2ms/step - loss: 0.6941 - acc: 0.5556 - val_loss: 0.7626 - val_acc: 0.0000e+00\n",
            "Epoch 5/10\n",
            "2700/2700 [==============================] - 4s 2ms/step - loss: 0.6930 - acc: 0.5556 - val_loss: 0.7746 - val_acc: 0.0000e+00\n",
            "Epoch 6/10\n",
            "2700/2700 [==============================] - 4s 2ms/step - loss: 0.6924 - acc: 0.5556 - val_loss: 0.7859 - val_acc: 0.0000e+00\n",
            "Epoch 7/10\n",
            "2700/2700 [==============================] - 4s 2ms/step - loss: 0.6919 - acc: 0.5556 - val_loss: 0.7932 - val_acc: 0.0000e+00\n",
            "Epoch 8/10\n",
            "2700/2700 [==============================] - 4s 2ms/step - loss: 0.6917 - acc: 0.5556 - val_loss: 0.7986 - val_acc: 0.0000e+00\n",
            "Epoch 9/10\n",
            "2700/2700 [==============================] - 4s 2ms/step - loss: 0.6914 - acc: 0.5556 - val_loss: 0.8030 - val_acc: 0.0000e+00\n",
            "Epoch 10/10\n",
            "2700/2700 [==============================] - 4s 2ms/step - loss: 0.6913 - acc: 0.5556 - val_loss: 0.8040 - val_acc: 0.0000e+00\n"
          ],
          "name": "stdout"
        },
        {
          "output_type": "execute_result",
          "data": {
            "text/plain": [
              "<keras.callbacks.callbacks.History at 0x7fe336959978>"
            ]
          },
          "metadata": {
            "tags": []
          },
          "execution_count": 29
        }
      ]
    },
    {
      "cell_type": "code",
      "metadata": {
        "id": "ug8jr1rt3EYR",
        "colab_type": "code",
        "colab": {}
      },
      "source": [
        ""
      ],
      "execution_count": 0,
      "outputs": []
    }
  ]
}