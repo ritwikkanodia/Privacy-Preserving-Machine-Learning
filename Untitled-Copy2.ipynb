{
 "cells": [
  {
   "cell_type": "code",
   "execution_count": null,
   "metadata": {},
   "outputs": [],
   "source": [
    "#Custom Loss function"
   ]
  },
  {
   "cell_type": "code",
   "execution_count": 1,
   "metadata": {
    "scrolled": true
   },
   "outputs": [
    {
     "name": "stderr",
     "output_type": "stream",
     "text": [
      "Using TensorFlow backend.\n"
     ]
    }
   ],
   "source": [
    "import tensorflow as tf\n",
    "from tensorflow import keras\n",
    "from keras.models import Sequential\n",
    "from keras.layers.core import Dense, Dropout, Activation,Flatten\n",
    "from keras import regularizers\n",
    "\n",
    "import pandas as pd\n",
    "import numpy as np\n",
    "import seaborn as sb\n",
    "import matplotlib.pyplot as plt\n",
    "from scipy import stats\n",
    "\n",
    "from sklearn.model_selection import train_test_split\n",
    "from sklearn.preprocessing import StandardScaler, RobustScaler\n",
    "from sklearn import metrics\n",
    "from keras.models import model_from_json\n",
    "\n"
   ]
  },
  {
   "cell_type": "code",
   "execution_count": 2,
   "metadata": {},
   "outputs": [],
   "source": [
    "from sklearn.metrics import confusion_matrix\n",
    "from imblearn.over_sampling import SMOTE"
   ]
  },
  {
   "cell_type": "markdown",
   "metadata": {},
   "source": [
    "# Class definitons"
   ]
  },
  {
   "cell_type": "code",
   "execution_count": 3,
   "metadata": {},
   "outputs": [],
   "source": [
    "class Data():\n",
    "    \n",
    "    def __init__(self,data):\n",
    "        self.data=data\n",
    "        \n",
    "    def sample(self,start,end):\n",
    "        size=len(self.data)\n",
    "        return self.data[int(size*start):int(size*end)]"
   ]
  },
  {
   "cell_type": "code",
   "execution_count": 4,
   "metadata": {},
   "outputs": [],
   "source": [
    "class Model():\n",
    "    \n",
    "    def __init__(self):\n",
    "        self.input_shape=(30,)\n",
    "        self.model = Sequential()\n",
    "        self.model.add(Dense(32, activation='relu',input_shape=self.input_shape,kernel_regularizer=regularizers.l2(0.01))) \n",
    "        self.model.add(Dropout(0.2))\n",
    "        self.model.add(Dense(16, activation='relu'))\n",
    "        self.model.add(Dropout(0.1))\n",
    "        self.model.add(Dense(8, activation='relu'))\n",
    "        self.model.add(Dense(1, activation='sigmoid'))\n",
    "        self.model.compile(optimizer='adam',   #rmsprop\n",
    "                      loss='binary_crossentropy',\n",
    "                      metrics=['accuracy'])\n",
    "\n",
    "    \n",
    "    def saveModel(self):\n",
    "        model_json = self.model.to_json()\n",
    "        with open(\"model.json\", \"w\") as json_file:\n",
    "            json_file.write(model_json)\n",
    "        # serialize weights to HDF5\n",
    "        self.model.save_weights(\"model.h5\")\n",
    "        print(\"Saved model to disk\")\n",
    "        \n",
    "    def loadModel(self):\n",
    "        json_file = open('model.json', 'r')\n",
    "        loaded_model_json = json_file.read()\n",
    "        json_file.close()\n",
    "        loaded_model = model_from_json(loaded_model_json)\n",
    "        # load weights into new model\n",
    "        loaded_model.load_weights(\"model.h5\")\n",
    "        print(\"Loaded model from disk\")\n",
    "        loaded_model.compile(optimizer='adam',loss='binary_crossentropy',metrics=['accuracy'])\n",
    "        return loaded_model    \n",
    "    \n",
    "\n",
    "    def run(self,X,Y,validation_split=0.1,load=True):\n",
    "        if(load):\n",
    "            self.model=self.loadModel()\n",
    "        self.model.fit(X,Y,epochs=5,validation_split=validation_split, verbose=1)\n",
    "        \n",
    "    def evaluate(self,X,Y):\n",
    "        return self.model.evaluate(X,Y)[1]*100\n",
    "    \n",
    "    def loss(self,X,Y):\n",
    "        return self.model.evaluate(X,Y)[0]\n",
    "    \n",
    "    def predict(self,X):\n",
    "        return self.model.predict(X)\n",
    "        \n",
    "    \n",
    "    def getWeights(self):\n",
    "        return self.model.get_weights()\n",
    "    \n",
    "    def setWeights(self,weight):\n",
    "        self.model.set_weights(weight)\n"
   ]
  },
  {
   "cell_type": "code",
   "execution_count": 5,
   "metadata": {},
   "outputs": [],
   "source": [
    "class Bank(Model):\n",
    "    \n",
    "    def __init__(self,data,split_size=0):\n",
    "        super().__init__()\n",
    "        self.data=data\n",
    "        self.split(split_size)\n",
    "    \n",
    "    def setData(self,data,split_size=0):\n",
    "        self.data=data\n",
    "        self.split(split_size)\n",
    "    \n",
    "    def split(self,split_size):\n",
    "        X=self.data.copy()\n",
    "        X.drop(['Class'],axis=1,inplace=True)\n",
    "        Y=self.data[['Class']]\n",
    "        self.X_train, self.X_test, self.Y_train, self.Y_test = train_test_split(X, Y, test_size=split_size)"
   ]
  },
  {
   "cell_type": "markdown",
   "metadata": {},
   "source": [
    "# EDA"
   ]
  },
  {
   "cell_type": "code",
   "execution_count": 6,
   "metadata": {},
   "outputs": [
    {
     "data": {
      "text/html": [
       "<div>\n",
       "<style scoped>\n",
       "    .dataframe tbody tr th:only-of-type {\n",
       "        vertical-align: middle;\n",
       "    }\n",
       "\n",
       "    .dataframe tbody tr th {\n",
       "        vertical-align: top;\n",
       "    }\n",
       "\n",
       "    .dataframe thead th {\n",
       "        text-align: right;\n",
       "    }\n",
       "</style>\n",
       "<table border=\"1\" class=\"dataframe\">\n",
       "  <thead>\n",
       "    <tr style=\"text-align: right;\">\n",
       "      <th></th>\n",
       "      <th>Time</th>\n",
       "      <th>V1</th>\n",
       "      <th>V2</th>\n",
       "      <th>V3</th>\n",
       "      <th>V4</th>\n",
       "      <th>V5</th>\n",
       "      <th>V6</th>\n",
       "      <th>V7</th>\n",
       "      <th>V8</th>\n",
       "      <th>V9</th>\n",
       "      <th>...</th>\n",
       "      <th>V21</th>\n",
       "      <th>V22</th>\n",
       "      <th>V23</th>\n",
       "      <th>V24</th>\n",
       "      <th>V25</th>\n",
       "      <th>V26</th>\n",
       "      <th>V27</th>\n",
       "      <th>V28</th>\n",
       "      <th>Amount</th>\n",
       "      <th>Class</th>\n",
       "    </tr>\n",
       "  </thead>\n",
       "  <tbody>\n",
       "    <tr>\n",
       "      <th>0</th>\n",
       "      <td>0.0</td>\n",
       "      <td>-1.359807</td>\n",
       "      <td>-0.072781</td>\n",
       "      <td>2.536347</td>\n",
       "      <td>1.378155</td>\n",
       "      <td>-0.338321</td>\n",
       "      <td>0.462388</td>\n",
       "      <td>0.239599</td>\n",
       "      <td>0.098698</td>\n",
       "      <td>0.363787</td>\n",
       "      <td>...</td>\n",
       "      <td>-0.018307</td>\n",
       "      <td>0.277838</td>\n",
       "      <td>-0.110474</td>\n",
       "      <td>0.066928</td>\n",
       "      <td>0.128539</td>\n",
       "      <td>-0.189115</td>\n",
       "      <td>0.133558</td>\n",
       "      <td>-0.021053</td>\n",
       "      <td>149.62</td>\n",
       "      <td>0</td>\n",
       "    </tr>\n",
       "    <tr>\n",
       "      <th>1</th>\n",
       "      <td>0.0</td>\n",
       "      <td>1.191857</td>\n",
       "      <td>0.266151</td>\n",
       "      <td>0.166480</td>\n",
       "      <td>0.448154</td>\n",
       "      <td>0.060018</td>\n",
       "      <td>-0.082361</td>\n",
       "      <td>-0.078803</td>\n",
       "      <td>0.085102</td>\n",
       "      <td>-0.255425</td>\n",
       "      <td>...</td>\n",
       "      <td>-0.225775</td>\n",
       "      <td>-0.638672</td>\n",
       "      <td>0.101288</td>\n",
       "      <td>-0.339846</td>\n",
       "      <td>0.167170</td>\n",
       "      <td>0.125895</td>\n",
       "      <td>-0.008983</td>\n",
       "      <td>0.014724</td>\n",
       "      <td>2.69</td>\n",
       "      <td>0</td>\n",
       "    </tr>\n",
       "    <tr>\n",
       "      <th>2</th>\n",
       "      <td>1.0</td>\n",
       "      <td>-1.358354</td>\n",
       "      <td>-1.340163</td>\n",
       "      <td>1.773209</td>\n",
       "      <td>0.379780</td>\n",
       "      <td>-0.503198</td>\n",
       "      <td>1.800499</td>\n",
       "      <td>0.791461</td>\n",
       "      <td>0.247676</td>\n",
       "      <td>-1.514654</td>\n",
       "      <td>...</td>\n",
       "      <td>0.247998</td>\n",
       "      <td>0.771679</td>\n",
       "      <td>0.909412</td>\n",
       "      <td>-0.689281</td>\n",
       "      <td>-0.327642</td>\n",
       "      <td>-0.139097</td>\n",
       "      <td>-0.055353</td>\n",
       "      <td>-0.059752</td>\n",
       "      <td>378.66</td>\n",
       "      <td>0</td>\n",
       "    </tr>\n",
       "    <tr>\n",
       "      <th>3</th>\n",
       "      <td>1.0</td>\n",
       "      <td>-0.966272</td>\n",
       "      <td>-0.185226</td>\n",
       "      <td>1.792993</td>\n",
       "      <td>-0.863291</td>\n",
       "      <td>-0.010309</td>\n",
       "      <td>1.247203</td>\n",
       "      <td>0.237609</td>\n",
       "      <td>0.377436</td>\n",
       "      <td>-1.387024</td>\n",
       "      <td>...</td>\n",
       "      <td>-0.108300</td>\n",
       "      <td>0.005274</td>\n",
       "      <td>-0.190321</td>\n",
       "      <td>-1.175575</td>\n",
       "      <td>0.647376</td>\n",
       "      <td>-0.221929</td>\n",
       "      <td>0.062723</td>\n",
       "      <td>0.061458</td>\n",
       "      <td>123.50</td>\n",
       "      <td>0</td>\n",
       "    </tr>\n",
       "    <tr>\n",
       "      <th>4</th>\n",
       "      <td>2.0</td>\n",
       "      <td>-1.158233</td>\n",
       "      <td>0.877737</td>\n",
       "      <td>1.548718</td>\n",
       "      <td>0.403034</td>\n",
       "      <td>-0.407193</td>\n",
       "      <td>0.095921</td>\n",
       "      <td>0.592941</td>\n",
       "      <td>-0.270533</td>\n",
       "      <td>0.817739</td>\n",
       "      <td>...</td>\n",
       "      <td>-0.009431</td>\n",
       "      <td>0.798278</td>\n",
       "      <td>-0.137458</td>\n",
       "      <td>0.141267</td>\n",
       "      <td>-0.206010</td>\n",
       "      <td>0.502292</td>\n",
       "      <td>0.219422</td>\n",
       "      <td>0.215153</td>\n",
       "      <td>69.99</td>\n",
       "      <td>0</td>\n",
       "    </tr>\n",
       "  </tbody>\n",
       "</table>\n",
       "<p>5 rows × 31 columns</p>\n",
       "</div>"
      ],
      "text/plain": [
       "   Time        V1        V2        V3        V4        V5        V6        V7  \\\n",
       "0   0.0 -1.359807 -0.072781  2.536347  1.378155 -0.338321  0.462388  0.239599   \n",
       "1   0.0  1.191857  0.266151  0.166480  0.448154  0.060018 -0.082361 -0.078803   \n",
       "2   1.0 -1.358354 -1.340163  1.773209  0.379780 -0.503198  1.800499  0.791461   \n",
       "3   1.0 -0.966272 -0.185226  1.792993 -0.863291 -0.010309  1.247203  0.237609   \n",
       "4   2.0 -1.158233  0.877737  1.548718  0.403034 -0.407193  0.095921  0.592941   \n",
       "\n",
       "         V8        V9  ...       V21       V22       V23       V24       V25  \\\n",
       "0  0.098698  0.363787  ... -0.018307  0.277838 -0.110474  0.066928  0.128539   \n",
       "1  0.085102 -0.255425  ... -0.225775 -0.638672  0.101288 -0.339846  0.167170   \n",
       "2  0.247676 -1.514654  ...  0.247998  0.771679  0.909412 -0.689281 -0.327642   \n",
       "3  0.377436 -1.387024  ... -0.108300  0.005274 -0.190321 -1.175575  0.647376   \n",
       "4 -0.270533  0.817739  ... -0.009431  0.798278 -0.137458  0.141267 -0.206010   \n",
       "\n",
       "        V26       V27       V28  Amount  Class  \n",
       "0 -0.189115  0.133558 -0.021053  149.62      0  \n",
       "1  0.125895 -0.008983  0.014724    2.69      0  \n",
       "2 -0.139097 -0.055353 -0.059752  378.66      0  \n",
       "3 -0.221929  0.062723  0.061458  123.50      0  \n",
       "4  0.502292  0.219422  0.215153   69.99      0  \n",
       "\n",
       "[5 rows x 31 columns]"
      ]
     },
     "execution_count": 6,
     "metadata": {},
     "output_type": "execute_result"
    }
   ],
   "source": [
    "data = pd.read_csv('creditcard.csv')\n",
    "data.head()"
   ]
  },
  {
   "cell_type": "code",
   "execution_count": 7,
   "metadata": {},
   "outputs": [
    {
     "data": {
      "text/plain": [
       "(284807, 31)"
      ]
     },
     "execution_count": 7,
     "metadata": {},
     "output_type": "execute_result"
    }
   ],
   "source": [
    "data.shape"
   ]
  },
  {
   "cell_type": "code",
   "execution_count": 8,
   "metadata": {},
   "outputs": [
    {
     "data": {
      "text/html": [
       "<div>\n",
       "<style scoped>\n",
       "    .dataframe tbody tr th:only-of-type {\n",
       "        vertical-align: middle;\n",
       "    }\n",
       "\n",
       "    .dataframe tbody tr th {\n",
       "        vertical-align: top;\n",
       "    }\n",
       "\n",
       "    .dataframe thead th {\n",
       "        text-align: right;\n",
       "    }\n",
       "</style>\n",
       "<table border=\"1\" class=\"dataframe\">\n",
       "  <thead>\n",
       "    <tr style=\"text-align: right;\">\n",
       "      <th></th>\n",
       "      <th>scaled_amount</th>\n",
       "      <th>scaled_time</th>\n",
       "      <th>V1</th>\n",
       "      <th>V2</th>\n",
       "      <th>V3</th>\n",
       "      <th>V4</th>\n",
       "      <th>V5</th>\n",
       "      <th>V6</th>\n",
       "      <th>V7</th>\n",
       "      <th>V8</th>\n",
       "      <th>...</th>\n",
       "      <th>V20</th>\n",
       "      <th>V21</th>\n",
       "      <th>V22</th>\n",
       "      <th>V23</th>\n",
       "      <th>V24</th>\n",
       "      <th>V25</th>\n",
       "      <th>V26</th>\n",
       "      <th>V27</th>\n",
       "      <th>V28</th>\n",
       "      <th>Class</th>\n",
       "    </tr>\n",
       "  </thead>\n",
       "  <tbody>\n",
       "    <tr>\n",
       "      <th>86641</th>\n",
       "      <td>-0.287990</td>\n",
       "      <td>-0.274486</td>\n",
       "      <td>1.192398</td>\n",
       "      <td>-0.008786</td>\n",
       "      <td>0.587315</td>\n",
       "      <td>0.835812</td>\n",
       "      <td>-0.424653</td>\n",
       "      <td>-0.125969</td>\n",
       "      <td>-0.200380</td>\n",
       "      <td>0.024914</td>\n",
       "      <td>...</td>\n",
       "      <td>-0.151742</td>\n",
       "      <td>-0.061596</td>\n",
       "      <td>0.129064</td>\n",
       "      <td>-0.056689</td>\n",
       "      <td>0.154006</td>\n",
       "      <td>0.522731</td>\n",
       "      <td>0.467339</td>\n",
       "      <td>0.003016</td>\n",
       "      <td>0.007108</td>\n",
       "      <td>0</td>\n",
       "    </tr>\n",
       "    <tr>\n",
       "      <th>15331</th>\n",
       "      <td>-0.282540</td>\n",
       "      <td>-0.681105</td>\n",
       "      <td>-0.691452</td>\n",
       "      <td>1.278361</td>\n",
       "      <td>0.914798</td>\n",
       "      <td>-0.090734</td>\n",
       "      <td>0.146610</td>\n",
       "      <td>-0.546844</td>\n",
       "      <td>0.340870</td>\n",
       "      <td>-0.799009</td>\n",
       "      <td>...</td>\n",
       "      <td>-0.128805</td>\n",
       "      <td>0.464914</td>\n",
       "      <td>-1.129978</td>\n",
       "      <td>0.078299</td>\n",
       "      <td>-0.247866</td>\n",
       "      <td>-0.109019</td>\n",
       "      <td>0.103668</td>\n",
       "      <td>0.144223</td>\n",
       "      <td>0.091453</td>\n",
       "      <td>0</td>\n",
       "    </tr>\n",
       "    <tr>\n",
       "      <th>154654</th>\n",
       "      <td>-0.019143</td>\n",
       "      <td>0.207968</td>\n",
       "      <td>-1.494442</td>\n",
       "      <td>1.180282</td>\n",
       "      <td>4.040465</td>\n",
       "      <td>4.685792</td>\n",
       "      <td>-0.270909</td>\n",
       "      <td>2.018333</td>\n",
       "      <td>-0.038659</td>\n",
       "      <td>-0.433885</td>\n",
       "      <td>...</td>\n",
       "      <td>1.128370</td>\n",
       "      <td>-0.563901</td>\n",
       "      <td>0.563712</td>\n",
       "      <td>-0.461575</td>\n",
       "      <td>0.003298</td>\n",
       "      <td>0.274011</td>\n",
       "      <td>0.522455</td>\n",
       "      <td>0.114299</td>\n",
       "      <td>-0.507599</td>\n",
       "      <td>0</td>\n",
       "    </tr>\n",
       "    <tr>\n",
       "      <th>72091</th>\n",
       "      <td>-0.105359</td>\n",
       "      <td>-0.353999</td>\n",
       "      <td>1.090360</td>\n",
       "      <td>0.124817</td>\n",
       "      <td>0.990670</td>\n",
       "      <td>1.683757</td>\n",
       "      <td>-0.348780</td>\n",
       "      <td>0.473313</td>\n",
       "      <td>-0.406875</td>\n",
       "      <td>0.230931</td>\n",
       "      <td>...</td>\n",
       "      <td>-0.062773</td>\n",
       "      <td>0.019798</td>\n",
       "      <td>0.145877</td>\n",
       "      <td>0.026017</td>\n",
       "      <td>0.097590</td>\n",
       "      <td>0.161130</td>\n",
       "      <td>0.952133</td>\n",
       "      <td>-0.039768</td>\n",
       "      <td>0.003260</td>\n",
       "      <td>0</td>\n",
       "    </tr>\n",
       "    <tr>\n",
       "      <th>92876</th>\n",
       "      <td>-0.135821</td>\n",
       "      <td>-0.241356</td>\n",
       "      <td>-1.379660</td>\n",
       "      <td>-0.266231</td>\n",
       "      <td>1.504820</td>\n",
       "      <td>0.224321</td>\n",
       "      <td>0.047253</td>\n",
       "      <td>-0.214199</td>\n",
       "      <td>-0.369946</td>\n",
       "      <td>0.399008</td>\n",
       "      <td>...</td>\n",
       "      <td>-0.286041</td>\n",
       "      <td>0.097219</td>\n",
       "      <td>0.639387</td>\n",
       "      <td>0.575031</td>\n",
       "      <td>-0.449632</td>\n",
       "      <td>-0.288715</td>\n",
       "      <td>0.405211</td>\n",
       "      <td>-0.150851</td>\n",
       "      <td>-0.226219</td>\n",
       "      <td>0</td>\n",
       "    </tr>\n",
       "  </tbody>\n",
       "</table>\n",
       "<p>5 rows × 31 columns</p>\n",
       "</div>"
      ],
      "text/plain": [
       "        scaled_amount  scaled_time        V1        V2        V3        V4  \\\n",
       "86641       -0.287990    -0.274486  1.192398 -0.008786  0.587315  0.835812   \n",
       "15331       -0.282540    -0.681105 -0.691452  1.278361  0.914798 -0.090734   \n",
       "154654      -0.019143     0.207968 -1.494442  1.180282  4.040465  4.685792   \n",
       "72091       -0.105359    -0.353999  1.090360  0.124817  0.990670  1.683757   \n",
       "92876       -0.135821    -0.241356 -1.379660 -0.266231  1.504820  0.224321   \n",
       "\n",
       "              V5        V6        V7        V8  ...       V20       V21  \\\n",
       "86641  -0.424653 -0.125969 -0.200380  0.024914  ... -0.151742 -0.061596   \n",
       "15331   0.146610 -0.546844  0.340870 -0.799009  ... -0.128805  0.464914   \n",
       "154654 -0.270909  2.018333 -0.038659 -0.433885  ...  1.128370 -0.563901   \n",
       "72091  -0.348780  0.473313 -0.406875  0.230931  ... -0.062773  0.019798   \n",
       "92876   0.047253 -0.214199 -0.369946  0.399008  ... -0.286041  0.097219   \n",
       "\n",
       "             V22       V23       V24       V25       V26       V27       V28  \\\n",
       "86641   0.129064 -0.056689  0.154006  0.522731  0.467339  0.003016  0.007108   \n",
       "15331  -1.129978  0.078299 -0.247866 -0.109019  0.103668  0.144223  0.091453   \n",
       "154654  0.563712 -0.461575  0.003298  0.274011  0.522455  0.114299 -0.507599   \n",
       "72091   0.145877  0.026017  0.097590  0.161130  0.952133 -0.039768  0.003260   \n",
       "92876   0.639387  0.575031 -0.449632 -0.288715  0.405211 -0.150851 -0.226219   \n",
       "\n",
       "        Class  \n",
       "86641       0  \n",
       "15331       0  \n",
       "154654      0  \n",
       "72091       0  \n",
       "92876       0  \n",
       "\n",
       "[5 rows x 31 columns]"
      ]
     },
     "execution_count": 8,
     "metadata": {},
     "output_type": "execute_result"
    }
   ],
   "source": [
    "std_scaler = StandardScaler()\n",
    "rob_scaler = RobustScaler()\n",
    "\n",
    "data['scaled_amount'] = rob_scaler.fit_transform(data['Amount'].values.reshape(-1,1))\n",
    "data['scaled_time'] = rob_scaler.fit_transform(data['Time'].values.reshape(-1,1))\n",
    "data.drop(['Time','Amount'], axis=1, inplace=True)\n",
    "\n",
    "scaled_amount = data['scaled_amount']\n",
    "scaled_time = data['scaled_time']\n",
    "\n",
    "data.drop(['scaled_amount', 'scaled_time'], axis=1, inplace=True)\n",
    "data.insert(0, 'scaled_amount', scaled_amount)\n",
    "data.insert(1, 'scaled_time', scaled_time)\n",
    "\n",
    "data.head()\n",
    "\n",
    "data = data.sample(frac=1)\n",
    "\n",
    "# amount of fraud classes 492 rows.\n",
    "fraud_data = data.loc[data['Class'] == 1]\n",
    "non_fraud_data = data.loc[data['Class'] == 0]\n",
    "\n",
    "normal_distributed_data = pd.concat([fraud_data, non_fraud_data])\n",
    "\n",
    "# Shuffle dataframe rows\n",
    "new_data = normal_distributed_data.sample(frac=1, random_state=42)\n",
    "\n",
    "new_data.head()"
   ]
  },
  {
   "cell_type": "code",
   "execution_count": 9,
   "metadata": {},
   "outputs": [
    {
     "name": "stderr",
     "output_type": "stream",
     "text": [
      "C:\\Users\\nomif\\Anaconda3\\lib\\site-packages\\sklearn\\utils\\validation.py:744: DataConversionWarning: A column-vector y was passed when a 1d array was expected. Please change the shape of y to (n_samples, ), for example using ravel().\n",
      "  y = column_or_1d(y, warn=True)\n"
     ]
    }
   ],
   "source": [
    "#Using SMOTE\n",
    "\n",
    "dataSmote=np.array(data.drop(\"Class\",axis=1))\n",
    "y=np.array(data[['Class']])\n",
    "smt=SMOTE()\n",
    "dataSmote,y=smt.fit_sample(dataSmote,y)\n",
    "dataSmote=pd.DataFrame(dataSmote)\n",
    "y=pd.DataFrame(y)\n",
    "dataSmote['Class']=y\n",
    "dataSmote=dataSmote.sample(frac=1)\n",
    "dataSmote.columns=list(data.columns)"
   ]
  },
  {
   "cell_type": "code",
   "execution_count": 10,
   "metadata": {},
   "outputs": [
    {
     "data": {
      "text/plain": [
       "Text(0.5, 1.0, 'Fraud Distribution SMOTE')"
      ]
     },
     "execution_count": 10,
     "metadata": {},
     "output_type": "execute_result"
    },
    {
     "data": {
      "image/png": "[encoded data removed]",
      "text/plain": [
       "<Figure size 1440x432 with 2 Axes>"
      ]
     },
     "metadata": {
      "needs_background": "light"
     },
     "output_type": "display_data"
    }
   ],
   "source": [
    "f, axes = plt.subplots(ncols=2, figsize=(20,6))\n",
    "\n",
    "sb.countplot('Class',data=data,ax=axes[0])\n",
    "axes[0].set_title('Fraud Distribution Original')\n",
    "\n",
    "sb.countplot('Class',data=dataSmote,ax=axes[1])\n",
    "axes[1].set_title('Fraud Distribution SMOTE')"
   ]
  },
  {
   "cell_type": "code",
   "execution_count": 13,
   "metadata": {},
   "outputs": [
    {
     "data": {
      "text/plain": [
       "Text(0.5, 1.0, 'V10 vs Class Negative Correlation SMOTE')"
      ]
     },
     "execution_count": 13,
     "metadata": {},
     "output_type": "execute_result"
    },
    {
     "data": {
      "image/png": "[encoded data removed]",
      "text/plain": [
       "<Figure size 1440x1152 with 8 Axes>"
      ]
     },
     "metadata": {
      "needs_background": "light"
     },
     "output_type": "display_data"
    }
   ],
   "source": [
    "f, axes = plt.subplots(nrows=2,ncols=4, figsize=(20,16))\n",
    "sb.boxplot(x=\"Class\", y=\"V17\", data=data,ax=axes[0,0])\n",
    "axes[0,0].set_title('V17 vs Class Negative Correlation Original')\n",
    "\n",
    "sb.boxplot(x=\"Class\", y=\"V14\", data=data,ax=axes[0,1])\n",
    "axes[0,1].set_title('V14 vs Class Negative Correlation Original')\n",
    "\n",
    "sb.boxplot(x=\"Class\", y=\"V12\", data=data,ax=axes[0,2])\n",
    "axes[0,2].set_title('V12 vs Class Negative Correlation Original')\n",
    "\n",
    "sb.boxplot(x=\"Class\", y=\"V10\", data=data,ax=axes[0,3])\n",
    "axes[0,3].set_title('V10 vs Class Negative Correlation Original')\n",
    "\n",
    "sb.boxplot(x=\"Class\", y=\"V17\", data=dataSmote,ax=axes[1,0])\n",
    "axes[1,0].set_title('V17 vs Class Negative Correlation SMOTE')\n",
    "\n",
    "sb.boxplot(x=\"Class\", y=\"V14\", data=dataSmote,ax=axes[1,1])\n",
    "axes[1,1].set_title('V14 vs Class Negative Correlation SMOTE')\n",
    "\n",
    "sb.boxplot(x=\"Class\", y=\"V12\", data=dataSmote,ax=axes[1,2])\n",
    "axes[1,2].set_title('V12 vs Class Negative Correlation SMOTE')\n",
    "\n",
    "sb.boxplot(x=\"Class\", y=\"V10\", data=dataSmote,ax=axes[1,3])\n",
    "axes[1,3].set_title('V10 vs Class Negative Correlation SMOTE')\n",
    "\n"
   ]
  },
  {
   "cell_type": "code",
   "execution_count": 14,
   "metadata": {},
   "outputs": [
    {
     "data": {
      "text/plain": [
       "Text(0.5, 1.0, 'V2 vs Class Positive Correlation SMOTE')"
      ]
     },
     "execution_count": 14,
     "metadata": {},
     "output_type": "execute_result"
    },
    {
     "data": {
      "image/png": "[encoded data removed]",
      "text/plain": [
       "<Figure size 1440x1152 with 8 Axes>"
      ]
     },
     "metadata": {
      "needs_background": "light"
     },
     "output_type": "display_data"
    }
   ],
   "source": [
    "f, axes = plt.subplots(nrows=2,ncols=4, figsize=(20,16))\n",
    "sb.boxplot(x=\"Class\", y=\"V11\", data=data,ax=axes[0,0])\n",
    "axes[0,0].set_title('V11 vs Class Positive Correlation Original')\n",
    "\n",
    "sb.boxplot(x=\"Class\", y=\"V9\", data=data,ax=axes[0,1])\n",
    "axes[0,1].set_title('V9 vs Class Positive Correlation Original')\n",
    "\n",
    "sb.boxplot(x=\"Class\", y=\"V4\", data=data,ax=axes[0,2])\n",
    "axes[0,2].set_title('V4 vs Class Positive Correlation Original')\n",
    "\n",
    "sb.boxplot(x=\"Class\", y=\"V2\", data=data,ax=axes[0,3])\n",
    "axes[0,3].set_title('V2 vs Class Positive Correlation Original')\n",
    "\n",
    "sb.boxplot(x=\"Class\", y=\"V11\", data=dataSmote,ax=axes[1,0])\n",
    "axes[1,0].set_title('V11 vs Class Positive Correlation SMOTE')\n",
    "\n",
    "sb.boxplot(x=\"Class\", y=\"V9\", data=dataSmote,ax=axes[1,1])\n",
    "axes[1,1].set_title('V9 vs Class Positive Correlation SMOTE')\n",
    "\n",
    "sb.boxplot(x=\"Class\", y=\"V4\", data=dataSmote,ax=axes[1,2])\n",
    "axes[1,2].set_title('V4 vs Class Positive Correlation SMOTE')\n",
    "\n",
    "sb.boxplot(x=\"Class\", y=\"V2\", data=dataSmote,ax=axes[1,3])\n",
    "axes[1,3].set_title('V2 vs Class Positive Correlation SMOTE')"
   ]
  },
  {
   "cell_type": "markdown",
   "metadata": {},
   "source": [
    "# Network"
   ]
  },
  {
   "cell_type": "code",
   "execution_count": 21,
   "metadata": {},
   "outputs": [],
   "source": [
    "results={}"
   ]
  },
  {
   "cell_type": "code",
   "execution_count": 22,
   "metadata": {},
   "outputs": [],
   "source": [
    "datum=Data(dataSmote)\n",
    "\n",
    "Data_Global=datum.sample(0,0.1)\n",
    "Data_Model_1A=datum.sample(0.1,0.3)\n",
    "Data_Model_2A=datum.sample(0.3,0.45)\n",
    "Data_Model_3A=datum.sample(0.45,50)\n",
    "Data_Model_1B=datum.sample(0.50,70)\n",
    "Data_Model_2B=datum.sample(0.70,85)\n",
    "Data_Model_3B=datum.sample(0.85,90)\n",
    "Data_Test=datum.sample(0.90,1)"
   ]
  },
  {
   "cell_type": "code",
   "execution_count": 23,
   "metadata": {},
   "outputs": [
    {
     "name": "stdout",
     "output_type": "stream",
     "text": [
      "Train on 40941 samples, validate on 4549 samples\n",
      "Epoch 1/5\n",
      "40941/40941 [==============================] - 2s 38us/step - loss: 0.2615 - acc: 0.9283 - val_loss: 0.1281 - val_acc: 0.9554\n",
      "Epoch 2/5\n",
      "40941/40941 [==============================] - 1s 29us/step - loss: 0.1105 - acc: 0.9651 - val_loss: 0.0902 - val_acc: 0.9752\n",
      "Epoch 3/5\n",
      "40941/40941 [==============================] - 1s 30us/step - loss: 0.0855 - acc: 0.9748 - val_loss: 0.0732 - val_acc: 0.9769\n",
      "Epoch 4/5\n",
      "40941/40941 [==============================] - 1s 29us/step - loss: 0.0725 - acc: 0.9801 - val_loss: 0.0739 - val_acc: 0.9798\n",
      "Epoch 5/5\n",
      "40941/40941 [==============================] - 1s 30us/step - loss: 0.0654 - acc: 0.9829 - val_loss: 0.0581 - val_acc: 0.9855\n",
      "11373/11373 [==============================] - 0s 11us/step\n",
      "Saved model to disk\n"
     ]
    }
   ],
   "source": [
    "GlobalBank=Bank(Data_Global,0.2)\n",
    "GlobalBank.run(GlobalBank.X_train, GlobalBank.Y_train,load=False)\n",
    "\n",
    "results['BankG.1']=GlobalBank.evaluate(GlobalBank.X_test,GlobalBank.Y_test)\n",
    "\n",
    "GlobalBank.saveModel()\n"
   ]
  },
  {
   "cell_type": "code",
   "execution_count": 24,
   "metadata": {
    "scrolled": true
   },
   "outputs": [
    {
     "name": "stdout",
     "output_type": "stream",
     "text": [
      "Loaded model from disk\n",
      "Train on 81882 samples, validate on 9098 samples\n",
      "Epoch 1/5\n",
      "81882/81882 [==============================] - 3s 35us/step - loss: 0.0601 - acc: 0.9853 - val_loss: 0.0430 - val_acc: 0.9931\n",
      "Epoch 2/5\n",
      "81882/81882 [==============================] - 2s 30us/step - loss: 0.0565 - acc: 0.9868 - val_loss: 0.0470 - val_acc: 0.9909\n",
      "Epoch 3/5\n",
      "81882/81882 [==============================] - 2s 30us/step - loss: 0.0551 - acc: 0.9876 - val_loss: 0.0558 - val_acc: 0.9877\n",
      "Epoch 4/5\n",
      "81882/81882 [==============================] - 2s 30us/step - loss: 0.0522 - acc: 0.9886 - val_loss: 0.0386 - val_acc: 0.9926\n",
      "Epoch 5/5\n",
      "81882/81882 [==============================] - 2s 30us/step - loss: 0.0507 - acc: 0.9889 - val_loss: 0.0411 - val_acc: 0.9935\n",
      "Loaded model from disk\n",
      "Train on 61411 samples, validate on 6824 samples\n",
      "Epoch 1/5\n",
      "61411/61411 [==============================] - 2s 41us/step - loss: 0.0578 - acc: 0.9854 - val_loss: 0.0519 - val_acc: 0.9892\n",
      "Epoch 2/5\n",
      "61411/61411 [==============================] - 2s 32us/step - loss: 0.0567 - acc: 0.9863 - val_loss: 0.0527 - val_acc: 0.9874\n",
      "Epoch 3/5\n",
      "61411/61411 [==============================] - 2s 32us/step - loss: 0.0566 - acc: 0.9865 - val_loss: 0.0475 - val_acc: 0.9911\n",
      "Epoch 4/5\n",
      "61411/61411 [==============================] - 2s 31us/step - loss: 0.0522 - acc: 0.9885 - val_loss: 0.0398 - val_acc: 0.9940\n",
      "Epoch 5/5\n",
      "61411/61411 [==============================] - 2s 31us/step - loss: 0.0526 - acc: 0.9886 - val_loss: 0.0408 - val_acc: 0.9933\n",
      "Loaded model from disk\n",
      "Train on 225177 samples, validate on 25020 samples\n",
      "Epoch 1/5\n",
      "225177/225177 [==============================] - 8s 35us/step - loss: 0.0576 - acc: 0.9866 - val_loss: 0.0454 - val_acc: 0.9914\n",
      "Epoch 2/5\n",
      "225177/225177 [==============================] - 8s 33us/step - loss: 0.0528 - acc: 0.9884 - val_loss: 0.0438 - val_acc: 0.9928\n",
      "Epoch 3/5\n",
      "225177/225177 [==============================] - 7s 31us/step - loss: 0.0518 - acc: 0.9886 - val_loss: 0.0433 - val_acc: 0.9926\n",
      "Epoch 4/5\n",
      "225177/225177 [==============================] - 7s 32us/step - loss: 0.0516 - acc: 0.9886 - val_loss: 0.0401 - val_acc: 0.9941\n",
      "Epoch 5/5\n",
      "225177/225177 [==============================] - 7s 31us/step - loss: 0.0509 - acc: 0.9890 - val_loss: 0.0403 - val_acc: 0.9948\n",
      "Saved model to disk\n"
     ]
    }
   ],
   "source": [
    "delta=np.array(GlobalBank.getWeights())\n",
    "\n",
    "Bank1=Bank(Data_Model_1A,0.2)\n",
    "Bank1.run(Bank1.X_train,Bank1.Y_train)\n",
    "\n",
    "Bank2=Bank(Data_Model_2A,0.2)\n",
    "Bank2.run(Bank2.X_train,Bank2.Y_train)\n",
    "\n",
    "Bank3=Bank(Data_Model_3A,0.2)\n",
    "Bank3.run(Bank3.X_train,Bank3.Y_train)\n",
    "\n",
    "temp=(0.55*np.array(Bank1.getWeights())+0.35*np.array(Bank2.getWeights())+0.10*np.array(Bank3.getWeights()))\n",
    "temp-=delta\n",
    "delta+=temp\n",
    "\n",
    "GlobalBank.setWeights(delta)\n",
    "GlobalBank.saveModel()"
   ]
  },
  {
   "cell_type": "code",
   "execution_count": 25,
   "metadata": {},
   "outputs": [
    {
     "name": "stdout",
     "output_type": "stream",
     "text": [
      "22746/22746 [==============================] - 0s 13us/step\n",
      "17059/17059 [==============================] - 0s 12us/step\n",
      "62550/62550 [==============================] - 1s 12us/step\n",
      "11373/11373 [==============================] - 0s 11us/step\n"
     ]
    }
   ],
   "source": [
    "results['Bank1.1']=Bank1.evaluate(Bank1.X_test,Bank1.Y_test)\n",
    "results['Bank2.1']=Bank2.evaluate(Bank2.X_test,Bank2.Y_test)\n",
    "results['Bank3.1']=Bank3.evaluate(Bank3.X_test,Bank3.Y_test)\n",
    "results['BankG.2']=GlobalBank.evaluate(GlobalBank.X_test,GlobalBank.Y_test)"
   ]
  },
  {
   "cell_type": "code",
   "execution_count": 26,
   "metadata": {},
   "outputs": [
    {
     "name": "stdout",
     "output_type": "stream",
     "text": [
      "Loaded model from disk\n",
      "Train on 204706 samples, validate on 22746 samples\n",
      "Epoch 1/5\n",
      "204706/204706 [==============================] - 7s 34us/step - loss: 0.0518 - acc: 0.9879 - val_loss: 0.0370 - val_acc: 0.9943\n",
      "Epoch 2/5\n",
      "204706/204706 [==============================] - 6s 31us/step - loss: 0.0513 - acc: 0.9889 - val_loss: 0.0381 - val_acc: 0.9945\n",
      "Epoch 3/5\n",
      "204706/204706 [==============================] - 7s 33us/step - loss: 0.0508 - acc: 0.9890 - val_loss: 0.0358 - val_acc: 0.9946\n",
      "Epoch 4/5\n",
      "204706/204706 [==============================] - 7s 32us/step - loss: 0.0516 - acc: 0.9888 - val_loss: 0.0420 - val_acc: 0.9919\n",
      "Epoch 5/5\n",
      "204706/204706 [==============================] - 7s 32us/step - loss: 0.0507 - acc: 0.9894 - val_loss: 0.0351 - val_acc: 0.9960\n",
      "Loaded model from disk\n",
      "Train on 122823 samples, validate on 13648 samples\n",
      "Epoch 1/5\n",
      "122823/122823 [==============================] - 5s 38us/step - loss: 0.0512 - acc: 0.9881 - val_loss: 0.0402 - val_acc: 0.9934\n",
      "Epoch 2/5\n",
      "122823/122823 [==============================] - 4s 32us/step - loss: 0.0502 - acc: 0.9892 - val_loss: 0.0441 - val_acc: 0.9916\n",
      "Epoch 3/5\n",
      "122823/122823 [==============================] - 4s 32us/step - loss: 0.0501 - acc: 0.9894 - val_loss: 0.0378 - val_acc: 0.9946\n",
      "Epoch 4/5\n",
      "122823/122823 [==============================] - 4s 32us/step - loss: 0.0509 - acc: 0.9889 - val_loss: 0.0409 - val_acc: 0.9936\n",
      "Epoch 5/5\n",
      "122823/122823 [==============================] - 4s 32us/step - loss: 0.0504 - acc: 0.9896 - val_loss: 0.0438 - val_acc: 0.9921\n",
      "Loaded model from disk\n",
      "Train on 61412 samples, validate on 6824 samples\n",
      "Epoch 1/5\n",
      "61412/61412 [==============================] - 3s 42us/step - loss: 0.0485 - acc: 0.9888 - val_loss: 0.0354 - val_acc: 0.9943\n",
      "Epoch 2/5\n",
      "61412/61412 [==============================] - 2s 32us/step - loss: 0.0493 - acc: 0.9889 - val_loss: 0.0406 - val_acc: 0.9921\n",
      "Epoch 3/5\n",
      "61412/61412 [==============================] - 2s 33us/step - loss: 0.0513 - acc: 0.9888 - val_loss: 0.0381 - val_acc: 0.9940\n",
      "Epoch 4/5\n",
      "61412/61412 [==============================] - 2s 36us/step - loss: 0.0495 - acc: 0.9894 - val_loss: 0.0471 - val_acc: 0.9893\n",
      "Epoch 5/5\n",
      "61412/61412 [==============================] - 2s 32us/step - loss: 0.0501 - acc: 0.9895 - val_loss: 0.0410 - val_acc: 0.9931\n",
      "Saved model to disk\n"
     ]
    }
   ],
   "source": [
    "delta=np.array(GlobalBank.getWeights())\n",
    "\n",
    "Bank1.setData(Data_Model_1B,0.2)\n",
    "Bank1.run(Bank1.X_train,Bank1.Y_train)\n",
    "\n",
    "Bank2.setData(Data_Model_2B,0.2)\n",
    "Bank2.run(Bank2.X_train,Bank2.Y_train)\n",
    "\n",
    "Bank3.setData(Data_Model_3B,0.2)\n",
    "Bank3.run(Bank3.X_train,Bank3.Y_train)\n",
    "\n",
    "\n",
    "\n",
    "temp=(0.55*np.array(Bank1.getWeights())+0.35*np.array(Bank2.getWeights())+0.10*np.array(Bank3.getWeights()))\n",
    "\n",
    "temp-=delta\n",
    "\n",
    "delta+=temp\n",
    "\n",
    "GlobalBank.setWeights(delta)\n",
    "GlobalBank.saveModel()"
   ]
  },
  {
   "cell_type": "code",
   "execution_count": 27,
   "metadata": {},
   "outputs": [
    {
     "name": "stdout",
     "output_type": "stream",
     "text": [
      "56863/56863 [==============================] - 1s 13us/step\n",
      "34118/34118 [==============================] - 0s 14us/step\n",
      "17059/17059 [==============================] - 0s 14us/step\n"
     ]
    }
   ],
   "source": [
    "results['Bank1.2']=Bank1.evaluate(Bank1.X_test,Bank1.Y_test)\n",
    "results['Bank2.2']=Bank2.evaluate(Bank2.X_test,Bank2.Y_test)\n",
    "results['Bank3.2']=Bank3.evaluate(Bank3.X_test,Bank3.Y_test)\n"
   ]
  },
  {
   "cell_type": "code",
   "execution_count": 28,
   "metadata": {},
   "outputs": [
    {
     "name": "stdout",
     "output_type": "stream",
     "text": [
      "51177/51177 [==============================] - 1s 13us/step\n"
     ]
    }
   ],
   "source": [
    "GlobalBank.setData(Data_Test,0.9)\n",
    "results['BankG.3']=GlobalBank.evaluate(GlobalBank.X_test,GlobalBank.Y_test)"
   ]
  },
  {
   "cell_type": "markdown",
   "metadata": {},
   "source": [
    "# Analysis"
   ]
  },
  {
   "cell_type": "code",
   "execution_count": 49,
   "metadata": {},
   "outputs": [
    {
     "data": {
      "text/plain": [
       "[<matplotlib.lines.Line2D at 0x19de54a9c88>]"
      ]
     },
     "execution_count": 49,
     "metadata": {},
     "output_type": "execute_result"
    },
    {
     "data": {
      "image/png": "[encoded data removed]",
      "text/plain": [
       "<Figure size 864x432 with 1 Axes>"
      ]
     },
     "metadata": {
      "needs_background": "light"
     },
     "output_type": "display_data"
    }
   ],
   "source": [
    "f, axes = plt.subplots(nrows=1,ncols=1, figsize=(12,6))\n",
    "plt.plot(results.values())"
   ]
  },
  {
   "cell_type": "code",
   "execution_count": 56,
   "metadata": {},
   "outputs": [
    {
     "data": {
      "text/plain": [
       "<matplotlib.axes._subplots.AxesSubplot at 0x19de8638be0>"
      ]
     },
     "execution_count": 56,
     "metadata": {},
     "output_type": "execute_result"
    },
    {
     "data": {
      "image/png": "[encoded data removed]",
      "text/plain": [
       "<Figure size 432x288 with 2 Axes>"
      ]
     },
     "metadata": {
      "needs_background": "light"
     },
     "output_type": "display_data"
    }
   ],
   "source": [
    "y_pred=GlobalBank.predict(GlobalBank.X_test)\n",
    "for i in range(len(y_pred)):\n",
    "    if(y_pred[i]>0.5):\n",
    "        y_pred[i]=1\n",
    "    else:\n",
    "        y_pred[i]=0\n",
    "y_test=np.array(GlobalBank.Y_test)\n",
    "sb.heatmap(confusion_matrix(y_test,y_pred),annot=True)"
   ]
  },
  {
   "cell_type": "code",
   "execution_count": 1,
   "metadata": {},
   "outputs": [],
   "source": [
    "# False Neagtive accuracy w/o smote = 4.5 pc\n",
    "# False Neagtive accuracy w smote = 5.855600882243866e-05\n"
   ]
  },
  {
   "cell_type": "code",
   "execution_count": 57,
   "metadata": {},
   "outputs": [
    {
     "data": {
      "text/plain": [
       "array([[25319,   223],\n",
       "       [   25, 25610]], dtype=int64)"
      ]
     },
     "execution_count": 57,
     "metadata": {},
     "output_type": "execute_result"
    }
   ],
   "source": [
    "confusion_matrix(y_test,y_pred)"
   ]
  },
  {
   "cell_type": "code",
   "execution_count": 58,
   "metadata": {},
   "outputs": [
    {
     "data": {
      "text/plain": [
       "0.000488500693670985"
      ]
     },
     "execution_count": 58,
     "metadata": {},
     "output_type": "execute_result"
    }
   ],
   "source": [
    "25/(25319+223+25+25610)"
   ]
  },
  {
   "cell_type": "code",
   "execution_count": 60,
   "metadata": {},
   "outputs": [
    {
     "data": {
      "text/plain": [
       "0.0004"
      ]
     },
     "execution_count": 60,
     "metadata": {},
     "output_type": "execute_result"
    }
   ],
   "source": [
    "4e-4"
   ]
  },
  {
   "cell_type": "code",
   "execution_count": null,
   "metadata": {},
   "outputs": [],
   "source": []
  }
 ],
 "metadata": {
  "kernelspec": {
   "display_name": "Python 3",
   "language": "python",
   "name": "python3"
  },
  "language_info": {
   "codemirror_mode": {
    "name": "ipython",
    "version": 3
   },
   "file_extension": ".py",
   "mimetype": "text/x-python",
   "name": "python",
   "nbconvert_exporter": "python",
   "pygments_lexer": "ipython3",
   "version": "3.7.3"
  }
 },
 "nbformat": 4,
 "nbformat_minor": 2
}
