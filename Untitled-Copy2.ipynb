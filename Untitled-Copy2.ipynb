{
 "cells": [
  {
   "cell_type": "code",
   "execution_count": null,
   "metadata": {},
   "outputs": [],
   "source": [
    "#Custom Loss function"
   ]
  },
  {
   "cell_type": "code",
   "execution_count": 2,
   "metadata": {
    "scrolled": true
   },
   "outputs": [
    {
     "name": "stderr",
     "output_type": "stream",
     "text": [
      "Using TensorFlow backend.\n"
     ]
    }
   ],
   "source": [
    "import tensorflow as tf\n",
    "from tensorflow import keras\n",
    "from keras.models import Sequential\n",
    "from keras.layers.core import Dense, Dropout, Activation,Flatten\n",
    "from keras import regularizers\n",
    "\n",
    "import pandas as pd\n",
    "import numpy as np\n",
    "import seaborn as sb\n",
    "import matplotlib.pyplot as plt\n",
    "from scipy import stats\n",
    "\n",
    "from sklearn.model_selection import train_test_split\n",
    "from sklearn.preprocessing import StandardScaler, RobustScaler\n",
    "from sklearn import metrics\n",
    "from keras.models import model_from_json\n",
    "\n",
    "from sklearn.metrics import confusion_matrix\n",
    "from imblearn.over_sampling import SMOTE"
   ]
  },
  {
   "cell_type": "markdown",
   "metadata": {},
   "source": [
    "# Class definitons"
   ]
  },
  {
   "cell_type": "code",
   "execution_count": 3,
   "metadata": {},
   "outputs": [],
   "source": [
    "class Data():\n",
    "    \n",
    "    def __init__(self,data):\n",
    "        self.data=data\n",
    "        \n",
    "    def sample(self,start,end):\n",
    "        size=len(self.data)\n",
    "        return self.data[int(size*start):int(size*end)]"
   ]
  },
  {
   "cell_type": "code",
   "execution_count": 4,
   "metadata": {},
   "outputs": [],
   "source": [
    "class Model():\n",
    "    \n",
    "    def __init__(self):\n",
    "        self.input_shape=(30,)\n",
    "        self.model = Sequential()\n",
    "        self.model.add(Dense(32, activation='relu',input_shape=self.input_shape,kernel_regularizer=regularizers.l2(0.01))) \n",
    "        self.model.add(Dropout(0.2))\n",
    "        self.model.add(Dense(16, activation='relu'))\n",
    "        self.model.add(Dropout(0.1))\n",
    "        self.model.add(Dense(8, activation='relu'))\n",
    "        self.model.add(Dense(1, activation='sigmoid'))\n",
    "        self.model.compile(optimizer='adam',   #rmsprop\n",
    "                      loss='binary_crossentropy',\n",
    "                      metrics=['accuracy'])\n",
    "\n",
    "    \n",
    "    def saveModel(self):\n",
    "        model_json = self.model.to_json()\n",
    "        with open(\"model.json\", \"w\") as json_file:\n",
    "            json_file.write(model_json)\n",
    "        # serialize weights to HDF5\n",
    "        self.model.save_weights(\"model.h5\")\n",
    "        print(\"Saved model to disk\")\n",
    "        \n",
    "    def loadModel(self):\n",
    "        json_file = open('model.json', 'r')\n",
    "        loaded_model_json = json_file.read()\n",
    "        json_file.close()\n",
    "        loaded_model = model_from_json(loaded_model_json)\n",
    "        # load weights into new model\n",
    "        loaded_model.load_weights(\"model.h5\")\n",
    "        print(\"Loaded model from disk\")\n",
    "        loaded_model.compile(optimizer='adam',loss='binary_crossentropy',metrics=['accuracy'])\n",
    "        return loaded_model    \n",
    "    \n",
    "\n",
    "    def run(self,X,Y,validation_split=0.1,load=True):\n",
    "        if(load):\n",
    "            self.model=self.loadModel()\n",
    "        self.model.fit(X,Y,epochs=5,validation_split=validation_split, verbose=1)\n",
    "        \n",
    "    def evaluate(self,X,Y):\n",
    "        return self.model.evaluate(X,Y)[1]*100\n",
    "    \n",
    "    def loss(self,X,Y):\n",
    "        return self.model.evaluate(X,Y)[0]\n",
    "    \n",
    "    def predict(self,X):\n",
    "        return self.model.predict(X)\n",
    "        \n",
    "    \n",
    "    def getWeights(self):\n",
    "        return self.model.get_weights()\n",
    "    \n",
    "    def setWeights(self,weight):\n",
    "        self.model.set_weights(weight)\n"
   ]
  },
  {
   "cell_type": "code",
   "execution_count": 5,
   "metadata": {},
   "outputs": [],
   "source": [
    "class Bank(Model):\n",
    "    \n",
    "    def __init__(self,data,split_size=0):\n",
    "        super().__init__()\n",
    "        self.data=data\n",
    "        self.split(split_size)\n",
    "    \n",
    "    def setData(self,data,split_size=0):\n",
    "        self.data=data\n",
    "        self.split(split_size)\n",
    "    \n",
    "    def split(self,split_size):\n",
    "        X=self.data.copy()\n",
    "        X.drop(['Class'],axis=1,inplace=True)\n",
    "        Y=self.data[['Class']]\n",
    "        self.X_train, self.X_test, self.Y_train, self.Y_test = train_test_split(X, Y, test_size=split_size)"
   ]
  },
  {
   "cell_type": "markdown",
   "metadata": {},
   "source": [
    "# EDA"
   ]
  },
  {
   "cell_type": "code",
   "execution_count": 6,
   "metadata": {},
   "outputs": [
    {
     "data": {
      "text/html": [
       "<div>\n",
       "<style scoped>\n",
       "    .dataframe tbody tr th:only-of-type {\n",
       "        vertical-align: middle;\n",
       "    }\n",
       "\n",
       "    .dataframe tbody tr th {\n",
       "        vertical-align: top;\n",
       "    }\n",
       "\n",
       "    .dataframe thead th {\n",
       "        text-align: right;\n",
       "    }\n",
       "</style>\n",
       "<table border=\"1\" class=\"dataframe\">\n",
       "  <thead>\n",
       "    <tr style=\"text-align: right;\">\n",
       "      <th></th>\n",
       "      <th>Time</th>\n",
       "      <th>V1</th>\n",
       "      <th>V2</th>\n",
       "      <th>V3</th>\n",
       "      <th>V4</th>\n",
       "      <th>V5</th>\n",
       "      <th>V6</th>\n",
       "      <th>V7</th>\n",
       "      <th>V8</th>\n",
       "      <th>V9</th>\n",
       "      <th>...</th>\n",
       "      <th>V21</th>\n",
       "      <th>V22</th>\n",
       "      <th>V23</th>\n",
       "      <th>V24</th>\n",
       "      <th>V25</th>\n",
       "      <th>V26</th>\n",
       "      <th>V27</th>\n",
       "      <th>V28</th>\n",
       "      <th>Amount</th>\n",
       "      <th>Class</th>\n",
       "    </tr>\n",
       "  </thead>\n",
       "  <tbody>\n",
       "    <tr>\n",
       "      <th>0</th>\n",
       "      <td>0.0</td>\n",
       "      <td>-1.359807</td>\n",
       "      <td>-0.072781</td>\n",
       "      <td>2.536347</td>\n",
       "      <td>1.378155</td>\n",
       "      <td>-0.338321</td>\n",
       "      <td>0.462388</td>\n",
       "      <td>0.239599</td>\n",
       "      <td>0.098698</td>\n",
       "      <td>0.363787</td>\n",
       "      <td>...</td>\n",
       "      <td>-0.018307</td>\n",
       "      <td>0.277838</td>\n",
       "      <td>-0.110474</td>\n",
       "      <td>0.066928</td>\n",
       "      <td>0.128539</td>\n",
       "      <td>-0.189115</td>\n",
       "      <td>0.133558</td>\n",
       "      <td>-0.021053</td>\n",
       "      <td>149.62</td>\n",
       "      <td>0</td>\n",
       "    </tr>\n",
       "    <tr>\n",
       "      <th>1</th>\n",
       "      <td>0.0</td>\n",
       "      <td>1.191857</td>\n",
       "      <td>0.266151</td>\n",
       "      <td>0.166480</td>\n",
       "      <td>0.448154</td>\n",
       "      <td>0.060018</td>\n",
       "      <td>-0.082361</td>\n",
       "      <td>-0.078803</td>\n",
       "      <td>0.085102</td>\n",
       "      <td>-0.255425</td>\n",
       "      <td>...</td>\n",
       "      <td>-0.225775</td>\n",
       "      <td>-0.638672</td>\n",
       "      <td>0.101288</td>\n",
       "      <td>-0.339846</td>\n",
       "      <td>0.167170</td>\n",
       "      <td>0.125895</td>\n",
       "      <td>-0.008983</td>\n",
       "      <td>0.014724</td>\n",
       "      <td>2.69</td>\n",
       "      <td>0</td>\n",
       "    </tr>\n",
       "    <tr>\n",
       "      <th>2</th>\n",
       "      <td>1.0</td>\n",
       "      <td>-1.358354</td>\n",
       "      <td>-1.340163</td>\n",
       "      <td>1.773209</td>\n",
       "      <td>0.379780</td>\n",
       "      <td>-0.503198</td>\n",
       "      <td>1.800499</td>\n",
       "      <td>0.791461</td>\n",
       "      <td>0.247676</td>\n",
       "      <td>-1.514654</td>\n",
       "      <td>...</td>\n",
       "      <td>0.247998</td>\n",
       "      <td>0.771679</td>\n",
       "      <td>0.909412</td>\n",
       "      <td>-0.689281</td>\n",
       "      <td>-0.327642</td>\n",
       "      <td>-0.139097</td>\n",
       "      <td>-0.055353</td>\n",
       "      <td>-0.059752</td>\n",
       "      <td>378.66</td>\n",
       "      <td>0</td>\n",
       "    </tr>\n",
       "    <tr>\n",
       "      <th>3</th>\n",
       "      <td>1.0</td>\n",
       "      <td>-0.966272</td>\n",
       "      <td>-0.185226</td>\n",
       "      <td>1.792993</td>\n",
       "      <td>-0.863291</td>\n",
       "      <td>-0.010309</td>\n",
       "      <td>1.247203</td>\n",
       "      <td>0.237609</td>\n",
       "      <td>0.377436</td>\n",
       "      <td>-1.387024</td>\n",
       "      <td>...</td>\n",
       "      <td>-0.108300</td>\n",
       "      <td>0.005274</td>\n",
       "      <td>-0.190321</td>\n",
       "      <td>-1.175575</td>\n",
       "      <td>0.647376</td>\n",
       "      <td>-0.221929</td>\n",
       "      <td>0.062723</td>\n",
       "      <td>0.061458</td>\n",
       "      <td>123.50</td>\n",
       "      <td>0</td>\n",
       "    </tr>\n",
       "    <tr>\n",
       "      <th>4</th>\n",
       "      <td>2.0</td>\n",
       "      <td>-1.158233</td>\n",
       "      <td>0.877737</td>\n",
       "      <td>1.548718</td>\n",
       "      <td>0.403034</td>\n",
       "      <td>-0.407193</td>\n",
       "      <td>0.095921</td>\n",
       "      <td>0.592941</td>\n",
       "      <td>-0.270533</td>\n",
       "      <td>0.817739</td>\n",
       "      <td>...</td>\n",
       "      <td>-0.009431</td>\n",
       "      <td>0.798278</td>\n",
       "      <td>-0.137458</td>\n",
       "      <td>0.141267</td>\n",
       "      <td>-0.206010</td>\n",
       "      <td>0.502292</td>\n",
       "      <td>0.219422</td>\n",
       "      <td>0.215153</td>\n",
       "      <td>69.99</td>\n",
       "      <td>0</td>\n",
       "    </tr>\n",
       "  </tbody>\n",
       "</table>\n",
       "<p>5 rows × 31 columns</p>\n",
       "</div>"
      ],
      "text/plain": [
       "   Time        V1        V2        V3        V4        V5        V6        V7  \\\n",
       "0   0.0 -1.359807 -0.072781  2.536347  1.378155 -0.338321  0.462388  0.239599   \n",
       "1   0.0  1.191857  0.266151  0.166480  0.448154  0.060018 -0.082361 -0.078803   \n",
       "2   1.0 -1.358354 -1.340163  1.773209  0.379780 -0.503198  1.800499  0.791461   \n",
       "3   1.0 -0.966272 -0.185226  1.792993 -0.863291 -0.010309  1.247203  0.237609   \n",
       "4   2.0 -1.158233  0.877737  1.548718  0.403034 -0.407193  0.095921  0.592941   \n",
       "\n",
       "         V8        V9  ...       V21       V22       V23       V24       V25  \\\n",
       "0  0.098698  0.363787  ... -0.018307  0.277838 -0.110474  0.066928  0.128539   \n",
       "1  0.085102 -0.255425  ... -0.225775 -0.638672  0.101288 -0.339846  0.167170   \n",
       "2  0.247676 -1.514654  ...  0.247998  0.771679  0.909412 -0.689281 -0.327642   \n",
       "3  0.377436 -1.387024  ... -0.108300  0.005274 -0.190321 -1.175575  0.647376   \n",
       "4 -0.270533  0.817739  ... -0.009431  0.798278 -0.137458  0.141267 -0.206010   \n",
       "\n",
       "        V26       V27       V28  Amount  Class  \n",
       "0 -0.189115  0.133558 -0.021053  149.62      0  \n",
       "1  0.125895 -0.008983  0.014724    2.69      0  \n",
       "2 -0.139097 -0.055353 -0.059752  378.66      0  \n",
       "3 -0.221929  0.062723  0.061458  123.50      0  \n",
       "4  0.502292  0.219422  0.215153   69.99      0  \n",
       "\n",
       "[5 rows x 31 columns]"
      ]
     },
     "execution_count": 6,
     "metadata": {},
     "output_type": "execute_result"
    }
   ],
   "source": [
    "data = pd.read_csv('creditcard.csv')\n",
    "data.head()"
   ]
  },
  {
   "cell_type": "code",
   "execution_count": 7,
   "metadata": {},
   "outputs": [
    {
     "data": {
      "text/plain": [
       "(284807, 31)"
      ]
     },
     "execution_count": 7,
     "metadata": {},
     "output_type": "execute_result"
    }
   ],
   "source": [
    "data.shape"
   ]
  },
  {
   "cell_type": "code",
   "execution_count": 8,
   "metadata": {},
   "outputs": [
    {
     "data": {
      "text/html": [
       "<div>\n",
       "<style scoped>\n",
       "    .dataframe tbody tr th:only-of-type {\n",
       "        vertical-align: middle;\n",
       "    }\n",
       "\n",
       "    .dataframe tbody tr th {\n",
       "        vertical-align: top;\n",
       "    }\n",
       "\n",
       "    .dataframe thead th {\n",
       "        text-align: right;\n",
       "    }\n",
       "</style>\n",
       "<table border=\"1\" class=\"dataframe\">\n",
       "  <thead>\n",
       "    <tr style=\"text-align: right;\">\n",
       "      <th></th>\n",
       "      <th>scaled_amount</th>\n",
       "      <th>scaled_time</th>\n",
       "      <th>V1</th>\n",
       "      <th>V2</th>\n",
       "      <th>V3</th>\n",
       "      <th>V4</th>\n",
       "      <th>V5</th>\n",
       "      <th>V6</th>\n",
       "      <th>V7</th>\n",
       "      <th>V8</th>\n",
       "      <th>...</th>\n",
       "      <th>V20</th>\n",
       "      <th>V21</th>\n",
       "      <th>V22</th>\n",
       "      <th>V23</th>\n",
       "      <th>V24</th>\n",
       "      <th>V25</th>\n",
       "      <th>V26</th>\n",
       "      <th>V27</th>\n",
       "      <th>V28</th>\n",
       "      <th>Class</th>\n",
       "    </tr>\n",
       "  </thead>\n",
       "  <tbody>\n",
       "    <tr>\n",
       "      <th>101947</th>\n",
       "      <td>0.894152</td>\n",
       "      <td>-0.196219</td>\n",
       "      <td>-1.499531</td>\n",
       "      <td>1.185880</td>\n",
       "      <td>0.746692</td>\n",
       "      <td>1.467418</td>\n",
       "      <td>-0.640523</td>\n",
       "      <td>0.159094</td>\n",
       "      <td>0.262293</td>\n",
       "      <td>0.812415</td>\n",
       "      <td>...</td>\n",
       "      <td>-0.200542</td>\n",
       "      <td>0.078559</td>\n",
       "      <td>0.209617</td>\n",
       "      <td>0.034829</td>\n",
       "      <td>0.113896</td>\n",
       "      <td>0.206366</td>\n",
       "      <td>-0.195466</td>\n",
       "      <td>-0.147906</td>\n",
       "      <td>-0.139812</td>\n",
       "      <td>0</td>\n",
       "    </tr>\n",
       "    <tr>\n",
       "      <th>250466</th>\n",
       "      <td>-0.218822</td>\n",
       "      <td>0.825080</td>\n",
       "      <td>-0.290162</td>\n",
       "      <td>-1.022611</td>\n",
       "      <td>-0.201939</td>\n",
       "      <td>-2.927085</td>\n",
       "      <td>0.927172</td>\n",
       "      <td>-1.431642</td>\n",
       "      <td>-0.132883</td>\n",
       "      <td>-0.240548</td>\n",
       "      <td>...</td>\n",
       "      <td>-0.249457</td>\n",
       "      <td>-0.132131</td>\n",
       "      <td>-0.294267</td>\n",
       "      <td>0.236242</td>\n",
       "      <td>0.416841</td>\n",
       "      <td>-0.817136</td>\n",
       "      <td>-0.581152</td>\n",
       "      <td>0.167493</td>\n",
       "      <td>0.242205</td>\n",
       "      <td>0</td>\n",
       "    </tr>\n",
       "    <tr>\n",
       "      <th>31937</th>\n",
       "      <td>4.736952</td>\n",
       "      <td>-0.565338</td>\n",
       "      <td>0.532084</td>\n",
       "      <td>-1.326245</td>\n",
       "      <td>0.463303</td>\n",
       "      <td>0.684487</td>\n",
       "      <td>-0.945681</td>\n",
       "      <td>0.515196</td>\n",
       "      <td>-0.254550</td>\n",
       "      <td>0.122273</td>\n",
       "      <td>...</td>\n",
       "      <td>0.695559</td>\n",
       "      <td>0.308925</td>\n",
       "      <td>0.238203</td>\n",
       "      <td>-0.484033</td>\n",
       "      <td>-0.405662</td>\n",
       "      <td>0.292934</td>\n",
       "      <td>0.567782</td>\n",
       "      <td>-0.063659</td>\n",
       "      <td>0.067415</td>\n",
       "      <td>0</td>\n",
       "    </tr>\n",
       "    <tr>\n",
       "      <th>105951</th>\n",
       "      <td>0.027248</td>\n",
       "      <td>-0.175437</td>\n",
       "      <td>-1.274193</td>\n",
       "      <td>-0.329234</td>\n",
       "      <td>0.670734</td>\n",
       "      <td>-1.599421</td>\n",
       "      <td>0.314414</td>\n",
       "      <td>-1.007401</td>\n",
       "      <td>0.009380</td>\n",
       "      <td>-0.018684</td>\n",
       "      <td>...</td>\n",
       "      <td>-0.518258</td>\n",
       "      <td>-0.338427</td>\n",
       "      <td>-0.587767</td>\n",
       "      <td>-0.450171</td>\n",
       "      <td>-0.382930</td>\n",
       "      <td>-0.255791</td>\n",
       "      <td>0.868610</td>\n",
       "      <td>-0.253266</td>\n",
       "      <td>-0.386192</td>\n",
       "      <td>0</td>\n",
       "    </tr>\n",
       "    <tr>\n",
       "      <th>266778</th>\n",
       "      <td>-0.305736</td>\n",
       "      <td>0.913885</td>\n",
       "      <td>1.940635</td>\n",
       "      <td>-0.251571</td>\n",
       "      <td>-0.174244</td>\n",
       "      <td>0.346788</td>\n",
       "      <td>-0.581502</td>\n",
       "      <td>-0.374786</td>\n",
       "      <td>-0.507784</td>\n",
       "      <td>0.022112</td>\n",
       "      <td>...</td>\n",
       "      <td>-0.176776</td>\n",
       "      <td>-0.109857</td>\n",
       "      <td>-0.127777</td>\n",
       "      <td>0.371804</td>\n",
       "      <td>-0.000042</td>\n",
       "      <td>-0.448861</td>\n",
       "      <td>-0.644381</td>\n",
       "      <td>0.042471</td>\n",
       "      <td>-0.039621</td>\n",
       "      <td>0</td>\n",
       "    </tr>\n",
       "  </tbody>\n",
       "</table>\n",
       "<p>5 rows × 31 columns</p>\n",
       "</div>"
      ],
      "text/plain": [
       "        scaled_amount  scaled_time        V1        V2        V3        V4  \\\n",
       "101947       0.894152    -0.196219 -1.499531  1.185880  0.746692  1.467418   \n",
       "250466      -0.218822     0.825080 -0.290162 -1.022611 -0.201939 -2.927085   \n",
       "31937        4.736952    -0.565338  0.532084 -1.326245  0.463303  0.684487   \n",
       "105951       0.027248    -0.175437 -1.274193 -0.329234  0.670734 -1.599421   \n",
       "266778      -0.305736     0.913885  1.940635 -0.251571 -0.174244  0.346788   \n",
       "\n",
       "              V5        V6        V7        V8  ...       V20       V21  \\\n",
       "101947 -0.640523  0.159094  0.262293  0.812415  ... -0.200542  0.078559   \n",
       "250466  0.927172 -1.431642 -0.132883 -0.240548  ... -0.249457 -0.132131   \n",
       "31937  -0.945681  0.515196 -0.254550  0.122273  ...  0.695559  0.308925   \n",
       "105951  0.314414 -1.007401  0.009380 -0.018684  ... -0.518258 -0.338427   \n",
       "266778 -0.581502 -0.374786 -0.507784  0.022112  ... -0.176776 -0.109857   \n",
       "\n",
       "             V22       V23       V24       V25       V26       V27       V28  \\\n",
       "101947  0.209617  0.034829  0.113896  0.206366 -0.195466 -0.147906 -0.139812   \n",
       "250466 -0.294267  0.236242  0.416841 -0.817136 -0.581152  0.167493  0.242205   \n",
       "31937   0.238203 -0.484033 -0.405662  0.292934  0.567782 -0.063659  0.067415   \n",
       "105951 -0.587767 -0.450171 -0.382930 -0.255791  0.868610 -0.253266 -0.386192   \n",
       "266778 -0.127777  0.371804 -0.000042 -0.448861 -0.644381  0.042471 -0.039621   \n",
       "\n",
       "        Class  \n",
       "101947      0  \n",
       "250466      0  \n",
       "31937       0  \n",
       "105951      0  \n",
       "266778      0  \n",
       "\n",
       "[5 rows x 31 columns]"
      ]
     },
     "execution_count": 8,
     "metadata": {},
     "output_type": "execute_result"
    }
   ],
   "source": [
    "std_scaler = StandardScaler()\n",
    "rob_scaler = RobustScaler()\n",
    "\n",
    "data['scaled_amount'] = rob_scaler.fit_transform(data['Amount'].values.reshape(-1,1))\n",
    "data['scaled_time'] = rob_scaler.fit_transform(data['Time'].values.reshape(-1,1))\n",
    "data.drop(['Time','Amount'], axis=1, inplace=True)\n",
    "\n",
    "scaled_amount = data['scaled_amount']\n",
    "scaled_time = data['scaled_time']\n",
    "\n",
    "data.drop(['scaled_amount', 'scaled_time'], axis=1, inplace=True)\n",
    "data.insert(0, 'scaled_amount', scaled_amount)\n",
    "data.insert(1, 'scaled_time', scaled_time)\n",
    "\n",
    "data.head()\n",
    "\n",
    "data = data.sample(frac=1)\n",
    "\n",
    "# amount of fraud classes 492 rows.\n",
    "fraud_data = data.loc[data['Class'] == 1]\n",
    "non_fraud_data = data.loc[data['Class'] == 0]\n",
    "\n",
    "normal_distributed_data = pd.concat([fraud_data, non_fraud_data])\n",
    "\n",
    "# Shuffle dataframe rows\n",
    "new_data = normal_distributed_data.sample(frac=1, random_state=42)\n",
    "\n",
    "new_data.head()"
   ]
  },
  {
   "cell_type": "code",
   "execution_count": 50,
   "metadata": {},
   "outputs": [
    {
     "name": "stderr",
     "output_type": "stream",
     "text": [
      "C:\\Users\\nomif\\Anaconda3\\lib\\site-packages\\sklearn\\utils\\validation.py:744: DataConversionWarning: A column-vector y was passed when a 1d array was expected. Please change the shape of y to (n_samples, ), for example using ravel().\n",
      "  y = column_or_1d(y, warn=True)\n"
     ]
    }
   ],
   "source": [
    "#Using SMOTE\n",
    "\n",
    "dataSmote=np.array(data.drop(\"Class\",axis=1))\n",
    "y=np.array(data[['Class']])\n",
    "smt=SMOTE()\n",
    "dataSmote,y=smt.fit_sample(dataSmote,y)\n",
    "dataSmote=pd.DataFrame(dataSmote)\n",
    "y=pd.DataFrame(y)\n",
    "dataSmote['Class']=y\n",
    "dataSmote=dataSmote.sample(frac=1)\n",
    "dataSmote.columns=list(data.columns)"
   ]
  },
  {
   "cell_type": "code",
   "execution_count": 59,
   "metadata": {},
   "outputs": [
    {
     "data": {
      "text/plain": [
       "Text(0.5, 1.0, 'Fraud Distribution SMOTE')"
      ]
     },
     "execution_count": 59,
     "metadata": {},
     "output_type": "execute_result"
    },
    {
     "data": {
      "image/png": "[encoded data removed]",
      "text/plain": [
       "<Figure size 1440x432 with 2 Axes>"
      ]
     },
     "metadata": {
      "needs_background": "light"
     },
     "output_type": "display_data"
    }
   ],
   "source": [
    "f, axes = plt.subplots(ncols=2, figsize=(20,6))\n",
    "\n",
    "sb.countplot('Class',data=data,ax=axes[0])\n",
    "axes[0].set_title('Fraud Distribution Original')\n",
    "\n",
    "sb.countplot('Class',data=dataSmote,ax=axes[1])\n",
    "axes[1].set_title('Fraud Distribution SMOTE')"
   ]
  },
  {
   "cell_type": "code",
   "execution_count": 67,
   "metadata": {},
   "outputs": [
    {
     "data": {
      "text/plain": [
       "Text(0.5, 1.0, 'V10 vs Class Negative Correlation SMOTE')"
      ]
     },
     "execution_count": 67,
     "metadata": {},
     "output_type": "execute_result"
    },
    {
     "data": {
      "image/png": "[encoded data removed]",
      "text/plain": [
       "<Figure size 1440x1152 with 8 Axes>"
      ]
     },
     "metadata": {
      "needs_background": "light"
     },
     "output_type": "display_data"
    }
   ],
   "source": [
    "f, axes = plt.subplots(nrows=2,ncols=4, figsize=(20,16))\n",
    "sb.boxplot(x=\"Class\", y=\"V17\", data=data,ax=axes[0,0])\n",
    "axes[0,0].set_title('V17 vs Class Negative Correlation Original')\n",
    "\n",
    "sb.boxplot(x=\"Class\", y=\"V14\", data=data,ax=axes[0,1])\n",
    "axes[0,1].set_title('V14 vs Class Negative Correlation Original')\n",
    "\n",
    "sb.boxplot(x=\"Class\", y=\"V12\", data=data,ax=axes[0,2])\n",
    "axes[0,2].set_title('V12 vs Class Negative Correlation Original')\n",
    "\n",
    "sb.boxplot(x=\"Class\", y=\"V10\", data=data,ax=axes[0,3])\n",
    "axes[0,3].set_title('V10 vs Class Negative Correlation Original')\n",
    "\n",
    "sb.boxplot(x=\"Class\", y=\"V17\", data=x,ax=axes[1,0])\n",
    "axes[1,0].set_title('V17 vs Class Negative Correlation SMOTE')\n",
    "\n",
    "sb.boxplot(x=\"Class\", y=\"V14\", data=x,ax=axes[1,1])\n",
    "axes[1,1].set_title('V14 vs Class Negative Correlation SMOTE')\n",
    "\n",
    "sb.boxplot(x=\"Class\", y=\"V12\", data=x,ax=axes[1,2])\n",
    "axes[1,2].set_title('V12 vs Class Negative Correlation SMOTE')\n",
    "\n",
    "sb.boxplot(x=\"Class\", y=\"V10\", data=x,ax=axes[1,3])\n",
    "axes[1,3].set_title('V10 vs Class Negative Correlation SMOTE')\n",
    "\n"
   ]
  },
  {
   "cell_type": "code",
   "execution_count": 68,
   "metadata": {},
   "outputs": [
    {
     "data": {
      "text/plain": [
       "Text(0.5, 1.0, 'V2 vs Class Positive Correlation SMOTE')"
      ]
     },
     "execution_count": 68,
     "metadata": {},
     "output_type": "execute_result"
    },
    {
     "data": {
      "image/png": "[encoded data removed]",
      "text/plain": [
       "<Figure size 1440x1152 with 8 Axes>"
      ]
     },
     "metadata": {
      "needs_background": "light"
     },
     "output_type": "display_data"
    }
   ],
   "source": [
    "f, axes = plt.subplots(nrows=2,ncols=4, figsize=(20,16))\n",
    "sb.boxplot(x=\"Class\", y=\"V11\", data=data,ax=axes[0,0])\n",
    "axes[0,0].set_title('V11 vs Class Positive Correlation Original')\n",
    "\n",
    "sb.boxplot(x=\"Class\", y=\"V9\", data=data,ax=axes[0,1])\n",
    "axes[0,1].set_title('V9 vs Class Positive Correlation Original')\n",
    "\n",
    "sb.boxplot(x=\"Class\", y=\"V4\", data=data,ax=axes[0,2])\n",
    "axes[0,2].set_title('V4 vs Class Positive Correlation Original')\n",
    "\n",
    "sb.boxplot(x=\"Class\", y=\"V2\", data=data,ax=axes[0,3])\n",
    "axes[0,3].set_title('V2 vs Class Positive Correlation Original')\n",
    "\n",
    "sb.boxplot(x=\"Class\", y=\"V11\", data=x,ax=axes[1,0])\n",
    "axes[1,0].set_title('V11 vs Class Positive Correlation SMOTE')\n",
    "\n",
    "sb.boxplot(x=\"Class\", y=\"V9\", data=x,ax=axes[1,1])\n",
    "axes[1,1].set_title('V9 vs Class Positive Correlation SMOTE')\n",
    "\n",
    "sb.boxplot(x=\"Class\", y=\"V4\", data=x,ax=axes[1,2])\n",
    "axes[1,2].set_title('V4 vs Class Positive Correlation SMOTE')\n",
    "\n",
    "sb.boxplot(x=\"Class\", y=\"V2\", data=x,ax=axes[1,3])\n",
    "axes[1,3].set_title('V2 vs Class Positive Correlation SMOTE')"
   ]
  },
  {
   "cell_type": "markdown",
   "metadata": {},
   "source": [
    "# Network"
   ]
  },
  {
   "cell_type": "code",
   "execution_count": null,
   "metadata": {},
   "outputs": [],
   "source": [
    "results=[]"
   ]
  },
  {
   "cell_type": "code",
   "execution_count": 219,
   "metadata": {},
   "outputs": [],
   "source": [
    "datum=Data(dataSmote)\n",
    "\n",
    "Data_Global=datum.sample(0,0.1)\n",
    "Data_Model_1A=datum.sample(0.1,0.3)\n",
    "Data_Model_2A=datum.sample(0.3,0.45)\n",
    "Data_Model_3A=datum.sample(0.45,50)\n",
    "Data_Model_1B=datum.sample(0.50,70)\n",
    "Data_Model_2B=datum.sample(0.70,85)\n",
    "Data_Model_3B=datum.sample(0.85,90)\n",
    "Data_Test=datum.sample(0.90,1)"
   ]
  },
  {
   "cell_type": "code",
   "execution_count": 221,
   "metadata": {},
   "outputs": [
    {
     "name": "stdout",
     "output_type": "stream",
     "text": [
      "Train on 40941 samples, validate on 4549 samples\n",
      "Epoch 1/5\n",
      "40941/40941 [==============================] - 10s 233us/step - loss: 0.2488 - acc: 0.9381 - val_loss: 0.1142 - val_acc: 0.9666\n",
      "Epoch 2/5\n",
      "40941/40941 [==============================] - 6s 135us/step - loss: 0.1042 - acc: 0.9687 - val_loss: 0.0756 - val_acc: 0.9782\n",
      "Epoch 3/5\n",
      "40941/40941 [==============================] - 5s 117us/step - loss: 0.0764 - acc: 0.9789 - val_loss: 0.0623 - val_acc: 0.9866\n",
      "Epoch 4/5\n",
      "40941/40941 [==============================] - 5s 120us/step - loss: 0.0638 - acc: 0.9844 - val_loss: 0.0548 - val_acc: 0.9862\n",
      "Epoch 5/5\n",
      "40941/40941 [==============================] - 5s 127us/step - loss: 0.0580 - acc: 0.9863 - val_loss: 0.0422 - val_acc: 0.9930\n",
      "11373/11373 [==============================] - 1s 88us/step\n",
      "Saved model to disk\n"
     ]
    }
   ],
   "source": [
    "GlobalBank=Bank(Data_Global,0.2)\n",
    "GlobalBank.run(GlobalBank.X_train, GlobalBank.Y_train,load=False)\n",
    "\n",
    "results.append(GlobalBank.evaluate(GlobalBank.X_test,GlobalBank.Y_test))\n",
    "\n",
    "GlobalBank.saveModel()\n"
   ]
  },
  {
   "cell_type": "code",
   "execution_count": 222,
   "metadata": {
    "scrolled": true
   },
   "outputs": [
    {
     "name": "stdout",
     "output_type": "stream",
     "text": [
      "Loaded model from disk\n",
      "Train on 81882 samples, validate on 9098 samples\n",
      "Epoch 1/5\n",
      "81882/81882 [==============================] - 14s 169us/step - loss: 0.0547 - acc: 0.9873 - val_loss: 0.0448 - val_acc: 0.9920\n",
      "Epoch 2/5\n",
      "81882/81882 [==============================] - 10s 127us/step - loss: 0.0534 - acc: 0.9888 - val_loss: 0.0405 - val_acc: 0.9945\n",
      "Epoch 3/5\n",
      "81882/81882 [==============================] - 14s 168us/step - loss: 0.0528 - acc: 0.9887 - val_loss: 0.0454 - val_acc: 0.9932\n",
      "Epoch 4/5\n",
      "81882/81882 [==============================] - 13s 164us/step - loss: 0.0517 - acc: 0.9893 - val_loss: 0.0406 - val_acc: 0.9938\n",
      "Epoch 5/5\n",
      "81882/81882 [==============================] - 12s 141us/step - loss: 0.0515 - acc: 0.9893 - val_loss: 0.0432 - val_acc: 0.9922\n",
      "Loaded model from disk\n",
      "Train on 61411 samples, validate on 6824 samples\n",
      "Epoch 1/5\n",
      "61411/61411 [==============================] - 5s 77us/step - loss: 0.0553 - acc: 0.9871 - val_loss: 0.0450 - val_acc: 0.9918\n",
      "Epoch 2/5\n",
      "61411/61411 [==============================] - 3s 44us/step - loss: 0.0532 - acc: 0.9880 - val_loss: 0.0442 - val_acc: 0.9915\n",
      "Epoch 3/5\n",
      "61411/61411 [==============================] - 3s 44us/step - loss: 0.0542 - acc: 0.9882 - val_loss: 0.0413 - val_acc: 0.9941\n",
      "Epoch 4/5\n",
      "61411/61411 [==============================] - 3s 44us/step - loss: 0.0524 - acc: 0.9888 - val_loss: 0.0436 - val_acc: 0.9909\n",
      "Epoch 5/5\n",
      "61411/61411 [==============================] - 3s 44us/step - loss: 0.0510 - acc: 0.9893 - val_loss: 0.0439 - val_acc: 0.9916\n",
      "Loaded model from disk\n",
      "Train on 225177 samples, validate on 25020 samples\n",
      "Epoch 1/5\n",
      "225177/225177 [==============================] - 13s 57us/step - loss: 0.0542 - acc: 0.9878 - val_loss: 0.0433 - val_acc: 0.9912\n",
      "Epoch 2/5\n",
      "225177/225177 [==============================] - 12s 51us/step - loss: 0.0521 - acc: 0.9889 - val_loss: 0.0372 - val_acc: 0.9950\n",
      "Epoch 3/5\n",
      "225177/225177 [==============================] - 11s 49us/step - loss: 0.0509 - acc: 0.9896 - val_loss: 0.0376 - val_acc: 0.9944\n",
      "Epoch 4/5\n",
      "225177/225177 [==============================] - 11s 50us/step - loss: 0.0507 - acc: 0.9898 - val_loss: 0.0400 - val_acc: 0.9943\n",
      "Epoch 5/5\n",
      "225177/225177 [==============================] - 11s 47us/step - loss: 0.0502 - acc: 0.9900 - val_loss: 0.0406 - val_acc: 0.9928: 0.0502 - acc: 0\n",
      "Saved model to disk\n"
     ]
    }
   ],
   "source": [
    "delta=np.array(GlobalBank.getWeights())\n",
    "\n",
    "Bank1=Bank(Data_Model_1A,0.2)\n",
    "Bank1.run(Bank1.X_train,Bank1.Y_train)\n",
    "\n",
    "Bank2=Bank(Data_Model_2A,0.2)\n",
    "Bank2.run(Bank2.X_train,Bank2.Y_train)\n",
    "\n",
    "Bank3=Bank(Data_Model_3A,0.2)\n",
    "Bank3.run(Bank3.X_train,Bank3.Y_train)\n",
    "\n",
    "temp=(0.55*np.array(Bank1.getWeights())+0.35*np.array(Bank2.getWeights())+0.10*np.array(Bank3.getWeights()))\n",
    "temp-=delta\n",
    "delta+=temp\n",
    "\n",
    "GlobalBank.setWeights(delta)\n",
    "GlobalBank.saveModel()"
   ]
  },
  {
   "cell_type": "code",
   "execution_count": 223,
   "metadata": {
    "collapsed": true
   },
   "outputs": [
    {
     "name": "stdout",
     "output_type": "stream",
     "text": [
      "22746/22746 [==============================] - 1s 24us/step\n",
      "17059/17059 [==============================] - 0s 23us/step\n",
      "62550/62550 [==============================] - 1s 23us/step\n",
      "11373/11373 [==============================] - 0s 24us/step\n"
     ]
    }
   ],
   "source": [
    "results.append(Bank1.evaluate(Bank1.X_test,Bank1.Y_test))\n",
    "results.append(Bank2.evaluate(Bank2.X_test,Bank2.Y_test))\n",
    "results.append(Bank3.evaluate(Bank3.X_test,Bank3.Y_test))\n",
    "results.append(GlobalBank.evaluate(GlobalBank.X_test,GlobalBank.Y_test))"
   ]
  },
  {
   "cell_type": "code",
   "execution_count": 224,
   "metadata": {
    "collapsed": true
   },
   "outputs": [
    {
     "name": "stdout",
     "output_type": "stream",
     "text": [
      "Loaded model from disk\n",
      "Train on 204706 samples, validate on 22746 samples\n",
      "Epoch 1/5\n",
      "204706/204706 [==============================] - 11s 55us/step - loss: 0.0508 - acc: 0.9889 - val_loss: 0.0388 - val_acc: 0.9944\n",
      "Epoch 2/5\n",
      "204706/204706 [==============================] - 9s 46us/step - loss: 0.0512 - acc: 0.9893 - val_loss: 0.0351 - val_acc: 0.9956\n",
      "Epoch 3/5\n",
      "204706/204706 [==============================] - 9s 45us/step - loss: 0.0515 - acc: 0.9892 - val_loss: 0.0405 - val_acc: 0.9934\n",
      "Epoch 4/5\n",
      "204706/204706 [==============================] - 9s 46us/step - loss: 0.0512 - acc: 0.9895 - val_loss: 0.0398 - val_acc: 0.9936\n",
      "Epoch 5/5\n",
      "204706/204706 [==============================] - 10s 47us/step - loss: 0.0513 - acc: 0.9894 - val_loss: 0.0410 - val_acc: 0.9937\n",
      "Loaded model from disk\n",
      "Train on 122823 samples, validate on 13648 samples\n",
      "Epoch 1/5\n",
      "122823/122823 [==============================] - 8s 62us/step - loss: 0.0512 - acc: 0.9884 - val_loss: 0.0453 - val_acc: 0.9919\n",
      "Epoch 2/5\n",
      "122823/122823 [==============================] - 6s 46us/step - loss: 0.0510 - acc: 0.9894 - val_loss: 0.0427 - val_acc: 0.9929\n",
      "Epoch 3/5\n",
      "122823/122823 [==============================] - 6s 50us/step - loss: 0.0509 - acc: 0.9893 - val_loss: 0.0526 - val_acc: 0.9882\n",
      "Epoch 4/5\n",
      "122823/122823 [==============================] - 6s 50us/step - loss: 0.0507 - acc: 0.9901 - val_loss: 0.0409 - val_acc: 0.9932\n",
      "Epoch 5/5\n",
      "122823/122823 [==============================] - 6s 47us/step - loss: 0.0505 - acc: 0.9900 - val_loss: 0.0395 - val_acc: 0.9949\n",
      "Loaded model from disk\n",
      "Train on 61412 samples, validate on 6824 samples\n",
      "Epoch 1/5\n",
      "61412/61412 [==============================] - 5s 85us/step - loss: 0.0497 - acc: 0.9880 - val_loss: 0.0553 - val_acc: 0.9859\n",
      "Epoch 2/5\n",
      "61412/61412 [==============================] - 3s 49us/step - loss: 0.0509 - acc: 0.9887 - val_loss: 0.0406 - val_acc: 0.9937\n",
      "Epoch 3/5\n",
      "61412/61412 [==============================] - 3s 51us/step - loss: 0.0497 - acc: 0.9893 - val_loss: 0.0418 - val_acc: 0.9930\n",
      "Epoch 4/5\n",
      "61412/61412 [==============================] - 3s 53us/step - loss: 0.0505 - acc: 0.9900 - val_loss: 0.0379 - val_acc: 0.9946\n",
      "Epoch 5/5\n",
      "61412/61412 [==============================] - 3s 48us/step - loss: 0.0494 - acc: 0.9899 - val_loss: 0.0366 - val_acc: 0.9944\n",
      "Saved model to disk\n"
     ]
    }
   ],
   "source": [
    "delta=np.array(GlobalBank.getWeights())\n",
    "\n",
    "Bank1.setData(Data_Model_1B,0.2)\n",
    "Bank1.run(Bank1.X_train,Bank1.Y_train)\n",
    "\n",
    "Bank2.setData(Data_Model_2B,0.2)\n",
    "Bank2.run(Bank2.X_train,Bank2.Y_train)\n",
    "\n",
    "Bank3.setData(Data_Model_3B,0.2)\n",
    "Bank3.run(Bank3.X_train,Bank3.Y_train)\n",
    "\n",
    "\n",
    "\n",
    "temp=(0.55*np.array(Bank1.getWeights())+0.35*np.array(Bank2.getWeights())+0.10*np.array(Bank3.getWeights()))\n",
    "\n",
    "temp-=delta\n",
    "\n",
    "delta+=temp\n",
    "\n",
    "GlobalBank.setWeights(delta)\n",
    "GlobalBank.saveModel()"
   ]
  },
  {
   "cell_type": "code",
   "execution_count": 225,
   "metadata": {},
   "outputs": [
    {
     "name": "stdout",
     "output_type": "stream",
     "text": [
      "56863/56863 [==============================] - 1s 25us/step\n",
      "34118/34118 [==============================] - 1s 31us/step\n",
      "17059/17059 [==============================] - 1s 29us/step\n"
     ]
    }
   ],
   "source": [
    "results.append(Bank1.evaluate(Bank1.X_test,Bank1.Y_test))\n",
    "results.append(Bank2.evaluate(Bank2.X_test,Bank2.Y_test))\n",
    "results.append(Bank3.evaluate(Bank3.X_test,Bank3.Y_test))"
   ]
  },
  {
   "cell_type": "code",
   "execution_count": 226,
   "metadata": {},
   "outputs": [
    {
     "name": "stdout",
     "output_type": "stream",
     "text": [
      "51177/51177 [==============================] - 2s 30us/step\n"
     ]
    }
   ],
   "source": [
    "GlobalBank.setData(Data_Test,0.9)\n",
    "results.append(GlobalBank.evaluate(GlobalBank.X_test,GlobalBank.Y_test))"
   ]
  },
  {
   "cell_type": "markdown",
   "metadata": {},
   "source": [
    "# Analysis"
   ]
  },
  {
   "cell_type": "code",
   "execution_count": 68,
   "metadata": {},
   "outputs": [
    {
     "data": {
      "text/plain": [
       "[<matplotlib.lines.Line2D at 0x15d882fa630>]"
      ]
     },
     "execution_count": 68,
     "metadata": {},
     "output_type": "execute_result"
    },
    {
     "data": {
      "image/png": "[encoded data removed]",
      "text/plain": [
       "<Figure size 432x288 with 1 Axes>"
      ]
     },
     "metadata": {
      "needs_background": "light"
     },
     "output_type": "display_data"
    }
   ],
   "source": [
    "plt.plot(results)"
   ]
  },
  {
   "cell_type": "code",
   "execution_count": 229,
   "metadata": {},
   "outputs": [
    {
     "data": {
      "text/plain": [
       "<matplotlib.axes._subplots.AxesSubplot at 0x15d8cab0828>"
      ]
     },
     "execution_count": 229,
     "metadata": {},
     "output_type": "execute_result"
    },
    {
     "data": {
      "image/png": "[encoded data removed]",
      "text/plain": [
       "<Figure size 432x288 with 2 Axes>"
      ]
     },
     "metadata": {
      "needs_background": "light"
     },
     "output_type": "display_data"
    }
   ],
   "source": [
    "y_pred=GlobalBank.predict(GlobalBank.X_test)\n",
    "for i in range(len(y_pred)):\n",
    "    if(y_pred[i]>0.5):\n",
    "        y_pred[i]=1\n",
    "    else:\n",
    "        y_pred[i]=0\n",
    "y_test=np.array(GlobalBank.Y_test)\n",
    "sb.heatmap(confusion_matrix(y_test,y_pred),annot=True)"
   ]
  },
  {
   "cell_type": "code",
   "execution_count": 1,
   "metadata": {},
   "outputs": [],
   "source": [
    "# False Neagtive accuracy w/o smote = 4.5 pc\n",
    "# False Neagtive accuracy w smote = 5.855600882243866e-05\n"
   ]
  },
  {
   "cell_type": "code",
   "execution_count": null,
   "metadata": {},
   "outputs": [],
   "source": []
  }
 ],
 "metadata": {
  "kernelspec": {
   "display_name": "Python 3",
   "language": "python",
   "name": "python3"
  },
  "language_info": {
   "codemirror_mode": {
    "name": "ipython",
    "version": 3
   },
   "file_extension": ".py",
   "mimetype": "text/x-python",
   "name": "python",
   "nbconvert_exporter": "python",
   "pygments_lexer": "ipython3",
   "version": "3.7.3"
  }
 },
 "nbformat": 4,
 "nbformat_minor": 2
}
