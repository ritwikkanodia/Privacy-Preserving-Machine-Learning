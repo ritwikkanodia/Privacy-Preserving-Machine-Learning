{
 "cells": [
  {
   "cell_type": "code",
   "execution_count": null,
   "metadata": {},
   "outputs": [],
   "source": [
    "#Custom Loss function"
   ]
  },
  {
   "cell_type": "code",
   "execution_count": null,
   "metadata": {},
   "outputs": [],
   "source": [
    "!pip uninstall tensorflow-addons"
   ]
  },
  {
   "cell_type": "code",
   "execution_count": 71,
   "metadata": {},
   "outputs": [
    {
     "name": "stderr",
     "output_type": "stream",
     "text": [
      "ERROR: Could not find a version that satisfies the requirement tensorflow-addons==0.6.0 (from versions: 0.7.0)\n",
      "ERROR: No matching distribution found for tensorflow-addons==0.6.0\n"
     ]
    }
   ],
   "source": [
    "!pip install tensorflow-addons==0.6.0 --user"
   ]
  },
  {
   "cell_type": "code",
   "execution_count": 69,
   "metadata": {},
   "outputs": [
    {
     "name": "stdout",
     "output_type": "stream",
     "text": [
      "Collecting tensorflow_federated\n",
      "  Using cached https://files.pythonhosted.org/packages/36/44/8ae10138714eb3caa19c7b6fd7a60f120cf85cb8478478290f019814db17/tensorflow_federated-0.11.0-py2.py3-none-any.whl\n",
      "Requirement already satisfied: h5py~=2.6 in c:\\users\\nomif\\appdata\\local\\continuum\\anaconda3\\envs\\privacy\\lib\\site-packages (from tensorflow_federated) (2.10.0)\n",
      "Requirement already satisfied: six~=1.10 in c:\\users\\nomif\\appdata\\local\\continuum\\anaconda3\\envs\\privacy\\lib\\site-packages (from tensorflow_federated) (1.14.0)\n",
      "Collecting cachetools~=3.1.1\n",
      "  Downloading https://files.pythonhosted.org/packages/2f/a6/30b0a0bef12283e83e58c1d6e7b5aabc7acfc4110df81a4471655d33e704/cachetools-3.1.1-py2.py3-none-any.whl\n",
      "Collecting tensorflow-model-optimization~=0.1.3\n",
      "  Downloading https://files.pythonhosted.org/packages/02/f9/6eba3e5c5bbee217d33a9babeb609bf5077381401da44fb966b4d3e3cb4d/tensorflow_model_optimization-0.1.3-py2.py3-none-any.whl (81kB)\n",
      "Collecting retrying~=1.3.3\n",
      "  Downloading https://files.pythonhosted.org/packages/44/ef/beae4b4ef80902f22e3af073397f079c96969c69b2c7d52a57ea9ae61c9d/retrying-1.3.3.tar.gz\n",
      "Collecting tensorflow~=2.0.0\n",
      "  Downloading https://files.pythonhosted.org/packages/54/5f/e1b2d83b808f978f51b7ce109315154da3a3d4151aa59686002681f2e109/tensorflow-2.0.0-cp37-cp37m-win_amd64.whl (48.1MB)\n",
      "Collecting attrs~=18.2\n",
      "  Using cached https://files.pythonhosted.org/packages/3a/e1/5f9023cc983f1a628a8c2fd051ad19e76ff7b142a0faf329336f9a62a514/attrs-18.2.0-py2.py3-none-any.whl\n",
      "Requirement already satisfied: numpy~=1.14 in c:\\users\\nomif\\appdata\\local\\continuum\\anaconda3\\envs\\privacy\\lib\\site-packages (from tensorflow_federated) (1.18.1)\n"
     ]
    },
    {
     "name": "stderr",
     "output_type": "stream",
     "text": [
      "ERROR: Could not find a version that satisfies the requirement tensorflow-addons~=0.6.0 (from tensorflow_federated) (from versions: 0.7.0)\n",
      "ERROR: No matching distribution found for tensorflow-addons~=0.6.0 (from tensorflow_federated)\n"
     ]
    }
   ],
   "source": [
    "!pip install tensorflow_federated --user"
   ]
  },
  {
   "cell_type": "code",
   "execution_count": 6,
   "metadata": {
    "scrolled": true
   },
   "outputs": [],
   "source": [
    "import tensorflow as tf\n",
    "from tensorflow import keras\n",
    "from keras.models import Sequential\n",
    "from keras.layers.core import Dense, Dropout, Activation,Flatten\n",
    "from keras import regularizers\n",
    "\n",
    "import pandas as pd\n",
    "import numpy as np\n",
    "import seaborn as sb\n",
    "import matplotlib.pyplot as plt\n",
    "from scipy import stats\n",
    "\n",
    "from sklearn.model_selection import train_test_split\n",
    "from sklearn.preprocessing import StandardScaler, RobustScaler\n",
    "from sklearn import metrics\n",
    "from keras.models import model_from_json\n",
    "\n"
   ]
  },
  {
   "cell_type": "code",
   "execution_count": 8,
   "metadata": {},
   "outputs": [],
   "source": [
    "from sklearn.metrics import confusion_matrix\n",
    "from imblearn.over_sampling import SMOTE"
   ]
  },
  {
   "cell_type": "markdown",
   "metadata": {},
   "source": [
    "# Class definitons"
   ]
  },
  {
   "cell_type": "code",
   "execution_count": 9,
   "metadata": {},
   "outputs": [],
   "source": [
    "class Data():\n",
    "    \n",
    "    def __init__(self,data):\n",
    "        self.data=data\n",
    "        \n",
    "    def sample(self,start,end):\n",
    "        size=len(self.data)\n",
    "        return self.data[int(size*start):int(size*end)]"
   ]
  },
  {
   "cell_type": "code",
   "execution_count": 10,
   "metadata": {},
   "outputs": [],
   "source": [
    "class Model():\n",
    "    \n",
    "    def __init__(self):\n",
    "        self.input_shape=(30,)\n",
    "        self.model = Sequential()\n",
    "        self.model.add(Dense(32, activation='relu',input_shape=self.input_shape,kernel_regularizer=regularizers.l2(0.01))) \n",
    "        self.model.add(Dropout(0.2))\n",
    "        self.model.add(Dense(16, activation='relu'))\n",
    "        self.model.add(Dropout(0.1))\n",
    "        self.model.add(Dense(8, activation='relu'))\n",
    "        self.model.add(Dense(1, activation='sigmoid'))\n",
    "        self.model.compile(optimizer='adam',   #rmsprop\n",
    "                      loss='binary_crossentropy',\n",
    "                      metrics=['accuracy'])\n",
    "\n",
    "    \n",
    "    def saveModel(self):\n",
    "        model_json = self.model.to_json()\n",
    "        with open(\"model.json\", \"w\") as json_file:\n",
    "            json_file.write(model_json)\n",
    "        # serialize weights to HDF5\n",
    "        self.model.save_weights(\"model.h5\")\n",
    "        print(\"Saved model to disk\")\n",
    "        \n",
    "    def loadModel(self):\n",
    "        json_file = open('model.json', 'r')\n",
    "        loaded_model_json = json_file.read()\n",
    "        json_file.close()\n",
    "        loaded_model = model_from_json(loaded_model_json)\n",
    "        # load weights into new model\n",
    "        loaded_model.load_weights(\"model.h5\")\n",
    "        print(\"Loaded model from disk\")\n",
    "        loaded_model.compile(optimizer='adam',loss='binary_crossentropy',metrics=['accuracy'])\n",
    "        return loaded_model    \n",
    "    \n",
    "\n",
    "    def run(self,X,Y,validation_split=0.1,load=True):\n",
    "        if(load):\n",
    "            self.model=self.loadModel()\n",
    "        self.model.fit(X,Y,epochs=5,validation_split=validation_split, verbose=1)\n",
    "        \n",
    "    def evaluate(self,X,Y):\n",
    "        return self.model.evaluate(X,Y)[1]*100\n",
    "    \n",
    "    def loss(self,X,Y):\n",
    "        return self.model.evaluate(X,Y)[0]\n",
    "    \n",
    "    def predict(self,X):\n",
    "        return self.model.predict(X)\n",
    "        \n",
    "    \n",
    "    def getWeights(self):\n",
    "        return self.model.get_weights()\n",
    "    \n",
    "    def setWeights(self,weight):\n",
    "        self.model.set_weights(weight)\n"
   ]
  },
  {
   "cell_type": "code",
   "execution_count": 11,
   "metadata": {},
   "outputs": [],
   "source": [
    "class Bank(Model):\n",
    "    \n",
    "    def __init__(self,data,split_size=0):\n",
    "        super().__init__()\n",
    "        self.data=data\n",
    "        self.split(split_size)\n",
    "    \n",
    "    def setData(self,data,split_size=0):\n",
    "        self.data=data\n",
    "        self.split(split_size)\n",
    "    \n",
    "    def split(self,split_size):\n",
    "        X=self.data.copy()\n",
    "        X.drop(['Class'],axis=1,inplace=True)\n",
    "        Y=self.data[['Class']]\n",
    "        self.X_train, self.X_test, self.Y_train, self.Y_test = train_test_split(X, Y, test_size=split_size)"
   ]
  },
  {
   "cell_type": "markdown",
   "metadata": {},
   "source": [
    "# EDA"
   ]
  },
  {
   "cell_type": "code",
   "execution_count": 12,
   "metadata": {},
   "outputs": [
    {
     "data": {
      "text/html": [
       "<div>\n",
       "<style scoped>\n",
       "    .dataframe tbody tr th:only-of-type {\n",
       "        vertical-align: middle;\n",
       "    }\n",
       "\n",
       "    .dataframe tbody tr th {\n",
       "        vertical-align: top;\n",
       "    }\n",
       "\n",
       "    .dataframe thead th {\n",
       "        text-align: right;\n",
       "    }\n",
       "</style>\n",
       "<table border=\"1\" class=\"dataframe\">\n",
       "  <thead>\n",
       "    <tr style=\"text-align: right;\">\n",
       "      <th></th>\n",
       "      <th>Time</th>\n",
       "      <th>V1</th>\n",
       "      <th>V2</th>\n",
       "      <th>V3</th>\n",
       "      <th>V4</th>\n",
       "      <th>V5</th>\n",
       "      <th>V6</th>\n",
       "      <th>V7</th>\n",
       "      <th>V8</th>\n",
       "      <th>V9</th>\n",
       "      <th>...</th>\n",
       "      <th>V21</th>\n",
       "      <th>V22</th>\n",
       "      <th>V23</th>\n",
       "      <th>V24</th>\n",
       "      <th>V25</th>\n",
       "      <th>V26</th>\n",
       "      <th>V27</th>\n",
       "      <th>V28</th>\n",
       "      <th>Amount</th>\n",
       "      <th>Class</th>\n",
       "    </tr>\n",
       "  </thead>\n",
       "  <tbody>\n",
       "    <tr>\n",
       "      <th>0</th>\n",
       "      <td>0.0</td>\n",
       "      <td>-1.359807</td>\n",
       "      <td>-0.072781</td>\n",
       "      <td>2.536347</td>\n",
       "      <td>1.378155</td>\n",
       "      <td>-0.338321</td>\n",
       "      <td>0.462388</td>\n",
       "      <td>0.239599</td>\n",
       "      <td>0.098698</td>\n",
       "      <td>0.363787</td>\n",
       "      <td>...</td>\n",
       "      <td>-0.018307</td>\n",
       "      <td>0.277838</td>\n",
       "      <td>-0.110474</td>\n",
       "      <td>0.066928</td>\n",
       "      <td>0.128539</td>\n",
       "      <td>-0.189115</td>\n",
       "      <td>0.133558</td>\n",
       "      <td>-0.021053</td>\n",
       "      <td>149.62</td>\n",
       "      <td>0</td>\n",
       "    </tr>\n",
       "    <tr>\n",
       "      <th>1</th>\n",
       "      <td>0.0</td>\n",
       "      <td>1.191857</td>\n",
       "      <td>0.266151</td>\n",
       "      <td>0.166480</td>\n",
       "      <td>0.448154</td>\n",
       "      <td>0.060018</td>\n",
       "      <td>-0.082361</td>\n",
       "      <td>-0.078803</td>\n",
       "      <td>0.085102</td>\n",
       "      <td>-0.255425</td>\n",
       "      <td>...</td>\n",
       "      <td>-0.225775</td>\n",
       "      <td>-0.638672</td>\n",
       "      <td>0.101288</td>\n",
       "      <td>-0.339846</td>\n",
       "      <td>0.167170</td>\n",
       "      <td>0.125895</td>\n",
       "      <td>-0.008983</td>\n",
       "      <td>0.014724</td>\n",
       "      <td>2.69</td>\n",
       "      <td>0</td>\n",
       "    </tr>\n",
       "    <tr>\n",
       "      <th>2</th>\n",
       "      <td>1.0</td>\n",
       "      <td>-1.358354</td>\n",
       "      <td>-1.340163</td>\n",
       "      <td>1.773209</td>\n",
       "      <td>0.379780</td>\n",
       "      <td>-0.503198</td>\n",
       "      <td>1.800499</td>\n",
       "      <td>0.791461</td>\n",
       "      <td>0.247676</td>\n",
       "      <td>-1.514654</td>\n",
       "      <td>...</td>\n",
       "      <td>0.247998</td>\n",
       "      <td>0.771679</td>\n",
       "      <td>0.909412</td>\n",
       "      <td>-0.689281</td>\n",
       "      <td>-0.327642</td>\n",
       "      <td>-0.139097</td>\n",
       "      <td>-0.055353</td>\n",
       "      <td>-0.059752</td>\n",
       "      <td>378.66</td>\n",
       "      <td>0</td>\n",
       "    </tr>\n",
       "    <tr>\n",
       "      <th>3</th>\n",
       "      <td>1.0</td>\n",
       "      <td>-0.966272</td>\n",
       "      <td>-0.185226</td>\n",
       "      <td>1.792993</td>\n",
       "      <td>-0.863291</td>\n",
       "      <td>-0.010309</td>\n",
       "      <td>1.247203</td>\n",
       "      <td>0.237609</td>\n",
       "      <td>0.377436</td>\n",
       "      <td>-1.387024</td>\n",
       "      <td>...</td>\n",
       "      <td>-0.108300</td>\n",
       "      <td>0.005274</td>\n",
       "      <td>-0.190321</td>\n",
       "      <td>-1.175575</td>\n",
       "      <td>0.647376</td>\n",
       "      <td>-0.221929</td>\n",
       "      <td>0.062723</td>\n",
       "      <td>0.061458</td>\n",
       "      <td>123.50</td>\n",
       "      <td>0</td>\n",
       "    </tr>\n",
       "    <tr>\n",
       "      <th>4</th>\n",
       "      <td>2.0</td>\n",
       "      <td>-1.158233</td>\n",
       "      <td>0.877737</td>\n",
       "      <td>1.548718</td>\n",
       "      <td>0.403034</td>\n",
       "      <td>-0.407193</td>\n",
       "      <td>0.095921</td>\n",
       "      <td>0.592941</td>\n",
       "      <td>-0.270533</td>\n",
       "      <td>0.817739</td>\n",
       "      <td>...</td>\n",
       "      <td>-0.009431</td>\n",
       "      <td>0.798278</td>\n",
       "      <td>-0.137458</td>\n",
       "      <td>0.141267</td>\n",
       "      <td>-0.206010</td>\n",
       "      <td>0.502292</td>\n",
       "      <td>0.219422</td>\n",
       "      <td>0.215153</td>\n",
       "      <td>69.99</td>\n",
       "      <td>0</td>\n",
       "    </tr>\n",
       "  </tbody>\n",
       "</table>\n",
       "<p>5 rows × 31 columns</p>\n",
       "</div>"
      ],
      "text/plain": [
       "   Time        V1        V2        V3        V4        V5        V6        V7  \\\n",
       "0   0.0 -1.359807 -0.072781  2.536347  1.378155 -0.338321  0.462388  0.239599   \n",
       "1   0.0  1.191857  0.266151  0.166480  0.448154  0.060018 -0.082361 -0.078803   \n",
       "2   1.0 -1.358354 -1.340163  1.773209  0.379780 -0.503198  1.800499  0.791461   \n",
       "3   1.0 -0.966272 -0.185226  1.792993 -0.863291 -0.010309  1.247203  0.237609   \n",
       "4   2.0 -1.158233  0.877737  1.548718  0.403034 -0.407193  0.095921  0.592941   \n",
       "\n",
       "         V8        V9  ...       V21       V22       V23       V24       V25  \\\n",
       "0  0.098698  0.363787  ... -0.018307  0.277838 -0.110474  0.066928  0.128539   \n",
       "1  0.085102 -0.255425  ... -0.225775 -0.638672  0.101288 -0.339846  0.167170   \n",
       "2  0.247676 -1.514654  ...  0.247998  0.771679  0.909412 -0.689281 -0.327642   \n",
       "3  0.377436 -1.387024  ... -0.108300  0.005274 -0.190321 -1.175575  0.647376   \n",
       "4 -0.270533  0.817739  ... -0.009431  0.798278 -0.137458  0.141267 -0.206010   \n",
       "\n",
       "        V26       V27       V28  Amount  Class  \n",
       "0 -0.189115  0.133558 -0.021053  149.62      0  \n",
       "1  0.125895 -0.008983  0.014724    2.69      0  \n",
       "2 -0.139097 -0.055353 -0.059752  378.66      0  \n",
       "3 -0.221929  0.062723  0.061458  123.50      0  \n",
       "4  0.502292  0.219422  0.215153   69.99      0  \n",
       "\n",
       "[5 rows x 31 columns]"
      ]
     },
     "execution_count": 12,
     "metadata": {},
     "output_type": "execute_result"
    }
   ],
   "source": [
    "data = pd.read_csv('creditcard.csv')\n",
    "data.head()"
   ]
  },
  {
   "cell_type": "code",
   "execution_count": 13,
   "metadata": {},
   "outputs": [
    {
     "data": {
      "text/plain": [
       "(284807, 31)"
      ]
     },
     "execution_count": 13,
     "metadata": {},
     "output_type": "execute_result"
    }
   ],
   "source": [
    "data.shape"
   ]
  },
  {
   "cell_type": "code",
   "execution_count": 14,
   "metadata": {},
   "outputs": [
    {
     "data": {
      "text/html": [
       "<div>\n",
       "<style scoped>\n",
       "    .dataframe tbody tr th:only-of-type {\n",
       "        vertical-align: middle;\n",
       "    }\n",
       "\n",
       "    .dataframe tbody tr th {\n",
       "        vertical-align: top;\n",
       "    }\n",
       "\n",
       "    .dataframe thead th {\n",
       "        text-align: right;\n",
       "    }\n",
       "</style>\n",
       "<table border=\"1\" class=\"dataframe\">\n",
       "  <thead>\n",
       "    <tr style=\"text-align: right;\">\n",
       "      <th></th>\n",
       "      <th>scaled_amount</th>\n",
       "      <th>scaled_time</th>\n",
       "      <th>V1</th>\n",
       "      <th>V2</th>\n",
       "      <th>V3</th>\n",
       "      <th>V4</th>\n",
       "      <th>V5</th>\n",
       "      <th>V6</th>\n",
       "      <th>V7</th>\n",
       "      <th>V8</th>\n",
       "      <th>...</th>\n",
       "      <th>V20</th>\n",
       "      <th>V21</th>\n",
       "      <th>V22</th>\n",
       "      <th>V23</th>\n",
       "      <th>V24</th>\n",
       "      <th>V25</th>\n",
       "      <th>V26</th>\n",
       "      <th>V27</th>\n",
       "      <th>V28</th>\n",
       "      <th>Class</th>\n",
       "    </tr>\n",
       "  </thead>\n",
       "  <tbody>\n",
       "    <tr>\n",
       "      <th>271502</th>\n",
       "      <td>-0.167819</td>\n",
       "      <td>0.938803</td>\n",
       "      <td>2.007941</td>\n",
       "      <td>-0.468865</td>\n",
       "      <td>-0.653207</td>\n",
       "      <td>0.160494</td>\n",
       "      <td>-0.221934</td>\n",
       "      <td>0.327089</td>\n",
       "      <td>-0.707668</td>\n",
       "      <td>0.137861</td>\n",
       "      <td>...</td>\n",
       "      <td>-0.160643</td>\n",
       "      <td>0.177416</td>\n",
       "      <td>0.751591</td>\n",
       "      <td>-0.029632</td>\n",
       "      <td>-1.066311</td>\n",
       "      <td>0.024914</td>\n",
       "      <td>-0.166459</td>\n",
       "      <td>0.038058</td>\n",
       "      <td>-0.056870</td>\n",
       "      <td>0</td>\n",
       "    </tr>\n",
       "    <tr>\n",
       "      <th>88958</th>\n",
       "      <td>0.738629</td>\n",
       "      <td>-0.262339</td>\n",
       "      <td>-0.745621</td>\n",
       "      <td>0.925433</td>\n",
       "      <td>-0.574706</td>\n",
       "      <td>0.237368</td>\n",
       "      <td>2.006511</td>\n",
       "      <td>3.911729</td>\n",
       "      <td>-0.010706</td>\n",
       "      <td>1.375016</td>\n",
       "      <td>...</td>\n",
       "      <td>0.315550</td>\n",
       "      <td>-0.037066</td>\n",
       "      <td>-0.165818</td>\n",
       "      <td>-0.011001</td>\n",
       "      <td>1.005782</td>\n",
       "      <td>0.191199</td>\n",
       "      <td>-0.237143</td>\n",
       "      <td>0.267738</td>\n",
       "      <td>0.143312</td>\n",
       "      <td>0</td>\n",
       "    </tr>\n",
       "    <tr>\n",
       "      <th>150964</th>\n",
       "      <td>5.121777</td>\n",
       "      <td>0.112337</td>\n",
       "      <td>-2.262961</td>\n",
       "      <td>1.624348</td>\n",
       "      <td>0.057319</td>\n",
       "      <td>0.580092</td>\n",
       "      <td>-1.449743</td>\n",
       "      <td>1.193625</td>\n",
       "      <td>0.939012</td>\n",
       "      <td>-3.272887</td>\n",
       "      <td>...</td>\n",
       "      <td>-1.466199</td>\n",
       "      <td>2.834847</td>\n",
       "      <td>-0.751101</td>\n",
       "      <td>-0.226451</td>\n",
       "      <td>-0.111443</td>\n",
       "      <td>0.136763</td>\n",
       "      <td>-0.643100</td>\n",
       "      <td>0.659769</td>\n",
       "      <td>-0.259908</td>\n",
       "      <td>0</td>\n",
       "    </tr>\n",
       "    <tr>\n",
       "      <th>49130</th>\n",
       "      <td>0.530986</td>\n",
       "      <td>-0.478988</td>\n",
       "      <td>1.234220</td>\n",
       "      <td>-0.679649</td>\n",
       "      <td>0.749351</td>\n",
       "      <td>-0.595074</td>\n",
       "      <td>-1.237645</td>\n",
       "      <td>-0.661797</td>\n",
       "      <td>-0.669051</td>\n",
       "      <td>-0.057294</td>\n",
       "      <td>...</td>\n",
       "      <td>0.138808</td>\n",
       "      <td>0.071251</td>\n",
       "      <td>0.016147</td>\n",
       "      <td>0.125380</td>\n",
       "      <td>0.401672</td>\n",
       "      <td>0.109893</td>\n",
       "      <td>-0.407706</td>\n",
       "      <td>0.025323</td>\n",
       "      <td>0.033322</td>\n",
       "      <td>0</td>\n",
       "    </tr>\n",
       "    <tr>\n",
       "      <th>127406</th>\n",
       "      <td>-0.024174</td>\n",
       "      <td>-0.074848</td>\n",
       "      <td>1.356421</td>\n",
       "      <td>-0.532038</td>\n",
       "      <td>0.233210</td>\n",
       "      <td>-1.018692</td>\n",
       "      <td>-0.415898</td>\n",
       "      <td>0.249374</td>\n",
       "      <td>-0.677696</td>\n",
       "      <td>0.094724</td>\n",
       "      <td>...</td>\n",
       "      <td>0.150227</td>\n",
       "      <td>-0.055593</td>\n",
       "      <td>-0.259004</td>\n",
       "      <td>0.028775</td>\n",
       "      <td>-0.811019</td>\n",
       "      <td>0.263449</td>\n",
       "      <td>-0.420034</td>\n",
       "      <td>0.025596</td>\n",
       "      <td>0.004413</td>\n",
       "      <td>0</td>\n",
       "    </tr>\n",
       "  </tbody>\n",
       "</table>\n",
       "<p>5 rows × 31 columns</p>\n",
       "</div>"
      ],
      "text/plain": [
       "        scaled_amount  scaled_time        V1        V2        V3        V4  \\\n",
       "271502      -0.167819     0.938803  2.007941 -0.468865 -0.653207  0.160494   \n",
       "88958        0.738629    -0.262339 -0.745621  0.925433 -0.574706  0.237368   \n",
       "150964       5.121777     0.112337 -2.262961  1.624348  0.057319  0.580092   \n",
       "49130        0.530986    -0.478988  1.234220 -0.679649  0.749351 -0.595074   \n",
       "127406      -0.024174    -0.074848  1.356421 -0.532038  0.233210 -1.018692   \n",
       "\n",
       "              V5        V6        V7        V8  ...       V20       V21  \\\n",
       "271502 -0.221934  0.327089 -0.707668  0.137861  ... -0.160643  0.177416   \n",
       "88958   2.006511  3.911729 -0.010706  1.375016  ...  0.315550 -0.037066   \n",
       "150964 -1.449743  1.193625  0.939012 -3.272887  ... -1.466199  2.834847   \n",
       "49130  -1.237645 -0.661797 -0.669051 -0.057294  ...  0.138808  0.071251   \n",
       "127406 -0.415898  0.249374 -0.677696  0.094724  ...  0.150227 -0.055593   \n",
       "\n",
       "             V22       V23       V24       V25       V26       V27       V28  \\\n",
       "271502  0.751591 -0.029632 -1.066311  0.024914 -0.166459  0.038058 -0.056870   \n",
       "88958  -0.165818 -0.011001  1.005782  0.191199 -0.237143  0.267738  0.143312   \n",
       "150964 -0.751101 -0.226451 -0.111443  0.136763 -0.643100  0.659769 -0.259908   \n",
       "49130   0.016147  0.125380  0.401672  0.109893 -0.407706  0.025323  0.033322   \n",
       "127406 -0.259004  0.028775 -0.811019  0.263449 -0.420034  0.025596  0.004413   \n",
       "\n",
       "        Class  \n",
       "271502      0  \n",
       "88958       0  \n",
       "150964      0  \n",
       "49130       0  \n",
       "127406      0  \n",
       "\n",
       "[5 rows x 31 columns]"
      ]
     },
     "execution_count": 14,
     "metadata": {},
     "output_type": "execute_result"
    }
   ],
   "source": [
    "std_scaler = StandardScaler()\n",
    "rob_scaler = RobustScaler()\n",
    "\n",
    "data['scaled_amount'] = rob_scaler.fit_transform(data['Amount'].values.reshape(-1,1))\n",
    "data['scaled_time'] = rob_scaler.fit_transform(data['Time'].values.reshape(-1,1))\n",
    "data.drop(['Time','Amount'], axis=1, inplace=True)\n",
    "\n",
    "scaled_amount = data['scaled_amount']\n",
    "scaled_time = data['scaled_time']\n",
    "\n",
    "data.drop(['scaled_amount', 'scaled_time'], axis=1, inplace=True)\n",
    "data.insert(0, 'scaled_amount', scaled_amount)\n",
    "data.insert(1, 'scaled_time', scaled_time)\n",
    "\n",
    "data.head()\n",
    "\n",
    "data = data.sample(frac=1)\n",
    "\n",
    "# amount of fraud classes 492 rows.\n",
    "fraud_data = data.loc[data['Class'] == 1]\n",
    "non_fraud_data = data.loc[data['Class'] == 0]\n",
    "\n",
    "normal_distributed_data = pd.concat([fraud_data, non_fraud_data])\n",
    "\n",
    "# Shuffle dataframe rows\n",
    "new_data = normal_distributed_data.sample(frac=1, random_state=42)\n",
    "\n",
    "new_data.head()"
   ]
  },
  {
   "cell_type": "code",
   "execution_count": 15,
   "metadata": {},
   "outputs": [
    {
     "name": "stderr",
     "output_type": "stream",
     "text": [
      "c:\\users\\nomif\\appdata\\local\\continuum\\anaconda3\\envs\\privacy\\lib\\site-packages\\sklearn\\utils\\validation.py:760: DataConversionWarning: A column-vector y was passed when a 1d array was expected. Please change the shape of y to (n_samples, ), for example using ravel().\n",
      "  y = column_or_1d(y, warn=True)\n"
     ]
    }
   ],
   "source": [
    "#Using SMOTE\n",
    "\n",
    "dataSmote=np.array(data.drop(\"Class\",axis=1))\n",
    "y=np.array(data[['Class']])\n",
    "smt=SMOTE()\n",
    "dataSmote,y=smt.fit_sample(dataSmote,y)\n",
    "dataSmote=pd.DataFrame(dataSmote)\n",
    "y=pd.DataFrame(y)\n",
    "dataSmote['Class']=y\n",
    "dataSmote=dataSmote.sample(frac=1)\n",
    "dataSmote.columns=list(data.columns)"
   ]
  },
  {
   "cell_type": "code",
   "execution_count": 16,
   "metadata": {},
   "outputs": [
    {
     "data": {
      "text/plain": [
       "Text(0.5, 1.0, 'Fraud Distribution SMOTE')"
      ]
     },
     "execution_count": 16,
     "metadata": {},
     "output_type": "execute_result"
    },
    {
     "data": {
      "image/png": "[encoded data removed]",
      "text/plain": [
       "<Figure size 1440x432 with 2 Axes>"
      ]
     },
     "metadata": {
      "needs_background": "light"
     },
     "output_type": "display_data"
    }
   ],
   "source": [
    "f, axes = plt.subplots(ncols=2, figsize=(20,6))\n",
    "\n",
    "sb.countplot('Class',data=data,ax=axes[0])\n",
    "axes[0].set_title('Fraud Distribution Original')\n",
    "\n",
    "sb.countplot('Class',data=dataSmote,ax=axes[1])\n",
    "axes[1].set_title('Fraud Distribution SMOTE')"
   ]
  },
  {
   "cell_type": "code",
   "execution_count": 29,
   "metadata": {},
   "outputs": [
    {
     "data": {
      "text/plain": [
       "Text(0.5, 1.0, 'V10 vs Class Negative Correlation SMOTE')"
      ]
     },
     "execution_count": 29,
     "metadata": {},
     "output_type": "execute_result"
    },
    {
     "data": {
      "image/png": "[encoded data removed]",
      "text/plain": [
       "<Figure size 1440x1152 with 8 Axes>"
      ]
     },
     "metadata": {
      "needs_background": "light"
     },
     "output_type": "display_data"
    }
   ],
   "source": [
    "f, axes = plt.subplots(nrows=2,ncols=4, figsize=(20,16))\n",
    "sb.boxplot(x=\"Class\", y=\"V17\", data=data,ax=axes[0,0])\n",
    "axes[0,0].set_title('V17 vs Class Negative Correlation Original')\n",
    "\n",
    "sb.boxplot(x=\"Class\", y=\"V14\", data=data,ax=axes[0,1])\n",
    "axes[0,1].set_title('V14 vs Class Negative Correlation Original')\n",
    "\n",
    "sb.boxplot(x=\"Class\", y=\"V12\", data=data,ax=axes[0,2])\n",
    "axes[0,2].set_title('V12 vs Class Negative Correlation Original')\n",
    "\n",
    "sb.boxplot(x=\"Class\", y=\"V10\", data=data,ax=axes[0,3])\n",
    "axes[0,3].set_title('V10 vs Class Negative Correlation Original')\n",
    "\n",
    "sb.boxplot(x=\"Class\", y=\"V17\", data=dataSmote,ax=axes[1,0])\n",
    "axes[1,0].set_title('V17 vs Class Negative Correlation SMOTE')\n",
    "\n",
    "sb.boxplot(x=\"Class\", y=\"V14\", data=dataSmote,ax=axes[1,1])\n",
    "axes[1,1].set_title('V14 vs Class Negative Correlation SMOTE')\n",
    "\n",
    "sb.boxplot(x=\"Class\", y=\"V12\", data=dataSmote,ax=axes[1,2])\n",
    "axes[1,2].set_title('V12 vs Class Negative Correlation SMOTE')\n",
    "\n",
    "sb.boxplot(x=\"Class\", y=\"V10\", data=dataSmote,ax=axes[1,3])\n",
    "axes[1,3].set_title('V10 vs Class Negative Correlation SMOTE')\n",
    "\n"
   ]
  },
  {
   "cell_type": "code",
   "execution_count": 14,
   "metadata": {},
   "outputs": [
    {
     "data": {
      "text/plain": [
       "Text(0.5, 1.0, 'V2 vs Class Positive Correlation SMOTE')"
      ]
     },
     "execution_count": 14,
     "metadata": {},
     "output_type": "execute_result"
    },
    {
     "data": {
      "image/png": "[encoded data removed]",
      "text/plain": [
       "<Figure size 1440x1152 with 8 Axes>"
      ]
     },
     "metadata": {
      "needs_background": "light"
     },
     "output_type": "display_data"
    }
   ],
   "source": [
    "f, axes = plt.subplots(nrows=2,ncols=4, figsize=(20,16))\n",
    "sb.boxplot(x=\"Class\", y=\"V11\", data=data,ax=axes[0,0])\n",
    "axes[0,0].set_title('V11 vs Class Positive Correlation Original')\n",
    "\n",
    "sb.boxplot(x=\"Class\", y=\"V9\", data=data,ax=axes[0,1])\n",
    "axes[0,1].set_title('V9 vs Class Positive Correlation Original')\n",
    "\n",
    "sb.boxplot(x=\"Class\", y=\"V4\", data=data,ax=axes[0,2])\n",
    "axes[0,2].set_title('V4 vs Class Positive Correlation Original')\n",
    "\n",
    "sb.boxplot(x=\"Class\", y=\"V2\", data=data,ax=axes[0,3])\n",
    "axes[0,3].set_title('V2 vs Class Positive Correlation Original')\n",
    "\n",
    "sb.boxplot(x=\"Class\", y=\"V11\", data=dataSmote,ax=axes[1,0])\n",
    "axes[1,0].set_title('V11 vs Class Positive Correlation SMOTE')\n",
    "\n",
    "sb.boxplot(x=\"Class\", y=\"V9\", data=dataSmote,ax=axes[1,1])\n",
    "axes[1,1].set_title('V9 vs Class Positive Correlation SMOTE')\n",
    "\n",
    "sb.boxplot(x=\"Class\", y=\"V4\", data=dataSmote,ax=axes[1,2])\n",
    "axes[1,2].set_title('V4 vs Class Positive Correlation SMOTE')\n",
    "\n",
    "sb.boxplot(x=\"Class\", y=\"V2\", data=dataSmote,ax=axes[1,3])\n",
    "axes[1,3].set_title('V2 vs Class Positive Correlation SMOTE')"
   ]
  },
  {
   "cell_type": "markdown",
   "metadata": {},
   "source": [
    "# Federated Learning"
   ]
  },
  {
   "cell_type": "code",
   "execution_count": 17,
   "metadata": {},
   "outputs": [],
   "source": [
    "results={}"
   ]
  },
  {
   "cell_type": "code",
   "execution_count": 19,
   "metadata": {},
   "outputs": [],
   "source": [
    "datum=Data(dataSmote)\n",
    "\n",
    "Data_Global=datum.sample(0,0.1)\n",
    "Data_Model_1A=datum.sample(0.1,0.3)\n",
    "Data_Model_2A=datum.sample(0.3,0.45)\n",
    "Data_Model_3A=datum.sample(0.45,50)\n",
    "Data_Model_1B=datum.sample(0.50,70)\n",
    "Data_Model_2B=datum.sample(0.70,85)\n",
    "Data_Model_3B=datum.sample(0.85,90)\n",
    "Data_Test=datum.sample(0.90,1)"
   ]
  },
  {
   "cell_type": "code",
   "execution_count": 20,
   "metadata": {},
   "outputs": [
    {
     "name": "stdout",
     "output_type": "stream",
     "text": [
      "WARNING:tensorflow:From c:\\users\\nomif\\appdata\\local\\continuum\\anaconda3\\envs\\privacy\\lib\\site-packages\\keras\\backend\\tensorflow_backend.py:74: The name tf.get_default_graph is deprecated. Please use tf.compat.v1.get_default_graph instead.\n",
      "\n",
      "WARNING:tensorflow:From c:\\users\\nomif\\appdata\\local\\continuum\\anaconda3\\envs\\privacy\\lib\\site-packages\\keras\\backend\\tensorflow_backend.py:517: The name tf.placeholder is deprecated. Please use tf.compat.v1.placeholder instead.\n",
      "\n",
      "WARNING:tensorflow:From c:\\users\\nomif\\appdata\\local\\continuum\\anaconda3\\envs\\privacy\\lib\\site-packages\\keras\\backend\\tensorflow_backend.py:4138: The name tf.random_uniform is deprecated. Please use tf.random.uniform instead.\n",
      "\n",
      "WARNING:tensorflow:From c:\\users\\nomif\\appdata\\local\\continuum\\anaconda3\\envs\\privacy\\lib\\site-packages\\keras\\backend\\tensorflow_backend.py:133: The name tf.placeholder_with_default is deprecated. Please use tf.compat.v1.placeholder_with_default instead.\n",
      "\n",
      "WARNING:tensorflow:From c:\\users\\nomif\\appdata\\local\\continuum\\anaconda3\\envs\\privacy\\lib\\site-packages\\keras\\backend\\tensorflow_backend.py:3445: calling dropout (from tensorflow.python.ops.nn_ops) with keep_prob is deprecated and will be removed in a future version.\n",
      "Instructions for updating:\n",
      "Please use `rate` instead of `keep_prob`. Rate should be set to `rate = 1 - keep_prob`.\n",
      "WARNING:tensorflow:From c:\\users\\nomif\\appdata\\local\\continuum\\anaconda3\\envs\\privacy\\lib\\site-packages\\keras\\optimizers.py:790: The name tf.train.Optimizer is deprecated. Please use tf.compat.v1.train.Optimizer instead.\n",
      "\n",
      "WARNING:tensorflow:From c:\\users\\nomif\\appdata\\local\\continuum\\anaconda3\\envs\\privacy\\lib\\site-packages\\keras\\backend\\tensorflow_backend.py:3376: The name tf.log is deprecated. Please use tf.math.log instead.\n",
      "\n",
      "WARNING:tensorflow:From c:\\users\\nomif\\appdata\\local\\continuum\\anaconda3\\envs\\privacy\\lib\\site-packages\\tensorflow\\python\\ops\\nn_impl.py:180: add_dispatch_support.<locals>.wrapper (from tensorflow.python.ops.array_ops) is deprecated and will be removed in a future version.\n",
      "Instructions for updating:\n",
      "Use tf.where in 2.0, which has the same broadcast rule as np.where\n",
      "Train on 40941 samples, validate on 4549 samples\n",
      "Epoch 1/5\n",
      "40941/40941 [==============================] - 2s 38us/step - loss: 0.2541 - acc: 0.9408 - val_loss: 0.1139 - val_acc: 0.9672\n",
      "Epoch 2/5\n",
      "40941/40941 [==============================] - 1s 29us/step - loss: 0.1048 - acc: 0.9693 - val_loss: 0.0840 - val_acc: 0.9789\n",
      "Epoch 3/5\n",
      "40941/40941 [==============================] - 1s 29us/step - loss: 0.0833 - acc: 0.9766 - val_loss: 0.0625 - val_acc: 0.9870\n",
      "Epoch 4/5\n",
      "40941/40941 [==============================] - 1s 29us/step - loss: 0.0726 - acc: 0.9804 - val_loss: 0.0514 - val_acc: 0.9888\n",
      "Epoch 5/5\n",
      "40941/40941 [==============================] - 1s 29us/step - loss: 0.0640 - acc: 0.9834 - val_loss: 0.0491 - val_acc: 0.9903\n",
      "11373/11373 [==============================] - 0s 9us/step\n",
      "Saved model to disk\n"
     ]
    }
   ],
   "source": [
    "GlobalBank=Bank(Data_Global,0.2)\n",
    "GlobalBank.run(GlobalBank.X_train, GlobalBank.Y_train,load=False)\n",
    "\n",
    "results['BankG.1']=GlobalBank.evaluate(GlobalBank.X_test,GlobalBank.Y_test)\n",
    "\n",
    "GlobalBank.saveModel()\n"
   ]
  },
  {
   "cell_type": "code",
   "execution_count": 21,
   "metadata": {
    "scrolled": true
   },
   "outputs": [
    {
     "name": "stdout",
     "output_type": "stream",
     "text": [
      "Loaded model from disk\n",
      "Train on 81882 samples, validate on 9098 samples\n",
      "Epoch 1/5\n",
      "81882/81882 [==============================] - 3s 34us/step - loss: 0.0578 - acc: 0.9861 - val_loss: 0.0448 - val_acc: 0.9919\n",
      "Epoch 2/5\n",
      "81882/81882 [==============================] - 2s 30us/step - loss: 0.0549 - acc: 0.9873 - val_loss: 0.0483 - val_acc: 0.9900\n",
      "Epoch 3/5\n",
      "81882/81882 [==============================] - 2s 29us/step - loss: 0.0523 - acc: 0.9880 - val_loss: 0.0354 - val_acc: 0.9953\n",
      "Epoch 4/5\n",
      "81882/81882 [==============================] - 2s 30us/step - loss: 0.0529 - acc: 0.9882 - val_loss: 0.0436 - val_acc: 0.9923\n",
      "Epoch 5/5\n",
      "81882/81882 [==============================] - 2s 29us/step - loss: 0.0495 - acc: 0.9891 - val_loss: 0.0367 - val_acc: 0.9955\n",
      "Loaded model from disk\n",
      "Train on 61411 samples, validate on 6824 samples\n",
      "Epoch 1/5\n",
      "61411/61411 [==============================] - 2s 35us/step - loss: 0.0602 - acc: 0.9854 - val_loss: 0.0422 - val_acc: 0.9924\n",
      "Epoch 2/5\n",
      "61411/61411 [==============================] - 2s 29us/step - loss: 0.0576 - acc: 0.9866 - val_loss: 0.0416 - val_acc: 0.9925\n",
      "Epoch 3/5\n",
      "61411/61411 [==============================] - 2s 29us/step - loss: 0.0561 - acc: 0.9879 - val_loss: 0.0383 - val_acc: 0.9958\n",
      "Epoch 4/5\n",
      "61411/61411 [==============================] - 2s 29us/step - loss: 0.0519 - acc: 0.9892 - val_loss: 0.0399 - val_acc: 0.9936\n",
      "Epoch 5/5\n",
      "61411/61411 [==============================] - 2s 29us/step - loss: 0.0531 - acc: 0.9885 - val_loss: 0.0415 - val_acc: 0.9933\n",
      "Loaded model from disk\n",
      "Train on 225177 samples, validate on 25020 samples\n",
      "Epoch 1/5\n",
      "225177/225177 [==============================] - 7s 32us/step - loss: 0.0568 - acc: 0.9869 - val_loss: 0.0539 - val_acc: 0.9892\n",
      "Epoch 2/5\n",
      "225177/225177 [==============================] - 7s 30us/step - loss: 0.0536 - acc: 0.9880 - val_loss: 0.0474 - val_acc: 0.9903\n",
      "Epoch 3/5\n",
      "225177/225177 [==============================] - 7s 30us/step - loss: 0.0520 - acc: 0.9890 - val_loss: 0.0434 - val_acc: 0.9912\n",
      "Epoch 4/5\n",
      "225177/225177 [==============================] - 7s 30us/step - loss: 0.0518 - acc: 0.9891 - val_loss: 0.0375 - val_acc: 0.9948\n",
      "Epoch 5/5\n",
      "225177/225177 [==============================] - 7s 30us/step - loss: 0.0517 - acc: 0.9890 - val_loss: 0.0373 - val_acc: 0.9947\n",
      "Saved model to disk\n"
     ]
    }
   ],
   "source": [
    "delta=np.array(GlobalBank.getWeights())\n",
    "\n",
    "Bank1=Bank(Data_Model_1A,0.2)\n",
    "Bank1.run(Bank1.X_train,Bank1.Y_train)\n",
    "\n",
    "Bank2=Bank(Data_Model_2A,0.2)\n",
    "Bank2.run(Bank2.X_train,Bank2.Y_train)\n",
    "\n",
    "Bank3=Bank(Data_Model_3A,0.2)\n",
    "Bank3.run(Bank3.X_train,Bank3.Y_train)\n",
    "\n",
    "temp=(0.55*np.array(Bank1.getWeights())+0.35*np.array(Bank2.getWeights())+0.10*np.array(Bank3.getWeights()))\n",
    "temp-=delta\n",
    "delta+=temp\n",
    "\n",
    "GlobalBank.setWeights(delta)\n",
    "GlobalBank.saveModel()"
   ]
  },
  {
   "cell_type": "code",
   "execution_count": 22,
   "metadata": {},
   "outputs": [
    {
     "name": "stdout",
     "output_type": "stream",
     "text": [
      "22746/22746 [==============================] - 0s 11us/step\n",
      "17059/17059 [==============================] - 0s 12us/step\n",
      "62550/62550 [==============================] - 1s 12us/step\n",
      "11373/11373 [==============================] - 0s 11us/step\n"
     ]
    }
   ],
   "source": [
    "results['Bank1.1']=Bank1.evaluate(Bank1.X_test,Bank1.Y_test)\n",
    "results['Bank2.1']=Bank2.evaluate(Bank2.X_test,Bank2.Y_test)\n",
    "results['Bank3.1']=Bank3.evaluate(Bank3.X_test,Bank3.Y_test)\n",
    "results['BankG.2']=GlobalBank.evaluate(GlobalBank.X_test,GlobalBank.Y_test)"
   ]
  },
  {
   "cell_type": "code",
   "execution_count": 23,
   "metadata": {},
   "outputs": [
    {
     "name": "stdout",
     "output_type": "stream",
     "text": [
      "Loaded model from disk\n",
      "Train on 204706 samples, validate on 22746 samples\n",
      "Epoch 1/5\n",
      "204706/204706 [==============================] - 7s 33us/step - loss: 0.0509 - acc: 0.9884 - val_loss: 0.0407 - val_acc: 0.9924\n",
      "Epoch 2/5\n",
      "204706/204706 [==============================] - 6s 30us/step - loss: 0.0512 - acc: 0.9891 - val_loss: 0.0381 - val_acc: 0.9932\n",
      "Epoch 3/5\n",
      "204706/204706 [==============================] - 6s 31us/step - loss: 0.0517 - acc: 0.9890 - val_loss: 0.0385 - val_acc: 0.9946\n",
      "Epoch 4/5\n",
      "204706/204706 [==============================] - 7s 32us/step - loss: 0.0520 - acc: 0.9889 - val_loss: 0.0428 - val_acc: 0.9918\n",
      "Epoch 5/5\n",
      "204706/204706 [==============================] - 6s 31us/step - loss: 0.0521 - acc: 0.9889 - val_loss: 0.0457 - val_acc: 0.9925\n",
      "Loaded model from disk\n",
      "Train on 122823 samples, validate on 13648 samples\n",
      "Epoch 1/5\n",
      "122823/122823 [==============================] - 4s 36us/step - loss: 0.0517 - acc: 0.9878 - val_loss: 0.0345 - val_acc: 0.9952\n",
      "Epoch 2/5\n",
      "122823/122823 [==============================] - 4s 31us/step - loss: 0.0522 - acc: 0.9884 - val_loss: 0.0383 - val_acc: 0.9937\n",
      "Epoch 3/5\n",
      "122823/122823 [==============================] - 4s 31us/step - loss: 0.0516 - acc: 0.9891 - val_loss: 0.0356 - val_acc: 0.9945\n",
      "Epoch 4/5\n",
      "122823/122823 [==============================] - 4s 31us/step - loss: 0.0515 - acc: 0.9890 - val_loss: 0.0411 - val_acc: 0.9931\n",
      "Epoch 5/5\n",
      "122823/122823 [==============================] - 4s 32us/step - loss: 0.0505 - acc: 0.9895 - val_loss: 0.0347 - val_acc: 0.9952\n",
      "Loaded model from disk\n",
      "Train on 61412 samples, validate on 6824 samples\n",
      "Epoch 1/5\n",
      "61412/61412 [==============================] - 3s 42us/step - loss: 0.0481 - acc: 0.9886 - val_loss: 0.0349 - val_acc: 0.9927\n",
      "Epoch 2/5\n",
      "61412/61412 [==============================] - 2s 32us/step - loss: 0.0493 - acc: 0.9891 - val_loss: 0.0395 - val_acc: 0.9924\n",
      "Epoch 3/5\n",
      "61412/61412 [==============================] - ETA: 0s - loss: 0.0513 - acc: 0.988 - 2s 33us/step - loss: 0.0513 - acc: 0.9885 - val_loss: 0.0457 - val_acc: 0.9897\n",
      "Epoch 4/5\n",
      "61412/61412 [==============================] - 2s 34us/step - loss: 0.0509 - acc: 0.9883 - val_loss: 0.0431 - val_acc: 0.9912\n",
      "Epoch 5/5\n",
      "61412/61412 [==============================] - 2s 32us/step - loss: 0.0513 - acc: 0.9886 - val_loss: 0.0439 - val_acc: 0.9933\n",
      "Saved model to disk\n"
     ]
    }
   ],
   "source": [
    "delta=np.array(GlobalBank.getWeights())\n",
    "\n",
    "Bank1.setData(Data_Model_1B,0.2)\n",
    "Bank1.run(Bank1.X_train,Bank1.Y_train)\n",
    "\n",
    "Bank2.setData(Data_Model_2B,0.2)\n",
    "Bank2.run(Bank2.X_train,Bank2.Y_train)\n",
    "\n",
    "Bank3.setData(Data_Model_3B,0.2)\n",
    "Bank3.run(Bank3.X_train,Bank3.Y_train)\n",
    "\n",
    "\n",
    "\n",
    "temp=(0.55*np.array(Bank1.getWeights())+0.35*np.array(Bank2.getWeights())+0.10*np.array(Bank3.getWeights()))\n",
    "\n",
    "temp-=delta\n",
    "\n",
    "delta+=temp\n",
    "\n",
    "GlobalBank.setWeights(delta)\n",
    "GlobalBank.saveModel()"
   ]
  },
  {
   "cell_type": "code",
   "execution_count": 24,
   "metadata": {},
   "outputs": [
    {
     "name": "stdout",
     "output_type": "stream",
     "text": [
      "56863/56863 [==============================] - 1s 13us/step\n",
      "34118/34118 [==============================] - 0s 13us/step\n",
      "17059/17059 [==============================] - 0s 13us/step\n"
     ]
    }
   ],
   "source": [
    "results['Bank1.2']=Bank1.evaluate(Bank1.X_test,Bank1.Y_test)\n",
    "results['Bank2.2']=Bank2.evaluate(Bank2.X_test,Bank2.Y_test)\n",
    "results['Bank3.2']=Bank3.evaluate(Bank3.X_test,Bank3.Y_test)\n"
   ]
  },
  {
   "cell_type": "code",
   "execution_count": 25,
   "metadata": {},
   "outputs": [
    {
     "name": "stdout",
     "output_type": "stream",
     "text": [
      "51177/51177 [==============================] - 1s 12us/step\n"
     ]
    }
   ],
   "source": [
    "GlobalBank.setData(Data_Test,0.9)\n",
    "results['BankG.3']=GlobalBank.evaluate(GlobalBank.X_test,GlobalBank.Y_test)"
   ]
  },
  {
   "cell_type": "markdown",
   "metadata": {},
   "source": [
    "# Non Federated Learning"
   ]
  },
  {
   "cell_type": "code",
   "execution_count": 26,
   "metadata": {},
   "outputs": [],
   "source": [
    "\n",
    "def NonFL_Model():\n",
    "    input_shape=(30,)\n",
    "    model = Sequential()\n",
    "    model.add(Dense(32, activation='relu',input_shape=input_shape,kernel_regularizer=regularizers.l2(0.01))) \n",
    "    model.add(Dropout(0.2))\n",
    "    model.add(Dense(16, activation='relu'))\n",
    "    model.add(Dropout(0.1))\n",
    "    model.add(Dense(8, activation='relu'))\n",
    "    model.add(Dense(1, activation='sigmoid'))\n",
    "    model.compile(optimizer='adam',   #rmsprop\n",
    "                  loss='binary_crossentropy',\n",
    "                  metrics=['accuracy'])\n",
    "        \n",
    "    return model"
   ]
  },
  {
   "cell_type": "code",
   "execution_count": 27,
   "metadata": {},
   "outputs": [],
   "source": [
    "X=data.drop(['Class'],axis=1)\n",
    "Y=data[['Class']]"
   ]
  },
  {
   "cell_type": "code",
   "execution_count": 55,
   "metadata": {},
   "outputs": [
    {
     "name": "stdout",
     "output_type": "stream",
     "text": [
      "Train on 460590 samples, validate on 51177 samples\n",
      "Epoch 1/9\n",
      "460590/460590 [==============================] - 19s 41us/step - loss: 0.0834 - acc: 0.9785 - val_loss: 0.0418 - val_acc: 0.9925\n",
      "Epoch 2/9\n",
      "460590/460590 [==============================] - 17s 36us/step - loss: 0.0529 - acc: 0.9887 - val_loss: 0.0381 - val_acc: 0.9928\n",
      "Epoch 3/9\n",
      "460590/460590 [==============================] - 17s 36us/step - loss: 0.0518 - acc: 0.9890 - val_loss: 0.0373 - val_acc: 0.9936\n",
      "Epoch 4/9\n",
      "460590/460590 [==============================] - 17s 36us/step - loss: 0.0515 - acc: 0.9892 - val_loss: 0.0437 - val_acc: 0.9916\n",
      "Epoch 5/9\n",
      "460590/460590 [==============================] - 17s 36us/step - loss: 0.0513 - acc: 0.9893 - val_loss: 0.0378 - val_acc: 0.9945\n",
      "Epoch 6/9\n",
      "460590/460590 [==============================] - 17s 37us/step - loss: 0.0508 - acc: 0.9894 - val_loss: 0.0548 - val_acc: 0.9871\n",
      "Epoch 7/9\n",
      "460590/460590 [==============================] - 17s 36us/step - loss: 0.0521 - acc: 0.9889 - val_loss: 0.0384 - val_acc: 0.9937- loss: 0.0521 - acc: 0.\n",
      "Epoch 8/9\n",
      "460590/460590 [==============================] - 17s 36us/step - loss: 0.0513 - acc: 0.9889 - val_loss: 0.0402 - val_acc: 0.9926\n",
      "Epoch 9/9\n",
      "460590/460590 [==============================] - 17s 36us/step - loss: 0.0518 - acc: 0.9890 - val_loss: 0.0470 - val_acc: 0.9906\n"
     ]
    }
   ],
   "source": [
    "X_train, X_test, Y_train, Y_test=train_test_split(X, Y, test_size=0.1)\n",
    "modelNFL=NonFL_Model()\n",
    "history_NFL=modelNFL.fit(X_train, Y_train, epochs=9,validation_split=0.1, verbose=1)\n"
   ]
  },
  {
   "cell_type": "code",
   "execution_count": 56,
   "metadata": {},
   "outputs": [],
   "source": [
    "X=dataSmote.drop(['Class'],axis=1)\n",
    "Y=dataSmote[['Class']]"
   ]
  },
  {
   "cell_type": "code",
   "execution_count": 57,
   "metadata": {},
   "outputs": [
    {
     "name": "stdout",
     "output_type": "stream",
     "text": [
      "Train on 460590 samples, validate on 51177 samples\n",
      "Epoch 1/9\n",
      "460590/460590 [==============================] - 18s 39us/step - loss: 0.0808 - acc: 0.9799 - val_loss: 0.0412 - val_acc: 0.9939\n",
      "Epoch 2/9\n",
      "460590/460590 [==============================] - 17s 36us/step - loss: 0.0519 - acc: 0.9892 - val_loss: 0.0408 - val_acc: 0.9940\n",
      "Epoch 3/9\n",
      "460590/460590 [==============================] - 17s 37us/step - loss: 0.0509 - acc: 0.9896 - val_loss: 0.0396 - val_acc: 0.9941\n",
      "Epoch 4/9\n",
      "460590/460590 [==============================] - 17s 37us/step - loss: 0.0501 - acc: 0.9900 - val_loss: 0.0338 - val_acc: 0.9960\n",
      "Epoch 5/9\n",
      "460590/460590 [==============================] - 17s 36us/step - loss: 0.0500 - acc: 0.9901 - val_loss: 0.0537 - val_acc: 0.9890\n",
      "Epoch 6/9\n",
      "460590/460590 [==============================] - 17s 37us/step - loss: 0.0494 - acc: 0.9900 - val_loss: 0.0318 - val_acc: 0.9967\n",
      "Epoch 7/9\n",
      "460590/460590 [==============================] - 17s 37us/step - loss: 0.0506 - acc: 0.9897 - val_loss: 0.0352 - val_acc: 0.9954\n",
      "Epoch 8/9\n",
      "460590/460590 [==============================] - 17s 38us/step - loss: 0.0498 - acc: 0.9900 - val_loss: 0.0347 - val_acc: 0.9962\n",
      "Epoch 9/9\n",
      "460590/460590 [==============================] - 18s 38us/step - loss: 0.0495 - acc: 0.9899 - val_loss: 0.0346 - val_acc: 0.9958\n"
     ]
    }
   ],
   "source": [
    "X_trainS, X_testS, Y_trainS, Y_testS=train_test_split(X, Y, test_size=0.1)\n",
    "modelNFLSmote=NonFL_Model()\n",
    "historyNFLSmote=modelNFLSmote.fit(X_trainS, Y_trainS, epochs=9,validation_split=0.1, verbose=1)\n"
   ]
  },
  {
   "cell_type": "markdown",
   "metadata": {},
   "source": [
    "# NFL Analysis"
   ]
  },
  {
   "cell_type": "code",
   "execution_count": 42,
   "metadata": {},
   "outputs": [
    {
     "data": {
      "text/plain": [
       "Text(0.5, 1.0, 'Nomal Data')"
      ]
     },
     "execution_count": 42,
     "metadata": {},
     "output_type": "execute_result"
    },
    {
     "data": {
      "image/png": "[encoded data removed]",
      "text/plain": [
       "<Figure size 864x432 with 1 Axes>"
      ]
     },
     "metadata": {
      "needs_background": "light"
     },
     "output_type": "display_data"
    }
   ],
   "source": [
    "f, axes = plt.subplots(nrows=1,ncols=1, figsize=(12,6))\n",
    "plt.plot(history_NFL.history['acc'])\n",
    "plt.title('Nomal Data')"
   ]
  },
  {
   "cell_type": "code",
   "execution_count": 51,
   "metadata": {},
   "outputs": [
    {
     "data": {
      "text/plain": [
       "Text(0.5, 1.0, 'SMOTE Data')"
      ]
     },
     "execution_count": 51,
     "metadata": {},
     "output_type": "execute_result"
    },
    {
     "data": {
      "image/png": "[encoded data removed]",
      "text/plain": [
       "<Figure size 864x432 with 1 Axes>"
      ]
     },
     "metadata": {
      "needs_background": "light"
     },
     "output_type": "display_data"
    }
   ],
   "source": [
    "f, axes = plt.subplots(nrows=1,ncols=1, figsize=(12,6))\n",
    "plt.plot(historyNFLSmote.history['acc'])\n",
    "plt.title('SMOTE Data')"
   ]
  },
  {
   "cell_type": "code",
   "execution_count": 59,
   "metadata": {},
   "outputs": [
    {
     "name": "stdout",
     "output_type": "stream",
     "text": [
      "97.99300896676002\n",
      "98.92094921730823\n",
      "98.95633860917519\n",
      "98.99759004747007\n",
      "99.00649167372283\n",
      "98.99976117588311\n",
      "98.97283918444654\n",
      "99.00019540155019\n",
      "98.993682016544\n"
     ]
    }
   ],
   "source": [
    "for i in historyNFLSmote.history['acc']:\n",
    "    print(i*100)"
   ]
  },
  {
   "cell_type": "code",
   "execution_count": null,
   "metadata": {},
   "outputs": [],
   "source": []
  },
  {
   "cell_type": "code",
   "execution_count": 44,
   "metadata": {},
   "outputs": [
    {
     "data": {
      "text/plain": [
       "<matplotlib.axes._subplots.AxesSubplot at 0x133b6d33e48>"
      ]
     },
     "execution_count": 44,
     "metadata": {},
     "output_type": "execute_result"
    },
    {
     "data": {
      "image/png": "[encoded data removed]",
      "text/plain": [
       "<Figure size 432x288 with 2 Axes>"
      ]
     },
     "metadata": {
      "needs_background": "light"
     },
     "output_type": "display_data"
    }
   ],
   "source": [
    "# Non Federated Learning w/o smote\n",
    "\n",
    "y_pred=modelNFL.predict(X_test)\n",
    "for i in range(len(y_pred)):\n",
    "    if(y_pred[i]>0.5):\n",
    "        y_pred[i]=1\n",
    "    else:\n",
    "        y_pred[i]=0\n",
    "y_test=np.array(Y_test)\n",
    "sb.heatmap(confusion_matrix(y_test,y_pred),annot=True)"
   ]
  },
  {
   "cell_type": "code",
   "execution_count": 52,
   "metadata": {},
   "outputs": [
    {
     "data": {
      "text/plain": [
       "<matplotlib.axes._subplots.AxesSubplot at 0x133af794808>"
      ]
     },
     "execution_count": 52,
     "metadata": {},
     "output_type": "execute_result"
    },
    {
     "data": {
      "image/png": "[encoded data removed]",
      "text/plain": [
       "<Figure size 432x288 with 2 Axes>"
      ]
     },
     "metadata": {
      "needs_background": "light"
     },
     "output_type": "display_data"
    }
   ],
   "source": [
    "# Non Federated Learning with smote\n",
    "\n",
    "y_pred=modelNFLSmote.predict(X_testS)\n",
    "for i in range(len(y_pred)):\n",
    "    if(y_pred[i]>0.5):\n",
    "        y_pred[i]=1\n",
    "    else:\n",
    "        y_pred[i]=0\n",
    "y_test=np.array(Y_testS)\n",
    "sb.heatmap(confusion_matrix(y_test,y_pred),annot=True)"
   ]
  },
  {
   "cell_type": "markdown",
   "metadata": {},
   "source": [
    "# FL Analysis"
   ]
  },
  {
   "cell_type": "code",
   "execution_count": 49,
   "metadata": {},
   "outputs": [
    {
     "data": {
      "text/plain": [
       "[<matplotlib.lines.Line2D at 0x19de54a9c88>]"
      ]
     },
     "execution_count": 49,
     "metadata": {},
     "output_type": "execute_result"
    },
    {
     "data": {
      "image/png": "[encoded data removed]",
      "text/plain": [
       "<Figure size 864x432 with 1 Axes>"
      ]
     },
     "metadata": {
      "needs_background": "light"
     },
     "output_type": "display_data"
    }
   ],
   "source": [
    "f, axes = plt.subplots(nrows=1,ncols=1, figsize=(12,6))\n",
    "plt.plot(results.values())"
   ]
  },
  {
   "cell_type": "code",
   "execution_count": 54,
   "metadata": {
    "scrolled": true
   },
   "outputs": [
    {
     "data": {
      "text/plain": [
       "dict_values([99.02400422052229, 99.32295788270466, 99.33759305938214, 99.47242206177837, 99.49881297810605, 99.24027926771363, 99.44017820505306, 99.37276510932645, 99.48609727025813])"
      ]
     },
     "execution_count": 54,
     "metadata": {},
     "output_type": "execute_result"
    }
   ],
   "source": [
    "results.values()"
   ]
  },
  {
   "cell_type": "code",
   "execution_count": 46,
   "metadata": {},
   "outputs": [
    {
     "data": {
      "text/plain": [
       "<matplotlib.axes._subplots.AxesSubplot at 0x133abac3c08>"
      ]
     },
     "execution_count": 46,
     "metadata": {},
     "output_type": "execute_result"
    },
    {
     "data": {
      "image/png": "[encoded data removed]",
      "text/plain": [
       "<Figure size 432x288 with 2 Axes>"
      ]
     },
     "metadata": {
      "needs_background": "light"
     },
     "output_type": "display_data"
    }
   ],
   "source": [
    "y_pred=GlobalBank.predict(GlobalBank.X_test)\n",
    "for i in range(len(y_pred)):\n",
    "    if(y_pred[i]>0.5):\n",
    "        y_pred[i]=1\n",
    "    else:\n",
    "        y_pred[i]=0\n",
    "y_test=np.array(GlobalBank.Y_test)\n",
    "sb.heatmap(confusion_matrix(y_test,y_pred),annot=True)"
   ]
  },
  {
   "cell_type": "code",
   "execution_count": null,
   "metadata": {},
   "outputs": [],
   "source": []
  }
 ],
 "metadata": {
  "kernelspec": {
   "display_name": "Python 3",
   "language": "python",
   "name": "python3"
  },
  "language_info": {
   "codemirror_mode": {
    "name": "ipython",
    "version": 3
   },
   "file_extension": ".py",
   "mimetype": "text/x-python",
   "name": "python",
   "nbconvert_exporter": "python",
   "pygments_lexer": "ipython3",
   "version": "3.7.6"
  }
 },
 "nbformat": 4,
 "nbformat_minor": 2
}
