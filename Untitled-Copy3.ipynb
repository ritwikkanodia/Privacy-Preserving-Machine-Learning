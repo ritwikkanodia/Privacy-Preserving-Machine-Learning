{
 "cells": [
  {
   "cell_type": "code",
   "execution_count": 1,
   "metadata": {
    "scrolled": true
   },
   "outputs": [
    {
     "name": "stderr",
     "output_type": "stream",
     "text": [
      "C:\\Users\\nomif\\AppData\\Local\\Continuum\\anaconda3\\envs\\Privacy\\lib\\site-packages\\tensorflow\\python\\framework\\dtypes.py:516: FutureWarning: Passing (type, 1) or '1type' as a synonym of type is deprecated; in a future version of numpy, it will be understood as (type, (1,)) / '(1,)type'.\n",
      "  _np_qint8 = np.dtype([(\"qint8\", np.int8, 1)])\n",
      "C:\\Users\\nomif\\AppData\\Local\\Continuum\\anaconda3\\envs\\Privacy\\lib\\site-packages\\tensorflow\\python\\framework\\dtypes.py:517: FutureWarning: Passing (type, 1) or '1type' as a synonym of type is deprecated; in a future version of numpy, it will be understood as (type, (1,)) / '(1,)type'.\n",
      "  _np_quint8 = np.dtype([(\"quint8\", np.uint8, 1)])\n",
      "C:\\Users\\nomif\\AppData\\Local\\Continuum\\anaconda3\\envs\\Privacy\\lib\\site-packages\\tensorflow\\python\\framework\\dtypes.py:518: FutureWarning: Passing (type, 1) or '1type' as a synonym of type is deprecated; in a future version of numpy, it will be understood as (type, (1,)) / '(1,)type'.\n",
      "  _np_qint16 = np.dtype([(\"qint16\", np.int16, 1)])\n",
      "C:\\Users\\nomif\\AppData\\Local\\Continuum\\anaconda3\\envs\\Privacy\\lib\\site-packages\\tensorflow\\python\\framework\\dtypes.py:519: FutureWarning: Passing (type, 1) or '1type' as a synonym of type is deprecated; in a future version of numpy, it will be understood as (type, (1,)) / '(1,)type'.\n",
      "  _np_quint16 = np.dtype([(\"quint16\", np.uint16, 1)])\n",
      "C:\\Users\\nomif\\AppData\\Local\\Continuum\\anaconda3\\envs\\Privacy\\lib\\site-packages\\tensorflow\\python\\framework\\dtypes.py:520: FutureWarning: Passing (type, 1) or '1type' as a synonym of type is deprecated; in a future version of numpy, it will be understood as (type, (1,)) / '(1,)type'.\n",
      "  _np_qint32 = np.dtype([(\"qint32\", np.int32, 1)])\n",
      "C:\\Users\\nomif\\AppData\\Local\\Continuum\\anaconda3\\envs\\Privacy\\lib\\site-packages\\tensorflow\\python\\framework\\dtypes.py:525: FutureWarning: Passing (type, 1) or '1type' as a synonym of type is deprecated; in a future version of numpy, it will be understood as (type, (1,)) / '(1,)type'.\n",
      "  np_resource = np.dtype([(\"resource\", np.ubyte, 1)])\n",
      "C:\\Users\\nomif\\AppData\\Local\\Continuum\\anaconda3\\envs\\Privacy\\lib\\site-packages\\tensorboard\\compat\\tensorflow_stub\\dtypes.py:541: FutureWarning: Passing (type, 1) or '1type' as a synonym of type is deprecated; in a future version of numpy, it will be understood as (type, (1,)) / '(1,)type'.\n",
      "  _np_qint8 = np.dtype([(\"qint8\", np.int8, 1)])\n",
      "C:\\Users\\nomif\\AppData\\Local\\Continuum\\anaconda3\\envs\\Privacy\\lib\\site-packages\\tensorboard\\compat\\tensorflow_stub\\dtypes.py:542: FutureWarning: Passing (type, 1) or '1type' as a synonym of type is deprecated; in a future version of numpy, it will be understood as (type, (1,)) / '(1,)type'.\n",
      "  _np_quint8 = np.dtype([(\"quint8\", np.uint8, 1)])\n",
      "C:\\Users\\nomif\\AppData\\Local\\Continuum\\anaconda3\\envs\\Privacy\\lib\\site-packages\\tensorboard\\compat\\tensorflow_stub\\dtypes.py:543: FutureWarning: Passing (type, 1) or '1type' as a synonym of type is deprecated; in a future version of numpy, it will be understood as (type, (1,)) / '(1,)type'.\n",
      "  _np_qint16 = np.dtype([(\"qint16\", np.int16, 1)])\n",
      "C:\\Users\\nomif\\AppData\\Local\\Continuum\\anaconda3\\envs\\Privacy\\lib\\site-packages\\tensorboard\\compat\\tensorflow_stub\\dtypes.py:544: FutureWarning: Passing (type, 1) or '1type' as a synonym of type is deprecated; in a future version of numpy, it will be understood as (type, (1,)) / '(1,)type'.\n",
      "  _np_quint16 = np.dtype([(\"quint16\", np.uint16, 1)])\n",
      "C:\\Users\\nomif\\AppData\\Local\\Continuum\\anaconda3\\envs\\Privacy\\lib\\site-packages\\tensorboard\\compat\\tensorflow_stub\\dtypes.py:545: FutureWarning: Passing (type, 1) or '1type' as a synonym of type is deprecated; in a future version of numpy, it will be understood as (type, (1,)) / '(1,)type'.\n",
      "  _np_qint32 = np.dtype([(\"qint32\", np.int32, 1)])\n",
      "C:\\Users\\nomif\\AppData\\Local\\Continuum\\anaconda3\\envs\\Privacy\\lib\\site-packages\\tensorboard\\compat\\tensorflow_stub\\dtypes.py:550: FutureWarning: Passing (type, 1) or '1type' as a synonym of type is deprecated; in a future version of numpy, it will be understood as (type, (1,)) / '(1,)type'.\n",
      "  np_resource = np.dtype([(\"resource\", np.ubyte, 1)])\n",
      "Using TensorFlow backend.\n"
     ]
    }
   ],
   "source": [
    "import tensorflow as tf\n",
    "from tensorflow import keras\n",
    "from keras.models import Sequential\n",
    "from keras.layers.core import Dense, Dropout, Activation,Flatten\n",
    "from keras import regularizers\n",
    "\n",
    "import pandas as pd\n",
    "import numpy as np\n",
    "import seaborn as sb\n",
    "import matplotlib.pyplot as plt\n",
    "from scipy import stats\n",
    "\n",
    "from sklearn.model_selection import train_test_split\n",
    "from sklearn.preprocessing import StandardScaler, RobustScaler\n",
    "from sklearn import metrics\n",
    "from keras.models import model_from_json\n",
    "\n"
   ]
  },
  {
   "cell_type": "code",
   "execution_count": 2,
   "metadata": {},
   "outputs": [],
   "source": [
    "from sklearn.metrics import confusion_matrix\n",
    "from imblearn.over_sampling import SMOTE"
   ]
  },
  {
   "cell_type": "markdown",
   "metadata": {},
   "source": [
    "# Class definitons"
   ]
  },
  {
   "cell_type": "code",
   "execution_count": 3,
   "metadata": {},
   "outputs": [],
   "source": [
    "class Data():\n",
    "    def __init__(self,data):\n",
    "        self.data=data\n",
    "        \n",
    "    def sample(self,start,end):\n",
    "        size=len(self.data)\n",
    "        return self.data[int(size*start):int(size*end)]\n",
    "    \n",
    "    def sample_smote(self,start,end):\n",
    "        data=self.sample(start,end)\n",
    "        dataSmote=np.array(data.drop(\"Class\",axis=1))\n",
    "        y=np.array(data[['Class']])\n",
    "        smt=SMOTE()\n",
    "        dataSmote,y=smt.fit_sample(dataSmote,y)\n",
    "        dataSmote=pd.DataFrame(dataSmote)\n",
    "        y=pd.DataFrame(y)\n",
    "        dataSmote['Class']=y\n",
    "        dataSmote=dataSmote.sample(frac=1)\n",
    "        dataSmote.columns=list(data.columns)\n",
    "        return dataSmote"
   ]
  },
  {
   "cell_type": "code",
   "execution_count": 4,
   "metadata": {},
   "outputs": [],
   "source": [
    "class Aggregator():\n",
    "    \n",
    "    def __init__(self):\n",
    "        self.wB1=0.55\n",
    "        self.wB2=0.35\n",
    "        self.wB3=0.10\n",
    "    \n",
    "    def aggregate(self,delta,B1,B2,B3):\n",
    "        delta=np.array(delta)\n",
    "        temp=(self.wB1*np.array(B1) + self.wB2*np.array(B2) + self.wB3*np.array(B3))\n",
    "        temp-=delta\n",
    "        delta+=temp\n",
    "        \n",
    "        return delta\n",
    "    "
   ]
  },
  {
   "cell_type": "code",
   "execution_count": 5,
   "metadata": {},
   "outputs": [],
   "source": [
    "class Model():\n",
    "    \n",
    "    def __init__(self):\n",
    "        self.input_shape=(30,)\n",
    "        self.model = Sequential()\n",
    "        self.model.add(Dense(32, activation='relu',input_shape=self.input_shape,kernel_regularizer=regularizers.l2(0.01))) \n",
    "        self.model.add(Dropout(0.2))\n",
    "        self.model.add(Dense(16, activation='relu'))\n",
    "        self.model.add(Dropout(0.1))\n",
    "        self.model.add(Dense(8, activation='relu'))\n",
    "        self.model.add(Dense(1, activation='sigmoid'))\n",
    "        self.model.compile(optimizer='adam',   #rmsprop\n",
    "                      loss='binary_crossentropy',\n",
    "                      metrics=['accuracy'])\n",
    "\n",
    "    \n",
    "    def saveModel(self):\n",
    "        model_json = self.model.to_json()\n",
    "        with open(\"model.json\", \"w\") as json_file:\n",
    "            json_file.write(model_json)\n",
    "        # serialize weights to HDF5\n",
    "        self.model.save_weights(\"model.h5\")\n",
    "        print(\"Saved model to disk\")\n",
    "        \n",
    "    def loadModel(self):\n",
    "        json_file = open('model.json', 'r')\n",
    "        loaded_model_json = json_file.read()\n",
    "        json_file.close()\n",
    "        loaded_model = model_from_json(loaded_model_json)\n",
    "        # load weights into new model\n",
    "        loaded_model.load_weights(\"model.h5\")\n",
    "        print(\"Loaded model from disk\")\n",
    "        loaded_model.compile(optimizer='adam',loss='binary_crossentropy',metrics=['accuracy'])\n",
    "        return loaded_model    \n",
    "    \n",
    "\n",
    "    def run(self,X,Y,validation_split=0.1,load=True):\n",
    "        if(load):\n",
    "            self.model=self.loadModel()\n",
    "        self.model.fit(X,Y,epochs=5,validation_split=validation_split, verbose=1)\n",
    "        \n",
    "    def evaluate(self,X,Y):\n",
    "        return self.model.evaluate(X,Y)[1]*100\n",
    "    \n",
    "    def loss(self,X,Y):\n",
    "        return self.model.evaluate(X,Y)[0]\n",
    "    \n",
    "    def predict(self,X):\n",
    "        return self.model.predict(X)\n",
    "        \n",
    "    \n",
    "    def getWeights(self):\n",
    "        return self.model.get_weights()\n",
    "    \n",
    "    def setWeights(self,weight):\n",
    "        self.model.set_weights(weight)\n"
   ]
  },
  {
   "cell_type": "code",
   "execution_count": 6,
   "metadata": {},
   "outputs": [],
   "source": [
    "class Bank(Model):\n",
    "    \n",
    "    def __init__(self,data,split_size=0):\n",
    "        super().__init__()\n",
    "        self.data=data\n",
    "        self.split(split_size)\n",
    "    \n",
    "    def setData(self,data,split_size=0):\n",
    "        self.data=data\n",
    "        self.split(split_size)\n",
    "        \n",
    "    def getData(self):\n",
    "        return self.data\n",
    "    \n",
    "    def split(self,split_size):\n",
    "        X=self.data.copy()\n",
    "        X.drop(['Class'],axis=1,inplace=True)\n",
    "        Y=self.data[['Class']]\n",
    "        self.X_train, self.X_test, self.Y_train, self.Y_test = train_test_split(X, Y, test_size=split_size)"
   ]
  },
  {
   "cell_type": "markdown",
   "metadata": {},
   "source": [
    "# EDA"
   ]
  },
  {
   "cell_type": "code",
   "execution_count": 8,
   "metadata": {},
   "outputs": [
    {
     "data": {
      "text/html": [
       "<div>\n",
       "<style scoped>\n",
       "    .dataframe tbody tr th:only-of-type {\n",
       "        vertical-align: middle;\n",
       "    }\n",
       "\n",
       "    .dataframe tbody tr th {\n",
       "        vertical-align: top;\n",
       "    }\n",
       "\n",
       "    .dataframe thead th {\n",
       "        text-align: right;\n",
       "    }\n",
       "</style>\n",
       "<table border=\"1\" class=\"dataframe\">\n",
       "  <thead>\n",
       "    <tr style=\"text-align: right;\">\n",
       "      <th></th>\n",
       "      <th>Time</th>\n",
       "      <th>V1</th>\n",
       "      <th>V2</th>\n",
       "      <th>V3</th>\n",
       "      <th>V4</th>\n",
       "      <th>V5</th>\n",
       "      <th>V6</th>\n",
       "      <th>V7</th>\n",
       "      <th>V8</th>\n",
       "      <th>V9</th>\n",
       "      <th>...</th>\n",
       "      <th>V21</th>\n",
       "      <th>V22</th>\n",
       "      <th>V23</th>\n",
       "      <th>V24</th>\n",
       "      <th>V25</th>\n",
       "      <th>V26</th>\n",
       "      <th>V27</th>\n",
       "      <th>V28</th>\n",
       "      <th>Amount</th>\n",
       "      <th>Class</th>\n",
       "    </tr>\n",
       "  </thead>\n",
       "  <tbody>\n",
       "    <tr>\n",
       "      <th>0</th>\n",
       "      <td>0.0</td>\n",
       "      <td>-1.359807</td>\n",
       "      <td>-0.072781</td>\n",
       "      <td>2.536347</td>\n",
       "      <td>1.378155</td>\n",
       "      <td>-0.338321</td>\n",
       "      <td>0.462388</td>\n",
       "      <td>0.239599</td>\n",
       "      <td>0.098698</td>\n",
       "      <td>0.363787</td>\n",
       "      <td>...</td>\n",
       "      <td>-0.018307</td>\n",
       "      <td>0.277838</td>\n",
       "      <td>-0.110474</td>\n",
       "      <td>0.066928</td>\n",
       "      <td>0.128539</td>\n",
       "      <td>-0.189115</td>\n",
       "      <td>0.133558</td>\n",
       "      <td>-0.021053</td>\n",
       "      <td>149.62</td>\n",
       "      <td>0</td>\n",
       "    </tr>\n",
       "    <tr>\n",
       "      <th>1</th>\n",
       "      <td>0.0</td>\n",
       "      <td>1.191857</td>\n",
       "      <td>0.266151</td>\n",
       "      <td>0.166480</td>\n",
       "      <td>0.448154</td>\n",
       "      <td>0.060018</td>\n",
       "      <td>-0.082361</td>\n",
       "      <td>-0.078803</td>\n",
       "      <td>0.085102</td>\n",
       "      <td>-0.255425</td>\n",
       "      <td>...</td>\n",
       "      <td>-0.225775</td>\n",
       "      <td>-0.638672</td>\n",
       "      <td>0.101288</td>\n",
       "      <td>-0.339846</td>\n",
       "      <td>0.167170</td>\n",
       "      <td>0.125895</td>\n",
       "      <td>-0.008983</td>\n",
       "      <td>0.014724</td>\n",
       "      <td>2.69</td>\n",
       "      <td>0</td>\n",
       "    </tr>\n",
       "    <tr>\n",
       "      <th>2</th>\n",
       "      <td>1.0</td>\n",
       "      <td>-1.358354</td>\n",
       "      <td>-1.340163</td>\n",
       "      <td>1.773209</td>\n",
       "      <td>0.379780</td>\n",
       "      <td>-0.503198</td>\n",
       "      <td>1.800499</td>\n",
       "      <td>0.791461</td>\n",
       "      <td>0.247676</td>\n",
       "      <td>-1.514654</td>\n",
       "      <td>...</td>\n",
       "      <td>0.247998</td>\n",
       "      <td>0.771679</td>\n",
       "      <td>0.909412</td>\n",
       "      <td>-0.689281</td>\n",
       "      <td>-0.327642</td>\n",
       "      <td>-0.139097</td>\n",
       "      <td>-0.055353</td>\n",
       "      <td>-0.059752</td>\n",
       "      <td>378.66</td>\n",
       "      <td>0</td>\n",
       "    </tr>\n",
       "    <tr>\n",
       "      <th>3</th>\n",
       "      <td>1.0</td>\n",
       "      <td>-0.966272</td>\n",
       "      <td>-0.185226</td>\n",
       "      <td>1.792993</td>\n",
       "      <td>-0.863291</td>\n",
       "      <td>-0.010309</td>\n",
       "      <td>1.247203</td>\n",
       "      <td>0.237609</td>\n",
       "      <td>0.377436</td>\n",
       "      <td>-1.387024</td>\n",
       "      <td>...</td>\n",
       "      <td>-0.108300</td>\n",
       "      <td>0.005274</td>\n",
       "      <td>-0.190321</td>\n",
       "      <td>-1.175575</td>\n",
       "      <td>0.647376</td>\n",
       "      <td>-0.221929</td>\n",
       "      <td>0.062723</td>\n",
       "      <td>0.061458</td>\n",
       "      <td>123.50</td>\n",
       "      <td>0</td>\n",
       "    </tr>\n",
       "    <tr>\n",
       "      <th>4</th>\n",
       "      <td>2.0</td>\n",
       "      <td>-1.158233</td>\n",
       "      <td>0.877737</td>\n",
       "      <td>1.548718</td>\n",
       "      <td>0.403034</td>\n",
       "      <td>-0.407193</td>\n",
       "      <td>0.095921</td>\n",
       "      <td>0.592941</td>\n",
       "      <td>-0.270533</td>\n",
       "      <td>0.817739</td>\n",
       "      <td>...</td>\n",
       "      <td>-0.009431</td>\n",
       "      <td>0.798278</td>\n",
       "      <td>-0.137458</td>\n",
       "      <td>0.141267</td>\n",
       "      <td>-0.206010</td>\n",
       "      <td>0.502292</td>\n",
       "      <td>0.219422</td>\n",
       "      <td>0.215153</td>\n",
       "      <td>69.99</td>\n",
       "      <td>0</td>\n",
       "    </tr>\n",
       "  </tbody>\n",
       "</table>\n",
       "<p>5 rows × 31 columns</p>\n",
       "</div>"
      ],
      "text/plain": [
       "   Time        V1        V2        V3        V4        V5        V6        V7  \\\n",
       "0   0.0 -1.359807 -0.072781  2.536347  1.378155 -0.338321  0.462388  0.239599   \n",
       "1   0.0  1.191857  0.266151  0.166480  0.448154  0.060018 -0.082361 -0.078803   \n",
       "2   1.0 -1.358354 -1.340163  1.773209  0.379780 -0.503198  1.800499  0.791461   \n",
       "3   1.0 -0.966272 -0.185226  1.792993 -0.863291 -0.010309  1.247203  0.237609   \n",
       "4   2.0 -1.158233  0.877737  1.548718  0.403034 -0.407193  0.095921  0.592941   \n",
       "\n",
       "         V8        V9  ...       V21       V22       V23       V24       V25  \\\n",
       "0  0.098698  0.363787  ... -0.018307  0.277838 -0.110474  0.066928  0.128539   \n",
       "1  0.085102 -0.255425  ... -0.225775 -0.638672  0.101288 -0.339846  0.167170   \n",
       "2  0.247676 -1.514654  ...  0.247998  0.771679  0.909412 -0.689281 -0.327642   \n",
       "3  0.377436 -1.387024  ... -0.108300  0.005274 -0.190321 -1.175575  0.647376   \n",
       "4 -0.270533  0.817739  ... -0.009431  0.798278 -0.137458  0.141267 -0.206010   \n",
       "\n",
       "        V26       V27       V28  Amount  Class  \n",
       "0 -0.189115  0.133558 -0.021053  149.62      0  \n",
       "1  0.125895 -0.008983  0.014724    2.69      0  \n",
       "2 -0.139097 -0.055353 -0.059752  378.66      0  \n",
       "3 -0.221929  0.062723  0.061458  123.50      0  \n",
       "4  0.502292  0.219422  0.215153   69.99      0  \n",
       "\n",
       "[5 rows x 31 columns]"
      ]
     },
     "execution_count": 8,
     "metadata": {},
     "output_type": "execute_result"
    }
   ],
   "source": [
    "data = pd.read_csv('creditcard.csv')\n",
    "data.head()"
   ]
  },
  {
   "cell_type": "code",
   "execution_count": 9,
   "metadata": {},
   "outputs": [
    {
     "data": {
      "text/plain": [
       "(284807, 31)"
      ]
     },
     "execution_count": 9,
     "metadata": {},
     "output_type": "execute_result"
    }
   ],
   "source": [
    "data.shape"
   ]
  },
  {
   "cell_type": "code",
   "execution_count": 10,
   "metadata": {},
   "outputs": [
    {
     "data": {
      "text/html": [
       "<div>\n",
       "<style scoped>\n",
       "    .dataframe tbody tr th:only-of-type {\n",
       "        vertical-align: middle;\n",
       "    }\n",
       "\n",
       "    .dataframe tbody tr th {\n",
       "        vertical-align: top;\n",
       "    }\n",
       "\n",
       "    .dataframe thead th {\n",
       "        text-align: right;\n",
       "    }\n",
       "</style>\n",
       "<table border=\"1\" class=\"dataframe\">\n",
       "  <thead>\n",
       "    <tr style=\"text-align: right;\">\n",
       "      <th></th>\n",
       "      <th>scaled_amount</th>\n",
       "      <th>scaled_time</th>\n",
       "      <th>V1</th>\n",
       "      <th>V2</th>\n",
       "      <th>V3</th>\n",
       "      <th>V4</th>\n",
       "      <th>V5</th>\n",
       "      <th>V6</th>\n",
       "      <th>V7</th>\n",
       "      <th>V8</th>\n",
       "      <th>...</th>\n",
       "      <th>V20</th>\n",
       "      <th>V21</th>\n",
       "      <th>V22</th>\n",
       "      <th>V23</th>\n",
       "      <th>V24</th>\n",
       "      <th>V25</th>\n",
       "      <th>V26</th>\n",
       "      <th>V27</th>\n",
       "      <th>V28</th>\n",
       "      <th>Class</th>\n",
       "    </tr>\n",
       "  </thead>\n",
       "  <tbody>\n",
       "    <tr>\n",
       "      <th>142844</th>\n",
       "      <td>0.181513</td>\n",
       "      <td>0.003266</td>\n",
       "      <td>1.318343</td>\n",
       "      <td>-1.036400</td>\n",
       "      <td>0.312187</td>\n",
       "      <td>-2.640723</td>\n",
       "      <td>-1.327313</td>\n",
       "      <td>-0.778389</td>\n",
       "      <td>-0.658728</td>\n",
       "      <td>-0.160667</td>\n",
       "      <td>...</td>\n",
       "      <td>-0.408939</td>\n",
       "      <td>-0.298043</td>\n",
       "      <td>-0.061263</td>\n",
       "      <td>-0.056509</td>\n",
       "      <td>0.117151</td>\n",
       "      <td>0.577944</td>\n",
       "      <td>-0.711092</td>\n",
       "      <td>0.127571</td>\n",
       "      <td>0.034203</td>\n",
       "      <td>0</td>\n",
       "    </tr>\n",
       "    <tr>\n",
       "      <th>2383</th>\n",
       "      <td>-0.231119</td>\n",
       "      <td>-0.972251</td>\n",
       "      <td>1.153468</td>\n",
       "      <td>0.462401</td>\n",
       "      <td>1.203474</td>\n",
       "      <td>2.494542</td>\n",
       "      <td>-0.540051</td>\n",
       "      <td>-0.264053</td>\n",
       "      <td>-0.255080</td>\n",
       "      <td>0.019307</td>\n",
       "      <td>...</td>\n",
       "      <td>-0.126907</td>\n",
       "      <td>-0.075529</td>\n",
       "      <td>-0.266813</td>\n",
       "      <td>0.098114</td>\n",
       "      <td>0.355383</td>\n",
       "      <td>0.204839</td>\n",
       "      <td>-0.147684</td>\n",
       "      <td>0.018640</td>\n",
       "      <td>0.036591</td>\n",
       "      <td>0</td>\n",
       "    </tr>\n",
       "    <tr>\n",
       "      <th>137131</th>\n",
       "      <td>-0.041640</td>\n",
       "      <td>-0.031309</td>\n",
       "      <td>1.182378</td>\n",
       "      <td>0.557112</td>\n",
       "      <td>0.303128</td>\n",
       "      <td>2.514768</td>\n",
       "      <td>-0.067834</td>\n",
       "      <td>-0.735121</td>\n",
       "      <td>0.337537</td>\n",
       "      <td>-0.153705</td>\n",
       "      <td>...</td>\n",
       "      <td>-0.203140</td>\n",
       "      <td>-0.052627</td>\n",
       "      <td>-0.268914</td>\n",
       "      <td>-0.051746</td>\n",
       "      <td>0.349719</td>\n",
       "      <td>0.564515</td>\n",
       "      <td>0.008880</td>\n",
       "      <td>-0.038165</td>\n",
       "      <td>0.015921</td>\n",
       "      <td>0</td>\n",
       "    </tr>\n",
       "    <tr>\n",
       "      <th>134104</th>\n",
       "      <td>0.810312</td>\n",
       "      <td>-0.047522</td>\n",
       "      <td>1.089750</td>\n",
       "      <td>-0.332281</td>\n",
       "      <td>0.483356</td>\n",
       "      <td>-0.047688</td>\n",
       "      <td>-0.693751</td>\n",
       "      <td>-0.530055</td>\n",
       "      <td>-0.193517</td>\n",
       "      <td>-0.037993</td>\n",
       "      <td>...</td>\n",
       "      <td>0.051106</td>\n",
       "      <td>-0.061065</td>\n",
       "      <td>-0.312846</td>\n",
       "      <td>0.060158</td>\n",
       "      <td>0.136358</td>\n",
       "      <td>0.010790</td>\n",
       "      <td>0.926304</td>\n",
       "      <td>-0.070002</td>\n",
       "      <td>0.019248</td>\n",
       "      <td>0</td>\n",
       "    </tr>\n",
       "    <tr>\n",
       "      <th>135726</th>\n",
       "      <td>-0.156501</td>\n",
       "      <td>-0.038969</td>\n",
       "      <td>-4.251975</td>\n",
       "      <td>-3.347874</td>\n",
       "      <td>1.162130</td>\n",
       "      <td>-1.637939</td>\n",
       "      <td>0.266095</td>\n",
       "      <td>-1.530254</td>\n",
       "      <td>-1.170741</td>\n",
       "      <td>0.006087</td>\n",
       "      <td>...</td>\n",
       "      <td>-2.530412</td>\n",
       "      <td>-0.713360</td>\n",
       "      <td>0.587118</td>\n",
       "      <td>1.844330</td>\n",
       "      <td>-0.076098</td>\n",
       "      <td>1.089744</td>\n",
       "      <td>-0.026921</td>\n",
       "      <td>0.389151</td>\n",
       "      <td>-0.421699</td>\n",
       "      <td>0</td>\n",
       "    </tr>\n",
       "  </tbody>\n",
       "</table>\n",
       "<p>5 rows × 31 columns</p>\n",
       "</div>"
      ],
      "text/plain": [
       "        scaled_amount  scaled_time        V1        V2        V3        V4  \\\n",
       "142844       0.181513     0.003266  1.318343 -1.036400  0.312187 -2.640723   \n",
       "2383        -0.231119    -0.972251  1.153468  0.462401  1.203474  2.494542   \n",
       "137131      -0.041640    -0.031309  1.182378  0.557112  0.303128  2.514768   \n",
       "134104       0.810312    -0.047522  1.089750 -0.332281  0.483356 -0.047688   \n",
       "135726      -0.156501    -0.038969 -4.251975 -3.347874  1.162130 -1.637939   \n",
       "\n",
       "              V5        V6        V7        V8  ...       V20       V21  \\\n",
       "142844 -1.327313 -0.778389 -0.658728 -0.160667  ... -0.408939 -0.298043   \n",
       "2383   -0.540051 -0.264053 -0.255080  0.019307  ... -0.126907 -0.075529   \n",
       "137131 -0.067834 -0.735121  0.337537 -0.153705  ... -0.203140 -0.052627   \n",
       "134104 -0.693751 -0.530055 -0.193517 -0.037993  ...  0.051106 -0.061065   \n",
       "135726  0.266095 -1.530254 -1.170741  0.006087  ... -2.530412 -0.713360   \n",
       "\n",
       "             V22       V23       V24       V25       V26       V27       V28  \\\n",
       "142844 -0.061263 -0.056509  0.117151  0.577944 -0.711092  0.127571  0.034203   \n",
       "2383   -0.266813  0.098114  0.355383  0.204839 -0.147684  0.018640  0.036591   \n",
       "137131 -0.268914 -0.051746  0.349719  0.564515  0.008880 -0.038165  0.015921   \n",
       "134104 -0.312846  0.060158  0.136358  0.010790  0.926304 -0.070002  0.019248   \n",
       "135726  0.587118  1.844330 -0.076098  1.089744 -0.026921  0.389151 -0.421699   \n",
       "\n",
       "        Class  \n",
       "142844      0  \n",
       "2383        0  \n",
       "137131      0  \n",
       "134104      0  \n",
       "135726      0  \n",
       "\n",
       "[5 rows x 31 columns]"
      ]
     },
     "execution_count": 10,
     "metadata": {},
     "output_type": "execute_result"
    }
   ],
   "source": [
    "std_scaler = StandardScaler()\n",
    "rob_scaler = RobustScaler()\n",
    "\n",
    "data['scaled_amount'] = rob_scaler.fit_transform(data['Amount'].values.reshape(-1,1))\n",
    "data['scaled_time'] = rob_scaler.fit_transform(data['Time'].values.reshape(-1,1))\n",
    "data.drop(['Time','Amount'], axis=1, inplace=True)\n",
    "\n",
    "scaled_amount = data['scaled_amount']\n",
    "scaled_time = data['scaled_time']\n",
    "\n",
    "data.drop(['scaled_amount', 'scaled_time'], axis=1, inplace=True)\n",
    "data.insert(0, 'scaled_amount', scaled_amount)\n",
    "data.insert(1, 'scaled_time', scaled_time)\n",
    "\n",
    "data.head()\n",
    "\n",
    "data = data.sample(frac=1)\n",
    "\n",
    "# amount of fraud classes 492 rows.\n",
    "fraud_data = data.loc[data['Class'] == 1]\n",
    "non_fraud_data = data.loc[data['Class'] == 0]\n",
    "\n",
    "normal_distributed_data = pd.concat([fraud_data, non_fraud_data])\n",
    "\n",
    "# Shuffle dataframe rows\n",
    "new_data = normal_distributed_data.sample(frac=1, random_state=42)\n",
    "\n",
    "new_data.head()"
   ]
  },
  {
   "cell_type": "code",
   "execution_count": 11,
   "metadata": {},
   "outputs": [
    {
     "name": "stderr",
     "output_type": "stream",
     "text": [
      "C:\\Users\\nomif\\AppData\\Local\\Continuum\\anaconda3\\envs\\Privacy\\lib\\site-packages\\sklearn\\utils\\validation.py:760: DataConversionWarning: A column-vector y was passed when a 1d array was expected. Please change the shape of y to (n_samples, ), for example using ravel().\n",
      "  y = column_or_1d(y, warn=True)\n"
     ]
    }
   ],
   "source": [
    "#Using SMOTE\n",
    "\n",
    "dataSmote=np.array(data.drop(\"Class\",axis=1))\n",
    "y=np.array(data[['Class']])\n",
    "smt=SMOTE()\n",
    "dataSmote,y=smt.fit_sample(dataSmote,y)\n",
    "dataSmote=pd.DataFrame(dataSmote)\n",
    "y=pd.DataFrame(y)\n",
    "dataSmote['Class']=y\n",
    "dataSmote=dataSmote.sample(frac=1)\n",
    "dataSmote.columns=list(data.columns)"
   ]
  },
  {
   "cell_type": "code",
   "execution_count": 15,
   "metadata": {},
   "outputs": [
    {
     "data": {
      "text/plain": [
       "Text(0.5, 1.0, 'Fraud Distribution SMOTE')"
      ]
     },
     "execution_count": 15,
     "metadata": {},
     "output_type": "execute_result"
    },
    {
     "data": {
      "image/png": "[encoded data removed]",
      "text/plain": [
       "<Figure size 1440x432 with 2 Axes>"
      ]
     },
     "metadata": {
      "needs_background": "light"
     },
     "output_type": "display_data"
    }
   ],
   "source": [
    "f, axes = plt.subplots(ncols=2, figsize=(20,6))\n",
    "\n",
    "sb.countplot('Class',data=data,ax=axes[0])\n",
    "axes[0].set_title('Fraud Distribution Original')\n",
    "\n",
    "sb.countplot('Class',data=dataSmote,ax=axes[1])\n",
    "axes[1].set_title('Fraud Distribution SMOTE')"
   ]
  },
  {
   "cell_type": "code",
   "execution_count": 13,
   "metadata": {},
   "outputs": [
    {
     "data": {
      "text/plain": [
       "Text(0.5, 1.0, 'V10 vs Class Negative Correlation SMOTE')"
      ]
     },
     "execution_count": 13,
     "metadata": {},
     "output_type": "execute_result"
    },
    {
     "data": {
      "image/png": "[encoded data removed]",
      "text/plain": [
       "<Figure size 1440x1152 with 8 Axes>"
      ]
     },
     "metadata": {
      "needs_background": "light"
     },
     "output_type": "display_data"
    }
   ],
   "source": [
    "f, axes = plt.subplots(nrows=2,ncols=4, figsize=(20,16))\n",
    "sb.boxplot(x=\"Class\", y=\"V17\", data=data,ax=axes[0,0])\n",
    "axes[0,0].set_title('V17 vs Class Negative Correlation Original')\n",
    "\n",
    "sb.boxplot(x=\"Class\", y=\"V14\", data=data,ax=axes[0,1])\n",
    "axes[0,1].set_title('V14 vs Class Negative Correlation Original')\n",
    "\n",
    "sb.boxplot(x=\"Class\", y=\"V12\", data=data,ax=axes[0,2])\n",
    "axes[0,2].set_title('V12 vs Class Negative Correlation Original')\n",
    "\n",
    "sb.boxplot(x=\"Class\", y=\"V10\", data=data,ax=axes[0,3])\n",
    "axes[0,3].set_title('V10 vs Class Negative Correlation Original')\n",
    "\n",
    "sb.boxplot(x=\"Class\", y=\"V17\", data=dataSmote,ax=axes[1,0])\n",
    "axes[1,0].set_title('V17 vs Class Negative Correlation SMOTE')\n",
    "\n",
    "sb.boxplot(x=\"Class\", y=\"V14\", data=dataSmote,ax=axes[1,1])\n",
    "axes[1,1].set_title('V14 vs Class Negative Correlation SMOTE')\n",
    "\n",
    "sb.boxplot(x=\"Class\", y=\"V12\", data=dataSmote,ax=axes[1,2])\n",
    "axes[1,2].set_title('V12 vs Class Negative Correlation SMOTE')\n",
    "\n",
    "sb.boxplot(x=\"Class\", y=\"V10\", data=dataSmote,ax=axes[1,3])\n",
    "axes[1,3].set_title('V10 vs Class Negative Correlation SMOTE')\n",
    "\n"
   ]
  },
  {
   "cell_type": "code",
   "execution_count": 14,
   "metadata": {},
   "outputs": [
    {
     "data": {
      "text/plain": [
       "Text(0.5, 1.0, 'V2 vs Class Positive Correlation SMOTE')"
      ]
     },
     "execution_count": 14,
     "metadata": {},
     "output_type": "execute_result"
    },
    {
     "data": {
      "image/png": "[encoded data removed]",
      "text/plain": [
       "<Figure size 1440x1152 with 8 Axes>"
      ]
     },
     "metadata": {
      "needs_background": "light"
     },
     "output_type": "display_data"
    }
   ],
   "source": [
    "f, axes = plt.subplots(nrows=2,ncols=4, figsize=(20,16))\n",
    "sb.boxplot(x=\"Class\", y=\"V11\", data=data,ax=axes[0,0])\n",
    "axes[0,0].set_title('V11 vs Class Positive Correlation Original')\n",
    "\n",
    "sb.boxplot(x=\"Class\", y=\"V9\", data=data,ax=axes[0,1])\n",
    "axes[0,1].set_title('V9 vs Class Positive Correlation Original')\n",
    "\n",
    "sb.boxplot(x=\"Class\", y=\"V4\", data=data,ax=axes[0,2])\n",
    "axes[0,2].set_title('V4 vs Class Positive Correlation Original')\n",
    "\n",
    "sb.boxplot(x=\"Class\", y=\"V2\", data=data,ax=axes[0,3])\n",
    "axes[0,3].set_title('V2 vs Class Positive Correlation Original')\n",
    "\n",
    "sb.boxplot(x=\"Class\", y=\"V11\", data=dataSmote,ax=axes[1,0])\n",
    "axes[1,0].set_title('V11 vs Class Positive Correlation SMOTE')\n",
    "\n",
    "sb.boxplot(x=\"Class\", y=\"V9\", data=dataSmote,ax=axes[1,1])\n",
    "axes[1,1].set_title('V9 vs Class Positive Correlation SMOTE')\n",
    "\n",
    "sb.boxplot(x=\"Class\", y=\"V4\", data=dataSmote,ax=axes[1,2])\n",
    "axes[1,2].set_title('V4 vs Class Positive Correlation SMOTE')\n",
    "\n",
    "sb.boxplot(x=\"Class\", y=\"V2\", data=dataSmote,ax=axes[1,3])\n",
    "axes[1,3].set_title('V2 vs Class Positive Correlation SMOTE')"
   ]
  },
  {
   "cell_type": "markdown",
   "metadata": {},
   "source": [
    "# Federated Learning"
   ]
  },
  {
   "cell_type": "code",
   "execution_count": 62,
   "metadata": {},
   "outputs": [],
   "source": [
    "results={}\n",
    "aggregator=Aggregator()"
   ]
  },
  {
   "cell_type": "code",
   "execution_count": 14,
   "metadata": {},
   "outputs": [
    {
     "name": "stderr",
     "output_type": "stream",
     "text": [
      "C:\\Users\\nomif\\AppData\\Local\\Continuum\\anaconda3\\envs\\Privacy\\lib\\site-packages\\sklearn\\utils\\validation.py:760: DataConversionWarning: A column-vector y was passed when a 1d array was expected. Please change the shape of y to (n_samples, ), for example using ravel().\n",
      "  y = column_or_1d(y, warn=True)\n",
      "C:\\Users\\nomif\\AppData\\Local\\Continuum\\anaconda3\\envs\\Privacy\\lib\\site-packages\\sklearn\\utils\\validation.py:760: DataConversionWarning: A column-vector y was passed when a 1d array was expected. Please change the shape of y to (n_samples, ), for example using ravel().\n",
      "  y = column_or_1d(y, warn=True)\n",
      "C:\\Users\\nomif\\AppData\\Local\\Continuum\\anaconda3\\envs\\Privacy\\lib\\site-packages\\sklearn\\utils\\validation.py:760: DataConversionWarning: A column-vector y was passed when a 1d array was expected. Please change the shape of y to (n_samples, ), for example using ravel().\n",
      "  y = column_or_1d(y, warn=True)\n",
      "C:\\Users\\nomif\\AppData\\Local\\Continuum\\anaconda3\\envs\\Privacy\\lib\\site-packages\\sklearn\\utils\\validation.py:760: DataConversionWarning: A column-vector y was passed when a 1d array was expected. Please change the shape of y to (n_samples, ), for example using ravel().\n",
      "  y = column_or_1d(y, warn=True)\n",
      "C:\\Users\\nomif\\AppData\\Local\\Continuum\\anaconda3\\envs\\Privacy\\lib\\site-packages\\sklearn\\utils\\validation.py:760: DataConversionWarning: A column-vector y was passed when a 1d array was expected. Please change the shape of y to (n_samples, ), for example using ravel().\n",
      "  y = column_or_1d(y, warn=True)\n",
      "C:\\Users\\nomif\\AppData\\Local\\Continuum\\anaconda3\\envs\\Privacy\\lib\\site-packages\\sklearn\\utils\\validation.py:760: DataConversionWarning: A column-vector y was passed when a 1d array was expected. Please change the shape of y to (n_samples, ), for example using ravel().\n",
      "  y = column_or_1d(y, warn=True)\n",
      "C:\\Users\\nomif\\AppData\\Local\\Continuum\\anaconda3\\envs\\Privacy\\lib\\site-packages\\sklearn\\utils\\validation.py:760: DataConversionWarning: A column-vector y was passed when a 1d array was expected. Please change the shape of y to (n_samples, ), for example using ravel().\n",
      "  y = column_or_1d(y, warn=True)\n",
      "C:\\Users\\nomif\\AppData\\Local\\Continuum\\anaconda3\\envs\\Privacy\\lib\\site-packages\\sklearn\\utils\\validation.py:760: DataConversionWarning: A column-vector y was passed when a 1d array was expected. Please change the shape of y to (n_samples, ), for example using ravel().\n",
      "  y = column_or_1d(y, warn=True)\n"
     ]
    }
   ],
   "source": [
    "datum=Data(data)\n",
    "\n",
    "Data_Global=datum.sample_smote(0,0.1)              #use datum.sample  if smote not required\n",
    "Data_Model_1A=datum.sample_smote(0.1,0.3)\n",
    "Data_Model_2A=datum.sample_smote(0.3,0.45)\n",
    "Data_Model_3A=datum.sample_smote(0.45,50)\n",
    "Data_Model_1B=datum.sample_smote(0.50,70)\n",
    "Data_Model_2B=datum.sample_smote(0.70,85)\n",
    "Data_Model_3B=datum.sample_smote(0.85,90)\n",
    "Data_Test=datum.sample_smote(0.90,1)"
   ]
  },
  {
   "cell_type": "code",
   "execution_count": 18,
   "metadata": {},
   "outputs": [
    {
     "name": "stdout",
     "output_type": "stream",
     "text": [
      "WARNING:tensorflow:From C:\\Users\\nomif\\AppData\\Local\\Continuum\\anaconda3\\envs\\Privacy\\lib\\site-packages\\keras\\backend\\tensorflow_backend.py:74: The name tf.get_default_graph is deprecated. Please use tf.compat.v1.get_default_graph instead.\n",
      "\n",
      "WARNING:tensorflow:From C:\\Users\\nomif\\AppData\\Local\\Continuum\\anaconda3\\envs\\Privacy\\lib\\site-packages\\keras\\backend\\tensorflow_backend.py:517: The name tf.placeholder is deprecated. Please use tf.compat.v1.placeholder instead.\n",
      "\n",
      "WARNING:tensorflow:From C:\\Users\\nomif\\AppData\\Local\\Continuum\\anaconda3\\envs\\Privacy\\lib\\site-packages\\keras\\backend\\tensorflow_backend.py:4138: The name tf.random_uniform is deprecated. Please use tf.random.uniform instead.\n",
      "\n",
      "WARNING:tensorflow:From C:\\Users\\nomif\\AppData\\Local\\Continuum\\anaconda3\\envs\\Privacy\\lib\\site-packages\\keras\\backend\\tensorflow_backend.py:133: The name tf.placeholder_with_default is deprecated. Please use tf.compat.v1.placeholder_with_default instead.\n",
      "\n",
      "WARNING:tensorflow:From C:\\Users\\nomif\\AppData\\Local\\Continuum\\anaconda3\\envs\\Privacy\\lib\\site-packages\\keras\\backend\\tensorflow_backend.py:3445: calling dropout (from tensorflow.python.ops.nn_ops) with keep_prob is deprecated and will be removed in a future version.\n",
      "Instructions for updating:\n",
      "Please use `rate` instead of `keep_prob`. Rate should be set to `rate = 1 - keep_prob`.\n",
      "WARNING:tensorflow:From C:\\Users\\nomif\\AppData\\Local\\Continuum\\anaconda3\\envs\\Privacy\\lib\\site-packages\\keras\\optimizers.py:790: The name tf.train.Optimizer is deprecated. Please use tf.compat.v1.train.Optimizer instead.\n",
      "\n",
      "WARNING:tensorflow:From C:\\Users\\nomif\\AppData\\Local\\Continuum\\anaconda3\\envs\\Privacy\\lib\\site-packages\\keras\\backend\\tensorflow_backend.py:3376: The name tf.log is deprecated. Please use tf.math.log instead.\n",
      "\n",
      "WARNING:tensorflow:From C:\\Users\\nomif\\AppData\\Local\\Continuum\\anaconda3\\envs\\Privacy\\lib\\site-packages\\tensorflow\\python\\ops\\nn_impl.py:180: add_dispatch_support.<locals>.wrapper (from tensorflow.python.ops.array_ops) is deprecated and will be removed in a future version.\n",
      "Instructions for updating:\n",
      "Use tf.where in 2.0, which has the same broadcast rule as np.where\n",
      "Train on 40941 samples, validate on 4549 samples\n",
      "Epoch 1/5\n",
      "40941/40941 [==============================] - 13s 311us/step - loss: 0.2626 - acc: 0.9336 - val_loss: 0.1105 - val_acc: 0.9648\n",
      "Epoch 2/5\n",
      "40941/40941 [==============================] - 7s 170us/step - loss: 0.1078 - acc: 0.9673 - val_loss: 0.0729 - val_acc: 0.9818\n",
      "Epoch 3/5\n",
      "40941/40941 [==============================] - 7s 160us/step - loss: 0.0814 - acc: 0.9769 - val_loss: 0.0557 - val_acc: 0.9883\n",
      "Epoch 4/5\n",
      "40941/40941 [==============================] - 6s 157us/step - loss: 0.0710 - acc: 0.9819 - val_loss: 0.0484 - val_acc: 0.9910\n",
      "Epoch 5/5\n",
      "40941/40941 [==============================] - 7s 161us/step - loss: 0.0630 - acc: 0.9842 - val_loss: 0.0594 - val_acc: 0.9870\n",
      "11373/11373 [==============================] - 1s 51us/step\n",
      "Saved model to disk\n"
     ]
    }
   ],
   "source": [
    "GlobalBank=Bank(Data_Global,0.2)\n",
    "GlobalBank.run(GlobalBank.X_train, GlobalBank.Y_train,load=False)\n",
    "\n",
    "results['BankG.1']=GlobalBank.evaluate(GlobalBank.X_test,GlobalBank.Y_test)\n",
    "\n",
    "GlobalBank.saveModel()\n"
   ]
  },
  {
   "cell_type": "code",
   "execution_count": 64,
   "metadata": {
    "scrolled": true
   },
   "outputs": [
    {
     "name": "stdout",
     "output_type": "stream",
     "text": [
      "Loaded model from disk\n",
      "Train on 81882 samples, validate on 9098 samples\n",
      "Epoch 1/5\n",
      "81882/81882 [==============================] - 12s 147us/step - loss: 0.0583 - acc: 0.9860 - val_loss: 0.0424 - val_acc: 0.9923\n",
      "Epoch 2/5\n",
      "81882/81882 [==============================] - 11s 130us/step - loss: 0.0575 - acc: 0.9872 - val_loss: 0.0454 - val_acc: 0.9918\n",
      "Epoch 3/5\n",
      "81882/81882 [==============================] - 13s 156us/step - loss: 0.0541 - acc: 0.9881 - val_loss: 0.0489 - val_acc: 0.9900\n",
      "Epoch 4/5\n",
      "81882/81882 [==============================] - 11s 138us/step - loss: 0.0551 - acc: 0.9878 - val_loss: 0.0385 - val_acc: 0.9951\n",
      "Epoch 5/5\n",
      "81882/81882 [==============================] - 12s 148us/step - loss: 0.0525 - acc: 0.9887 - val_loss: 0.0401 - val_acc: 0.9923\n",
      "Loaded model from disk\n",
      "Train on 61411 samples, validate on 6824 samples\n",
      "Epoch 1/5\n",
      "61411/61411 [==============================] - 10s 165us/step - loss: 0.0590 - acc: 0.9856 - val_loss: 0.0418 - val_acc: 0.9930\n",
      "Epoch 2/5\n",
      "61411/61411 [==============================] - 9s 146us/step - loss: 0.0573 - acc: 0.9868 - val_loss: 0.0431 - val_acc: 0.9914\n",
      "Epoch 3/5\n",
      "61411/61411 [==============================] - 10s 159us/step - loss: 0.0560 - acc: 0.9872 - val_loss: 0.0431 - val_acc: 0.9921\n",
      "Epoch 4/5\n",
      "61411/61411 [==============================] - 9s 153us/step - loss: 0.0554 - acc: 0.9875 - val_loss: 0.0423 - val_acc: 0.9916\n",
      "Epoch 5/5\n",
      "61411/61411 [==============================] - 9s 148us/step - loss: 0.0541 - acc: 0.9879 - val_loss: 0.0433 - val_acc: 0.9925\n",
      "Loaded model from disk\n",
      "Train on 225177 samples, validate on 25020 samples\n",
      "Epoch 1/5\n",
      "225177/225177 [==============================] - 34s 152us/step - loss: 0.0566 - acc: 0.9869 - val_loss: 0.0443 - val_acc: 0.9930\n",
      "Epoch 2/5\n",
      "225177/225177 [==============================] - 34s 149us/step - loss: 0.0528 - acc: 0.9888 - val_loss: 0.0399 - val_acc: 0.9933\n",
      "Epoch 3/5\n",
      "225177/225177 [==============================] - 33s 144us/step - loss: 0.0522 - acc: 0.9889 - val_loss: 0.0393 - val_acc: 0.9933\n",
      "Epoch 4/5\n",
      "225177/225177 [==============================] - 33s 149us/step - loss: 0.0510 - acc: 0.9895 - val_loss: 0.0372 - val_acc: 0.9944\n",
      "Epoch 5/5\n",
      "225177/225177 [==============================] - 35s 154us/step - loss: 0.0507 - acc: 0.9898 - val_loss: 0.0473 - val_acc: 0.9905\n",
      "Saved model to disk\n"
     ]
    }
   ],
   "source": [
    "\n",
    "\n",
    "Bank1=Bank(Data_Model_1A,0.2)\n",
    "Bank1.run(Bank1.X_train,Bank1.Y_train)\n",
    "\n",
    "Bank2=Bank(Data_Model_2A,0.2)\n",
    "Bank2.run(Bank2.X_train,Bank2.Y_train)\n",
    "\n",
    "Bank3=Bank(Data_Model_3A,0.2)\n",
    "Bank3.run(Bank3.X_train,Bank3.Y_train)\n",
    "\n",
    "delta=aggregator.aggregate(GlobalBank.getWeights(),Bank1.getWeights(),Bank2.getWeights(),Bank3.getWeights())\n",
    "\n",
    "GlobalBank.setWeights(delta)\n",
    "GlobalBank.saveModel()"
   ]
  },
  {
   "cell_type": "code",
   "execution_count": 65,
   "metadata": {},
   "outputs": [
    {
     "name": "stdout",
     "output_type": "stream",
     "text": [
      "22746/22746 [==============================] - 1s 55us/step\n",
      "17059/17059 [==============================] - 1s 48us/step\n",
      "62550/62550 [==============================] - 3s 49us/step\n",
      "11373/11373 [==============================] - 1s 56us/step\n"
     ]
    }
   ],
   "source": [
    "results['Bank1.1']=Bank1.evaluate(Bank1.X_test,Bank1.Y_test)\n",
    "results['Bank2.1']=Bank2.evaluate(Bank2.X_test,Bank2.Y_test)\n",
    "results['Bank3.1']=Bank3.evaluate(Bank3.X_test,Bank3.Y_test)\n",
    "results['BankG.2']=GlobalBank.evaluate(GlobalBank.X_test,GlobalBank.Y_test)"
   ]
  },
  {
   "cell_type": "code",
   "execution_count": 66,
   "metadata": {},
   "outputs": [
    {
     "name": "stdout",
     "output_type": "stream",
     "text": [
      "Loaded model from disk\n",
      "Train on 204706 samples, validate on 22746 samples\n",
      "Epoch 1/5\n",
      "204706/204706 [==============================] - 36s 178us/step - loss: 0.0524 - acc: 0.9883 - val_loss: 0.0327 - val_acc: 0.9956\n",
      "Epoch 2/5\n",
      "204706/204706 [==============================] - 33s 159us/step - loss: 0.0529 - acc: 0.9888 - val_loss: 0.0373 - val_acc: 0.9940\n",
      "Epoch 3/5\n",
      "204706/204706 [==============================] - 32s 154us/step - loss: 0.0525 - acc: 0.9892 - val_loss: 0.0380 - val_acc: 0.9942\n",
      "Epoch 4/5\n",
      "204706/204706 [==============================] - 31s 152us/step - loss: 0.0521 - acc: 0.9893 - val_loss: 0.0384 - val_acc: 0.9941\n",
      "Epoch 5/5\n",
      "204706/204706 [==============================] - 31s 151us/step - loss: 0.0516 - acc: 0.9895 - val_loss: 0.0381 - val_acc: 0.9940\n",
      "Loaded model from disk\n",
      "Train on 122823 samples, validate on 13648 samples\n",
      "Epoch 1/5\n",
      "122823/122823 [==============================] - 19s 157us/step - loss: 0.0529 - acc: 0.9879 - val_loss: 0.0365 - val_acc: 0.9943\n",
      "Epoch 2/5\n",
      "122823/122823 [==============================] - 21s 167us/step - loss: 0.0520 - acc: 0.9886 - val_loss: 0.0350 - val_acc: 0.9945\n",
      "Epoch 3/5\n",
      "122823/122823 [==============================] - 19s 153us/step - loss: 0.0524 - acc: 0.9891 - val_loss: 0.0370 - val_acc: 0.9941\n",
      "Epoch 4/5\n",
      "122823/122823 [==============================] - 19s 151us/step - loss: 0.0513 - acc: 0.9893 - val_loss: 0.0397 - val_acc: 0.9933\n",
      "Epoch 5/5\n",
      "122823/122823 [==============================] - 19s 152us/step - loss: 0.0520 - acc: 0.9891 - val_loss: 0.0432 - val_acc: 0.9910\n",
      "Loaded model from disk\n",
      "Train on 61412 samples, validate on 6824 samples\n",
      "Epoch 1/5\n",
      "61412/61412 [==============================] - 11s 175us/step - loss: 0.0532 - acc: 0.9871 - val_loss: 0.0377 - val_acc: 0.9943\n",
      "Epoch 2/5\n",
      "61412/61412 [==============================] - 9s 153us/step - loss: 0.0514 - acc: 0.9884 - val_loss: 0.0364 - val_acc: 0.9937\n",
      "Epoch 3/5\n",
      "61412/61412 [==============================] - 10s 164us/step - loss: 0.0509 - acc: 0.9893 - val_loss: 0.0512 - val_acc: 0.9867\n",
      "Epoch 4/5\n",
      "61412/61412 [==============================] - 10s 163us/step - loss: 0.0508 - acc: 0.9890 - val_loss: 0.0374 - val_acc: 0.9944\n",
      "Epoch 5/5\n",
      "61412/61412 [==============================] - 10s 163us/step - loss: 0.0488 - acc: 0.9898 - val_loss: 0.0393 - val_acc: 0.9933\n",
      "Saved model to disk\n"
     ]
    }
   ],
   "source": [
    "\n",
    "Bank1.setData(Data_Model_1B,0.2)\n",
    "Bank1.run(Bank1.X_train,Bank1.Y_train)\n",
    "\n",
    "Bank2.setData(Data_Model_2B,0.2)\n",
    "Bank2.run(Bank2.X_train,Bank2.Y_train)\n",
    "\n",
    "Bank3.setData(Data_Model_3B,0.2)\n",
    "Bank3.run(Bank3.X_train,Bank3.Y_train)\n",
    "\n",
    "\n",
    "\n",
    "delta=aggregator.aggregate(GlobalBank.getWeights(),Bank1.getWeights(),Bank2.getWeights(),Bank3.getWeights())\n",
    "\n",
    "GlobalBank.setWeights(delta)\n",
    "GlobalBank.saveModel()"
   ]
  },
  {
   "cell_type": "code",
   "execution_count": 67,
   "metadata": {},
   "outputs": [
    {
     "name": "stdout",
     "output_type": "stream",
     "text": [
      "56863/56863 [==============================] - 3s 56us/step\n",
      "34118/34118 [==============================] - 2s 59us/step\n",
      "17059/17059 [==============================] - 1s 72us/step\n"
     ]
    }
   ],
   "source": [
    "results['Bank1.2']=Bank1.evaluate(Bank1.X_test,Bank1.Y_test)\n",
    "results['Bank2.2']=Bank2.evaluate(Bank2.X_test,Bank2.Y_test)\n",
    "results['Bank3.2']=Bank3.evaluate(Bank3.X_test,Bank3.Y_test)\n"
   ]
  },
  {
   "cell_type": "code",
   "execution_count": 68,
   "metadata": {},
   "outputs": [
    {
     "name": "stdout",
     "output_type": "stream",
     "text": [
      "51177/51177 [==============================] - 3s 57us/step\n"
     ]
    }
   ],
   "source": [
    "GlobalBank.setData(Data_Test,0.9)\n",
    "results['BankG.3']=GlobalBank.evaluate(GlobalBank.X_test,GlobalBank.Y_test)"
   ]
  },
  {
   "cell_type": "markdown",
   "metadata": {},
   "source": [
    "# Non Federated Learning"
   ]
  },
  {
   "cell_type": "code",
   "execution_count": 26,
   "metadata": {},
   "outputs": [],
   "source": [
    "\n",
    "def NonFL_Model():\n",
    "    input_shape=(30,)\n",
    "    model = Sequential()\n",
    "    model.add(Dense(32, activation='relu',input_shape=input_shape,kernel_regularizer=regularizers.l2(0.01))) \n",
    "    model.add(Dropout(0.2))\n",
    "    model.add(Dense(16, activation='relu'))\n",
    "    model.add(Dropout(0.1))\n",
    "    model.add(Dense(8, activation='relu'))\n",
    "    model.add(Dense(1, activation='sigmoid'))\n",
    "    model.compile(optimizer='adam',   #rmsprop\n",
    "                  loss='binary_crossentropy',\n",
    "                  metrics=['accuracy'])\n",
    "        \n",
    "    return model"
   ]
  },
  {
   "cell_type": "code",
   "execution_count": 27,
   "metadata": {},
   "outputs": [],
   "source": [
    "X=data.drop(['Class'],axis=1)\n",
    "Y=data[['Class']]"
   ]
  },
  {
   "cell_type": "code",
   "execution_count": 55,
   "metadata": {},
   "outputs": [
    {
     "name": "stdout",
     "output_type": "stream",
     "text": [
      "Train on 460590 samples, validate on 51177 samples\n",
      "Epoch 1/9\n",
      "460590/460590 [==============================] - 19s 41us/step - loss: 0.0834 - acc: 0.9785 - val_loss: 0.0418 - val_acc: 0.9925\n",
      "Epoch 2/9\n",
      "460590/460590 [==============================] - 17s 36us/step - loss: 0.0529 - acc: 0.9887 - val_loss: 0.0381 - val_acc: 0.9928\n",
      "Epoch 3/9\n",
      "460590/460590 [==============================] - 17s 36us/step - loss: 0.0518 - acc: 0.9890 - val_loss: 0.0373 - val_acc: 0.9936\n",
      "Epoch 4/9\n",
      "460590/460590 [==============================] - 17s 36us/step - loss: 0.0515 - acc: 0.9892 - val_loss: 0.0437 - val_acc: 0.9916\n",
      "Epoch 5/9\n",
      "460590/460590 [==============================] - 17s 36us/step - loss: 0.0513 - acc: 0.9893 - val_loss: 0.0378 - val_acc: 0.9945\n",
      "Epoch 6/9\n",
      "460590/460590 [==============================] - 17s 37us/step - loss: 0.0508 - acc: 0.9894 - val_loss: 0.0548 - val_acc: 0.9871\n",
      "Epoch 7/9\n",
      "460590/460590 [==============================] - 17s 36us/step - loss: 0.0521 - acc: 0.9889 - val_loss: 0.0384 - val_acc: 0.9937- loss: 0.0521 - acc: 0.\n",
      "Epoch 8/9\n",
      "460590/460590 [==============================] - 17s 36us/step - loss: 0.0513 - acc: 0.9889 - val_loss: 0.0402 - val_acc: 0.9926\n",
      "Epoch 9/9\n",
      "460590/460590 [==============================] - 17s 36us/step - loss: 0.0518 - acc: 0.9890 - val_loss: 0.0470 - val_acc: 0.9906\n"
     ]
    }
   ],
   "source": [
    "X_train, X_test, Y_train, Y_test=train_test_split(X, Y, test_size=0.1)\n",
    "modelNFL=NonFL_Model()\n",
    "history_NFL=modelNFL.fit(X_train, Y_train, epochs=9,validation_split=0.1, verbose=1)\n"
   ]
  },
  {
   "cell_type": "code",
   "execution_count": 56,
   "metadata": {},
   "outputs": [],
   "source": [
    "X=dataSmote.drop(['Class'],axis=1)\n",
    "Y=dataSmote[['Class']]"
   ]
  },
  {
   "cell_type": "code",
   "execution_count": 57,
   "metadata": {},
   "outputs": [
    {
     "name": "stdout",
     "output_type": "stream",
     "text": [
      "Train on 460590 samples, validate on 51177 samples\n",
      "Epoch 1/9\n",
      "460590/460590 [==============================] - 18s 39us/step - loss: 0.0808 - acc: 0.9799 - val_loss: 0.0412 - val_acc: 0.9939\n",
      "Epoch 2/9\n",
      "460590/460590 [==============================] - 17s 36us/step - loss: 0.0519 - acc: 0.9892 - val_loss: 0.0408 - val_acc: 0.9940\n",
      "Epoch 3/9\n",
      "460590/460590 [==============================] - 17s 37us/step - loss: 0.0509 - acc: 0.9896 - val_loss: 0.0396 - val_acc: 0.9941\n",
      "Epoch 4/9\n",
      "460590/460590 [==============================] - 17s 37us/step - loss: 0.0501 - acc: 0.9900 - val_loss: 0.0338 - val_acc: 0.9960\n",
      "Epoch 5/9\n",
      "460590/460590 [==============================] - 17s 36us/step - loss: 0.0500 - acc: 0.9901 - val_loss: 0.0537 - val_acc: 0.9890\n",
      "Epoch 6/9\n",
      "460590/460590 [==============================] - 17s 37us/step - loss: 0.0494 - acc: 0.9900 - val_loss: 0.0318 - val_acc: 0.9967\n",
      "Epoch 7/9\n",
      "460590/460590 [==============================] - 17s 37us/step - loss: 0.0506 - acc: 0.9897 - val_loss: 0.0352 - val_acc: 0.9954\n",
      "Epoch 8/9\n",
      "460590/460590 [==============================] - 17s 38us/step - loss: 0.0498 - acc: 0.9900 - val_loss: 0.0347 - val_acc: 0.9962\n",
      "Epoch 9/9\n",
      "460590/460590 [==============================] - 18s 38us/step - loss: 0.0495 - acc: 0.9899 - val_loss: 0.0346 - val_acc: 0.9958\n"
     ]
    }
   ],
   "source": [
    "X_trainS, X_testS, Y_trainS, Y_testS=train_test_split(X, Y, test_size=0.1)\n",
    "modelNFLSmote=NonFL_Model()\n",
    "historyNFLSmote=modelNFLSmote.fit(X_trainS, Y_trainS, epochs=9,validation_split=0.1, verbose=1)\n"
   ]
  },
  {
   "cell_type": "markdown",
   "metadata": {},
   "source": [
    "# NFL Analysis"
   ]
  },
  {
   "cell_type": "code",
   "execution_count": 42,
   "metadata": {},
   "outputs": [
    {
     "data": {
      "text/plain": [
       "Text(0.5, 1.0, 'Nomal Data')"
      ]
     },
     "execution_count": 42,
     "metadata": {},
     "output_type": "execute_result"
    },
    {
     "data": {
      "image/png": "[encoded data removed]",
      "text/plain": [
       "<Figure size 864x432 with 1 Axes>"
      ]
     },
     "metadata": {
      "needs_background": "light"
     },
     "output_type": "display_data"
    }
   ],
   "source": [
    "f, axes = plt.subplots(nrows=1,ncols=1, figsize=(12,6))\n",
    "plt.plot(history_NFL.history['acc'])\n",
    "plt.title('Nomal Data')"
   ]
  },
  {
   "cell_type": "code",
   "execution_count": 51,
   "metadata": {},
   "outputs": [
    {
     "data": {
      "text/plain": [
       "Text(0.5, 1.0, 'SMOTE Data')"
      ]
     },
     "execution_count": 51,
     "metadata": {},
     "output_type": "execute_result"
    },
    {
     "data": {
      "image/png": "[encoded data removed]",
      "text/plain": [
       "<Figure size 864x432 with 1 Axes>"
      ]
     },
     "metadata": {
      "needs_background": "light"
     },
     "output_type": "display_data"
    }
   ],
   "source": [
    "f, axes = plt.subplots(nrows=1,ncols=1, figsize=(12,6))\n",
    "plt.plot(historyNFLSmote.history['acc'])\n",
    "plt.title('SMOTE Data')"
   ]
  },
  {
   "cell_type": "code",
   "execution_count": 59,
   "metadata": {},
   "outputs": [
    {
     "name": "stdout",
     "output_type": "stream",
     "text": [
      "97.99300896676002\n",
      "98.92094921730823\n",
      "98.95633860917519\n",
      "98.99759004747007\n",
      "99.00649167372283\n",
      "98.99976117588311\n",
      "98.97283918444654\n",
      "99.00019540155019\n",
      "98.993682016544\n"
     ]
    }
   ],
   "source": [
    "for i in historyNFLSmote.history['acc']:\n",
    "    print(i*100)"
   ]
  },
  {
   "cell_type": "code",
   "execution_count": null,
   "metadata": {},
   "outputs": [],
   "source": []
  },
  {
   "cell_type": "code",
   "execution_count": 44,
   "metadata": {},
   "outputs": [
    {
     "data": {
      "text/plain": [
       "<matplotlib.axes._subplots.AxesSubplot at 0x133b6d33e48>"
      ]
     },
     "execution_count": 44,
     "metadata": {},
     "output_type": "execute_result"
    },
    {
     "data": {
      "image/png": "[encoded data removed]",
      "text/plain": [
       "<Figure size 432x288 with 2 Axes>"
      ]
     },
     "metadata": {
      "needs_background": "light"
     },
     "output_type": "display_data"
    }
   ],
   "source": [
    "# Non Federated Learning w/o smote\n",
    "\n",
    "y_pred=modelNFL.predict(X_test)\n",
    "for i in range(len(y_pred)):\n",
    "    if(y_pred[i]>0.5):\n",
    "        y_pred[i]=1\n",
    "    else:\n",
    "        y_pred[i]=0\n",
    "y_test=np.array(Y_test)\n",
    "sb.heatmap(confusion_matrix(y_test,y_pred),annot=True)"
   ]
  },
  {
   "cell_type": "code",
   "execution_count": 52,
   "metadata": {},
   "outputs": [
    {
     "data": {
      "text/plain": [
       "<matplotlib.axes._subplots.AxesSubplot at 0x133af794808>"
      ]
     },
     "execution_count": 52,
     "metadata": {},
     "output_type": "execute_result"
    },
    {
     "data": {
      "image/png": "[encoded data removed]",
      "text/plain": [
       "<Figure size 432x288 with 2 Axes>"
      ]
     },
     "metadata": {
      "needs_background": "light"
     },
     "output_type": "display_data"
    }
   ],
   "source": [
    "# Non Federated Learning with smote\n",
    "\n",
    "y_pred=modelNFLSmote.predict(X_testS)\n",
    "for i in range(len(y_pred)):\n",
    "    if(y_pred[i]>0.5):\n",
    "        y_pred[i]=1\n",
    "    else:\n",
    "        y_pred[i]=0\n",
    "y_test=np.array(Y_testS)\n",
    "sb.heatmap(confusion_matrix(y_test,y_pred),annot=True)"
   ]
  },
  {
   "cell_type": "markdown",
   "metadata": {},
   "source": [
    "# FL Analysis"
   ]
  },
  {
   "cell_type": "code",
   "execution_count": 49,
   "metadata": {},
   "outputs": [
    {
     "data": {
      "text/plain": [
       "[<matplotlib.lines.Line2D at 0x19de54a9c88>]"
      ]
     },
     "execution_count": 49,
     "metadata": {},
     "output_type": "execute_result"
    },
    {
     "data": {
      "image/png": "[encoded data removed]",
      "text/plain": [
       "<Figure size 864x432 with 1 Axes>"
      ]
     },
     "metadata": {
      "needs_background": "light"
     },
     "output_type": "display_data"
    }
   ],
   "source": [
    "f, axes = plt.subplots(nrows=1,ncols=1, figsize=(12,6))\n",
    "plt.plot(results.values())"
   ]
  },
  {
   "cell_type": "code",
   "execution_count": 54,
   "metadata": {
    "scrolled": true
   },
   "outputs": [
    {
     "data": {
      "text/plain": [
       "dict_values([99.02400422052229, 99.32295788270466, 99.33759305938214, 99.47242206177837, 99.49881297810605, 99.24027926771363, 99.44017820505306, 99.37276510932645, 99.48609727025813])"
      ]
     },
     "execution_count": 54,
     "metadata": {},
     "output_type": "execute_result"
    }
   ],
   "source": [
    "results.values()"
   ]
  },
  {
   "cell_type": "code",
   "execution_count": 46,
   "metadata": {},
   "outputs": [
    {
     "data": {
      "text/plain": [
       "<matplotlib.axes._subplots.AxesSubplot at 0x133abac3c08>"
      ]
     },
     "execution_count": 46,
     "metadata": {},
     "output_type": "execute_result"
    },
    {
     "data": {
      "image/png": "[encoded data removed]",
      "text/plain": [
       "<Figure size 432x288 with 2 Axes>"
      ]
     },
     "metadata": {
      "needs_background": "light"
     },
     "output_type": "display_data"
    }
   ],
   "source": [
    "y_pred=GlobalBank.predict(GlobalBank.X_test)\n",
    "for i in range(len(y_pred)):\n",
    "    if(y_pred[i]>0.5):\n",
    "        y_pred[i]=1\n",
    "    else:\n",
    "        y_pred[i]=0\n",
    "y_test=np.array(GlobalBank.Y_test)\n",
    "sb.heatmap(confusion_matrix(y_test,y_pred),annot=True)"
   ]
  },
  {
   "cell_type": "code",
   "execution_count": null,
   "metadata": {},
   "outputs": [],
   "source": []
  }
 ],
 "metadata": {
  "kernelspec": {
   "display_name": "Python 3",
   "language": "python",
   "name": "python3"
  },
  "language_info": {
   "codemirror_mode": {
    "name": "ipython",
    "version": 3
   },
   "file_extension": ".py",
   "mimetype": "text/x-python",
   "name": "python",
   "nbconvert_exporter": "python",
   "pygments_lexer": "ipython3",
   "version": "3.7.6"
  }
 },
 "nbformat": 4,
 "nbformat_minor": 2
}
