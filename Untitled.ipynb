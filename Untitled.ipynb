{
 "cells": [
  {
   "cell_type": "code",
   "execution_count": 23,
   "metadata": {},
   "outputs": [],
   "source": [
    "import tensorflow as tf\n",
    "from tensorflow import keras\n",
    "\n",
    "import pandas as pd\n",
    "import numpy as np\n",
    "import matplotlib.pyplot as plt\n",
    "\n",
    "from sklearn.model_selection import train_test_split"
   ]
  },
  {
   "cell_type": "code",
   "execution_count": 24,
   "metadata": {},
   "outputs": [],
   "source": [
    "data = pd.read_csv('creditcard.csv')"
   ]
  },
  {
   "cell_type": "code",
   "execution_count": 25,
   "metadata": {},
   "outputs": [
    {
     "data": {
      "text/html": [
       "<div>\n",
       "<style scoped>\n",
       "    .dataframe tbody tr th:only-of-type {\n",
       "        vertical-align: middle;\n",
       "    }\n",
       "\n",
       "    .dataframe tbody tr th {\n",
       "        vertical-align: top;\n",
       "    }\n",
       "\n",
       "    .dataframe thead th {\n",
       "        text-align: right;\n",
       "    }\n",
       "</style>\n",
       "<table border=\"1\" class=\"dataframe\">\n",
       "  <thead>\n",
       "    <tr style=\"text-align: right;\">\n",
       "      <th></th>\n",
       "      <th>Time</th>\n",
       "      <th>V1</th>\n",
       "      <th>V2</th>\n",
       "      <th>V3</th>\n",
       "      <th>V4</th>\n",
       "      <th>V5</th>\n",
       "      <th>V6</th>\n",
       "      <th>V7</th>\n",
       "      <th>V8</th>\n",
       "      <th>V9</th>\n",
       "      <th>...</th>\n",
       "      <th>V21</th>\n",
       "      <th>V22</th>\n",
       "      <th>V23</th>\n",
       "      <th>V24</th>\n",
       "      <th>V25</th>\n",
       "      <th>V26</th>\n",
       "      <th>V27</th>\n",
       "      <th>V28</th>\n",
       "      <th>Amount</th>\n",
       "      <th>Class</th>\n",
       "    </tr>\n",
       "  </thead>\n",
       "  <tbody>\n",
       "    <tr>\n",
       "      <th>0</th>\n",
       "      <td>0.0</td>\n",
       "      <td>-1.359807</td>\n",
       "      <td>-0.072781</td>\n",
       "      <td>2.536347</td>\n",
       "      <td>1.378155</td>\n",
       "      <td>-0.338321</td>\n",
       "      <td>0.462388</td>\n",
       "      <td>0.239599</td>\n",
       "      <td>0.098698</td>\n",
       "      <td>0.363787</td>\n",
       "      <td>...</td>\n",
       "      <td>-0.018307</td>\n",
       "      <td>0.277838</td>\n",
       "      <td>-0.110474</td>\n",
       "      <td>0.066928</td>\n",
       "      <td>0.128539</td>\n",
       "      <td>-0.189115</td>\n",
       "      <td>0.133558</td>\n",
       "      <td>-0.021053</td>\n",
       "      <td>149.62</td>\n",
       "      <td>0</td>\n",
       "    </tr>\n",
       "    <tr>\n",
       "      <th>1</th>\n",
       "      <td>0.0</td>\n",
       "      <td>1.191857</td>\n",
       "      <td>0.266151</td>\n",
       "      <td>0.166480</td>\n",
       "      <td>0.448154</td>\n",
       "      <td>0.060018</td>\n",
       "      <td>-0.082361</td>\n",
       "      <td>-0.078803</td>\n",
       "      <td>0.085102</td>\n",
       "      <td>-0.255425</td>\n",
       "      <td>...</td>\n",
       "      <td>-0.225775</td>\n",
       "      <td>-0.638672</td>\n",
       "      <td>0.101288</td>\n",
       "      <td>-0.339846</td>\n",
       "      <td>0.167170</td>\n",
       "      <td>0.125895</td>\n",
       "      <td>-0.008983</td>\n",
       "      <td>0.014724</td>\n",
       "      <td>2.69</td>\n",
       "      <td>0</td>\n",
       "    </tr>\n",
       "    <tr>\n",
       "      <th>2</th>\n",
       "      <td>1.0</td>\n",
       "      <td>-1.358354</td>\n",
       "      <td>-1.340163</td>\n",
       "      <td>1.773209</td>\n",
       "      <td>0.379780</td>\n",
       "      <td>-0.503198</td>\n",
       "      <td>1.800499</td>\n",
       "      <td>0.791461</td>\n",
       "      <td>0.247676</td>\n",
       "      <td>-1.514654</td>\n",
       "      <td>...</td>\n",
       "      <td>0.247998</td>\n",
       "      <td>0.771679</td>\n",
       "      <td>0.909412</td>\n",
       "      <td>-0.689281</td>\n",
       "      <td>-0.327642</td>\n",
       "      <td>-0.139097</td>\n",
       "      <td>-0.055353</td>\n",
       "      <td>-0.059752</td>\n",
       "      <td>378.66</td>\n",
       "      <td>0</td>\n",
       "    </tr>\n",
       "    <tr>\n",
       "      <th>3</th>\n",
       "      <td>1.0</td>\n",
       "      <td>-0.966272</td>\n",
       "      <td>-0.185226</td>\n",
       "      <td>1.792993</td>\n",
       "      <td>-0.863291</td>\n",
       "      <td>-0.010309</td>\n",
       "      <td>1.247203</td>\n",
       "      <td>0.237609</td>\n",
       "      <td>0.377436</td>\n",
       "      <td>-1.387024</td>\n",
       "      <td>...</td>\n",
       "      <td>-0.108300</td>\n",
       "      <td>0.005274</td>\n",
       "      <td>-0.190321</td>\n",
       "      <td>-1.175575</td>\n",
       "      <td>0.647376</td>\n",
       "      <td>-0.221929</td>\n",
       "      <td>0.062723</td>\n",
       "      <td>0.061458</td>\n",
       "      <td>123.50</td>\n",
       "      <td>0</td>\n",
       "    </tr>\n",
       "    <tr>\n",
       "      <th>4</th>\n",
       "      <td>2.0</td>\n",
       "      <td>-1.158233</td>\n",
       "      <td>0.877737</td>\n",
       "      <td>1.548718</td>\n",
       "      <td>0.403034</td>\n",
       "      <td>-0.407193</td>\n",
       "      <td>0.095921</td>\n",
       "      <td>0.592941</td>\n",
       "      <td>-0.270533</td>\n",
       "      <td>0.817739</td>\n",
       "      <td>...</td>\n",
       "      <td>-0.009431</td>\n",
       "      <td>0.798278</td>\n",
       "      <td>-0.137458</td>\n",
       "      <td>0.141267</td>\n",
       "      <td>-0.206010</td>\n",
       "      <td>0.502292</td>\n",
       "      <td>0.219422</td>\n",
       "      <td>0.215153</td>\n",
       "      <td>69.99</td>\n",
       "      <td>0</td>\n",
       "    </tr>\n",
       "  </tbody>\n",
       "</table>\n",
       "<p>5 rows × 31 columns</p>\n",
       "</div>"
      ],
      "text/plain": [
       "   Time        V1        V2        V3        V4        V5        V6        V7  \\\n",
       "0   0.0 -1.359807 -0.072781  2.536347  1.378155 -0.338321  0.462388  0.239599   \n",
       "1   0.0  1.191857  0.266151  0.166480  0.448154  0.060018 -0.082361 -0.078803   \n",
       "2   1.0 -1.358354 -1.340163  1.773209  0.379780 -0.503198  1.800499  0.791461   \n",
       "3   1.0 -0.966272 -0.185226  1.792993 -0.863291 -0.010309  1.247203  0.237609   \n",
       "4   2.0 -1.158233  0.877737  1.548718  0.403034 -0.407193  0.095921  0.592941   \n",
       "\n",
       "         V8        V9  ...       V21       V22       V23       V24       V25  \\\n",
       "0  0.098698  0.363787  ... -0.018307  0.277838 -0.110474  0.066928  0.128539   \n",
       "1  0.085102 -0.255425  ... -0.225775 -0.638672  0.101288 -0.339846  0.167170   \n",
       "2  0.247676 -1.514654  ...  0.247998  0.771679  0.909412 -0.689281 -0.327642   \n",
       "3  0.377436 -1.387024  ... -0.108300  0.005274 -0.190321 -1.175575  0.647376   \n",
       "4 -0.270533  0.817739  ... -0.009431  0.798278 -0.137458  0.141267 -0.206010   \n",
       "\n",
       "        V26       V27       V28  Amount  Class  \n",
       "0 -0.189115  0.133558 -0.021053  149.62      0  \n",
       "1  0.125895 -0.008983  0.014724    2.69      0  \n",
       "2 -0.139097 -0.055353 -0.059752  378.66      0  \n",
       "3 -0.221929  0.062723  0.061458  123.50      0  \n",
       "4  0.502292  0.219422  0.215153   69.99      0  \n",
       "\n",
       "[5 rows x 31 columns]"
      ]
     },
     "execution_count": 25,
     "metadata": {},
     "output_type": "execute_result"
    }
   ],
   "source": [
    "data.head()"
   ]
  },
  {
   "cell_type": "code",
   "execution_count": 26,
   "metadata": {},
   "outputs": [
    {
     "data": {
      "text/plain": [
       "(284807, 31)"
      ]
     },
     "execution_count": 26,
     "metadata": {},
     "output_type": "execute_result"
    }
   ],
   "source": [
    "data.shape"
   ]
  },
  {
   "cell_type": "markdown",
   "metadata": {},
   "source": [
    "# Data split into 3 partitions 60,30,10"
   ]
  },
  {
   "cell_type": "code",
   "execution_count": 27,
   "metadata": {},
   "outputs": [],
   "source": [
    "first=int(0.6*len(data))\n",
    "second=int(0.9*len(data))"
   ]
  },
  {
   "cell_type": "code",
   "execution_count": 28,
   "metadata": {},
   "outputs": [],
   "source": [
    "a=data[:first]\n",
    "b=data[first:second]\n",
    "c=data[second:]"
   ]
  },
  {
   "cell_type": "markdown",
   "metadata": {},
   "source": [
    "# Train_test_split for each dataset"
   ]
  },
  {
   "cell_type": "code",
   "execution_count": 29,
   "metadata": {},
   "outputs": [],
   "source": [
    "def split(data):\n",
    "    X=data.copy()\n",
    "    X.drop(['Class'],axis=1,inplace=True)\n",
    "    Y=data[['Class']]\n",
    "    X_train, X_test, Y_train, Y_test = train_test_split(X, Y, test_size=0.1, random_state=42)\n",
    "    return X_train, Y_train,X_test,Y_test"
   ]
  },
  {
   "cell_type": "code",
   "execution_count": 30,
   "metadata": {},
   "outputs": [],
   "source": [
    "X_train_1,Y_train_1,X_test_1,Y_test_1=split(a)\n",
    "X_train_2,Y_train_2,X_test_2,Y_test_2=split(b)\n",
    "X_train_3,Y_train_3,X_test_3,Y_test_3=split(c)"
   ]
  },
  {
   "cell_type": "code",
   "execution_count": 31,
   "metadata": {},
   "outputs": [],
   "source": [
    "num_categories=2\n",
    "input_shape=(30,)\n",
    "def Model():\n",
    "    model = keras.Sequential([\n",
    "    keras.layers.Dense(50, activation=tf.nn.relu,input_shape=input_shape),\n",
    "    keras.layers.Dense(25, activation=tf.nn.relu),\n",
    "    keras.layers.Dense(num_categories, activation=tf.nn.sigmoid)\n",
    "    ])\n",
    "\n",
    "    model.compile(optimizer=tf.train.AdamOptimizer(), \n",
    "              loss='sparse_categorical_crossentropy',\n",
    "              metrics=['accuracy'])\n",
    "\n",
    "    return model"
   ]
  },
  {
   "cell_type": "code",
   "execution_count": 32,
   "metadata": {},
   "outputs": [],
   "source": [
    "early_stop = keras.callbacks.EarlyStopping(monitor='val_loss', patience=5)"
   ]
  },
  {
   "cell_type": "code",
   "execution_count": 33,
   "metadata": {
    "scrolled": true
   },
   "outputs": [
    {
     "name": "stdout",
     "output_type": "stream",
     "text": [
      "Train on 123036 samples, validate on 30759 samples\n",
      "Epoch 1/15\n",
      "123036/123036 [==============================] - 4s 36us/sample - loss: 0.0740 - acc: 0.9978 - val_loss: 0.0372 - val_acc: 0.9977\n",
      "Epoch 2/15\n",
      "123036/123036 [==============================] - 4s 34us/sample - loss: 0.0342 - acc: 0.9979 - val_loss: 0.0372 - val_acc: 0.9977\n",
      "Epoch 3/15\n",
      "123036/123036 [==============================] - 4s 34us/sample - loss: 0.0342 - acc: 0.9979 - val_loss: 0.0372 - val_acc: 0.9977\n",
      "Epoch 4/15\n",
      "123036/123036 [==============================] - 4s 34us/sample - loss: 0.0342 - acc: 0.9979 - val_loss: 0.0372 - val_acc: 0.9977\n",
      "Epoch 5/15\n",
      "123036/123036 [==============================] - 4s 34us/sample - loss: 0.0342 - acc: 0.9979 - val_loss: 0.0372 - val_acc: 0.9977\n",
      "Epoch 6/15\n",
      "123036/123036 [==============================] - 4s 33us/sample - loss: 0.0342 - acc: 0.9979 - val_loss: 0.0372 - val_acc: 0.9977\n",
      "Epoch 7/15\n",
      "123036/123036 [==============================] - 4s 34us/sample - loss: 0.0342 - acc: 0.9979 - val_loss: 0.0372 - val_acc: 0.9977\n",
      "Epoch 8/15\n",
      "123036/123036 [==============================] - 4s 34us/sample - loss: 0.0342 - acc: 0.9979 - val_loss: 0.0372 - val_acc: 0.9977\n",
      "Epoch 9/15\n",
      "123036/123036 [==============================] - 4s 33us/sample - loss: 0.0342 - acc: 0.9979 - val_loss: 0.0372 - val_acc: 0.9977\n",
      "Epoch 10/15\n",
      "123036/123036 [==============================] - 4s 33us/sample - loss: 0.0342 - acc: 0.9979 - val_loss: 0.0372 - val_acc: 0.9977\n",
      "Epoch 11/15\n",
      "123036/123036 [==============================] - 4s 33us/sample - loss: 0.0342 - acc: 0.9979 - val_loss: 0.0372 - val_acc: 0.9977\n",
      "Epoch 12/15\n",
      "123036/123036 [==============================] - 4s 34us/sample - loss: 0.0342 - acc: 0.9979 - val_loss: 0.0372 - val_acc: 0.9977\n",
      "Epoch 13/15\n",
      "123036/123036 [==============================] - 4s 33us/sample - loss: 0.0342 - acc: 0.9979 - val_loss: 0.0372 - val_acc: 0.9977\n",
      "Epoch 14/15\n",
      "123036/123036 [==============================] - 4s 33us/sample - loss: 0.0342 - acc: 0.9979 - val_loss: 0.0372 - val_acc: 0.9977\n",
      "Epoch 15/15\n",
      "123036/123036 [==============================] - 4s 33us/sample - loss: 0.0342 - acc: 0.9979 - val_loss: 0.0372 - val_acc: 0.9977\n"
     ]
    }
   ],
   "source": [
    "model=Model() \n",
    "model_1 = model.fit(X_train_1, Y_train_1, epochs=15,validation_split=0.2, verbose=1)#,callbacks=[early_stop]\n",
    "del model\n"
   ]
  },
  {
   "cell_type": "code",
   "execution_count": 34,
   "metadata": {},
   "outputs": [
    {
     "name": "stdout",
     "output_type": "stream",
     "text": [
      "Train on 61517 samples, validate on 15380 samples\n",
      "Epoch 1/30\n",
      "61517/61517 [==============================] - 2s 37us/sample - loss: 0.6931 - acc: 0.9987 - val_loss: 0.6931 - val_acc: 0.9990acc: 0.998 - ETA: 0s - loss: 0.6931 - acc: 0.\n",
      "Epoch 2/30\n",
      "61517/61517 [==============================] - 2s 34us/sample - loss: 0.6931 - acc: 0.9987 - val_loss: 0.6931 - val_acc: 0.9990\n",
      "Epoch 3/30\n",
      "61517/61517 [==============================] - 2s 33us/sample - loss: 0.6931 - acc: 0.9987 - val_loss: 0.6931 - val_acc: 0.9990\n",
      "Epoch 4/30\n",
      "61517/61517 [==============================] - 2s 34us/sample - loss: 0.6931 - acc: 0.9987 - val_loss: 0.6931 - val_acc: 0.9990\n",
      "Epoch 5/30\n",
      "61517/61517 [==============================] - 2s 35us/sample - loss: 0.6931 - acc: 0.9987 - val_loss: 0.6931 - val_acc: 0.9990\n",
      "Epoch 6/30\n",
      "61517/61517 [==============================] - 2s 34us/sample - loss: 0.6931 - acc: 0.9987 - val_loss: 0.6931 - val_acc: 0.9990\n",
      "Epoch 7/30\n",
      "61517/61517 [==============================] - 2s 33us/sample - loss: 0.6931 - acc: 0.9987 - val_loss: 0.6931 - val_acc: 0.9990\n",
      "Epoch 8/30\n",
      "61517/61517 [==============================] - 2s 33us/sample - loss: 0.6931 - acc: 0.9987 - val_loss: 0.6931 - val_acc: 0.9990\n",
      "Epoch 9/30\n",
      "61517/61517 [==============================] - 2s 36us/sample - loss: 0.6931 - acc: 0.9987 - val_loss: 0.6931 - val_acc: 0.9990\n",
      "Epoch 10/30\n",
      "61517/61517 [==============================] - 2s 33us/sample - loss: 0.6931 - acc: 0.9987 - val_loss: 0.6931 - val_acc: 0.9990\n",
      "Epoch 11/30\n",
      "61517/61517 [==============================] - 2s 39us/sample - loss: 0.6931 - acc: 0.9987 - val_loss: 0.6931 - val_acc: 0.9990\n",
      "Epoch 12/30\n",
      "61517/61517 [==============================] - 2s 40us/sample - loss: 0.6931 - acc: 0.9987 - val_loss: 0.6931 - val_acc: 0.9990\n",
      "Epoch 13/30\n",
      "61517/61517 [==============================] - 3s 45us/sample - loss: 0.6931 - acc: 0.9987 - val_loss: 0.6931 - val_acc: 0.9990\n",
      "Epoch 14/30\n",
      "61517/61517 [==============================] - 3s 42us/sample - loss: 0.6931 - acc: 0.9987 - val_loss: 0.6931 - val_acc: 0.9990\n",
      "Epoch 15/30\n",
      "61517/61517 [==============================] - 2s 40us/sample - loss: 0.6931 - acc: 0.9987 - val_loss: 0.6931 - val_acc: 0.9990\n",
      "Epoch 16/30\n",
      "61517/61517 [==============================] - 2s 40us/sample - loss: 0.6931 - acc: 0.9987 - val_loss: 0.6931 - val_acc: 0.9990\n",
      "Epoch 17/30\n",
      "61517/61517 [==============================] - 2s 34us/sample - loss: 0.6931 - acc: 0.9987 - val_loss: 0.6931 - val_acc: 0.9990\n",
      "Epoch 18/30\n",
      "61517/61517 [==============================] - 3s 49us/sample - loss: 0.6931 - acc: 0.9987 - val_loss: 0.6931 - val_acc: 0.9990\n",
      "Epoch 19/30\n",
      "61517/61517 [==============================] - 3s 44us/sample - loss: 0.6931 - acc: 0.9987 - val_loss: 0.6931 - val_acc: 0.9990\n",
      "Epoch 20/30\n",
      "61517/61517 [==============================] - 3s 51us/sample - loss: 0.6931 - acc: 0.9987 - val_loss: 0.6931 - val_acc: 0.9990\n",
      "Epoch 21/30\n",
      "61517/61517 [==============================] - 3s 49us/sample - loss: 0.6931 - acc: 0.9987 - val_loss: 0.6931 - val_acc: 0.9990\n",
      "Epoch 22/30\n",
      "61517/61517 [==============================] - 3s 53us/sample - loss: 0.6931 - acc: 0.9987 - val_loss: 0.6931 - val_acc: 0.9990\n",
      "Epoch 23/30\n",
      "61517/61517 [==============================] - 3s 43us/sample - loss: 0.6931 - acc: 0.9987 - val_loss: 0.6931 - val_acc: 0.9990\n",
      "Epoch 24/30\n",
      "61517/61517 [==============================] - 2s 39us/sample - loss: 0.6931 - acc: 0.9987 - val_loss: 0.6931 - val_acc: 0.9990\n",
      "Epoch 25/30\n",
      "61517/61517 [==============================] - 3s 49us/sample - loss: 0.6931 - acc: 0.9987 - val_loss: 0.6931 - val_acc: 0.9990\n",
      "Epoch 26/30\n",
      "61517/61517 [==============================] - 2s 36us/sample - loss: 0.6931 - acc: 0.9987 - val_loss: 0.6931 - val_acc: 0.9990\n",
      "Epoch 27/30\n",
      "61517/61517 [==============================] - 2s 33us/sample - loss: 0.6931 - acc: 0.9987 - val_loss: 0.6931 - val_acc: 0.9990\n",
      "Epoch 28/30\n",
      "61517/61517 [==============================] - 2s 34us/sample - loss: 0.6931 - acc: 0.9987 - val_loss: 0.6931 - val_acc: 0.9990\n",
      "Epoch 29/30\n",
      "61517/61517 [==============================] - 2s 33us/sample - loss: 0.6931 - acc: 0.9987 - val_loss: 0.6931 - val_acc: 0.9990\n",
      "Epoch 30/30\n",
      "61517/61517 [==============================] - 2s 34us/sample - loss: 0.6931 - acc: 0.9987 - val_loss: 0.6931 - val_acc: 0.9990\n"
     ]
    }
   ],
   "source": [
    "model=Model()\n",
    "model_2 = model.fit(X_train_2, Y_train_2, epochs=30,validation_split=0.2, verbose=1)\n",
    "del model"
   ]
  },
  {
   "cell_type": "code",
   "execution_count": 35,
   "metadata": {},
   "outputs": [
    {
     "name": "stdout",
     "output_type": "stream",
     "text": [
      "Train on 20505 samples, validate on 5127 samples\n",
      "Epoch 1/45\n",
      "20505/20505 [==============================] - 1s 42us/sample - loss: 0.0110 - acc: 0.9993 - val_loss: 0.0063 - val_acc: 0.9996\n",
      "Epoch 2/45\n",
      "20505/20505 [==============================] - 1s 31us/sample - loss: 0.0110 - acc: 0.9993 - val_loss: 0.0063 - val_acc: 0.9996\n",
      "Epoch 3/45\n",
      "20505/20505 [==============================] - 1s 32us/sample - loss: 0.0110 - acc: 0.9993 - val_loss: 0.0063 - val_acc: 0.9996\n",
      "Epoch 4/45\n",
      "20505/20505 [==============================] - 1s 31us/sample - loss: 0.0110 - acc: 0.9993 - val_loss: 0.0063 - val_acc: 0.9996\n",
      "Epoch 5/45\n",
      "20505/20505 [==============================] - 1s 32us/sample - loss: 0.0110 - acc: 0.9993 - val_loss: 0.0063 - val_acc: 0.9996\n",
      "Epoch 6/45\n",
      "20505/20505 [==============================] - 1s 31us/sample - loss: 0.0110 - acc: 0.9993 - val_loss: 0.0063 - val_acc: 0.9996\n",
      "Epoch 7/45\n",
      "20505/20505 [==============================] - 1s 33us/sample - loss: 0.0110 - acc: 0.9993 - val_loss: 0.0063 - val_acc: 0.9996\n",
      "Epoch 8/45\n",
      "20505/20505 [==============================] - 1s 31us/sample - loss: 0.0110 - acc: 0.9993 - val_loss: 0.0063 - val_acc: 0.9996\n",
      "Epoch 9/45\n",
      "20505/20505 [==============================] - 1s 32us/sample - loss: 0.0110 - acc: 0.9993 - val_loss: 0.0063 - val_acc: 0.9996\n",
      "Epoch 10/45\n",
      "20505/20505 [==============================] - 1s 31us/sample - loss: 0.0110 - acc: 0.9993 - val_loss: 0.0063 - val_acc: 0.9996\n",
      "Epoch 11/45\n",
      "20505/20505 [==============================] - 1s 32us/sample - loss: 0.0110 - acc: 0.9993 - val_loss: 0.0063 - val_acc: 0.9996\n",
      "Epoch 12/45\n",
      "20505/20505 [==============================] - 1s 32us/sample - loss: 0.0110 - acc: 0.9993 - val_loss: 0.0063 - val_acc: 0.9996\n",
      "Epoch 13/45\n",
      "20505/20505 [==============================] - 1s 32us/sample - loss: 0.0110 - acc: 0.9993 - val_loss: 0.0063 - val_acc: 0.9996\n",
      "Epoch 14/45\n",
      "20505/20505 [==============================] - 1s 31us/sample - loss: 0.0110 - acc: 0.9993 - val_loss: 0.0063 - val_acc: 0.9996\n",
      "Epoch 15/45\n",
      "20505/20505 [==============================] - 1s 36us/sample - loss: 0.0110 - acc: 0.9993 - val_loss: 0.0063 - val_acc: 0.9996\n",
      "Epoch 16/45\n",
      "20505/20505 [==============================] - 1s 38us/sample - loss: 0.0110 - acc: 0.9993 - val_loss: 0.0063 - val_acc: 0.9996\n",
      "Epoch 17/45\n",
      "20505/20505 [==============================] - ETA: 0s - loss: 0.0116 - acc: 0.999 - 1s 41us/sample - loss: 0.0110 - acc: 0.9993 - val_loss: 0.0063 - val_acc: 0.9996\n",
      "Epoch 18/45\n",
      "20505/20505 [==============================] - 1s 39us/sample - loss: 0.0110 - acc: 0.9993 - val_loss: 0.0063 - val_acc: 0.9996\n",
      "Epoch 19/45\n",
      "20505/20505 [==============================] - 1s 38us/sample - loss: 0.0110 - acc: 0.9993 - val_loss: 0.0063 - val_acc: 0.9996\n",
      "Epoch 20/45\n",
      "20505/20505 [==============================] - 1s 40us/sample - loss: 0.0110 - acc: 0.9993 - val_loss: 0.0063 - val_acc: 0.9996\n",
      "Epoch 21/45\n",
      "20505/20505 [==============================] - 1s 38us/sample - loss: 0.0110 - acc: 0.9993 - val_loss: 0.0063 - val_acc: 0.9996\n",
      "Epoch 22/45\n",
      "20505/20505 [==============================] - 1s 35us/sample - loss: 0.0110 - acc: 0.9993 - val_loss: 0.0063 - val_acc: 0.9996\n",
      "Epoch 23/45\n",
      "20505/20505 [==============================] - 1s 34us/sample - loss: 0.0110 - acc: 0.9993 - val_loss: 0.0063 - val_acc: 0.9996\n",
      "Epoch 24/45\n",
      "20505/20505 [==============================] - 1s 35us/sample - loss: 0.0110 - acc: 0.9993 - val_loss: 0.0063 - val_acc: 0.9996\n",
      "Epoch 25/45\n",
      "20505/20505 [==============================] - 1s 35us/sample - loss: 0.0110 - acc: 0.9993 - val_loss: 0.0063 - val_acc: 0.9996\n",
      "Epoch 26/45\n",
      "20505/20505 [==============================] - 1s 34us/sample - loss: 0.0110 - acc: 0.9993 - val_loss: 0.0063 - val_acc: 0.9996\n",
      "Epoch 27/45\n",
      "20505/20505 [==============================] - 1s 35us/sample - loss: 0.0110 - acc: 0.9993 - val_loss: 0.0063 - val_acc: 0.9996\n",
      "Epoch 28/45\n",
      "20505/20505 [==============================] - 1s 34us/sample - loss: 0.0110 - acc: 0.9993 - val_loss: 0.0063 - val_acc: 0.9996\n",
      "Epoch 29/45\n",
      "20505/20505 [==============================] - 1s 34us/sample - loss: 0.0110 - acc: 0.9993 - val_loss: 0.0063 - val_acc: 0.9996\n",
      "Epoch 30/45\n",
      "20505/20505 [==============================] - 1s 35us/sample - loss: 0.0110 - acc: 0.9993 - val_loss: 0.0063 - val_acc: 0.9996\n",
      "Epoch 31/45\n",
      "20505/20505 [==============================] - 1s 34us/sample - loss: 0.0110 - acc: 0.9993 - val_loss: 0.0063 - val_acc: 0.9996\n",
      "Epoch 32/45\n",
      "20505/20505 [==============================] - 1s 34us/sample - loss: 0.0110 - acc: 0.9993 - val_loss: 0.0063 - val_acc: 0.9996\n",
      "Epoch 33/45\n",
      "20505/20505 [==============================] - 1s 34us/sample - loss: 0.0110 - acc: 0.9993 - val_loss: 0.0063 - val_acc: 0.9996\n",
      "Epoch 34/45\n",
      "20505/20505 [==============================] - 1s 33us/sample - loss: 0.0110 - acc: 0.9993 - val_loss: 0.0063 - val_acc: 0.9996\n",
      "Epoch 35/45\n",
      "20505/20505 [==============================] - 1s 34us/sample - loss: 0.0110 - acc: 0.9993 - val_loss: 0.0063 - val_acc: 0.9996\n",
      "Epoch 36/45\n",
      "20505/20505 [==============================] - 1s 35us/sample - loss: 0.0110 - acc: 0.9993 - val_loss: 0.0063 - val_acc: 0.9996\n",
      "Epoch 37/45\n",
      "20505/20505 [==============================] - 1s 36us/sample - loss: 0.0110 - acc: 0.9993 - val_loss: 0.0063 - val_acc: 0.9996\n",
      "Epoch 38/45\n",
      "20505/20505 [==============================] - 1s 34us/sample - loss: 0.0110 - acc: 0.9993 - val_loss: 0.0063 - val_acc: 0.9996\n",
      "Epoch 39/45\n",
      "20505/20505 [==============================] - 1s 33us/sample - loss: 0.0110 - acc: 0.9993 - val_loss: 0.0063 - val_acc: 0.9996\n",
      "Epoch 40/45\n",
      "20505/20505 [==============================] - 1s 34us/sample - loss: 0.0110 - acc: 0.9993 - val_loss: 0.0063 - val_acc: 0.9996\n",
      "Epoch 41/45\n",
      "20505/20505 [==============================] - 1s 33us/sample - loss: 0.0110 - acc: 0.9993 - val_loss: 0.0063 - val_acc: 0.9996\n",
      "Epoch 42/45\n",
      "20505/20505 [==============================] - 1s 33us/sample - loss: 0.0110 - acc: 0.9993 - val_loss: 0.0063 - val_acc: 0.9996\n",
      "Epoch 43/45\n",
      "20505/20505 [==============================] - 1s 34us/sample - loss: 0.0110 - acc: 0.9993 - val_loss: 0.0063 - val_acc: 0.9996\n",
      "Epoch 44/45\n",
      "20505/20505 [==============================] - 1s 33us/sample - loss: 0.0110 - acc: 0.9993 - val_loss: 0.0063 - val_acc: 0.9996\n",
      "Epoch 45/45\n",
      "20505/20505 [==============================] - 1s 34us/sample - loss: 0.0110 - acc: 0.9993 - val_loss: 0.0063 - val_acc: 0.9996\n"
     ]
    }
   ],
   "source": [
    "model=Model()\n",
    "model_3 = model.fit(X_train_3, Y_train_3, epochs=45,validation_split=0.2, verbose=1)\n",
    "del model"
   ]
  },
  {
   "cell_type": "code",
   "execution_count": 40,
   "metadata": {},
   "outputs": [
    {
     "name": "stderr",
     "output_type": "stream",
     "text": [
      "C:\\Users\\nomif\\Anaconda3\\lib\\site-packages\\matplotlib\\figure.py:98: MatplotlibDeprecationWarning: \n",
      "Adding an axes using the same arguments as a previous axes currently reuses the earlier instance.  In a future version, a new instance will always be created and returned.  Meanwhile, this warning can be suppressed, and the future behavior ensured, by passing a unique label to each axes instance.\n",
      "  \"Adding an axes using the same arguments as a previous axes \"\n"
     ]
    },
    {
     "data": {
      "image/png": "[encoded data removed]",
      "text/plain": [
       "<Figure size 1440x288 with 2 Axes>"
      ]
     },
     "metadata": {
      "needs_background": "light"
     },
     "output_type": "display_data"
    }
   ],
   "source": [
    "# fig=plt.figure(figsize=(20, 4))\n",
    "# plt.subplot(1, 2, 1).set_title('Loss')\n",
    "# plt.subplot(1, 2, 1).plot(range(15),model_1.history['loss'],label='1')\n",
    "# plt.subplot(1, 2, 1).plot(range(15),model_2.history['loss'],label='2')\n",
    "# plt.subplot(1, 2, 1).plot(range(15),model_3.history['loss'],label='3')\n",
    "# plt.legend(loc=\"upper right\")\n",
    "# plt.subplot(1, 2, 2).set_title('Accuracy')\n",
    "# plt.subplot(1, 2, 2).plot(range(15),model_1.history['acc'],label='1')\n",
    "# plt.subplot(1, 2, 2).plot(range(15),model_2.history['acc'],label='2')\n",
    "# plt.subplot(1, 2, 2).plot(range(15),model_3.history['acc'],label='3')\n",
    "# plt.legend(loc=\"upper right\")\n",
    "# plt.show()"
   ]
  },
  {
   "cell_type": "code",
   "execution_count": 36,
   "metadata": {},
   "outputs": [
    {
     "name": "stderr",
     "output_type": "stream",
     "text": [
      "C:\\Users\\nomif\\Anaconda3\\lib\\site-packages\\matplotlib\\figure.py:98: MatplotlibDeprecationWarning: \n",
      "Adding an axes using the same arguments as a previous axes currently reuses the earlier instance.  In a future version, a new instance will always be created and returned.  Meanwhile, this warning can be suppressed, and the future behavior ensured, by passing a unique label to each axes instance.\n",
      "  \"Adding an axes using the same arguments as a previous axes \"\n"
     ]
    },
    {
     "data": {
      "image/png": "[encoded data removed]",
      "text/plain": [
       "<Figure size 1440x288 with 2 Axes>"
      ]
     },
     "metadata": {
      "needs_background": "light"
     },
     "output_type": "display_data"
    }
   ],
   "source": [
    "fig=plt.figure(figsize=(20, 4))\n",
    "plt.subplot(1, 2, 1).set_title('Loss')\n",
    "plt.subplot(1, 2, 1).plot(range(15),model_1.history['loss'])\n",
    "\n",
    "plt.subplot(1, 2, 2).set_title('Accuracy')\n",
    "plt.subplot(1, 2, 2).plot(range(15),model_1.history['acc'])\n",
    "\n",
    "plt.show()"
   ]
  },
  {
   "cell_type": "code",
   "execution_count": 37,
   "metadata": {},
   "outputs": [
    {
     "data": {
      "image/png": "[encoded data removed]",
      "text/plain": [
       "<Figure size 1440x288 with 2 Axes>"
      ]
     },
     "metadata": {
      "needs_background": "light"
     },
     "output_type": "display_data"
    }
   ],
   "source": [
    "fig=plt.figure(figsize=(20, 4))\n",
    "plt.subplot(1, 2, 1).set_title('Loss')\n",
    "plt.subplot(1, 2, 1).plot(range(30),model_2.history['loss'])\n",
    "\n",
    "plt.subplot(1, 2, 2).set_title('Accuracy')\n",
    "plt.subplot(1, 2, 2).plot(range(30),model_2.history['acc'])\n",
    "\n",
    "plt.show()"
   ]
  },
  {
   "cell_type": "code",
   "execution_count": 38,
   "metadata": {},
   "outputs": [
    {
     "data": {
      "image/png": "[encoded data removed]",
      "text/plain": [
       "<Figure size 1440x288 with 2 Axes>"
      ]
     },
     "metadata": {
      "needs_background": "light"
     },
     "output_type": "display_data"
    }
   ],
   "source": [
    "fig=plt.figure(figsize=(20, 4))\n",
    "plt.subplot(1, 2, 1).set_title('Loss')\n",
    "plt.subplot(1, 2, 1).plot(range(45),model_3.history['loss'])\n",
    "\n",
    "plt.subplot(1, 2, 2).set_title('Accuracy')\n",
    "plt.subplot(1, 2, 2).plot(range(45),model_3.history['acc'])\n",
    "\n",
    "plt.show()"
   ]
  },
  {
   "cell_type": "code",
   "execution_count": null,
   "metadata": {},
   "outputs": [],
   "source": []
  }
 ],
 "metadata": {
  "kernelspec": {
   "display_name": "Python 3",
   "language": "python",
   "name": "python3"
  },
  "language_info": {
   "codemirror_mode": {
    "name": "ipython",
    "version": 3
   },
   "file_extension": ".py",
   "mimetype": "text/x-python",
   "name": "python",
   "nbconvert_exporter": "python",
   "pygments_lexer": "ipython3",
   "version": "3.7.3"
  }
 },
 "nbformat": 4,
 "nbformat_minor": 2
}
